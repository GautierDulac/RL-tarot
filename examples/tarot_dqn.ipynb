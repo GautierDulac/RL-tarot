{
 "cells": [
  {
   "cell_type": "code",
   "execution_count": null,
   "outputs": [],
   "source": [
    "from google.colab import drive\n",
    "drive.mount('/content/drive')\n",
    "\n",
    "%cd drive/My\\ Drive/DQN/RL-tarot/\n",
    "\n",
    "!git pull"
   ],
   "metadata": {
    "collapsed": false,
    "pycharm": {
     "name": "#%% All tarot_dqn file for google colab usage\n"
    }
   }
  },
  {
   "cell_type": "code",
   "execution_count": null,
   "outputs": [],
   "source": [
    "\"\"\"\n",
    "An example of learning a Deep-Q Agent on French Tarot Game\n",
    "\"\"\"\n",
    "import os\n",
    "\n",
    "import tensorflow as tf\n",
    "\n",
    "import rlcard\n",
    "from rlcard.agents.dqn_agent import DQNAgent\n",
    "from rlcard.agents.random_agent import RandomAgent\n",
    "from rlcard.utils.logger import Logger\n",
    "from rlcard.utils.utils import set_global_seed\n",
    "\n",
    "# Make environment\n",
    "env = rlcard.make('tarot')\n",
    "eval_env = rlcard.make('tarot')\n",
    "\n",
    "# Set the iterations numbers and how frequently we evaluate/save plot\n",
    "evaluate_every = 100\n",
    "save_plot_every = 100\n",
    "evaluate_num = 1000\n",
    "episode_num = 10000\n",
    "\n",
    "# Set the the number of steps for collecting normalization statistics\n",
    "# and intial memory size\n",
    "memory_init_size = 1000\n",
    "norm_step = 100\n",
    "\n",
    "# The paths for saving the logs and learning curves\n",
    "root_path = './experiments/tarot_dqn_result/'\n",
    "log_path = root_path + 'log.txt'\n",
    "csv_path = root_path + 'performance.csv'\n",
    "figure_path = root_path + 'figures/'\n",
    "\n",
    "# Model save path\n",
    "if not os.path.exists('models'):\n",
    "    os.makedirs('models')\n",
    "    if not os.path.exists('models/tarot'):\n",
    "        os.makedirs('models/tarot')\n",
    "        if not os.path.exists('models/tarot/model'):\n",
    "            os.makedirs('models/tarot/model')\n",
    "model_path = 'models/tarot/model'\n",
    "\n",
    "# Set a global seed\n",
    "set_global_seed(0)\n",
    "\n",
    "with tf.Session() as sess:\n",
    "    # Set agents\n",
    "    global_step = tf.Variable(0, name='global_step', trainable=False)\n",
    "    agent = DQNAgent(sess,\n",
    "                     scope='dqn',\n",
    "                     action_num=78,  # env.action_num,\n",
    "                     replay_memory_size=20000,\n",
    "                     replay_memory_init_size=memory_init_size,\n",
    "                     norm_step=norm_step,\n",
    "                     state_shape=env.state_shape,\n",
    "                     mlp_layers=[512, 512])\n",
    "\n",
    "    random_agent = RandomAgent(action_num=eval_env.action_num)\n",
    "\n",
    "    sess.run(tf.global_variables_initializer())\n",
    "\n",
    "    saver = tf.train.Saver()\n",
    "\n",
    "    env.set_agents([agent] + [random_agent] * (env.player_num - 1))\n",
    "    eval_env.set_agents([agent] + [random_agent] * (env.player_num - 1))\n",
    "\n",
    "    # Count the number of steps\n",
    "    step_counter = 0\n",
    "\n",
    "    # Init a Logger to plot the learning curve\n",
    "    logger = Logger(xlabel='timestep', ylabel='reward', legend='DQN on TAROT', log_path=log_path, csv_path=csv_path)\n",
    "\n",
    "    for episode in range(episode_num):\n",
    "\n",
    "        # Generate data from the environment\n",
    "        trajectories, _ = env.run(is_training=True)\n",
    "\n",
    "        # Feed transitions into agent memory, and train the agent\n",
    "        for ts in trajectories[0]:\n",
    "            agent.feed(ts)\n",
    "            step_counter += 1\n",
    "\n",
    "            # Train the agent\n",
    "            train_count = step_counter - (memory_init_size + norm_step)\n",
    "            if train_count > 0:\n",
    "                loss = agent.train()\n",
    "                print('\\rINFO - Step {}, loss: {}'.format(step_counter, loss), end='')\n",
    "\n",
    "        # Evaluate the performance. Play with random agents.\n",
    "        if episode % evaluate_every == 0:\n",
    "            # Save Model\n",
    "            saver.save(sess, 'models/tarot/model')\n",
    "            reward = 0\n",
    "            for eval_episode in range(evaluate_num):\n",
    "                _, payoffs = eval_env.run(is_training=False)\n",
    "                reward += payoffs[0]\n",
    "\n",
    "            logger.log('\\n########## Evaluation - Episode {} ##########'.format(episode))\n",
    "            logger.log('Timestep: {} Average reward is {}'.format(env.timestep, float(reward) / evaluate_num))\n",
    "\n",
    "            # Add point to logger\n",
    "            logger.add_point(x=env.timestep, y=float(reward) / evaluate_num)\n",
    "\n",
    "        # Make plot\n",
    "        if episode % save_plot_every == 0 and episode > 0:\n",
    "            logger.make_plot(save_path=figure_path + str(episode) + '.png')\n",
    "\n",
    "    # Make the final plot\n",
    "    logger.make_plot(save_path=figure_path + 'final_' + str(episode) + '.png')\n",
    "\n",
    "\n"
   ],
   "metadata": {
    "collapsed": false,
    "pycharm": {
     "name": "#%%\n"
    }
   }
  }
 ],
 "metadata": {
  "kernelspec": {
   "display_name": "Python 3",
   "language": "python",
   "name": "python3"
  },
  "language_info": {
   "codemirror_mode": {
    "name": "ipython",
    "version": 2
   },
   "file_extension": ".py",
   "mimetype": "text/x-python",
   "name": "python",
   "nbconvert_exporter": "python",
   "pygments_lexer": "ipython2",
   "version": "2.7.6"
  },
  "pycharm": {
   "stem_cell": {
    "cell_type": "raw",
    "source": [],
    "metadata": {
     "collapsed": false
    }
   }
  }
 },
 "nbformat": 4,
 "nbformat_minor": 0
}
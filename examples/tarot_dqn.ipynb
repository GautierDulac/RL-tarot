{
 "cells": [
  {
   "cell_type": "code",
   "execution_count": 8,
   "metadata": {
    "collapsed": false,
    "jupyter": {
     "outputs_hidden": false
    },
    "pycharm": {
     "name": "#%% All tarot_dqn file for google colab usage\n"
    }
   },
   "outputs": [
    {
     "name": "stdout",
     "output_type": "stream",
     "text": [
      "/home/jovyan/personal_project/RL-tarot\n"
     ]
    }
   ],
   "source": [
    "%cd .."
   ]
  },
  {
   "cell_type": "code",
   "execution_count": null,
   "metadata": {
    "collapsed": false,
    "jupyter": {
     "outputs_hidden": false
    },
    "pycharm": {
     "name": "#%%\n"
    }
   },
   "outputs": [
    {
     "name": "stdout",
     "output_type": "stream",
     "text": [
      "tarot-rule-v1\n",
      "rlcard.models.tarot_rule_models:TAROTRuleModelV1\n",
      "tarot-bid-rule-v1\n",
      "rlcard.models.tarot_bid_rule_models:TAROTBIDRuleModelV1\n",
      "tarot-dog-rule-v1\n",
      "rlcard.models.tarot_dog_rule_models:TAROTDOGRuleModelV1\n",
      "WARNING:tensorflow:From /opt/conda/lib/python3.7/site-packages/tensorflow/python/framework/op_def_library.py:263: colocate_with (from tensorflow.python.framework.ops) is deprecated and will be removed in a future version.\n",
      "Instructions for updating:\n",
      "Colocations handled automatically by placer.\n",
      "\n",
      "WARNING: The TensorFlow contrib module will not be included in TensorFlow 2.0.\n",
      "For more information, please see:\n",
      "  * https://github.com/tensorflow/community/blob/master/rfcs/20180907-contrib-sunset.md\n",
      "  * https://github.com/tensorflow/addons\n",
      "If you depend on functionality not listed there, please file an issue.\n",
      "\n",
      "WARNING:tensorflow:From /opt/conda/lib/python3.7/site-packages/tensorflow/contrib/layers/python/layers/layers.py:1624: flatten (from tensorflow.python.layers.core) is deprecated and will be removed in a future version.\n",
      "Instructions for updating:\n",
      "Use keras.layers.flatten instead.\n",
      "WARNING:tensorflow:From /opt/conda/lib/python3.7/site-packages/tensorflow/python/ops/array_grad.py:425: to_int32 (from tensorflow.python.ops.math_ops) is deprecated and will be removed in a future version.\n",
      "Instructions for updating:\n",
      "Use tf.cast instead.\n"
     ]
    },
    {
     "name": "stderr",
     "output_type": "stream",
     "text": [
      "/opt/conda/lib/python3.7/site-packages/tensorflow/python/ops/gradients_impl.py:110: UserWarning: Converting sparse IndexedSlices to a dense Tensor of unknown shape. This may consume a large amount of memory.\n",
      "  \"Converting sparse IndexedSlices to a dense Tensor of unknown shape. \"\n",
      "/opt/conda/lib/python3.7/site-packages/tensorflow/python/ops/gradients_impl.py:110: UserWarning: Converting sparse IndexedSlices to a dense Tensor of unknown shape. This may consume a large amount of memory.\n",
      "  \"Converting sparse IndexedSlices to a dense Tensor of unknown shape. \"\n"
     ]
    },
    {
     "name": "stdout",
     "output_type": "stream",
     "text": [
      "EPISODE 0 - Eval 99 over 100 - Number of game played 100 - 7 seconds\n",
      "########## Evaluation - Episode 0 ##########\n",
      "Timestep: 79 Average reward is 1.33\n",
      "EPISODE 100 - Eval 99 over 100 - Number of game played 300 - 35 seconds\n",
      "########## Evaluation - Episode 100 ##########\n",
      "Timestep: 8125 Average reward is 2.88\n",
      "EPISODE 200 - Eval 99 over 100 - Number of game played 500 - 1 minute and 20 seconds\n",
      "########## Evaluation - Episode 200 ##########\n",
      "Timestep: 16162 Average reward is 3.38\n",
      "EPISODE 300 - Eval 99 over 100 - Number of game played 700 - 2 minutes and 25 seconds\n",
      "########## Evaluation - Episode 300 ##########\n",
      "Timestep: 24176 Average reward is 2.6\n",
      "EPISODE 400 - Eval 99 over 100 - Number of game played 900 - 3 minutes and 59 seconds\n",
      "########## Evaluation - Episode 400 ##########\n",
      "Timestep: 32236 Average reward is 2.1\n",
      "EPISODE 500 - Eval 99 over 100 - Number of game played 1100 - 5 minutes and 51 seconds\n",
      "########## Evaluation - Episode 500 ##########\n",
      "Timestep: 40322 Average reward is 2.77\n",
      "EPISODE 600 - Eval 99 over 100 - Number of game played 1300 - 8 minutes and 3 secondss\n",
      "########## Evaluation - Episode 600 ##########\n",
      "Timestep: 48336 Average reward is 2.8\n",
      "EPISODE 700 - Eval 99 over 100 - Number of game played 1500 - 10 minutes and 32 seconds\n",
      "########## Evaluation - Episode 700 ##########\n",
      "Timestep: 56369 Average reward is 2.42\n",
      "EPISODE 800 - Eval 99 over 100 - Number of game played 1700 - 13 minutes and 18 seconds\n",
      "########## Evaluation - Episode 800 ##########\n",
      "Timestep: 64461 Average reward is 2.56\n",
      "EPISODE 900 - Eval 99 over 100 - Number of game played 1900 - 16 minutes and 24 seconds\n",
      "########## Evaluation - Episode 900 ##########\n",
      "Timestep: 72538 Average reward is 3.06\n",
      "EPISODE 1000 - Eval 99 over 100 - Number of game played 2100 - 19 minutes and 46 seconds\n",
      "########## Evaluation - Episode 1000 ##########\n",
      "Timestep: 80632 Average reward is 1.89\n"
     ]
    },
    {
     "name": "stderr",
     "output_type": "stream",
     "text": [
      "/opt/conda/lib/python3.7/site-packages/matplotlib/pyplot.py:514: RuntimeWarning: More than 20 figures have been opened. Figures created through the pyplot interface (`matplotlib.pyplot.figure`) are retained until explicitly closed and may consume too much memory. (To control this warning, see the rcParam `figure.max_open_warning`).\n",
      "  max_open_warning, RuntimeWarning)\n"
     ]
    },
    {
     "name": "stdout",
     "output_type": "stream",
     "text": [
      "EPISODE 1100 - Eval 99 over 100 - Number of game played 2300 - 23 minutes and 26 seconds\n",
      "########## Evaluation - Episode 1100 ##########\n",
      "Timestep: 88733 Average reward is 2.03\n",
      "EPISODE 1200 - Eval 99 over 100 - Number of game played 2500 - 27 minutes and 25 seconds\n",
      "########## Evaluation - Episode 1200 ##########\n",
      "Timestep: 96841 Average reward is 2.17\n",
      "EPISODE 1300 - Eval 99 over 100 - Number of game played 2700 - 31 minutes and 41 seconds\n",
      "########## Evaluation - Episode 1300 ##########\n",
      "Timestep: 104941 Average reward is 2.3\n",
      "EPISODE 1400 - Eval 99 over 100 - Number of game played 2900 - 36 minutes and 16 seconds\n",
      "########## Evaluation - Episode 1400 ##########\n",
      "Timestep: 113046 Average reward is 1.73\n",
      "EPISODE 1500 - Eval 99 over 100 - Number of game played 3100 - 41 minutes and 9 secondss\n",
      "########## Evaluation - Episode 1500 ##########\n",
      "Timestep: 121169 Average reward is 1.67\n",
      "EPISODE 1600 - Eval 99 over 100 - Number of game played 3300 - 46 minutes and 19 seconds\n",
      "########## Evaluation - Episode 1600 ##########\n",
      "Timestep: 129272 Average reward is 2.23\n",
      "EPISODE 1637 - Number of game played 3337 - 47 minutes and 20 seconds"
     ]
    }
   ],
   "source": [
    "\"\"\"\n",
    "An example of learning a Deep-Q Agent on French Tarot Game\n",
    "\"\"\"\n",
    "import os\n",
    "import time\n",
    "\n",
    "import tensorflow as tf\n",
    "\n",
    "import rlcard\n",
    "from rlcard.agents.dqn_agent import DQNAgent\n",
    "from rlcard.agents.random_agent import RandomAgent\n",
    "from rlcard.utils.logger import Logger\n",
    "from rlcard.utils.utils import set_global_seed, time_difference_good_format\n",
    "\n",
    "# Make environment\n",
    "env = rlcard.make('tarot')\n",
    "eval_env = rlcard.make('tarot')\n",
    "\n",
    "record_number = 100\n",
    "\n",
    "# Set the iterations numbers and how frequently we evaluate/save plot\n",
    "evaluate_every = 100\n",
    "save_plot_every = 100\n",
    "evaluate_num = 100\n",
    "episode_num = 3000\n",
    "\n",
    "\n",
    "# Set the the number of steps for collecting normalization statistics\n",
    "# and intial memory size\n",
    "memory_init_size = 5000\n",
    "norm_step = 1000\n",
    "\n",
    "# The paths for saving the logs and learning curves\n",
    "root_path = './experiments/tarot_dqn_result_v{}/'.format(str(record_number))\n",
    "log_path = root_path + 'log.txt'\n",
    "csv_path = root_path + 'performance.csv'\n",
    "figure_path = root_path + 'figures/'\n",
    "\n",
    "# Model save path\n",
    "if not os.path.exists('rlcard/models'):\n",
    "    os.makedirs('rlcard/models')\n",
    "    if not os.path.exists('rlcard/models/pretrained'):\n",
    "        os.makedirs('rlcard/models/pretrained')\n",
    "        if not os.path.exists('rlcard/models/pretrained/tarot_v' + str(record_number)):\n",
    "            os.makedirs('rlcard/models/pretrained/tarot_v' + str(record_number))\n",
    "model_path = 'rlcard/models/pretrained/tarot_v' + str(record_number) + '/model'\n",
    "\n",
    "# Set a global seed\n",
    "#set_global_seed(0)\n",
    "\n",
    "with tf.compat.v1.Session() as sess:\n",
    "    # Set agents\n",
    "    global_step = tf.Variable(0, name='global_step', trainable=False)\n",
    "    agent = DQNAgent(sess,\n",
    "                     scope='dqn',\n",
    "                     action_num=78,  # env.action_num,\n",
    "                     replay_memory_size=20000,\n",
    "                     replay_memory_init_size=memory_init_size,\n",
    "                     norm_step=norm_step,\n",
    "                     state_shape=env.state_shape,\n",
    "                     mlp_layers=[512, 512])\n",
    "\n",
    "    random_agent = RandomAgent(action_num=eval_env.action_num)\n",
    "\n",
    "    sess.run(tf.compat.v1.global_variables_initializer())\n",
    "\n",
    "    saver = tf.compat.v1.train.Saver()\n",
    "\n",
    "    env.set_agents([agent] + [random_agent] * (env.player_num - 1))\n",
    "    eval_env.set_agents([agent] + [random_agent] * (env.player_num - 1))\n",
    "\n",
    "    # Count the number of steps\n",
    "    step_counter = 0\n",
    "\n",
    "    total_game_played = 0\n",
    "    seconds = time.time()\n",
    "\n",
    "    # Init a Logger to plot the learning curve\n",
    "    logger = Logger(xlabel='timestep', ylabel='reward', legend='DQN on TAROT',\n",
    "                    legend_hist='Histogram of last evaluations', log_path=log_path, csv_path=csv_path)\n",
    "\n",
    "    for episode in range(episode_num):\n",
    "        print('\\rEPISODE {} - Number of game played {} - {}'.format(episode, total_game_played,\n",
    "                                                                    time_difference_good_format(seconds, time.time())),\n",
    "              end='')\n",
    "\n",
    "        # Generate data from the environment\n",
    "        trajectories, _ = env.run(is_training=True)\n",
    "        total_game_played += 1\n",
    "\n",
    "        # Feed transitions into agent memory, and train the agent\n",
    "        for ts in trajectories[0]:\n",
    "            agent.feed(ts)\n",
    "            step_counter += 1\n",
    "\n",
    "            # Train the agent\n",
    "            train_count = step_counter - (memory_init_size + norm_step)\n",
    "            if train_count > 0:\n",
    "                loss = agent.train()\n",
    "                # print('\\rINFO - Step {}, loss: {}'.format(step_counter, loss), end='')\n",
    "\n",
    "        # Evaluate the performance. Play with random agents.\n",
    "        if episode % evaluate_every == 0:\n",
    "            # Save Model\n",
    "            saver.save(sess, model_path)\n",
    "            reward = 0\n",
    "            reward_list = []\n",
    "            for eval_episode in range(evaluate_num):\n",
    "                print('\\rEPISODE {} - Eval {} over {} - Number of game played {} - {}'.format(episode, eval_episode,\n",
    "                                                                                              evaluate_num,\n",
    "                                                                                              total_game_played,\n",
    "                                                                                              time_difference_good_format(\n",
    "                                                                                                  seconds,\n",
    "                                                                                                  time.time())),\n",
    "                      end='')\n",
    "                _, payoffs = eval_env.run(is_training=False)\n",
    "                total_game_played += 1\n",
    "                reward_list.append(payoffs[0])\n",
    "                reward += payoffs[0]\n",
    "\n",
    "            logger.log('\\n########## Evaluation - Episode {} ##########'.format(episode))\n",
    "            logger.log('Timestep: {} Average reward is {}'.format(env.timestep, float(reward) / evaluate_num))\n",
    "\n",
    "            # Add point to logger\n",
    "            logger.add_point(x=env.timestep, y=float(reward) / evaluate_num)\n",
    "\n",
    "        # Make plot\n",
    "        if episode % save_plot_every == 0:\n",
    "            logger.make_plot(save_path=figure_path + str(episode) + '.png')\n",
    "            logger.make_plot_hist(save_path_1=figure_path + str(episode) + '_hist.png',\n",
    "                                  save_path_2=figure_path + str(episode) + '_freq.png', reward_list=reward_list)\n",
    "\n",
    "    # Make the final plot\n",
    "    logger.make_plot(save_path=figure_path + 'final_' + str(episode) + '.png')\n",
    "    logger.make_plot_hist(save_path_1=figure_path + str(episode) + '_hist.png',\n",
    "                          save_path_2=figure_path + str(episode) + '_freq.png', reward_list=reward_list)\n"
   ]
  }
 ],
 "metadata": {
  "kernelspec": {
   "display_name": "Python 3",
   "language": "python",
   "name": "python3"
  },
  "language_info": {
   "codemirror_mode": {
    "name": "ipython",
    "version": 3
   },
   "file_extension": ".py",
   "mimetype": "text/x-python",
   "name": "python",
   "nbconvert_exporter": "python",
   "pygments_lexer": "ipython3",
   "version": "3.7.3"
  },
  "pycharm": {
   "stem_cell": {
    "cell_type": "raw",
    "metadata": {
     "collapsed": false
    },
    "source": []
   }
  }
 },
 "nbformat": 4,
 "nbformat_minor": 4
}

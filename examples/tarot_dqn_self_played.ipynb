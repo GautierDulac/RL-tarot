{
 "cells": [
  {
   "cell_type": "code",
   "execution_count": 1,
   "metadata": {},
   "outputs": [
    {
     "name": "stdout",
     "output_type": "stream",
     "text": [
      "/home/jovyan/personal_project/RL-tarot\n"
     ]
    }
   ],
   "source": [
    "%cd .."
   ]
  },
  {
   "cell_type": "code",
   "execution_count": 2,
   "metadata": {},
   "outputs": [
    {
     "name": "stdout",
     "output_type": "stream",
     "text": [
      "WARNING:tensorflow:From /opt/conda/lib/python3.7/site-packages/tensorflow/python/framework/op_def_library.py:263: colocate_with (from tensorflow.python.framework.ops) is deprecated and will be removed in a future version.\n",
      "Instructions for updating:\n",
      "Colocations handled automatically by placer.\n",
      "\n",
      "WARNING: The TensorFlow contrib module will not be included in TensorFlow 2.0.\n",
      "For more information, please see:\n",
      "  * https://github.com/tensorflow/community/blob/master/rfcs/20180907-contrib-sunset.md\n",
      "  * https://github.com/tensorflow/addons\n",
      "If you depend on functionality not listed there, please file an issue.\n",
      "\n",
      "WARNING:tensorflow:From /opt/conda/lib/python3.7/site-packages/tensorflow/contrib/layers/python/layers/layers.py:1624: flatten (from tensorflow.python.layers.core) is deprecated and will be removed in a future version.\n",
      "Instructions for updating:\n",
      "Use keras.layers.flatten instead.\n",
      "WARNING:tensorflow:From /opt/conda/lib/python3.7/site-packages/tensorflow/python/ops/array_grad.py:425: to_int32 (from tensorflow.python.ops.math_ops) is deprecated and will be removed in a future version.\n",
      "Instructions for updating:\n",
      "Use tf.cast instead.\n"
     ]
    },
    {
     "name": "stderr",
     "output_type": "stream",
     "text": [
      "/opt/conda/lib/python3.7/site-packages/tensorflow/python/ops/gradients_impl.py:110: UserWarning: Converting sparse IndexedSlices to a dense Tensor of unknown shape. This may consume a large amount of memory.\n",
      "  \"Converting sparse IndexedSlices to a dense Tensor of unknown shape. \"\n",
      "/opt/conda/lib/python3.7/site-packages/tensorflow/python/ops/gradients_impl.py:110: UserWarning: Converting sparse IndexedSlices to a dense Tensor of unknown shape. This may consume a large amount of memory.\n",
      "  \"Converting sparse IndexedSlices to a dense Tensor of unknown shape. \"\n"
     ]
    },
    {
     "name": "stdout",
     "output_type": "stream",
     "text": [
      "EPISODE 0 - Eval Random 999 over 1000 - Number of game played 1000 - 36 seconds\n",
      "########## Evaluation Against Random - Episode 0 ##########\n",
      "Timestep: 79 Average reward against random is -0.87\n",
      "EPISODE 0 - Eval Opponent 999 over 1000 - Number of game played 2000 - 2 minutes and 2 seconds\n",
      "########## Evaluation Against Last Agent - Episode 0 ##########\n",
      "Timestep: 79 Average reward against last agent is 0.209\n",
      "EPISODE 500 - Eval Random 999 over 1000 - Number of game played 3500 - 3 minutes and 57 seconds\n",
      "########## Evaluation Against Random - Episode 500 ##########\n",
      "Timestep: 40000 Average reward against random is -1.301\n",
      "EPISODE 500 - Eval Opponent 999 over 1000 - Number of game played 4500 - 5 minutes and 21 seconds\n",
      "########## Evaluation Against Last Agent - Episode 500 ##########\n",
      "Timestep: 40000 Average reward against last agent is -0.138\n",
      "EPISODE 1000 - Eval Random 999 over 1000 - Number of game played 6000 - 8 minutes and 11 seconds\n",
      "########## Evaluation Against Random - Episode 1000 ##########\n",
      "Timestep: 79941 Average reward against random is -0.183\n",
      "EPISODE 1000 - Eval Opponent 999 over 1000 - Number of game played 7000 - 9 minutes and 37 seconds\n",
      "########## Evaluation Against Last Agent - Episode 1000 ##########\n",
      "Timestep: 79941 Average reward against last agent is -1.291\n",
      "EPISODE 1500 - Eval Random 999 over 1000 - Number of game played 8500 - 12 minutes and 38 seconds\n",
      "########## Evaluation Against Random - Episode 1500 ##########\n",
      "Timestep: 120187 Average reward against random is 0.424\n",
      "EPISODE 1500 - Eval Opponent 999 over 1000 - Number of game played 9500 - 14 minutes and 6 secondss\n",
      "########## Evaluation Against Last Agent - Episode 1500 ##########\n",
      "Timestep: 120187 Average reward against last agent is -2.635\n",
      "EPISODE 2000 - Eval Random 999 over 1000 - Number of game played 11000 - 17 minutes and 7 secondss\n",
      "########## Evaluation Against Random - Episode 2000 ##########\n",
      "Timestep: 160528 Average reward against random is 1.105\n",
      "EPISODE 2000 - Eval Opponent 999 over 1000 - Number of game played 12000 - 18 minutes and 32 seconds\n",
      "########## Evaluation Against Last Agent - Episode 2000 ##########\n",
      "Timestep: 160528 Average reward against last agent is 2.371\n"
     ]
    },
    {
     "name": "stderr",
     "output_type": "stream",
     "text": [
      "/opt/conda/lib/python3.7/site-packages/matplotlib/pyplot.py:1479: UserWarning: Attempting to set identical bottom==top results\n",
      "in singular transformations; automatically expanding.\n",
      "bottom=0, top=0\n",
      "  ret = ax.set_ylim(*args, **kwargs)\n"
     ]
    },
    {
     "name": "stdout",
     "output_type": "stream",
     "text": [
      "EPISODE 2500 - Eval Random 999 over 1000 - Number of game played 13500 - 21 minutes and 31 seconds\n",
      "########## Evaluation Against Random - Episode 2500 ##########\n",
      "Timestep: 200803 Average reward against random is 0.585\n",
      "EPISODE 2500 - Eval Opponent 999 over 1000 - Number of game played 14500 - 22 minutes and 58 seconds\n",
      "########## Evaluation Against Last Agent - Episode 2500 ##########\n",
      "Timestep: 200803 Average reward against last agent is -2.436\n",
      "EPISODE 3000 - Eval Random 999 over 1000 - Number of game played 16000 - 25 minutes and 59 seconds\n",
      "########## Evaluation Against Random - Episode 3000 ##########\n",
      "Timestep: 241158 Average reward against random is 1.288\n",
      "EPISODE 3000 - Eval Opponent 999 over 1000 - Number of game played 17000 - 27 minutes and 24 seconds\n",
      "########## Evaluation Against Last Agent - Episode 3000 ##########\n",
      "Timestep: 241158 Average reward against last agent is 2.512\n"
     ]
    },
    {
     "name": "stderr",
     "output_type": "stream",
     "text": [
      "/opt/conda/lib/python3.7/site-packages/matplotlib/pyplot.py:1479: UserWarning: Attempting to set identical bottom==top results\n",
      "in singular transformations; automatically expanding.\n",
      "bottom=0, top=0\n",
      "  ret = ax.set_ylim(*args, **kwargs)\n"
     ]
    },
    {
     "name": "stdout",
     "output_type": "stream",
     "text": [
      "EPISODE 3500 - Eval Random 999 over 1000 - Number of game played 18500 - 30 minutes and 20 seconds\n",
      "########## Evaluation Against Random - Episode 3500 ##########\n",
      "Timestep: 281405 Average reward against random is 1.456\n",
      "EPISODE 3500 - Eval Opponent 999 over 1000 - Number of game played 19500 - 31 minutes and 48 seconds\n",
      "########## Evaluation Against Last Agent - Episode 3500 ##########\n",
      "Timestep: 281405 Average reward against last agent is -0.43\n",
      "EPISODE 4000 - Eval Random 999 over 1000 - Number of game played 21000 - 34 minutes and 44 seconds\n",
      "########## Evaluation Against Random - Episode 4000 ##########\n",
      "Timestep: 321581 Average reward against random is 1.408\n",
      "EPISODE 4000 - Eval Opponent 999 over 1000 - Number of game played 22000 - 36 minutes and 9 secondss\n",
      "########## Evaluation Against Last Agent - Episode 4000 ##########\n",
      "Timestep: 321581 Average reward against last agent is 2.48\n"
     ]
    },
    {
     "name": "stderr",
     "output_type": "stream",
     "text": [
      "/opt/conda/lib/python3.7/site-packages/matplotlib/pyplot.py:1479: UserWarning: Attempting to set identical bottom==top results\n",
      "in singular transformations; automatically expanding.\n",
      "bottom=0, top=0\n",
      "  ret = ax.set_ylim(*args, **kwargs)\n"
     ]
    },
    {
     "name": "stdout",
     "output_type": "stream",
     "text": [
      "EPISODE 4500 - Eval Random 999 over 1000 - Number of game played 23500 - 39 minutes and 4 secondss\n",
      "########## Evaluation Against Random - Episode 4500 ##########\n",
      "Timestep: 361808 Average reward against random is 0.86\n",
      "EPISODE 4500 - Eval Opponent 999 over 1000 - Number of game played 24500 - 40 minutes and 29 seconds\n",
      "########## Evaluation Against Last Agent - Episode 4500 ##########\n",
      "Timestep: 361808 Average reward against last agent is 2.525\n"
     ]
    },
    {
     "name": "stderr",
     "output_type": "stream",
     "text": [
      "/opt/conda/lib/python3.7/site-packages/matplotlib/pyplot.py:1479: UserWarning: Attempting to set identical bottom==top results\n",
      "in singular transformations; automatically expanding.\n",
      "bottom=0, top=0\n",
      "  ret = ax.set_ylim(*args, **kwargs)\n"
     ]
    },
    {
     "name": "stdout",
     "output_type": "stream",
     "text": [
      "EPISODE 5000 - Eval Random 999 over 1000 - Number of game played 26000 - 43 minutes and 26 seconds\n",
      "########## Evaluation Against Random - Episode 5000 ##########\n",
      "Timestep: 402140 Average reward against random is 1.604\n",
      "EPISODE 5000 - Eval Opponent 999 over 1000 - Number of game played 27000 - 44 minutes and 57 seconds\n",
      "########## Evaluation Against Last Agent - Episode 5000 ##########\n",
      "Timestep: 402140 Average reward against last agent is -0.773\n",
      "EPISODE 5500 - Eval Random 999 over 1000 - Number of game played 28500 - 47 minutes and 53 seconds\n",
      "########## Evaluation Against Random - Episode 5500 ##########\n",
      "Timestep: 442337 Average reward against random is 0.823\n",
      "EPISODE 5500 - Eval Opponent 999 over 1000 - Number of game played 29500 - 49 minutes and 22 seconds\n",
      "########## Evaluation Against Last Agent - Episode 5500 ##########\n",
      "Timestep: 442337 Average reward against last agent is -2.221\n",
      "EPISODE 6000 - Eval Random 999 over 1000 - Number of game played 31000 - 52 minutes and 16 seconds\n",
      "########## Evaluation Against Random - Episode 6000 ##########\n",
      "Timestep: 482309 Average reward against random is -0.996\n",
      "EPISODE 6000 - Eval Opponent 999 over 1000 - Number of game played 32000 - 53 minutes and 42 seconds\n",
      "########## Evaluation Against Last Agent - Episode 6000 ##########\n",
      "Timestep: 482309 Average reward against last agent is -4.766\n",
      "EPISODE 6500 - Eval Random 999 over 1000 - Number of game played 33500 - 56 minutes and 34 seconds\n",
      "########## Evaluation Against Random - Episode 6500 ##########\n",
      "Timestep: 522210 Average reward against random is -1.627\n",
      "EPISODE 6500 - Eval Opponent 999 over 1000 - Number of game played 34500 - 58 minutes and 1 secondds\n",
      "########## Evaluation Against Last Agent - Episode 6500 ##########\n",
      "Timestep: 522210 Average reward against last agent is -5.393\n",
      "EPISODE 7000 - Eval Random 999 over 1000 - Number of game played 36000 - 1 hour, 0 minute and 52 seconds\n",
      "########## Evaluation Against Random - Episode 7000 ##########\n",
      "Timestep: 562023 Average reward against random is -1.406\n",
      "EPISODE 7000 - Eval Opponent 999 over 1000 - Number of game played 37000 - 1 hour, 2 minutes and 17 seconds\n",
      "########## Evaluation Against Last Agent - Episode 7000 ##########\n",
      "Timestep: 562023 Average reward against last agent is 2.543\n",
      "EPISODE 7500 - Eval Random 999 over 1000 - Number of game played 38500 - 1 hour, 5 minutes and 8 secondss\n",
      "########## Evaluation Against Random - Episode 7500 ##########\n",
      "Timestep: 601893 Average reward against random is -0.862\n",
      "EPISODE 7500 - Eval Opponent 999 over 1000 - Number of game played 39500 - 1 hour, 6 minutes and 33 seconds\n",
      "########## Evaluation Against Last Agent - Episode 7500 ##########\n",
      "Timestep: 601893 Average reward against last agent is 0.219\n",
      "EPISODE 8000 - Eval Random 999 over 1000 - Number of game played 41000 - 1 hour, 9 minutes and 24 seconds\n",
      "########## Evaluation Against Random - Episode 8000 ##########\n",
      "Timestep: 641924 Average reward against random is 1.12\n",
      "EPISODE 8000 - Eval Opponent 999 over 1000 - Number of game played 42000 - 1 hour, 10 minutes and 57 seconds\n",
      "########## Evaluation Against Last Agent - Episode 8000 ##########\n",
      "Timestep: 641924 Average reward against last agent is -5.235\n",
      "EPISODE 8500 - Eval Random 999 over 1000 - Number of game played 43500 - 1 hour, 13 minutes and 48 seconds\n",
      "########## Evaluation Against Random - Episode 8500 ##########\n",
      "Timestep: 681945 Average reward against random is -0.272\n",
      "EPISODE 8500 - Eval Opponent 999 over 1000 - Number of game played 44500 - 1 hour, 15 minutes and 17 seconds\n",
      "########## Evaluation Against Last Agent - Episode 8500 ##########\n",
      "Timestep: 681945 Average reward against last agent is -5.212\n",
      "EPISODE 9000 - Eval Random 999 over 1000 - Number of game played 46000 - 1 hour, 18 minutes and 10 seconds\n",
      "########## Evaluation Against Random - Episode 9000 ##########\n",
      "Timestep: 722085 Average reward against random is -0.293\n",
      "EPISODE 9000 - Eval Opponent 999 over 1000 - Number of game played 47000 - 1 hour, 19 minutes and 36 seconds\n",
      "########## Evaluation Against Last Agent - Episode 9000 ##########\n",
      "Timestep: 722085 Average reward against last agent is 1.715\n",
      "EPISODE 9500 - Eval Random 999 over 1000 - Number of game played 48500 - 1 hour, 22 minutes and 29 seconds\n",
      "########## Evaluation Against Random - Episode 9500 ##########\n",
      "Timestep: 762099 Average reward against random is 1.895\n",
      "EPISODE 9500 - Eval Opponent 999 over 1000 - Number of game played 49500 - 1 hour, 23 minutes and 54 seconds\n",
      "########## Evaluation Against Last Agent - Episode 9500 ##########\n",
      "Timestep: 762099 Average reward against last agent is 2.543\n"
     ]
    },
    {
     "name": "stderr",
     "output_type": "stream",
     "text": [
      "/opt/conda/lib/python3.7/site-packages/matplotlib/pyplot.py:1479: UserWarning: Attempting to set identical bottom==top results\n",
      "in singular transformations; automatically expanding.\n",
      "bottom=0, top=0\n",
      "  ret = ax.set_ylim(*args, **kwargs)\n"
     ]
    },
    {
     "name": "stdout",
     "output_type": "stream",
     "text": [
      "EPISODE 10000 - Eval Random 999 over 1000 - Number of game played 51000 - 1 hour, 26 minutes and 50 seconds\n",
      "########## Evaluation Against Random - Episode 10000 ##########\n",
      "Timestep: 802349 Average reward against random is 1.492\n",
      "EPISODE 10000 - Eval Opponent 999 over 1000 - Number of game played 52000 - 1 hour, 28 minutes and 14 seconds\n",
      "########## Evaluation Against Last Agent - Episode 10000 ##########\n",
      "Timestep: 802349 Average reward against last agent is 2.842\n"
     ]
    },
    {
     "name": "stderr",
     "output_type": "stream",
     "text": [
      "/opt/conda/lib/python3.7/site-packages/matplotlib/pyplot.py:1479: UserWarning: Attempting to set identical bottom==top results\n",
      "in singular transformations; automatically expanding.\n",
      "bottom=0, top=0\n",
      "  ret = ax.set_ylim(*args, **kwargs)\n"
     ]
    },
    {
     "name": "stdout",
     "output_type": "stream",
     "text": [
      "EPISODE 10500 - Eval Random 999 over 1000 - Number of game played 53500 - 1 hour, 31 minutes and 9 secondss\n",
      "########## Evaluation Against Random - Episode 10500 ##########\n",
      "Timestep: 842579 Average reward against random is 1.01\n",
      "EPISODE 10500 - Eval Opponent 999 over 1000 - Number of game played 54500 - 1 hour, 32 minutes and 34 seconds\n",
      "########## Evaluation Against Last Agent - Episode 10500 ##########\n",
      "Timestep: 842579 Average reward against last agent is 2.503\n"
     ]
    },
    {
     "name": "stderr",
     "output_type": "stream",
     "text": [
      "/opt/conda/lib/python3.7/site-packages/matplotlib/pyplot.py:1479: UserWarning: Attempting to set identical bottom==top results\n",
      "in singular transformations; automatically expanding.\n",
      "bottom=0, top=0\n",
      "  ret = ax.set_ylim(*args, **kwargs)\n"
     ]
    },
    {
     "name": "stdout",
     "output_type": "stream",
     "text": [
      "EPISODE 11000 - Eval Random 999 over 1000 - Number of game played 56000 - 1 hour, 35 minutes and 28 seconds\n",
      "########## Evaluation Against Random - Episode 11000 ##########\n",
      "Timestep: 882719 Average reward against random is 2.234\n",
      "EPISODE 11000 - Eval Opponent 999 over 1000 - Number of game played 57000 - 1 hour, 36 minutes and 54 seconds\n",
      "########## Evaluation Against Last Agent - Episode 11000 ##########\n",
      "Timestep: 882719 Average reward against last agent is 2.69\n"
     ]
    },
    {
     "name": "stderr",
     "output_type": "stream",
     "text": [
      "/opt/conda/lib/python3.7/site-packages/matplotlib/pyplot.py:1479: UserWarning: Attempting to set identical bottom==top results\n",
      "in singular transformations; automatically expanding.\n",
      "bottom=0, top=0\n",
      "  ret = ax.set_ylim(*args, **kwargs)\n"
     ]
    },
    {
     "name": "stdout",
     "output_type": "stream",
     "text": [
      "EPISODE 11500 - Eval Random 999 over 1000 - Number of game played 58500 - 1 hour, 39 minutes and 49 seconds\n",
      "########## Evaluation Against Random - Episode 11500 ##########\n",
      "Timestep: 922963 Average reward against random is 2.508\n",
      "EPISODE 11500 - Eval Opponent 999 over 1000 - Number of game played 59500 - 1 hour, 41 minutes and 14 seconds\n",
      "########## Evaluation Against Last Agent - Episode 11500 ##########\n",
      "Timestep: 922963 Average reward against last agent is 2.629\n"
     ]
    },
    {
     "name": "stderr",
     "output_type": "stream",
     "text": [
      "/opt/conda/lib/python3.7/site-packages/matplotlib/pyplot.py:1479: UserWarning: Attempting to set identical bottom==top results\n",
      "in singular transformations; automatically expanding.\n",
      "bottom=0, top=0\n",
      "  ret = ax.set_ylim(*args, **kwargs)\n"
     ]
    },
    {
     "name": "stdout",
     "output_type": "stream",
     "text": [
      "EPISODE 12000 - Eval Random 999 over 1000 - Number of game played 61000 - 1 hour, 44 minutes and 11 seconds\n",
      "########## Evaluation Against Random - Episode 12000 ##########\n",
      "Timestep: 963252 Average reward against random is 2.421\n",
      "EPISODE 12000 - Eval Opponent 999 over 1000 - Number of game played 62000 - 1 hour, 45 minutes and 43 seconds\n",
      "########## Evaluation Against Last Agent - Episode 12000 ##########\n",
      "Timestep: 963252 Average reward against last agent is 2.022\n",
      "EPISODE 12500 - Eval Random 999 over 1000 - Number of game played 63500 - 1 hour, 48 minutes and 40 seconds\n",
      "########## Evaluation Against Random - Episode 12500 ##########\n",
      "Timestep: 1003616 Average reward against random is 2.134\n",
      "EPISODE 12500 - Eval Opponent 999 over 1000 - Number of game played 64500 - 1 hour, 50 minutes and 18 seconds\n",
      "########## Evaluation Against Last Agent - Episode 12500 ##########\n",
      "Timestep: 1003616 Average reward against last agent is -2.668\n",
      "EPISODE 13000 - Eval Random 999 over 1000 - Number of game played 66000 - 1 hour, 53 minutes and 14 seconds\n",
      "########## Evaluation Against Random - Episode 13000 ##########\n",
      "Timestep: 1043819 Average reward against random is 1.689\n",
      "EPISODE 13000 - Eval Opponent 999 over 1000 - Number of game played 67000 - 1 hour, 54 minutes and 39 seconds\n",
      "########## Evaluation Against Last Agent - Episode 13000 ##########\n",
      "Timestep: 1043819 Average reward against last agent is 2.37\n"
     ]
    },
    {
     "name": "stderr",
     "output_type": "stream",
     "text": [
      "/opt/conda/lib/python3.7/site-packages/matplotlib/pyplot.py:1479: UserWarning: Attempting to set identical bottom==top results\n",
      "in singular transformations; automatically expanding.\n",
      "bottom=0, top=0\n",
      "  ret = ax.set_ylim(*args, **kwargs)\n"
     ]
    },
    {
     "name": "stdout",
     "output_type": "stream",
     "text": [
      "EPISODE 13500 - Eval Random 999 over 1000 - Number of game played 68500 - 1 hour, 57 minutes and 34 seconds\n",
      "########## Evaluation Against Random - Episode 13500 ##########\n",
      "Timestep: 1084086 Average reward against random is 2.187\n",
      "EPISODE 13500 - Eval Opponent 999 over 1000 - Number of game played 69500 - 1 hour, 59 minutes and 22 seconds\n",
      "########## Evaluation Against Last Agent - Episode 13500 ##########\n",
      "Timestep: 1084086 Average reward against last agent is -1.589\n",
      "EPISODE 14000 - Eval Random 999 over 1000 - Number of game played 71000 - 2 hours, 2 minutes and 18 seconds\n",
      "########## Evaluation Against Random - Episode 14000 ##########\n",
      "Timestep: 1124322 Average reward against random is 2.245\n",
      "EPISODE 14000 - Eval Opponent 999 over 1000 - Number of game played 72000 - 2 hours, 4 minutes and 5 secondss\n",
      "########## Evaluation Against Last Agent - Episode 14000 ##########\n",
      "Timestep: 1124322 Average reward against last agent is -1.74\n",
      "EPISODE 14500 - Eval Random 999 over 1000 - Number of game played 73500 - 2 hours, 7 minutes and 2 secondss\n",
      "########## Evaluation Against Random - Episode 14500 ##########\n",
      "Timestep: 1164628 Average reward against random is 2.135\n",
      "EPISODE 14500 - Eval Opponent 999 over 1000 - Number of game played 74500 - 2 hours, 8 minutes and 31 seconds\n",
      "########## Evaluation Against Last Agent - Episode 14500 ##########\n",
      "Timestep: 1164628 Average reward against last agent is 1.27\n",
      "EPISODE 15000 - Eval Random 999 over 1000 - Number of game played 76000 - 2 hours, 11 minutes and 27 seconds\n",
      "########## Evaluation Against Random - Episode 15000 ##########\n",
      "Timestep: 1204825 Average reward against random is 2.115\n",
      "EPISODE 15000 - Eval Opponent 999 over 1000 - Number of game played 77000 - 2 hours, 13 minutes and 13 seconds\n",
      "########## Evaluation Against Last Agent - Episode 15000 ##########\n",
      "Timestep: 1204825 Average reward against last agent is -1.601\n",
      "EPISODE 15500 - Eval Random 999 over 1000 - Number of game played 78500 - 2 hours, 16 minutes and 8 secondss\n",
      "########## Evaluation Against Random - Episode 15500 ##########\n",
      "Timestep: 1244960 Average reward against random is 1.38\n",
      "EPISODE 15500 - Eval Opponent 999 over 1000 - Number of game played 79500 - 2 hours, 17 minutes and 41 seconds\n",
      "########## Evaluation Against Last Agent - Episode 15500 ##########\n",
      "Timestep: 1244960 Average reward against last agent is -1.368\n",
      "EPISODE 16000 - Eval Random 999 over 1000 - Number of game played 81000 - 2 hours, 20 minutes and 35 seconds\n",
      "########## Evaluation Against Random - Episode 16000 ##########\n",
      "Timestep: 1285127 Average reward against random is 2.289\n",
      "EPISODE 16000 - Eval Opponent 999 over 1000 - Number of game played 82000 - 2 hours, 21 minutes and 59 seconds\n",
      "########## Evaluation Against Last Agent - Episode 16000 ##########\n",
      "Timestep: 1285127 Average reward against last agent is 2.471\n"
     ]
    },
    {
     "name": "stderr",
     "output_type": "stream",
     "text": [
      "/opt/conda/lib/python3.7/site-packages/matplotlib/pyplot.py:1479: UserWarning: Attempting to set identical bottom==top results\n",
      "in singular transformations; automatically expanding.\n",
      "bottom=0, top=0\n",
      "  ret = ax.set_ylim(*args, **kwargs)\n"
     ]
    },
    {
     "name": "stdout",
     "output_type": "stream",
     "text": [
      "EPISODE 16500 - Eval Random 999 over 1000 - Number of game played 83500 - 2 hours, 24 minutes and 53 seconds\n",
      "########## Evaluation Against Random - Episode 16500 ##########\n",
      "Timestep: 1325358 Average reward against random is 1.613\n",
      "EPISODE 16500 - Eval Opponent 999 over 1000 - Number of game played 84500 - 2 hours, 26 minutes and 21 seconds\n",
      "########## Evaluation Against Last Agent - Episode 16500 ##########\n",
      "Timestep: 1325358 Average reward against last agent is 1.62\n",
      "EPISODE 17000 - Eval Random 999 over 1000 - Number of game played 86000 - 2 hours, 29 minutes and 15 seconds\n",
      "########## Evaluation Against Random - Episode 17000 ##########\n",
      "Timestep: 1365817 Average reward against random is 2.112\n",
      "EPISODE 17000 - Eval Opponent 999 over 1000 - Number of game played 87000 - 2 hours, 31 minutes and 3 secondss\n",
      "########## Evaluation Against Last Agent - Episode 17000 ##########\n",
      "Timestep: 1365817 Average reward against last agent is -2.057\n",
      "EPISODE 17500 - Eval Random 999 over 1000 - Number of game played 88500 - 2 hours, 33 minutes and 57 seconds\n",
      "########## Evaluation Against Random - Episode 17500 ##########\n",
      "Timestep: 1406100 Average reward against random is 1.71\n",
      "EPISODE 17500 - Eval Opponent 999 over 1000 - Number of game played 89500 - 2 hours, 35 minutes and 37 seconds\n",
      "########## Evaluation Against Last Agent - Episode 17500 ##########\n",
      "Timestep: 1406100 Average reward against last agent is -4.295\n",
      "EPISODE 18000 - Eval Random 999 over 1000 - Number of game played 91000 - 2 hours, 38 minutes and 34 seconds\n",
      "########## Evaluation Against Random - Episode 18000 ##########\n",
      "Timestep: 1446516 Average reward against random is 1.622\n",
      "EPISODE 18000 - Eval Opponent 999 over 1000 - Number of game played 92000 - 2 hours, 40 minutes and 8 secondss\n",
      "########## Evaluation Against Last Agent - Episode 18000 ##########\n",
      "Timestep: 1446516 Average reward against last agent is -2.804\n",
      "EPISODE 18500 - Eval Random 999 over 1000 - Number of game played 93500 - 2 hours, 43 minutes and 2 secondss\n",
      "########## Evaluation Against Random - Episode 18500 ##########\n",
      "Timestep: 1486724 Average reward against random is 1.868\n",
      "EPISODE 18500 - Eval Opponent 999 over 1000 - Number of game played 94500 - 2 hours, 44 minutes and 27 seconds\n",
      "########## Evaluation Against Last Agent - Episode 18500 ##########\n",
      "Timestep: 1486724 Average reward against last agent is 2.488\n"
     ]
    },
    {
     "name": "stderr",
     "output_type": "stream",
     "text": [
      "/opt/conda/lib/python3.7/site-packages/matplotlib/pyplot.py:1479: UserWarning: Attempting to set identical bottom==top results\n",
      "in singular transformations; automatically expanding.\n",
      "bottom=0, top=0\n",
      "  ret = ax.set_ylim(*args, **kwargs)\n"
     ]
    },
    {
     "name": "stdout",
     "output_type": "stream",
     "text": [
      "EPISODE 19000 - Eval Random 999 over 1000 - Number of game played 96000 - 2 hours, 47 minutes and 21 seconds\n",
      "########## Evaluation Against Random - Episode 19000 ##########\n",
      "Timestep: 1527024 Average reward against random is 2.292\n",
      "EPISODE 19000 - Eval Opponent 999 over 1000 - Number of game played 97000 - 2 hours, 49 minutes and 1 secondds\n",
      "########## Evaluation Against Last Agent - Episode 19000 ##########\n",
      "Timestep: 1527024 Average reward against last agent is -0.195\n",
      "EPISODE 19500 - Eval Random 999 over 1000 - Number of game played 98500 - 2 hours, 51 minutes and 56 seconds\n",
      "########## Evaluation Against Random - Episode 19500 ##########\n",
      "Timestep: 1567205 Average reward against random is 2.006\n",
      "EPISODE 19500 - Eval Opponent 999 over 1000 - Number of game played 99500 - 2 hours, 53 minutes and 28 seconds\n",
      "########## Evaluation Against Last Agent - Episode 19500 ##########\n",
      "Timestep: 1567205 Average reward against last agent is -0.415\n",
      "EPISODE 20000 - Eval Random 999 over 1000 - Number of game played 101000 - 2 hours, 56 minutes and 21 seconds\n",
      "########## Evaluation Against Random - Episode 20000 ##########\n",
      "Timestep: 1607271 Average reward against random is 0.755\n",
      "EPISODE 20000 - Eval Opponent 999 over 1000 - Number of game played 102000 - 2 hours, 57 minutes and 46 seconds\n",
      "########## Evaluation Against Last Agent - Episode 20000 ##########\n",
      "Timestep: 1607271 Average reward against last agent is 2.653\n"
     ]
    },
    {
     "name": "stderr",
     "output_type": "stream",
     "text": [
      "/opt/conda/lib/python3.7/site-packages/matplotlib/pyplot.py:1479: UserWarning: Attempting to set identical bottom==top results\n",
      "in singular transformations; automatically expanding.\n",
      "bottom=0, top=0\n",
      "  ret = ax.set_ylim(*args, **kwargs)\n"
     ]
    },
    {
     "name": "stdout",
     "output_type": "stream",
     "text": [
      "EPISODE 20500 - Number of game played 102500 - 3 hours, 0 minute and 4 secondsndsWARNING:tensorflow:From /opt/conda/lib/python3.7/site-packages/tensorflow/python/training/saver.py:966: remove_checkpoint (from tensorflow.python.training.checkpoint_management) is deprecated and will be removed in a future version.\n",
      "Instructions for updating:\n",
      "Use standard file APIs to delete files with this prefix.\n",
      "EPISODE 20500 - Eval Random 999 over 1000 - Number of game played 103500 - 3 hours, 0 minute and 39 seconds\n",
      "########## Evaluation Against Random - Episode 20500 ##########\n",
      "Timestep: 1647380 Average reward against random is 1.894\n",
      "EPISODE 20500 - Eval Opponent 999 over 1000 - Number of game played 104500 - 3 hours, 2 minutes and 3 seconds\n",
      "########## Evaluation Against Last Agent - Episode 20500 ##########\n",
      "Timestep: 1647380 Average reward against last agent is 2.444\n"
     ]
    },
    {
     "name": "stderr",
     "output_type": "stream",
     "text": [
      "/opt/conda/lib/python3.7/site-packages/matplotlib/pyplot.py:1479: UserWarning: Attempting to set identical bottom==top results\n",
      "in singular transformations; automatically expanding.\n",
      "bottom=0, top=0\n",
      "  ret = ax.set_ylim(*args, **kwargs)\n"
     ]
    },
    {
     "name": "stdout",
     "output_type": "stream",
     "text": [
      "EPISODE 21000 - Eval Random 999 over 1000 - Number of game played 106000 - 3 hours, 4 minutes and 58 seconds\n",
      "########## Evaluation Against Random - Episode 21000 ##########\n",
      "Timestep: 1687425 Average reward against random is 1.911\n",
      "EPISODE 21000 - Eval Opponent 999 over 1000 - Number of game played 107000 - 3 hours, 6 minutes and 41 seconds\n",
      "########## Evaluation Against Last Agent - Episode 21000 ##########\n",
      "Timestep: 1687425 Average reward against last agent is -3.448\n",
      "EPISODE 21500 - Eval Random 999 over 1000 - Number of game played 108500 - 3 hours, 9 minutes and 36 seconds\n",
      "########## Evaluation Against Random - Episode 21500 ##########\n",
      "Timestep: 1727558 Average reward against random is 1.864\n",
      "EPISODE 21500 - Eval Opponent 999 over 1000 - Number of game played 109500 - 3 hours, 11 minutes and 14 seconds\n",
      "########## Evaluation Against Last Agent - Episode 21500 ##########\n",
      "Timestep: 1727558 Average reward against last agent is -4.096\n",
      "EPISODE 22000 - Eval Random 999 over 1000 - Number of game played 111000 - 3 hours, 14 minutes and 9 secondss\n",
      "########## Evaluation Against Random - Episode 22000 ##########\n",
      "Timestep: 1767747 Average reward against random is 2.1\n",
      "EPISODE 22000 - Eval Opponent 999 over 1000 - Number of game played 112000 - 3 hours, 15 minutes and 56 seconds\n",
      "########## Evaluation Against Last Agent - Episode 22000 ##########\n",
      "Timestep: 1767747 Average reward against last agent is -2.097\n",
      "EPISODE 22500 - Eval Random 999 over 1000 - Number of game played 113500 - 3 hours, 18 minutes and 50 seconds\n",
      "########## Evaluation Against Random - Episode 22500 ##########\n",
      "Timestep: 1807785 Average reward against random is 0.476\n",
      "EPISODE 22500 - Eval Opponent 999 over 1000 - Number of game played 114500 - 3 hours, 20 minutes and 15 seconds\n",
      "########## Evaluation Against Last Agent - Episode 22500 ##########\n",
      "Timestep: 1807785 Average reward against last agent is 2.435\n"
     ]
    },
    {
     "name": "stderr",
     "output_type": "stream",
     "text": [
      "/opt/conda/lib/python3.7/site-packages/matplotlib/pyplot.py:1479: UserWarning: Attempting to set identical bottom==top results\n",
      "in singular transformations; automatically expanding.\n",
      "bottom=0, top=0\n",
      "  ret = ax.set_ylim(*args, **kwargs)\n"
     ]
    },
    {
     "name": "stdout",
     "output_type": "stream",
     "text": [
      "EPISODE 23000 - Eval Random 999 over 1000 - Number of game played 116000 - 3 hours, 23 minutes and 9 secondss\n",
      "########## Evaluation Against Random - Episode 23000 ##########\n",
      "Timestep: 1847812 Average reward against random is 1.458\n",
      "EPISODE 23000 - Eval Opponent 999 over 1000 - Number of game played 117000 - 3 hours, 24 minutes and 34 seconds\n",
      "########## Evaluation Against Last Agent - Episode 23000 ##########\n",
      "Timestep: 1847812 Average reward against last agent is 2.396\n"
     ]
    },
    {
     "name": "stderr",
     "output_type": "stream",
     "text": [
      "/opt/conda/lib/python3.7/site-packages/matplotlib/pyplot.py:1479: UserWarning: Attempting to set identical bottom==top results\n",
      "in singular transformations; automatically expanding.\n",
      "bottom=0, top=0\n",
      "  ret = ax.set_ylim(*args, **kwargs)\n"
     ]
    },
    {
     "name": "stdout",
     "output_type": "stream",
     "text": [
      "EPISODE 23500 - Eval Random 999 over 1000 - Number of game played 118500 - 3 hours, 27 minutes and 29 seconds\n",
      "########## Evaluation Against Random - Episode 23500 ##########\n",
      "Timestep: 1887900 Average reward against random is 0.976\n",
      "EPISODE 23500 - Eval Opponent 999 over 1000 - Number of game played 119500 - 3 hours, 28 minutes and 54 seconds\n",
      "########## Evaluation Against Last Agent - Episode 23500 ##########\n",
      "Timestep: 1887900 Average reward against last agent is 2.379\n"
     ]
    },
    {
     "name": "stderr",
     "output_type": "stream",
     "text": [
      "/opt/conda/lib/python3.7/site-packages/matplotlib/pyplot.py:1479: UserWarning: Attempting to set identical bottom==top results\n",
      "in singular transformations; automatically expanding.\n",
      "bottom=0, top=0\n",
      "  ret = ax.set_ylim(*args, **kwargs)\n"
     ]
    },
    {
     "name": "stdout",
     "output_type": "stream",
     "text": [
      "EPISODE 24000 - Eval Random 999 over 1000 - Number of game played 121000 - 3 hours, 31 minutes and 50 seconds\n",
      "########## Evaluation Against Random - Episode 24000 ##########\n",
      "Timestep: 1928024 Average reward against random is 1.866\n",
      "EPISODE 24000 - Eval Opponent 999 over 1000 - Number of game played 122000 - 3 hours, 33 minutes and 14 seconds\n",
      "########## Evaluation Against Last Agent - Episode 24000 ##########\n",
      "Timestep: 1928024 Average reward against last agent is 2.173\n"
     ]
    },
    {
     "name": "stderr",
     "output_type": "stream",
     "text": [
      "/opt/conda/lib/python3.7/site-packages/matplotlib/pyplot.py:1479: UserWarning: Attempting to set identical bottom==top results\n",
      "in singular transformations; automatically expanding.\n",
      "bottom=0, top=0\n",
      "  ret = ax.set_ylim(*args, **kwargs)\n"
     ]
    },
    {
     "name": "stdout",
     "output_type": "stream",
     "text": [
      "EPISODE 24500 - Eval Random 999 over 1000 - Number of game played 123500 - 3 hours, 36 minutes and 11 seconds\n",
      "########## Evaluation Against Random - Episode 24500 ##########\n",
      "Timestep: 1968271 Average reward against random is 1.686\n",
      "EPISODE 24500 - Eval Opponent 999 over 1000 - Number of game played 124500 - 3 hours, 37 minutes and 36 seconds\n",
      "########## Evaluation Against Last Agent - Episode 24500 ##########\n",
      "Timestep: 1968271 Average reward against last agent is 2.593\n"
     ]
    },
    {
     "name": "stderr",
     "output_type": "stream",
     "text": [
      "/opt/conda/lib/python3.7/site-packages/matplotlib/pyplot.py:1479: UserWarning: Attempting to set identical bottom==top results\n",
      "in singular transformations; automatically expanding.\n",
      "bottom=0, top=0\n",
      "  ret = ax.set_ylim(*args, **kwargs)\n"
     ]
    },
    {
     "name": "stdout",
     "output_type": "stream",
     "text": [
      "EPISODE 25000 - Eval Random 999 over 1000 - Number of game played 126000 - 3 hours, 40 minutes and 34 seconds\n",
      "########## Evaluation Against Random - Episode 25000 ##########\n",
      "Timestep: 2008476 Average reward against random is 2.091\n",
      "EPISODE 25000 - Eval Opponent 999 over 1000 - Number of game played 127000 - 3 hours, 42 minutes and 18 seconds\n",
      "########## Evaluation Against Last Agent - Episode 25000 ##########\n",
      "Timestep: 2008476 Average reward against last agent is -2.162\n",
      "EPISODE 25500 - Eval Random 999 over 1000 - Number of game played 128500 - 3 hours, 45 minutes and 15 seconds\n",
      "########## Evaluation Against Random - Episode 25500 ##########\n",
      "Timestep: 2049055 Average reward against random is 2.021\n",
      "EPISODE 25500 - Eval Opponent 999 over 1000 - Number of game played 129500 - 3 hours, 46 minutes and 39 seconds\n",
      "########## Evaluation Against Last Agent - Episode 25500 ##########\n",
      "Timestep: 2049055 Average reward against last agent is 2.332\n"
     ]
    },
    {
     "name": "stderr",
     "output_type": "stream",
     "text": [
      "/opt/conda/lib/python3.7/site-packages/matplotlib/pyplot.py:1479: UserWarning: Attempting to set identical bottom==top results\n",
      "in singular transformations; automatically expanding.\n",
      "bottom=0, top=0\n",
      "  ret = ax.set_ylim(*args, **kwargs)\n"
     ]
    },
    {
     "name": "stdout",
     "output_type": "stream",
     "text": [
      "EPISODE 26000 - Eval Random 999 over 1000 - Number of game played 131000 - 3 hours, 49 minutes and 36 seconds\n",
      "########## Evaluation Against Random - Episode 26000 ##########\n",
      "Timestep: 2089582 Average reward against random is 0.843\n",
      "EPISODE 26000 - Eval Opponent 999 over 1000 - Number of game played 132000 - 3 hours, 51 minutes and 0 secondds\n",
      "########## Evaluation Against Last Agent - Episode 26000 ##########\n",
      "Timestep: 2089582 Average reward against last agent is 2.5\n"
     ]
    },
    {
     "name": "stderr",
     "output_type": "stream",
     "text": [
      "/opt/conda/lib/python3.7/site-packages/matplotlib/pyplot.py:1479: UserWarning: Attempting to set identical bottom==top results\n",
      "in singular transformations; automatically expanding.\n",
      "bottom=0, top=0\n",
      "  ret = ax.set_ylim(*args, **kwargs)\n"
     ]
    },
    {
     "name": "stdout",
     "output_type": "stream",
     "text": [
      "EPISODE 26500 - Eval Random 999 over 1000 - Number of game played 133500 - 3 hours, 53 minutes and 57 seconds\n",
      "########## Evaluation Against Random - Episode 26500 ##########\n",
      "Timestep: 2130056 Average reward against random is 1.108\n",
      "EPISODE 26500 - Eval Opponent 999 over 1000 - Number of game played 134500 - 3 hours, 55 minutes and 26 seconds\n",
      "########## Evaluation Against Last Agent - Episode 26500 ##########\n",
      "Timestep: 2130056 Average reward against last agent is -1.22\n",
      "EPISODE 27000 - Eval Random 999 over 1000 - Number of game played 136000 - 3 hours, 58 minutes and 24 seconds\n",
      "########## Evaluation Against Random - Episode 27000 ##########\n",
      "Timestep: 2170445 Average reward against random is 1.193\n",
      "EPISODE 27000 - Eval Opponent 999 over 1000 - Number of game played 137000 - 3 hours, 59 minutes and 49 seconds\n",
      "########## Evaluation Against Last Agent - Episode 27000 ##########\n",
      "Timestep: 2170445 Average reward against last agent is 2.264\n"
     ]
    },
    {
     "name": "stderr",
     "output_type": "stream",
     "text": [
      "/opt/conda/lib/python3.7/site-packages/matplotlib/pyplot.py:1479: UserWarning: Attempting to set identical bottom==top results\n",
      "in singular transformations; automatically expanding.\n",
      "bottom=0, top=0\n",
      "  ret = ax.set_ylim(*args, **kwargs)\n"
     ]
    },
    {
     "name": "stdout",
     "output_type": "stream",
     "text": [
      "EPISODE 27500 - Eval Random 999 over 1000 - Number of game played 138500 - 4 hours, 2 minutes and 48 seconds\n",
      "########## Evaluation Against Random - Episode 27500 ##########\n",
      "Timestep: 2210749 Average reward against random is 1.113\n",
      "EPISODE 27500 - Eval Opponent 999 over 1000 - Number of game played 139500 - 4 hours, 4 minutes and 12 seconds\n",
      "########## Evaluation Against Last Agent - Episode 27500 ##########\n",
      "Timestep: 2210749 Average reward against last agent is 2.177\n"
     ]
    },
    {
     "name": "stderr",
     "output_type": "stream",
     "text": [
      "/opt/conda/lib/python3.7/site-packages/matplotlib/pyplot.py:1479: UserWarning: Attempting to set identical bottom==top results\n",
      "in singular transformations; automatically expanding.\n",
      "bottom=0, top=0\n",
      "  ret = ax.set_ylim(*args, **kwargs)\n"
     ]
    },
    {
     "name": "stdout",
     "output_type": "stream",
     "text": [
      "EPISODE 28000 - Eval Random 999 over 1000 - Number of game played 141000 - 4 hours, 7 minutes and 11 seconds\n",
      "########## Evaluation Against Random - Episode 28000 ##########\n",
      "Timestep: 2250853 Average reward against random is 1.923\n",
      "EPISODE 28000 - Eval Opponent 999 over 1000 - Number of game played 142000 - 4 hours, 8 minutes and 35 seconds\n",
      "########## Evaluation Against Last Agent - Episode 28000 ##########\n",
      "Timestep: 2250853 Average reward against last agent is 2.714\n"
     ]
    },
    {
     "name": "stderr",
     "output_type": "stream",
     "text": [
      "/opt/conda/lib/python3.7/site-packages/matplotlib/pyplot.py:1479: UserWarning: Attempting to set identical bottom==top results\n",
      "in singular transformations; automatically expanding.\n",
      "bottom=0, top=0\n",
      "  ret = ax.set_ylim(*args, **kwargs)\n"
     ]
    },
    {
     "name": "stdout",
     "output_type": "stream",
     "text": [
      "EPISODE 28500 - Eval Random 999 over 1000 - Number of game played 143500 - 4 hours, 11 minutes and 34 seconds\n",
      "########## Evaluation Against Random - Episode 28500 ##########\n",
      "Timestep: 2291005 Average reward against random is 1.654\n",
      "EPISODE 28500 - Eval Opponent 999 over 1000 - Number of game played 144500 - 4 hours, 12 minutes and 58 seconds\n",
      "########## Evaluation Against Last Agent - Episode 28500 ##########\n",
      "Timestep: 2291005 Average reward against last agent is 2.518\n"
     ]
    },
    {
     "name": "stderr",
     "output_type": "stream",
     "text": [
      "/opt/conda/lib/python3.7/site-packages/matplotlib/pyplot.py:1479: UserWarning: Attempting to set identical bottom==top results\n",
      "in singular transformations; automatically expanding.\n",
      "bottom=0, top=0\n",
      "  ret = ax.set_ylim(*args, **kwargs)\n"
     ]
    },
    {
     "name": "stdout",
     "output_type": "stream",
     "text": [
      "EPISODE 29000 - Eval Random 999 over 1000 - Number of game played 146000 - 4 hours, 15 minutes and 56 seconds\n",
      "########## Evaluation Against Random - Episode 29000 ##########\n",
      "Timestep: 2331114 Average reward against random is 1.424\n",
      "EPISODE 29000 - Eval Opponent 999 over 1000 - Number of game played 147000 - 4 hours, 17 minutes and 30 seconds\n",
      "########## Evaluation Against Last Agent - Episode 29000 ##########\n",
      "Timestep: 2331114 Average reward against last agent is -2.49\n",
      "EPISODE 29500 - Eval Random 999 over 1000 - Number of game played 148500 - 4 hours, 20 minutes and 28 seconds\n",
      "########## Evaluation Against Random - Episode 29500 ##########\n",
      "Timestep: 2371179 Average reward against random is 1.639\n",
      "EPISODE 29500 - Eval Opponent 999 over 1000 - Number of game played 149500 - 4 hours, 22 minutes and 4 secondss\n",
      "########## Evaluation Against Last Agent - Episode 29500 ##########\n",
      "Timestep: 2371179 Average reward against last agent is -2.573\n",
      "EPISODE 30000 - Eval Random 999 over 1000 - Number of game played 151000 - 4 hours, 25 minutes and 2 secondss\n",
      "########## Evaluation Against Random - Episode 30000 ##########\n",
      "Timestep: 2411250 Average reward against random is 1.944\n",
      "EPISODE 30000 - Eval Opponent 999 over 1000 - Number of game played 152000 - 4 hours, 26 minutes and 27 seconds\n",
      "########## Evaluation Against Last Agent - Episode 30000 ##########\n",
      "Timestep: 2411250 Average reward against last agent is 2.457\n"
     ]
    },
    {
     "name": "stderr",
     "output_type": "stream",
     "text": [
      "/opt/conda/lib/python3.7/site-packages/matplotlib/pyplot.py:1479: UserWarning: Attempting to set identical bottom==top results\n",
      "in singular transformations; automatically expanding.\n",
      "bottom=0, top=0\n",
      "  ret = ax.set_ylim(*args, **kwargs)\n"
     ]
    },
    {
     "name": "stdout",
     "output_type": "stream",
     "text": [
      "EPISODE 30500 - Eval Random 999 over 1000 - Number of game played 153500 - 4 hours, 29 minutes and 26 seconds\n",
      "########## Evaluation Against Random - Episode 30500 ##########\n",
      "Timestep: 2451363 Average reward against random is 2.186\n",
      "EPISODE 30500 - Eval Opponent 999 over 1000 - Number of game played 154500 - 4 hours, 31 minutes and 11 seconds\n",
      "########## Evaluation Against Last Agent - Episode 30500 ##########\n",
      "Timestep: 2451363 Average reward against last agent is -1.89\n",
      "EPISODE 31000 - Eval Random 999 over 1000 - Number of game played 156000 - 4 hours, 34 minutes and 11 seconds\n",
      "########## Evaluation Against Random - Episode 31000 ##########\n",
      "Timestep: 2491390 Average reward against random is 2.152\n",
      "EPISODE 31000 - Eval Opponent 999 over 1000 - Number of game played 157000 - 4 hours, 35 minutes and 36 seconds\n",
      "########## Evaluation Against Last Agent - Episode 31000 ##########\n",
      "Timestep: 2491390 Average reward against last agent is 2.5\n"
     ]
    },
    {
     "name": "stderr",
     "output_type": "stream",
     "text": [
      "/opt/conda/lib/python3.7/site-packages/matplotlib/pyplot.py:1479: UserWarning: Attempting to set identical bottom==top results\n",
      "in singular transformations; automatically expanding.\n",
      "bottom=0, top=0\n",
      "  ret = ax.set_ylim(*args, **kwargs)\n"
     ]
    },
    {
     "name": "stdout",
     "output_type": "stream",
     "text": [
      "EPISODE 31500 - Eval Random 999 over 1000 - Number of game played 158500 - 4 hours, 38 minutes and 35 seconds\n",
      "########## Evaluation Against Random - Episode 31500 ##########\n",
      "Timestep: 2531495 Average reward against random is 2.083\n",
      "EPISODE 31500 - Eval Opponent 999 over 1000 - Number of game played 159500 - 4 hours, 40 minutes and 16 seconds\n",
      "########## Evaluation Against Last Agent - Episode 31500 ##########\n",
      "Timestep: 2531495 Average reward against last agent is -1.618\n",
      "EPISODE 32000 - Eval Random 999 over 1000 - Number of game played 161000 - 4 hours, 43 minutes and 16 seconds\n",
      "########## Evaluation Against Random - Episode 32000 ##########\n",
      "Timestep: 2571518 Average reward against random is 1.706\n",
      "EPISODE 32000 - Eval Opponent 999 over 1000 - Number of game played 162000 - 4 hours, 44 minutes and 41 seconds\n",
      "########## Evaluation Against Last Agent - Episode 32000 ##########\n",
      "Timestep: 2571518 Average reward against last agent is 2.678\n"
     ]
    },
    {
     "name": "stderr",
     "output_type": "stream",
     "text": [
      "/opt/conda/lib/python3.7/site-packages/matplotlib/pyplot.py:1479: UserWarning: Attempting to set identical bottom==top results\n",
      "in singular transformations; automatically expanding.\n",
      "bottom=0, top=0\n",
      "  ret = ax.set_ylim(*args, **kwargs)\n"
     ]
    },
    {
     "name": "stdout",
     "output_type": "stream",
     "text": [
      "EPISODE 32500 - Eval Random 999 over 1000 - Number of game played 163500 - 4 hours, 47 minutes and 41 seconds\n",
      "########## Evaluation Against Random - Episode 32500 ##########\n",
      "Timestep: 2611533 Average reward against random is 1.568\n",
      "EPISODE 32500 - Eval Opponent 999 over 1000 - Number of game played 164500 - 4 hours, 49 minutes and 5 secondss\n",
      "########## Evaluation Against Last Agent - Episode 32500 ##########\n",
      "Timestep: 2611533 Average reward against last agent is 2.571\n"
     ]
    },
    {
     "name": "stderr",
     "output_type": "stream",
     "text": [
      "/opt/conda/lib/python3.7/site-packages/matplotlib/pyplot.py:1479: UserWarning: Attempting to set identical bottom==top results\n",
      "in singular transformations; automatically expanding.\n",
      "bottom=0, top=0\n",
      "  ret = ax.set_ylim(*args, **kwargs)\n"
     ]
    },
    {
     "name": "stdout",
     "output_type": "stream",
     "text": [
      "EPISODE 33000 - Eval Random 999 over 1000 - Number of game played 166000 - 4 hours, 52 minutes and 4 secondss\n",
      "########## Evaluation Against Random - Episode 33000 ##########\n",
      "Timestep: 2651540 Average reward against random is 1.576\n",
      "EPISODE 33000 - Eval Opponent 999 over 1000 - Number of game played 167000 - 4 hours, 53 minutes and 28 seconds\n",
      "########## Evaluation Against Last Agent - Episode 33000 ##########\n",
      "Timestep: 2651540 Average reward against last agent is 2.654\n"
     ]
    },
    {
     "name": "stderr",
     "output_type": "stream",
     "text": [
      "/opt/conda/lib/python3.7/site-packages/matplotlib/pyplot.py:1479: UserWarning: Attempting to set identical bottom==top results\n",
      "in singular transformations; automatically expanding.\n",
      "bottom=0, top=0\n",
      "  ret = ax.set_ylim(*args, **kwargs)\n"
     ]
    },
    {
     "name": "stdout",
     "output_type": "stream",
     "text": [
      "EPISODE 33500 - Eval Random 999 over 1000 - Number of game played 168500 - 4 hours, 56 minutes and 26 seconds\n",
      "########## Evaluation Against Random - Episode 33500 ##########\n",
      "Timestep: 2691594 Average reward against random is 2.094\n",
      "EPISODE 33500 - Eval Opponent 999 over 1000 - Number of game played 169500 - 4 hours, 58 minutes and 3 secondss\n",
      "########## Evaluation Against Last Agent - Episode 33500 ##########\n",
      "Timestep: 2691594 Average reward against last agent is -1.547\n",
      "EPISODE 34000 - Eval Random 999 over 1000 - Number of game played 171000 - 5 hours, 1 minute and 3 secondss\n",
      "########## Evaluation Against Random - Episode 34000 ##########\n",
      "Timestep: 2731744 Average reward against random is 1.568\n",
      "EPISODE 34000 - Eval Opponent 999 over 1000 - Number of game played 172000 - 5 hours, 2 minutes and 27 seconds\n",
      "########## Evaluation Against Last Agent - Episode 34000 ##########\n",
      "Timestep: 2731744 Average reward against last agent is 2.456\n"
     ]
    },
    {
     "name": "stderr",
     "output_type": "stream",
     "text": [
      "/opt/conda/lib/python3.7/site-packages/matplotlib/pyplot.py:1479: UserWarning: Attempting to set identical bottom==top results\n",
      "in singular transformations; automatically expanding.\n",
      "bottom=0, top=0\n",
      "  ret = ax.set_ylim(*args, **kwargs)\n"
     ]
    },
    {
     "name": "stdout",
     "output_type": "stream",
     "text": [
      "EPISODE 34500 - Eval Random 999 over 1000 - Number of game played 173500 - 5 hours, 5 minutes and 26 seconds\n",
      "########## Evaluation Against Random - Episode 34500 ##########\n",
      "Timestep: 2771834 Average reward against random is 1.007\n",
      "EPISODE 34500 - Eval Opponent 999 over 1000 - Number of game played 174500 - 5 hours, 6 minutes and 50 seconds\n",
      "########## Evaluation Against Last Agent - Episode 34500 ##########\n",
      "Timestep: 2771834 Average reward against last agent is 2.532\n"
     ]
    },
    {
     "name": "stderr",
     "output_type": "stream",
     "text": [
      "/opt/conda/lib/python3.7/site-packages/matplotlib/pyplot.py:1479: UserWarning: Attempting to set identical bottom==top results\n",
      "in singular transformations; automatically expanding.\n",
      "bottom=0, top=0\n",
      "  ret = ax.set_ylim(*args, **kwargs)\n"
     ]
    },
    {
     "name": "stdout",
     "output_type": "stream",
     "text": [
      "EPISODE 35000 - Eval Random 999 over 1000 - Number of game played 176000 - 5 hours, 9 minutes and 49 seconds\n",
      "########## Evaluation Against Random - Episode 35000 ##########\n",
      "Timestep: 2811874 Average reward against random is 2.004\n",
      "EPISODE 35000 - Eval Opponent 999 over 1000 - Number of game played 177000 - 5 hours, 11 minutes and 13 seconds\n",
      "########## Evaluation Against Last Agent - Episode 35000 ##########\n",
      "Timestep: 2811874 Average reward against last agent is 2.511\n"
     ]
    },
    {
     "name": "stderr",
     "output_type": "stream",
     "text": [
      "/opt/conda/lib/python3.7/site-packages/matplotlib/pyplot.py:1479: UserWarning: Attempting to set identical bottom==top results\n",
      "in singular transformations; automatically expanding.\n",
      "bottom=0, top=0\n",
      "  ret = ax.set_ylim(*args, **kwargs)\n"
     ]
    },
    {
     "name": "stdout",
     "output_type": "stream",
     "text": [
      "EPISODE 35500 - Eval Random 999 over 1000 - Number of game played 178500 - 5 hours, 14 minutes and 12 seconds\n",
      "########## Evaluation Against Random - Episode 35500 ##########\n",
      "Timestep: 2851879 Average reward against random is 1.57\n",
      "EPISODE 35500 - Eval Opponent 999 over 1000 - Number of game played 179500 - 5 hours, 15 minutes and 37 seconds\n",
      "########## Evaluation Against Last Agent - Episode 35500 ##########\n",
      "Timestep: 2851879 Average reward against last agent is 2.551\n"
     ]
    },
    {
     "name": "stderr",
     "output_type": "stream",
     "text": [
      "/opt/conda/lib/python3.7/site-packages/matplotlib/pyplot.py:1479: UserWarning: Attempting to set identical bottom==top results\n",
      "in singular transformations; automatically expanding.\n",
      "bottom=0, top=0\n",
      "  ret = ax.set_ylim(*args, **kwargs)\n"
     ]
    },
    {
     "name": "stdout",
     "output_type": "stream",
     "text": [
      "EPISODE 36000 - Eval Random 999 over 1000 - Number of game played 181000 - 5 hours, 18 minutes and 37 seconds\n",
      "########## Evaluation Against Random - Episode 36000 ##########\n",
      "Timestep: 2891944 Average reward against random is 1.647\n",
      "EPISODE 36000 - Eval Opponent 999 over 1000 - Number of game played 182000 - 5 hours, 20 minutes and 2 secondss\n",
      "########## Evaluation Against Last Agent - Episode 36000 ##########\n",
      "Timestep: 2891944 Average reward against last agent is 2.569\n"
     ]
    },
    {
     "name": "stderr",
     "output_type": "stream",
     "text": [
      "/opt/conda/lib/python3.7/site-packages/matplotlib/pyplot.py:1479: UserWarning: Attempting to set identical bottom==top results\n",
      "in singular transformations; automatically expanding.\n",
      "bottom=0, top=0\n",
      "  ret = ax.set_ylim(*args, **kwargs)\n"
     ]
    },
    {
     "name": "stdout",
     "output_type": "stream",
     "text": [
      "EPISODE 36500 - Eval Random 999 over 1000 - Number of game played 183500 - 5 hours, 23 minutes and 2 secondss\n",
      "########## Evaluation Against Random - Episode 36500 ##########\n",
      "Timestep: 2931977 Average reward against random is 0.934\n",
      "EPISODE 36500 - Eval Opponent 999 over 1000 - Number of game played 184500 - 5 hours, 24 minutes and 27 seconds\n",
      "########## Evaluation Against Last Agent - Episode 36500 ##########\n",
      "Timestep: 2931977 Average reward against last agent is 2.175\n"
     ]
    },
    {
     "name": "stderr",
     "output_type": "stream",
     "text": [
      "/opt/conda/lib/python3.7/site-packages/matplotlib/pyplot.py:1479: UserWarning: Attempting to set identical bottom==top results\n",
      "in singular transformations; automatically expanding.\n",
      "bottom=0, top=0\n",
      "  ret = ax.set_ylim(*args, **kwargs)\n"
     ]
    },
    {
     "name": "stdout",
     "output_type": "stream",
     "text": [
      "EPISODE 37000 - Eval Random 999 over 1000 - Number of game played 186000 - 5 hours, 27 minutes and 28 seconds\n",
      "########## Evaluation Against Random - Episode 37000 ##########\n",
      "Timestep: 2971934 Average reward against random is -0.053\n",
      "EPISODE 37000 - Eval Opponent 999 over 1000 - Number of game played 187000 - 5 hours, 28 minutes and 54 seconds\n",
      "########## Evaluation Against Last Agent - Episode 37000 ##########\n",
      "Timestep: 2971934 Average reward against last agent is -3.204\n",
      "EPISODE 37500 - Eval Random 999 over 1000 - Number of game played 188500 - 5 hours, 31 minutes and 55 seconds\n",
      "########## Evaluation Against Random - Episode 37500 ##########\n",
      "Timestep: 3011890 Average reward against random is 1.108\n",
      "EPISODE 37500 - Eval Opponent 999 over 1000 - Number of game played 189500 - 5 hours, 33 minutes and 19 seconds\n",
      "########## Evaluation Against Last Agent - Episode 37500 ##########\n",
      "Timestep: 3011890 Average reward against last agent is 2.469\n"
     ]
    },
    {
     "name": "stderr",
     "output_type": "stream",
     "text": [
      "/opt/conda/lib/python3.7/site-packages/matplotlib/pyplot.py:1479: UserWarning: Attempting to set identical bottom==top results\n",
      "in singular transformations; automatically expanding.\n",
      "bottom=0, top=0\n",
      "  ret = ax.set_ylim(*args, **kwargs)\n"
     ]
    },
    {
     "name": "stdout",
     "output_type": "stream",
     "text": [
      "EPISODE 38000 - Eval Random 999 over 1000 - Number of game played 191000 - 5 hours, 36 minutes and 19 seconds\n",
      "########## Evaluation Against Random - Episode 38000 ##########\n",
      "Timestep: 3051898 Average reward against random is 0.768\n",
      "EPISODE 38000 - Eval Opponent 999 over 1000 - Number of game played 192000 - 5 hours, 37 minutes and 48 seconds\n",
      "########## Evaluation Against Last Agent - Episode 38000 ##########\n",
      "Timestep: 3051898 Average reward against last agent is -3.699\n",
      "EPISODE 38500 - Eval Random 999 over 1000 - Number of game played 193500 - 5 hours, 40 minutes and 48 seconds\n",
      "########## Evaluation Against Random - Episode 38500 ##########\n",
      "Timestep: 3091947 Average reward against random is 0.905\n",
      "EPISODE 38500 - Eval Opponent 999 over 1000 - Number of game played 194500 - 5 hours, 42 minutes and 13 seconds\n",
      "########## Evaluation Against Last Agent - Episode 38500 ##########\n",
      "Timestep: 3091947 Average reward against last agent is 2.306\n"
     ]
    },
    {
     "name": "stderr",
     "output_type": "stream",
     "text": [
      "/opt/conda/lib/python3.7/site-packages/matplotlib/pyplot.py:1479: UserWarning: Attempting to set identical bottom==top results\n",
      "in singular transformations; automatically expanding.\n",
      "bottom=0, top=0\n",
      "  ret = ax.set_ylim(*args, **kwargs)\n"
     ]
    },
    {
     "name": "stdout",
     "output_type": "stream",
     "text": [
      "EPISODE 39000 - Eval Random 999 over 1000 - Number of game played 196000 - 5 hours, 45 minutes and 15 seconds\n",
      "########## Evaluation Against Random - Episode 39000 ##########\n",
      "Timestep: 3132043 Average reward against random is 1.576\n",
      "EPISODE 39000 - Eval Opponent 999 over 1000 - Number of game played 197000 - 5 hours, 46 minutes and 44 seconds\n",
      "########## Evaluation Against Last Agent - Episode 39000 ##########\n",
      "Timestep: 3132043 Average reward against last agent is -1.801\n",
      "EPISODE 39500 - Eval Random 999 over 1000 - Number of game played 198500 - 5 hours, 49 minutes and 48 seconds\n",
      "########## Evaluation Against Random - Episode 39500 ##########\n",
      "Timestep: 3172149 Average reward against random is 0.747\n",
      "EPISODE 39500 - Eval Opponent 999 over 1000 - Number of game played 199500 - 5 hours, 51 minutes and 14 seconds\n",
      "########## Evaluation Against Last Agent - Episode 39500 ##########\n",
      "Timestep: 3172149 Average reward against last agent is -2.074\n",
      "EPISODE 40000 - Eval Random 999 over 1000 - Number of game played 201000 - 5 hours, 54 minutes and 18 seconds\n",
      "########## Evaluation Against Random - Episode 40000 ##########\n",
      "Timestep: 3212158 Average reward against random is 0.65\n",
      "EPISODE 40000 - Eval Opponent 999 over 1000 - Number of game played 202000 - 5 hours, 55 minutes and 44 seconds\n",
      "########## Evaluation Against Last Agent - Episode 40000 ##########\n",
      "Timestep: 3212158 Average reward against last agent is -1.815\n",
      "EPISODE 40500 - Eval Random 999 over 1000 - Number of game played 203500 - 5 hours, 58 minutes and 47 seconds\n",
      "########## Evaluation Against Random - Episode 40500 ##########\n",
      "Timestep: 3252102 Average reward against random is 0.36\n",
      "EPISODE 40500 - Eval Opponent 999 over 1000 - Number of game played 204500 - 6 hours, 0 minute and 13 secondsds\n",
      "########## Evaluation Against Last Agent - Episode 40500 ##########\n",
      "Timestep: 3252102 Average reward against last agent is -1.897\n",
      "EPISODE 41000 - Eval Random 999 over 1000 - Number of game played 206000 - 6 hours, 3 minutes and 19 seconds\n",
      "########## Evaluation Against Random - Episode 41000 ##########\n",
      "Timestep: 3292145 Average reward against random is 1.673\n",
      "EPISODE 41000 - Eval Opponent 999 over 1000 - Number of game played 207000 - 6 hours, 4 minutes and 46 seconds\n",
      "########## Evaluation Against Last Agent - Episode 41000 ##########\n",
      "Timestep: 3292145 Average reward against last agent is 0.311\n",
      "EPISODE 41500 - Eval Random 999 over 1000 - Number of game played 208500 - 6 hours, 7 minutes and 51 seconds\n",
      "########## Evaluation Against Random - Episode 41500 ##########\n",
      "Timestep: 3332252 Average reward against random is 1.838\n",
      "EPISODE 41500 - Eval Opponent 999 over 1000 - Number of game played 209500 - 6 hours, 9 minutes and 21 seconds\n",
      "########## Evaluation Against Last Agent - Episode 41500 ##########\n",
      "Timestep: 3332252 Average reward against last agent is 0.324\n",
      "EPISODE 42000 - Eval Random 999 over 1000 - Number of game played 211000 - 6 hours, 12 minutes and 26 seconds\n",
      "########## Evaluation Against Random - Episode 42000 ##########\n",
      "Timestep: 3372522 Average reward against random is 1.997\n",
      "EPISODE 42000 - Eval Opponent 999 over 1000 - Number of game played 212000 - 6 hours, 13 minutes and 56 seconds\n",
      "########## Evaluation Against Last Agent - Episode 42000 ##########\n",
      "Timestep: 3372522 Average reward against last agent is 0.526\n",
      "EPISODE 42500 - Eval Random 999 over 1000 - Number of game played 213500 - 6 hours, 17 minutes and 2 secondss\n",
      "########## Evaluation Against Random - Episode 42500 ##########\n",
      "Timestep: 3412684 Average reward against random is 2.171\n",
      "EPISODE 42500 - Eval Opponent 999 over 1000 - Number of game played 214500 - 6 hours, 18 minutes and 27 seconds\n",
      "########## Evaluation Against Last Agent - Episode 42500 ##########\n",
      "Timestep: 3412684 Average reward against last agent is 2.549\n"
     ]
    },
    {
     "name": "stderr",
     "output_type": "stream",
     "text": [
      "/opt/conda/lib/python3.7/site-packages/matplotlib/pyplot.py:1479: UserWarning: Attempting to set identical bottom==top results\n",
      "in singular transformations; automatically expanding.\n",
      "bottom=0, top=0\n",
      "  ret = ax.set_ylim(*args, **kwargs)\n"
     ]
    },
    {
     "name": "stdout",
     "output_type": "stream",
     "text": [
      "EPISODE 43000 - Eval Random 999 over 1000 - Number of game played 216000 - 6 hours, 21 minutes and 32 seconds\n",
      "########## Evaluation Against Random - Episode 43000 ##########\n",
      "Timestep: 3452749 Average reward against random is 1.292\n",
      "EPISODE 43000 - Eval Opponent 999 over 1000 - Number of game played 217000 - 6 hours, 22 minutes and 57 seconds\n",
      "########## Evaluation Against Last Agent - Episode 43000 ##########\n",
      "Timestep: 3452749 Average reward against last agent is 2.314\n"
     ]
    },
    {
     "name": "stderr",
     "output_type": "stream",
     "text": [
      "/opt/conda/lib/python3.7/site-packages/matplotlib/pyplot.py:1479: UserWarning: Attempting to set identical bottom==top results\n",
      "in singular transformations; automatically expanding.\n",
      "bottom=0, top=0\n",
      "  ret = ax.set_ylim(*args, **kwargs)\n"
     ]
    },
    {
     "name": "stdout",
     "output_type": "stream",
     "text": [
      "EPISODE 43500 - Eval Random 999 over 1000 - Number of game played 218500 - 6 hours, 26 minutes and 3 secondss\n",
      "########## Evaluation Against Random - Episode 43500 ##########\n",
      "Timestep: 3492778 Average reward against random is 0.489\n",
      "EPISODE 43500 - Eval Opponent 999 over 1000 - Number of game played 219500 - 6 hours, 27 minutes and 28 seconds\n",
      "########## Evaluation Against Last Agent - Episode 43500 ##########\n",
      "Timestep: 3492778 Average reward against last agent is 2.621\n"
     ]
    },
    {
     "name": "stderr",
     "output_type": "stream",
     "text": [
      "/opt/conda/lib/python3.7/site-packages/matplotlib/pyplot.py:1479: UserWarning: Attempting to set identical bottom==top results\n",
      "in singular transformations; automatically expanding.\n",
      "bottom=0, top=0\n",
      "  ret = ax.set_ylim(*args, **kwargs)\n"
     ]
    },
    {
     "name": "stdout",
     "output_type": "stream",
     "text": [
      "EPISODE 44000 - Eval Random 999 over 1000 - Number of game played 221000 - 6 hours, 30 minutes and 35 seconds\n",
      "########## Evaluation Against Random - Episode 44000 ##########\n",
      "Timestep: 3532875 Average reward against random is 0.697\n",
      "EPISODE 44000 - Eval Opponent 999 over 1000 - Number of game played 222000 - 6 hours, 32 minutes and 4 secondss\n",
      "########## Evaluation Against Last Agent - Episode 44000 ##########\n",
      "Timestep: 3532875 Average reward against last agent is -3.367\n",
      "EPISODE 44500 - Eval Random 999 over 1000 - Number of game played 223500 - 6 hours, 35 minutes and 11 seconds\n",
      "########## Evaluation Against Random - Episode 44500 ##########\n",
      "Timestep: 3572879 Average reward against random is 0.112\n",
      "EPISODE 44500 - Eval Opponent 999 over 1000 - Number of game played 224500 - 6 hours, 36 minutes and 38 seconds\n",
      "########## Evaluation Against Last Agent - Episode 44500 ##########\n",
      "Timestep: 3572879 Average reward against last agent is -3.719\n",
      "EPISODE 45000 - Eval Random 999 over 1000 - Number of game played 226000 - 6 hours, 39 minutes and 45 seconds\n",
      "########## Evaluation Against Random - Episode 45000 ##########\n",
      "Timestep: 3612783 Average reward against random is -0.914\n",
      "EPISODE 45000 - Eval Opponent 999 over 1000 - Number of game played 227000 - 6 hours, 41 minutes and 11 seconds\n",
      "########## Evaluation Against Last Agent - Episode 45000 ##########\n",
      "Timestep: 3612783 Average reward against last agent is -4.693\n",
      "EPISODE 45500 - Eval Random 999 over 1000 - Number of game played 228500 - 6 hours, 44 minutes and 18 seconds\n",
      "########## Evaluation Against Random - Episode 45500 ##########\n",
      "Timestep: 3652754 Average reward against random is 0.351\n",
      "EPISODE 45500 - Eval Opponent 999 over 1000 - Number of game played 229500 - 6 hours, 45 minutes and 43 seconds\n",
      "########## Evaluation Against Last Agent - Episode 45500 ##########\n",
      "Timestep: 3652754 Average reward against last agent is 2.537\n"
     ]
    },
    {
     "name": "stderr",
     "output_type": "stream",
     "text": [
      "/opt/conda/lib/python3.7/site-packages/matplotlib/pyplot.py:1479: UserWarning: Attempting to set identical bottom==top results\n",
      "in singular transformations; automatically expanding.\n",
      "bottom=0, top=0\n",
      "  ret = ax.set_ylim(*args, **kwargs)\n"
     ]
    },
    {
     "name": "stdout",
     "output_type": "stream",
     "text": [
      "EPISODE 46000 - Eval Random 999 over 1000 - Number of game played 231000 - 6 hours, 48 minutes and 52 seconds\n",
      "########## Evaluation Against Random - Episode 46000 ##########\n",
      "Timestep: 3692709 Average reward against random is 0.358\n",
      "EPISODE 46000 - Eval Opponent 999 over 1000 - Number of game played 232000 - 6 hours, 50 minutes and 19 seconds\n",
      "########## Evaluation Against Last Agent - Episode 46000 ##########\n",
      "Timestep: 3692709 Average reward against last agent is -3.07\n",
      "EPISODE 46500 - Eval Random 999 over 1000 - Number of game played 233500 - 6 hours, 53 minutes and 29 seconds\n",
      "########## Evaluation Against Random - Episode 46500 ##########\n",
      "Timestep: 3732675 Average reward against random is 0.46\n",
      "EPISODE 46500 - Eval Opponent 999 over 1000 - Number of game played 234500 - 6 hours, 54 minutes and 56 seconds\n",
      "########## Evaluation Against Last Agent - Episode 46500 ##########\n",
      "Timestep: 3732675 Average reward against last agent is -1.652\n",
      "EPISODE 47000 - Eval Random 999 over 1000 - Number of game played 236000 - 6 hours, 58 minutes and 4 secondss\n",
      "########## Evaluation Against Random - Episode 47000 ##########\n",
      "Timestep: 3772674 Average reward against random is 1.376\n",
      "EPISODE 47000 - Eval Opponent 999 over 1000 - Number of game played 237000 - 6 hours, 59 minutes and 36 seconds\n",
      "########## Evaluation Against Last Agent - Episode 47000 ##########\n",
      "Timestep: 3772674 Average reward against last agent is -2.992\n",
      "EPISODE 47500 - Eval Random 999 over 1000 - Number of game played 238500 - 7 hours, 2 minutes and 45 seconds\n",
      "########## Evaluation Against Random - Episode 47500 ##########\n",
      "Timestep: 3812692 Average reward against random is 1.468\n",
      "EPISODE 47500 - Eval Opponent 999 over 1000 - Number of game played 239500 - 7 hours, 4 minutes and 12 seconds\n",
      "########## Evaluation Against Last Agent - Episode 47500 ##########\n",
      "Timestep: 3812692 Average reward against last agent is 1.619\n",
      "EPISODE 48000 - Eval Random 999 over 1000 - Number of game played 241000 - 7 hours, 7 minutes and 24 seconds\n",
      "########## Evaluation Against Random - Episode 48000 ##########\n",
      "Timestep: 3852646 Average reward against random is 0.973\n",
      "EPISODE 48000 - Eval Opponent 999 over 1000 - Number of game played 242000 - 7 hours, 8 minutes and 48 seconds\n",
      "########## Evaluation Against Last Agent - Episode 48000 ##########\n",
      "Timestep: 3852646 Average reward against last agent is 2.383\n"
     ]
    },
    {
     "name": "stderr",
     "output_type": "stream",
     "text": [
      "/opt/conda/lib/python3.7/site-packages/matplotlib/pyplot.py:1479: UserWarning: Attempting to set identical bottom==top results\n",
      "in singular transformations; automatically expanding.\n",
      "bottom=0, top=0\n",
      "  ret = ax.set_ylim(*args, **kwargs)\n"
     ]
    },
    {
     "name": "stdout",
     "output_type": "stream",
     "text": [
      "EPISODE 48500 - Eval Random 999 over 1000 - Number of game played 243500 - 7 hours, 11 minutes and 58 seconds\n",
      "########## Evaluation Against Random - Episode 48500 ##########\n",
      "Timestep: 3892566 Average reward against random is 0.383\n",
      "EPISODE 48500 - Eval Opponent 999 over 1000 - Number of game played 244500 - 7 hours, 13 minutes and 24 seconds\n",
      "########## Evaluation Against Last Agent - Episode 48500 ##########\n",
      "Timestep: 3892566 Average reward against last agent is -2.281\n",
      "EPISODE 49000 - Eval Random 999 over 1000 - Number of game played 246000 - 7 hours, 16 minutes and 33 seconds\n",
      "########## Evaluation Against Random - Episode 49000 ##########\n",
      "Timestep: 3932443 Average reward against random is -0.067\n",
      "EPISODE 49000 - Eval Opponent 999 over 1000 - Number of game played 247000 - 7 hours, 17 minutes and 58 seconds\n",
      "########## Evaluation Against Last Agent - Episode 49000 ##########\n",
      "Timestep: 3932443 Average reward against last agent is 2.323\n"
     ]
    },
    {
     "name": "stderr",
     "output_type": "stream",
     "text": [
      "/opt/conda/lib/python3.7/site-packages/matplotlib/pyplot.py:1479: UserWarning: Attempting to set identical bottom==top results\n",
      "in singular transformations; automatically expanding.\n",
      "bottom=0, top=0\n",
      "  ret = ax.set_ylim(*args, **kwargs)\n"
     ]
    },
    {
     "name": "stdout",
     "output_type": "stream",
     "text": [
      "EPISODE 49500 - Eval Random 999 over 1000 - Number of game played 248500 - 7 hours, 21 minutes and 7 secondss\n",
      "########## Evaluation Against Random - Episode 49500 ##########\n",
      "Timestep: 3972289 Average reward against random is 0.905\n",
      "EPISODE 49500 - Eval Opponent 999 over 1000 - Number of game played 249500 - 7 hours, 22 minutes and 31 seconds\n",
      "########## Evaluation Against Last Agent - Episode 49500 ##########\n",
      "Timestep: 3972289 Average reward against last agent is 2.204\n"
     ]
    },
    {
     "name": "stderr",
     "output_type": "stream",
     "text": [
      "/opt/conda/lib/python3.7/site-packages/matplotlib/pyplot.py:1479: UserWarning: Attempting to set identical bottom==top results\n",
      "in singular transformations; automatically expanding.\n",
      "bottom=0, top=0\n",
      "  ret = ax.set_ylim(*args, **kwargs)\n"
     ]
    },
    {
     "name": "stdout",
     "output_type": "stream",
     "text": [
      "EPISODE 50000 - Eval Random 999 over 1000 - Number of game played 251000 - 7 hours, 25 minutes and 41 seconds\n",
      "########## Evaluation Against Random - Episode 50000 ##########\n",
      "Timestep: 4012230 Average reward against random is 0.455\n",
      "EPISODE 50000 - Eval Opponent 999 over 1000 - Number of game played 252000 - 7 hours, 27 minutes and 8 secondss\n",
      "########## Evaluation Against Last Agent - Episode 50000 ##########\n",
      "Timestep: 4012230 Average reward against last agent is -2.412\n",
      "EPISODE 50500 - Eval Random 999 over 1000 - Number of game played 253500 - 7 hours, 30 minutes and 21 seconds\n",
      "########## Evaluation Against Random - Episode 50500 ##########\n",
      "Timestep: 4052092 Average reward against random is -0.823\n",
      "EPISODE 50500 - Eval Opponent 999 over 1000 - Number of game played 254500 - 7 hours, 31 minutes and 46 seconds\n",
      "########## Evaluation Against Last Agent - Episode 50500 ##########\n",
      "Timestep: 4052092 Average reward against last agent is 2.348\n"
     ]
    },
    {
     "name": "stderr",
     "output_type": "stream",
     "text": [
      "/opt/conda/lib/python3.7/site-packages/matplotlib/pyplot.py:1479: UserWarning: Attempting to set identical bottom==top results\n",
      "in singular transformations; automatically expanding.\n",
      "bottom=0, top=0\n",
      "  ret = ax.set_ylim(*args, **kwargs)\n"
     ]
    },
    {
     "name": "stdout",
     "output_type": "stream",
     "text": [
      "EPISODE 51000 - Eval Random 999 over 1000 - Number of game played 256000 - 7 hours, 34 minutes and 54 seconds\n",
      "########## Evaluation Against Random - Episode 51000 ##########\n",
      "Timestep: 4091984 Average reward against random is -1.341\n",
      "EPISODE 51000 - Eval Opponent 999 over 1000 - Number of game played 257000 - 7 hours, 36 minutes and 17 seconds\n",
      "########## Evaluation Against Last Agent - Episode 51000 ##########\n",
      "Timestep: 4091984 Average reward against last agent is 2.637\n"
     ]
    },
    {
     "name": "stderr",
     "output_type": "stream",
     "text": [
      "/opt/conda/lib/python3.7/site-packages/matplotlib/pyplot.py:1479: UserWarning: Attempting to set identical bottom==top results\n",
      "in singular transformations; automatically expanding.\n",
      "bottom=0, top=0\n",
      "  ret = ax.set_ylim(*args, **kwargs)\n"
     ]
    },
    {
     "name": "stdout",
     "output_type": "stream",
     "text": [
      "EPISODE 51500 - Eval Random 999 over 1000 - Number of game played 258500 - 7 hours, 39 minutes and 25 seconds\n",
      "########## Evaluation Against Random - Episode 51500 ##########\n",
      "Timestep: 4131879 Average reward against random is 0.513\n",
      "EPISODE 51500 - Eval Opponent 999 over 1000 - Number of game played 259500 - 7 hours, 40 minutes and 49 seconds\n",
      "########## Evaluation Against Last Agent - Episode 51500 ##########\n",
      "Timestep: 4131879 Average reward against last agent is 2.311\n"
     ]
    },
    {
     "name": "stderr",
     "output_type": "stream",
     "text": [
      "/opt/conda/lib/python3.7/site-packages/matplotlib/pyplot.py:1479: UserWarning: Attempting to set identical bottom==top results\n",
      "in singular transformations; automatically expanding.\n",
      "bottom=0, top=0\n",
      "  ret = ax.set_ylim(*args, **kwargs)\n"
     ]
    },
    {
     "name": "stdout",
     "output_type": "stream",
     "text": [
      "EPISODE 52000 - Eval Random 999 over 1000 - Number of game played 261000 - 7 hours, 43 minutes and 55 seconds\n",
      "########## Evaluation Against Random - Episode 52000 ##########\n",
      "Timestep: 4171763 Average reward against random is -0.903\n",
      "EPISODE 52000 - Eval Opponent 999 over 1000 - Number of game played 262000 - 7 hours, 45 minutes and 21 seconds\n",
      "########## Evaluation Against Last Agent - Episode 52000 ##########\n",
      "Timestep: 4171763 Average reward against last agent is -4.142\n",
      "EPISODE 52500 - Eval Random 999 over 1000 - Number of game played 263500 - 7 hours, 48 minutes and 28 seconds\n",
      "########## Evaluation Against Random - Episode 52500 ##########\n",
      "Timestep: 4211617 Average reward against random is 0.304\n",
      "EPISODE 52500 - Eval Opponent 999 over 1000 - Number of game played 264500 - 7 hours, 49 minutes and 55 seconds\n",
      "########## Evaluation Against Last Agent - Episode 52500 ##########\n",
      "Timestep: 4211617 Average reward against last agent is -3.845\n",
      "EPISODE 53000 - Eval Random 999 over 1000 - Number of game played 266000 - 7 hours, 53 minutes and 4 secondss\n",
      "########## Evaluation Against Random - Episode 53000 ##########\n",
      "Timestep: 4251532 Average reward against random is 0.573\n",
      "EPISODE 53000 - Eval Opponent 999 over 1000 - Number of game played 267000 - 7 hours, 54 minutes and 28 seconds\n",
      "########## Evaluation Against Last Agent - Episode 53000 ##########\n",
      "Timestep: 4251532 Average reward against last agent is 2.388\n"
     ]
    },
    {
     "name": "stderr",
     "output_type": "stream",
     "text": [
      "/opt/conda/lib/python3.7/site-packages/matplotlib/pyplot.py:1479: UserWarning: Attempting to set identical bottom==top results\n",
      "in singular transformations; automatically expanding.\n",
      "bottom=0, top=0\n",
      "  ret = ax.set_ylim(*args, **kwargs)\n"
     ]
    },
    {
     "name": "stdout",
     "output_type": "stream",
     "text": [
      "EPISODE 53500 - Eval Random 999 over 1000 - Number of game played 268500 - 7 hours, 57 minutes and 36 seconds\n",
      "########## Evaluation Against Random - Episode 53500 ##########\n",
      "Timestep: 4291432 Average reward against random is 1.417\n",
      "EPISODE 53500 - Eval Opponent 999 over 1000 - Number of game played 269500 - 7 hours, 59 minutes and 0 secondds\n",
      "########## Evaluation Against Last Agent - Episode 53500 ##########\n",
      "Timestep: 4291432 Average reward against last agent is 2.703\n"
     ]
    },
    {
     "name": "stderr",
     "output_type": "stream",
     "text": [
      "/opt/conda/lib/python3.7/site-packages/matplotlib/pyplot.py:1479: UserWarning: Attempting to set identical bottom==top results\n",
      "in singular transformations; automatically expanding.\n",
      "bottom=0, top=0\n",
      "  ret = ax.set_ylim(*args, **kwargs)\n"
     ]
    },
    {
     "name": "stdout",
     "output_type": "stream",
     "text": [
      "EPISODE 54000 - Eval Random 999 over 1000 - Number of game played 271000 - 8 hours, 2 minutes and 12 seconds\n",
      "########## Evaluation Against Random - Episode 54000 ##########\n",
      "Timestep: 4331425 Average reward against random is 1.749\n",
      "EPISODE 54000 - Eval Opponent 999 over 1000 - Number of game played 272000 - 8 hours, 3 minutes and 36 seconds\n",
      "########## Evaluation Against Last Agent - Episode 54000 ##########\n",
      "Timestep: 4331425 Average reward against last agent is 2.523\n"
     ]
    },
    {
     "name": "stderr",
     "output_type": "stream",
     "text": [
      "/opt/conda/lib/python3.7/site-packages/matplotlib/pyplot.py:1479: UserWarning: Attempting to set identical bottom==top results\n",
      "in singular transformations; automatically expanding.\n",
      "bottom=0, top=0\n",
      "  ret = ax.set_ylim(*args, **kwargs)\n"
     ]
    },
    {
     "name": "stdout",
     "output_type": "stream",
     "text": [
      "EPISODE 54500 - Eval Random 999 over 1000 - Number of game played 273500 - 8 hours, 6 minutes and 47 seconds\n",
      "########## Evaluation Against Random - Episode 54500 ##########\n",
      "Timestep: 4371409 Average reward against random is 2.17\n",
      "EPISODE 54500 - Eval Opponent 999 over 1000 - Number of game played 274500 - 8 hours, 8 minutes and 11 seconds\n",
      "########## Evaluation Against Last Agent - Episode 54500 ##########\n",
      "Timestep: 4371409 Average reward against last agent is 2.611\n"
     ]
    },
    {
     "name": "stderr",
     "output_type": "stream",
     "text": [
      "/opt/conda/lib/python3.7/site-packages/matplotlib/pyplot.py:1479: UserWarning: Attempting to set identical bottom==top results\n",
      "in singular transformations; automatically expanding.\n",
      "bottom=0, top=0\n",
      "  ret = ax.set_ylim(*args, **kwargs)\n"
     ]
    },
    {
     "name": "stdout",
     "output_type": "stream",
     "text": [
      "EPISODE 55000 - Eval Random 999 over 1000 - Number of game played 276000 - 8 hours, 11 minutes and 24 seconds\n",
      "########## Evaluation Against Random - Episode 55000 ##########\n",
      "Timestep: 4411444 Average reward against random is 1.998\n",
      "EPISODE 55000 - Eval Opponent 999 over 1000 - Number of game played 277000 - 8 hours, 12 minutes and 52 seconds\n",
      "########## Evaluation Against Last Agent - Episode 55000 ##########\n",
      "Timestep: 4411444 Average reward against last agent is 0.619\n",
      "EPISODE 55500 - Eval Random 999 over 1000 - Number of game played 278500 - 8 hours, 16 minutes and 7 secondss\n",
      "########## Evaluation Against Random - Episode 55500 ##########\n",
      "Timestep: 4451472 Average reward against random is 1.768\n",
      "EPISODE 55500 - Eval Opponent 999 over 1000 - Number of game played 279500 - 8 hours, 17 minutes and 34 seconds\n",
      "########## Evaluation Against Last Agent - Episode 55500 ##########\n",
      "Timestep: 4451472 Average reward against last agent is 0.808\n",
      "EPISODE 56000 - Eval Random 999 over 1000 - Number of game played 281000 - 8 hours, 20 minutes and 47 seconds\n",
      "########## Evaluation Against Random - Episode 56000 ##########\n",
      "Timestep: 4491494 Average reward against random is 1.538\n",
      "EPISODE 56000 - Eval Opponent 999 over 1000 - Number of game played 282000 - 8 hours, 22 minutes and 11 seconds\n",
      "########## Evaluation Against Last Agent - Episode 56000 ##########\n",
      "Timestep: 4491494 Average reward against last agent is 2.642\n",
      "EPISODE 56500 - Eval Random 999 over 1000 - Number of game played 283500 - 8 hours, 25 minutes and 23 seconds\n",
      "########## Evaluation Against Random - Episode 56500 ##########\n",
      "Timestep: 4531515 Average reward against random is 1.318\n",
      "EPISODE 56500 - Eval Opponent 999 over 1000 - Number of game played 284500 - 8 hours, 26 minutes and 48 seconds\n",
      "########## Evaluation Against Last Agent - Episode 56500 ##########\n",
      "Timestep: 4531515 Average reward against last agent is 2.32\n"
     ]
    },
    {
     "name": "stderr",
     "output_type": "stream",
     "text": [
      "/opt/conda/lib/python3.7/site-packages/matplotlib/pyplot.py:1479: UserWarning: Attempting to set identical bottom==top results\n",
      "in singular transformations; automatically expanding.\n",
      "bottom=0, top=0\n",
      "  ret = ax.set_ylim(*args, **kwargs)\n"
     ]
    },
    {
     "name": "stdout",
     "output_type": "stream",
     "text": [
      "EPISODE 57000 - Eval Random 999 over 1000 - Number of game played 286000 - 8 hours, 30 minutes and 6 secondss\n",
      "########## Evaluation Against Random - Episode 57000 ##########\n",
      "Timestep: 4571551 Average reward against random is -0.324\n",
      "EPISODE 57000 - Eval Opponent 999 over 1000 - Number of game played 287000 - 8 hours, 31 minutes and 30 seconds\n",
      "########## Evaluation Against Last Agent - Episode 57000 ##########\n",
      "Timestep: 4571551 Average reward against last agent is 2.488\n"
     ]
    },
    {
     "name": "stderr",
     "output_type": "stream",
     "text": [
      "/opt/conda/lib/python3.7/site-packages/matplotlib/pyplot.py:1479: UserWarning: Attempting to set identical bottom==top results\n",
      "in singular transformations; automatically expanding.\n",
      "bottom=0, top=0\n",
      "  ret = ax.set_ylim(*args, **kwargs)\n"
     ]
    },
    {
     "name": "stdout",
     "output_type": "stream",
     "text": [
      "EPISODE 57500 - Eval Random 999 over 1000 - Number of game played 288500 - 8 hours, 34 minutes and 45 seconds\n",
      "########## Evaluation Against Random - Episode 57500 ##########\n",
      "Timestep: 4611643 Average reward against random is 2.02\n",
      "EPISODE 57500 - Eval Opponent 999 over 1000 - Number of game played 289500 - 8 hours, 36 minutes and 17 seconds\n",
      "########## Evaluation Against Last Agent - Episode 57500 ##########\n",
      "Timestep: 4611643 Average reward against last agent is 0.213\n",
      "EPISODE 58000 - Eval Random 999 over 1000 - Number of game played 291000 - 8 hours, 39 minutes and 34 seconds\n",
      "########## Evaluation Against Random - Episode 58000 ##########\n",
      "Timestep: 4651801 Average reward against random is 0.991\n",
      "EPISODE 58000 - Eval Opponent 999 over 1000 - Number of game played 292000 - 8 hours, 41 minutes and 1 secondds\n",
      "########## Evaluation Against Last Agent - Episode 58000 ##########\n",
      "Timestep: 4651801 Average reward against last agent is -1.402\n",
      "EPISODE 58500 - Eval Random 999 over 1000 - Number of game played 293500 - 8 hours, 44 minutes and 15 seconds\n",
      "########## Evaluation Against Random - Episode 58500 ##########\n",
      "Timestep: 4691843 Average reward against random is 0.69\n",
      "EPISODE 58500 - Eval Opponent 999 over 1000 - Number of game played 294500 - 8 hours, 45 minutes and 41 seconds\n",
      "########## Evaluation Against Last Agent - Episode 58500 ##########\n",
      "Timestep: 4691843 Average reward against last agent is -1.43\n",
      "EPISODE 59000 - Eval Random 999 over 1000 - Number of game played 296000 - 8 hours, 48 minutes and 58 seconds\n",
      "########## Evaluation Against Random - Episode 59000 ##########\n",
      "Timestep: 4731833 Average reward against random is -0.925\n",
      "EPISODE 59000 - Eval Opponent 999 over 1000 - Number of game played 297000 - 8 hours, 50 minutes and 22 seconds\n",
      "########## Evaluation Against Last Agent - Episode 59000 ##########\n",
      "Timestep: 4731833 Average reward against last agent is 2.398\n"
     ]
    },
    {
     "name": "stderr",
     "output_type": "stream",
     "text": [
      "/opt/conda/lib/python3.7/site-packages/matplotlib/pyplot.py:1479: UserWarning: Attempting to set identical bottom==top results\n",
      "in singular transformations; automatically expanding.\n",
      "bottom=0, top=0\n",
      "  ret = ax.set_ylim(*args, **kwargs)\n"
     ]
    },
    {
     "name": "stdout",
     "output_type": "stream",
     "text": [
      "EPISODE 59500 - Eval Random 999 over 1000 - Number of game played 298500 - 8 hours, 53 minutes and 37 seconds\n",
      "########## Evaluation Against Random - Episode 59500 ##########\n",
      "Timestep: 4771677 Average reward against random is -1.11\n",
      "EPISODE 59500 - Eval Opponent 999 over 1000 - Number of game played 299500 - 8 hours, 55 minutes and 1 secondds\n",
      "########## Evaluation Against Last Agent - Episode 59500 ##########\n",
      "Timestep: 4771677 Average reward against last agent is 2.056\n",
      "EPISODE 60000 - Eval Random 999 over 1000 - Number of game played 301000 - 8 hours, 58 minutes and 16 seconds\n",
      "########## Evaluation Against Random - Episode 60000 ##########\n",
      "Timestep: 4811529 Average reward against random is -1.645\n",
      "EPISODE 60000 - Eval Opponent 999 over 1000 - Number of game played 302000 - 8 hours, 59 minutes and 41 seconds\n",
      "########## Evaluation Against Last Agent - Episode 60000 ##########\n",
      "Timestep: 4811529 Average reward against last agent is 2.45\n"
     ]
    },
    {
     "name": "stderr",
     "output_type": "stream",
     "text": [
      "/opt/conda/lib/python3.7/site-packages/matplotlib/pyplot.py:1479: UserWarning: Attempting to set identical bottom==top results\n",
      "in singular transformations; automatically expanding.\n",
      "bottom=0, top=0\n",
      "  ret = ax.set_ylim(*args, **kwargs)\n"
     ]
    },
    {
     "name": "stdout",
     "output_type": "stream",
     "text": [
      "EPISODE 60500 - Eval Random 999 over 1000 - Number of game played 303500 - 9 hours, 2 minutes and 55 seconds\n",
      "########## Evaluation Against Random - Episode 60500 ##########\n",
      "Timestep: 4851281 Average reward against random is -2.076\n",
      "EPISODE 60500 - Eval Opponent 999 over 1000 - Number of game played 304500 - 9 hours, 4 minutes and 20 seconds\n",
      "########## Evaluation Against Last Agent - Episode 60500 ##########\n",
      "Timestep: 4851281 Average reward against last agent is -6.696\n",
      "EPISODE 61000 - Eval Random 999 over 1000 - Number of game played 306000 - 9 hours, 7 minutes and 36 seconds\n",
      "########## Evaluation Against Random - Episode 61000 ##########\n",
      "Timestep: 4891044 Average reward against random is -1.296\n",
      "EPISODE 61000 - Eval Opponent 999 over 1000 - Number of game played 307000 - 9 hours, 9 minutes and 2 secondss\n",
      "########## Evaluation Against Last Agent - Episode 61000 ##########\n",
      "Timestep: 4891044 Average reward against last agent is -5.742\n",
      "EPISODE 61500 - Eval Random 999 over 1000 - Number of game played 308500 - 9 hours, 12 minutes and 20 seconds\n",
      "########## Evaluation Against Random - Episode 61500 ##########\n",
      "Timestep: 4930857 Average reward against random is -0.699\n",
      "EPISODE 61500 - Eval Opponent 999 over 1000 - Number of game played 309500 - 9 hours, 13 minutes and 47 seconds\n",
      "########## Evaluation Against Last Agent - Episode 61500 ##########\n",
      "Timestep: 4930857 Average reward against last agent is -4.573\n",
      "EPISODE 62000 - Eval Random 999 over 1000 - Number of game played 311000 - 9 hours, 17 minutes and 3 secondss\n",
      "########## Evaluation Against Random - Episode 62000 ##########\n",
      "Timestep: 4970750 Average reward against random is 0.444\n",
      "EPISODE 62000 - Eval Opponent 999 over 1000 - Number of game played 312000 - 9 hours, 18 minutes and 28 seconds\n",
      "########## Evaluation Against Last Agent - Episode 62000 ##########\n",
      "Timestep: 4970750 Average reward against last agent is 2.463\n"
     ]
    },
    {
     "name": "stderr",
     "output_type": "stream",
     "text": [
      "/opt/conda/lib/python3.7/site-packages/matplotlib/pyplot.py:1479: UserWarning: Attempting to set identical bottom==top results\n",
      "in singular transformations; automatically expanding.\n",
      "bottom=0, top=0\n",
      "  ret = ax.set_ylim(*args, **kwargs)\n"
     ]
    },
    {
     "name": "stdout",
     "output_type": "stream",
     "text": [
      "EPISODE 62500 - Eval Random 999 over 1000 - Number of game played 313500 - 9 hours, 21 minutes and 45 seconds\n",
      "########## Evaluation Against Random - Episode 62500 ##########\n",
      "Timestep: 5010699 Average reward against random is 1.19\n",
      "EPISODE 62500 - Eval Opponent 999 over 1000 - Number of game played 314500 - 9 hours, 23 minutes and 10 seconds\n",
      "########## Evaluation Against Last Agent - Episode 62500 ##########\n",
      "Timestep: 5010699 Average reward against last agent is 2.775\n"
     ]
    },
    {
     "name": "stderr",
     "output_type": "stream",
     "text": [
      "/opt/conda/lib/python3.7/site-packages/matplotlib/pyplot.py:1479: UserWarning: Attempting to set identical bottom==top results\n",
      "in singular transformations; automatically expanding.\n",
      "bottom=0, top=0\n",
      "  ret = ax.set_ylim(*args, **kwargs)\n"
     ]
    },
    {
     "name": "stdout",
     "output_type": "stream",
     "text": [
      "EPISODE 63000 - Eval Random 999 over 1000 - Number of game played 316000 - 9 hours, 26 minutes and 28 seconds\n",
      "########## Evaluation Against Random - Episode 63000 ##########\n",
      "Timestep: 5050660 Average reward against random is 2.044\n",
      "EPISODE 63000 - Eval Opponent 999 over 1000 - Number of game played 317000 - 9 hours, 27 minutes and 56 seconds\n",
      "########## Evaluation Against Last Agent - Episode 63000 ##########\n",
      "Timestep: 5050660 Average reward against last agent is 0.535\n",
      "EPISODE 63500 - Eval Random 999 over 1000 - Number of game played 318500 - 9 hours, 31 minutes and 14 seconds\n",
      "########## Evaluation Against Random - Episode 63500 ##########\n",
      "Timestep: 5090658 Average reward against random is 0.998\n",
      "EPISODE 63500 - Eval Opponent 999 over 1000 - Number of game played 319500 - 9 hours, 32 minutes and 40 seconds\n",
      "########## Evaluation Against Last Agent - Episode 63500 ##########\n",
      "Timestep: 5090658 Average reward against last agent is -0.795\n",
      "EPISODE 64000 - Eval Random 999 over 1000 - Number of game played 321000 - 9 hours, 36 minutes and 3 secondss\n",
      "########## Evaluation Against Random - Episode 64000 ##########\n",
      "Timestep: 5130650 Average reward against random is 0.833\n",
      "EPISODE 64000 - Eval Opponent 999 over 1000 - Number of game played 322000 - 9 hours, 37 minutes and 28 seconds\n",
      "########## Evaluation Against Last Agent - Episode 64000 ##########\n",
      "Timestep: 5130650 Average reward against last agent is 2.478\n"
     ]
    },
    {
     "name": "stderr",
     "output_type": "stream",
     "text": [
      "/opt/conda/lib/python3.7/site-packages/matplotlib/pyplot.py:1479: UserWarning: Attempting to set identical bottom==top results\n",
      "in singular transformations; automatically expanding.\n",
      "bottom=0, top=0\n",
      "  ret = ax.set_ylim(*args, **kwargs)\n"
     ]
    },
    {
     "name": "stdout",
     "output_type": "stream",
     "text": [
      "EPISODE 64500 - Eval Random 999 over 1000 - Number of game played 323500 - 9 hours, 40 minutes and 48 seconds\n",
      "########## Evaluation Against Random - Episode 64500 ##########\n",
      "Timestep: 5170698 Average reward against random is 2.017\n",
      "EPISODE 64500 - Eval Opponent 999 over 1000 - Number of game played 324500 - 9 hours, 42 minutes and 17 seconds\n",
      "########## Evaluation Against Last Agent - Episode 64500 ##########\n",
      "Timestep: 5170698 Average reward against last agent is 1.116\n",
      "EPISODE 65000 - Eval Random 999 over 1000 - Number of game played 326000 - 9 hours, 45 minutes and 41 seconds\n",
      "########## Evaluation Against Random - Episode 65000 ##########\n",
      "Timestep: 5210772 Average reward against random is 1.05\n",
      "EPISODE 65000 - Eval Opponent 999 over 1000 - Number of game played 327000 - 9 hours, 47 minutes and 7 secondss\n",
      "########## Evaluation Against Last Agent - Episode 65000 ##########\n",
      "Timestep: 5210772 Average reward against last agent is 0.114\n",
      "EPISODE 65500 - Eval Random 999 over 1000 - Number of game played 328500 - 9 hours, 50 minutes and 33 seconds\n",
      "########## Evaluation Against Random - Episode 65500 ##########\n",
      "Timestep: 5250806 Average reward against random is 1.33\n",
      "EPISODE 65500 - Eval Opponent 999 over 1000 - Number of game played 329500 - 9 hours, 51 minutes and 58 seconds\n",
      "########## Evaluation Against Last Agent - Episode 65500 ##########\n",
      "Timestep: 5250806 Average reward against last agent is 2.671\n"
     ]
    },
    {
     "name": "stderr",
     "output_type": "stream",
     "text": [
      "/opt/conda/lib/python3.7/site-packages/matplotlib/pyplot.py:1479: UserWarning: Attempting to set identical bottom==top results\n",
      "in singular transformations; automatically expanding.\n",
      "bottom=0, top=0\n",
      "  ret = ax.set_ylim(*args, **kwargs)\n"
     ]
    },
    {
     "name": "stdout",
     "output_type": "stream",
     "text": [
      "EPISODE 66000 - Eval Random 999 over 1000 - Number of game played 331000 - 9 hours, 55 minutes and 22 seconds\n",
      "########## Evaluation Against Random - Episode 66000 ##########\n",
      "Timestep: 5290985 Average reward against random is 2.238\n",
      "EPISODE 66000 - Eval Opponent 999 over 1000 - Number of game played 332000 - 9 hours, 56 minutes and 50 seconds\n",
      "########## Evaluation Against Last Agent - Episode 66000 ##########\n",
      "Timestep: 5290985 Average reward against last agent is 1.54\n",
      "EPISODE 66500 - Eval Random 999 over 1000 - Number of game played 333500 - 10 hours, 0 minute and 18 secondss\n",
      "########## Evaluation Against Random - Episode 66500 ##########\n",
      "Timestep: 5331179 Average reward against random is 2.016\n",
      "EPISODE 66500 - Eval Opponent 999 over 1000 - Number of game played 334500 - 10 hours, 1 minute and 47 seconds\n",
      "########## Evaluation Against Last Agent - Episode 66500 ##########\n",
      "Timestep: 5331179 Average reward against last agent is 1.265\n",
      "EPISODE 67000 - Eval Random 999 over 1000 - Number of game played 336000 - 10 hours, 5 minutes and 13 seconds\n",
      "########## Evaluation Against Random - Episode 67000 ##########\n",
      "Timestep: 5371349 Average reward against random is 0.897\n",
      "EPISODE 67000 - Eval Opponent 999 over 1000 - Number of game played 337000 - 10 hours, 6 minutes and 38 seconds\n",
      "########## Evaluation Against Last Agent - Episode 67000 ##########\n",
      "Timestep: 5371349 Average reward against last agent is 2.338\n"
     ]
    },
    {
     "name": "stderr",
     "output_type": "stream",
     "text": [
      "/opt/conda/lib/python3.7/site-packages/matplotlib/pyplot.py:1479: UserWarning: Attempting to set identical bottom==top results\n",
      "in singular transformations; automatically expanding.\n",
      "bottom=0, top=0\n",
      "  ret = ax.set_ylim(*args, **kwargs)\n"
     ]
    },
    {
     "name": "stdout",
     "output_type": "stream",
     "text": [
      "EPISODE 67500 - Eval Random 999 over 1000 - Number of game played 338500 - 10 hours, 10 minutes and 1 seconds\n",
      "########## Evaluation Against Random - Episode 67500 ##########\n",
      "Timestep: 5411279 Average reward against random is 0.053\n",
      "EPISODE 67500 - Eval Opponent 999 over 1000 - Number of game played 339500 - 10 hours, 11 minutes and 27 seconds\n",
      "########## Evaluation Against Last Agent - Episode 67500 ##########\n",
      "Timestep: 5411279 Average reward against last agent is -2.56\n",
      "EPISODE 68000 - Eval Random 999 over 1000 - Number of game played 341000 - 10 hours, 14 minutes and 55 seconds\n",
      "########## Evaluation Against Random - Episode 68000 ##########\n",
      "Timestep: 5451146 Average reward against random is 0.064\n",
      "EPISODE 68000 - Eval Opponent 999 over 1000 - Number of game played 342000 - 10 hours, 16 minutes and 19 seconds\n",
      "########## Evaluation Against Last Agent - Episode 68000 ##########\n",
      "Timestep: 5451146 Average reward against last agent is 2.727\n"
     ]
    },
    {
     "name": "stderr",
     "output_type": "stream",
     "text": [
      "/opt/conda/lib/python3.7/site-packages/matplotlib/pyplot.py:1479: UserWarning: Attempting to set identical bottom==top results\n",
      "in singular transformations; automatically expanding.\n",
      "bottom=0, top=0\n",
      "  ret = ax.set_ylim(*args, **kwargs)\n"
     ]
    },
    {
     "name": "stdout",
     "output_type": "stream",
     "text": [
      "EPISODE 68500 - Eval Random 999 over 1000 - Number of game played 343500 - 10 hours, 19 minutes and 43 seconds\n",
      "########## Evaluation Against Random - Episode 68500 ##########\n",
      "Timestep: 5491066 Average reward against random is 0.719\n",
      "EPISODE 68500 - Eval Opponent 999 over 1000 - Number of game played 344500 - 10 hours, 21 minutes and 10 seconds\n",
      "########## Evaluation Against Last Agent - Episode 68500 ##########\n",
      "Timestep: 5491066 Average reward against last agent is -1.451\n",
      "EPISODE 69000 - Eval Random 999 over 1000 - Number of game played 346000 - 10 hours, 24 minutes and 31 seconds\n",
      "########## Evaluation Against Random - Episode 69000 ##########\n",
      "Timestep: 5531003 Average reward against random is -0.11\n",
      "EPISODE 69000 - Eval Opponent 999 over 1000 - Number of game played 347000 - 10 hours, 25 minutes and 55 seconds\n",
      "########## Evaluation Against Last Agent - Episode 69000 ##########\n",
      "Timestep: 5531003 Average reward against last agent is 2.466\n"
     ]
    },
    {
     "name": "stderr",
     "output_type": "stream",
     "text": [
      "/opt/conda/lib/python3.7/site-packages/matplotlib/pyplot.py:1479: UserWarning: Attempting to set identical bottom==top results\n",
      "in singular transformations; automatically expanding.\n",
      "bottom=0, top=0\n",
      "  ret = ax.set_ylim(*args, **kwargs)\n"
     ]
    },
    {
     "name": "stdout",
     "output_type": "stream",
     "text": [
      "EPISODE 69500 - Eval Random 999 over 1000 - Number of game played 348500 - 10 hours, 29 minutes and 11 seconds\n",
      "########## Evaluation Against Random - Episode 69500 ##########\n",
      "Timestep: 5570928 Average reward against random is 0.68\n",
      "EPISODE 69500 - Eval Opponent 999 over 1000 - Number of game played 349500 - 10 hours, 30 minutes and 37 seconds\n",
      "########## Evaluation Against Last Agent - Episode 69500 ##########\n",
      "Timestep: 5570928 Average reward against last agent is -1.916\n",
      "EPISODE 70000 - Eval Random 999 over 1000 - Number of game played 351000 - 10 hours, 33 minutes and 55 seconds\n",
      "########## Evaluation Against Random - Episode 70000 ##########\n",
      "Timestep: 5610869 Average reward against random is 1.801\n",
      "EPISODE 70000 - Eval Opponent 999 over 1000 - Number of game played 352000 - 10 hours, 35 minutes and 21 seconds\n",
      "########## Evaluation Against Last Agent - Episode 70000 ##########\n",
      "Timestep: 5610869 Average reward against last agent is 0.751\n",
      "EPISODE 70500 - Eval Random 999 over 1000 - Number of game played 353500 - 10 hours, 38 minutes and 43 seconds\n",
      "########## Evaluation Against Random - Episode 70500 ##########\n",
      "Timestep: 5650880 Average reward against random is 1.855\n",
      "EPISODE 70500 - Eval Opponent 999 over 1000 - Number of game played 354500 - 10 hours, 40 minutes and 6 secondss\n",
      "########## Evaluation Against Last Agent - Episode 70500 ##########\n",
      "Timestep: 5650880 Average reward against last agent is 2.462\n"
     ]
    },
    {
     "name": "stderr",
     "output_type": "stream",
     "text": [
      "/opt/conda/lib/python3.7/site-packages/matplotlib/pyplot.py:1479: UserWarning: Attempting to set identical bottom==top results\n",
      "in singular transformations; automatically expanding.\n",
      "bottom=0, top=0\n",
      "  ret = ax.set_ylim(*args, **kwargs)\n"
     ]
    },
    {
     "name": "stdout",
     "output_type": "stream",
     "text": [
      "EPISODE 71000 - Eval Random 999 over 1000 - Number of game played 356000 - 10 hours, 43 minutes and 26 seconds\n",
      "########## Evaluation Against Random - Episode 71000 ##########\n",
      "Timestep: 5690984 Average reward against random is 2.212\n",
      "EPISODE 71000 - Eval Opponent 999 over 1000 - Number of game played 357000 - 10 hours, 44 minutes and 50 seconds\n",
      "########## Evaluation Against Last Agent - Episode 71000 ##########\n",
      "Timestep: 5690984 Average reward against last agent is 2.587\n"
     ]
    },
    {
     "name": "stderr",
     "output_type": "stream",
     "text": [
      "/opt/conda/lib/python3.7/site-packages/matplotlib/pyplot.py:1479: UserWarning: Attempting to set identical bottom==top results\n",
      "in singular transformations; automatically expanding.\n",
      "bottom=0, top=0\n",
      "  ret = ax.set_ylim(*args, **kwargs)\n"
     ]
    },
    {
     "name": "stdout",
     "output_type": "stream",
     "text": [
      "EPISODE 71500 - Eval Random 999 over 1000 - Number of game played 358500 - 10 hours, 48 minutes and 11 seconds\n",
      "########## Evaluation Against Random - Episode 71500 ##########\n",
      "Timestep: 5731058 Average reward against random is 2.051\n",
      "EPISODE 71500 - Eval Opponent 999 over 1000 - Number of game played 359500 - 10 hours, 49 minutes and 35 seconds\n",
      "########## Evaluation Against Last Agent - Episode 71500 ##########\n",
      "Timestep: 5731058 Average reward against last agent is 2.505\n"
     ]
    },
    {
     "name": "stderr",
     "output_type": "stream",
     "text": [
      "/opt/conda/lib/python3.7/site-packages/matplotlib/pyplot.py:1479: UserWarning: Attempting to set identical bottom==top results\n",
      "in singular transformations; automatically expanding.\n",
      "bottom=0, top=0\n",
      "  ret = ax.set_ylim(*args, **kwargs)\n"
     ]
    },
    {
     "name": "stdout",
     "output_type": "stream",
     "text": [
      "EPISODE 72000 - Eval Random 999 over 1000 - Number of game played 361000 - 10 hours, 53 minutes and 1 secondds\n",
      "########## Evaluation Against Random - Episode 72000 ##########\n",
      "Timestep: 5771078 Average reward against random is 1.479\n",
      "EPISODE 72000 - Eval Opponent 999 over 1000 - Number of game played 362000 - 10 hours, 54 minutes and 25 seconds\n",
      "########## Evaluation Against Last Agent - Episode 72000 ##########\n",
      "Timestep: 5771078 Average reward against last agent is 2.252\n"
     ]
    },
    {
     "name": "stderr",
     "output_type": "stream",
     "text": [
      "/opt/conda/lib/python3.7/site-packages/matplotlib/pyplot.py:1479: UserWarning: Attempting to set identical bottom==top results\n",
      "in singular transformations; automatically expanding.\n",
      "bottom=0, top=0\n",
      "  ret = ax.set_ylim(*args, **kwargs)\n"
     ]
    },
    {
     "name": "stdout",
     "output_type": "stream",
     "text": [
      "EPISODE 72500 - Eval Random 999 over 1000 - Number of game played 363500 - 10 hours, 57 minutes and 47 seconds\n",
      "########## Evaluation Against Random - Episode 72500 ##########\n",
      "Timestep: 5811088 Average reward against random is 1.656\n",
      "EPISODE 72500 - Eval Opponent 999 over 1000 - Number of game played 364500 - 10 hours, 59 minutes and 14 seconds\n",
      "########## Evaluation Against Last Agent - Episode 72500 ##########\n",
      "Timestep: 5811088 Average reward against last agent is 0.019\n",
      "EPISODE 73000 - Eval Random 999 over 1000 - Number of game played 366000 - 11 hours, 2 minutes and 39 seconds\n",
      "########## Evaluation Against Random - Episode 73000 ##########\n",
      "Timestep: 5851042 Average reward against random is 0.99\n",
      "EPISODE 73000 - Eval Opponent 999 over 1000 - Number of game played 367000 - 11 hours, 4 minutes and 5 secondss\n",
      "########## Evaluation Against Last Agent - Episode 73000 ##########\n",
      "Timestep: 5851042 Average reward against last agent is -0.946\n",
      "EPISODE 73500 - Eval Random 999 over 1000 - Number of game played 368500 - 11 hours, 7 minutes and 33 seconds\n",
      "########## Evaluation Against Random - Episode 73500 ##########\n",
      "Timestep: 5891032 Average reward against random is 0.219\n",
      "EPISODE 73500 - Eval Opponent 999 over 1000 - Number of game played 369500 - 11 hours, 8 minutes and 57 seconds\n",
      "########## Evaluation Against Last Agent - Episode 73500 ##########\n",
      "Timestep: 5891032 Average reward against last agent is 2.567\n"
     ]
    },
    {
     "name": "stderr",
     "output_type": "stream",
     "text": [
      "/opt/conda/lib/python3.7/site-packages/matplotlib/pyplot.py:1479: UserWarning: Attempting to set identical bottom==top results\n",
      "in singular transformations; automatically expanding.\n",
      "bottom=0, top=0\n",
      "  ret = ax.set_ylim(*args, **kwargs)\n"
     ]
    },
    {
     "name": "stdout",
     "output_type": "stream",
     "text": [
      "EPISODE 74000 - Eval Random 999 over 1000 - Number of game played 371000 - 11 hours, 12 minutes and 22 seconds\n",
      "########## Evaluation Against Random - Episode 74000 ##########\n",
      "Timestep: 5930984 Average reward against random is 0.734\n",
      "EPISODE 74000 - Eval Opponent 999 over 1000 - Number of game played 372000 - 11 hours, 13 minutes and 48 seconds\n",
      "########## Evaluation Against Last Agent - Episode 74000 ##########\n",
      "Timestep: 5930984 Average reward against last agent is -0.687\n",
      "EPISODE 74500 - Eval Random 999 over 1000 - Number of game played 373500 - 11 hours, 17 minutes and 13 seconds\n",
      "########## Evaluation Against Random - Episode 74500 ##########\n",
      "Timestep: 5970933 Average reward against random is 0.507\n",
      "EPISODE 74500 - Eval Opponent 999 over 1000 - Number of game played 374500 - 11 hours, 18 minutes and 37 seconds\n",
      "########## Evaluation Against Last Agent - Episode 74500 ##########\n",
      "Timestep: 5970933 Average reward against last agent is 2.505\n"
     ]
    },
    {
     "name": "stderr",
     "output_type": "stream",
     "text": [
      "/opt/conda/lib/python3.7/site-packages/matplotlib/pyplot.py:1479: UserWarning: Attempting to set identical bottom==top results\n",
      "in singular transformations; automatically expanding.\n",
      "bottom=0, top=0\n",
      "  ret = ax.set_ylim(*args, **kwargs)\n"
     ]
    },
    {
     "name": "stdout",
     "output_type": "stream",
     "text": [
      "EPISODE 75000 - Eval Random 999 over 1000 - Number of game played 376000 - 11 hours, 22 minutes and 3 secondss\n",
      "########## Evaluation Against Random - Episode 75000 ##########\n",
      "Timestep: 6010862 Average reward against random is -0.309\n",
      "EPISODE 75000 - Eval Opponent 999 over 1000 - Number of game played 377000 - 11 hours, 23 minutes and 29 seconds\n",
      "########## Evaluation Against Last Agent - Episode 75000 ##########\n",
      "Timestep: 6010862 Average reward against last agent is -3.175\n",
      "EPISODE 75500 - Eval Random 999 over 1000 - Number of game played 378500 - 11 hours, 27 minutes and 1 secondds\n",
      "########## Evaluation Against Random - Episode 75500 ##########\n",
      "Timestep: 6050827 Average reward against random is -0.494\n",
      "EPISODE 75500 - Eval Opponent 999 over 1000 - Number of game played 379500 - 11 hours, 28 minutes and 25 seconds\n",
      "########## Evaluation Against Last Agent - Episode 75500 ##########\n",
      "Timestep: 6050827 Average reward against last agent is 2.445\n"
     ]
    },
    {
     "name": "stderr",
     "output_type": "stream",
     "text": [
      "/opt/conda/lib/python3.7/site-packages/matplotlib/pyplot.py:1479: UserWarning: Attempting to set identical bottom==top results\n",
      "in singular transformations; automatically expanding.\n",
      "bottom=0, top=0\n",
      "  ret = ax.set_ylim(*args, **kwargs)\n"
     ]
    },
    {
     "name": "stdout",
     "output_type": "stream",
     "text": [
      "EPISODE 76000 - Eval Random 999 over 1000 - Number of game played 381000 - 11 hours, 31 minutes and 53 seconds\n",
      "########## Evaluation Against Random - Episode 76000 ##########\n",
      "Timestep: 6090843 Average reward against random is 0.219\n",
      "EPISODE 76000 - Eval Opponent 999 over 1000 - Number of game played 382000 - 11 hours, 33 minutes and 19 seconds\n",
      "########## Evaluation Against Last Agent - Episode 76000 ##########\n",
      "Timestep: 6090843 Average reward against last agent is -2.568\n",
      "EPISODE 76500 - Eval Random 999 over 1000 - Number of game played 383500 - 11 hours, 36 minutes and 48 seconds\n",
      "########## Evaluation Against Random - Episode 76500 ##########\n",
      "Timestep: 6130800 Average reward against random is 0.128\n",
      "EPISODE 76500 - Eval Opponent 999 over 1000 - Number of game played 384500 - 11 hours, 38 minutes and 13 seconds\n",
      "########## Evaluation Against Last Agent - Episode 76500 ##########\n",
      "Timestep: 6130800 Average reward against last agent is 2.517\n"
     ]
    },
    {
     "name": "stderr",
     "output_type": "stream",
     "text": [
      "/opt/conda/lib/python3.7/site-packages/matplotlib/pyplot.py:1479: UserWarning: Attempting to set identical bottom==top results\n",
      "in singular transformations; automatically expanding.\n",
      "bottom=0, top=0\n",
      "  ret = ax.set_ylim(*args, **kwargs)\n"
     ]
    },
    {
     "name": "stdout",
     "output_type": "stream",
     "text": [
      "EPISODE 77000 - Eval Random 999 over 1000 - Number of game played 386000 - 11 hours, 41 minutes and 45 seconds\n",
      "########## Evaluation Against Random - Episode 77000 ##########\n",
      "Timestep: 6170744 Average reward against random is 0.18\n",
      "EPISODE 77000 - Eval Opponent 999 over 1000 - Number of game played 387000 - 11 hours, 43 minutes and 9 secondss\n",
      "########## Evaluation Against Last Agent - Episode 77000 ##########\n",
      "Timestep: 6170744 Average reward against last agent is 2.499\n"
     ]
    },
    {
     "name": "stderr",
     "output_type": "stream",
     "text": [
      "/opt/conda/lib/python3.7/site-packages/matplotlib/pyplot.py:1479: UserWarning: Attempting to set identical bottom==top results\n",
      "in singular transformations; automatically expanding.\n",
      "bottom=0, top=0\n",
      "  ret = ax.set_ylim(*args, **kwargs)\n"
     ]
    },
    {
     "name": "stdout",
     "output_type": "stream",
     "text": [
      "EPISODE 77500 - Eval Random 999 over 1000 - Number of game played 388500 - 11 hours, 46 minutes and 46 seconds\n",
      "########## Evaluation Against Random - Episode 77500 ##########\n",
      "Timestep: 6210739 Average reward against random is 0.776\n",
      "EPISODE 77500 - Eval Opponent 999 over 1000 - Number of game played 389500 - 11 hours, 48 minutes and 10 seconds\n",
      "########## Evaluation Against Last Agent - Episode 77500 ##########\n",
      "Timestep: 6210739 Average reward against last agent is 2.38\n"
     ]
    },
    {
     "name": "stderr",
     "output_type": "stream",
     "text": [
      "/opt/conda/lib/python3.7/site-packages/matplotlib/pyplot.py:1479: UserWarning: Attempting to set identical bottom==top results\n",
      "in singular transformations; automatically expanding.\n",
      "bottom=0, top=0\n",
      "  ret = ax.set_ylim(*args, **kwargs)\n"
     ]
    },
    {
     "name": "stdout",
     "output_type": "stream",
     "text": [
      "EPISODE 78000 - Eval Random 999 over 1000 - Number of game played 391000 - 11 hours, 51 minutes and 43 seconds\n",
      "########## Evaluation Against Random - Episode 78000 ##########\n",
      "Timestep: 6250702 Average reward against random is 1.039\n",
      "EPISODE 78000 - Eval Opponent 999 over 1000 - Number of game played 392000 - 11 hours, 53 minutes and 7 secondss\n",
      "########## Evaluation Against Last Agent - Episode 78000 ##########\n",
      "Timestep: 6250702 Average reward against last agent is 2.349\n"
     ]
    },
    {
     "name": "stderr",
     "output_type": "stream",
     "text": [
      "/opt/conda/lib/python3.7/site-packages/matplotlib/pyplot.py:1479: UserWarning: Attempting to set identical bottom==top results\n",
      "in singular transformations; automatically expanding.\n",
      "bottom=0, top=0\n",
      "  ret = ax.set_ylim(*args, **kwargs)\n"
     ]
    },
    {
     "name": "stdout",
     "output_type": "stream",
     "text": [
      "EPISODE 78500 - Eval Random 999 over 1000 - Number of game played 393500 - 11 hours, 56 minutes and 39 seconds\n",
      "########## Evaluation Against Random - Episode 78500 ##########\n",
      "Timestep: 6290665 Average reward against random is 1.354\n",
      "EPISODE 78500 - Eval Opponent 999 over 1000 - Number of game played 394500 - 11 hours, 58 minutes and 3 secondss\n",
      "########## Evaluation Against Last Agent - Episode 78500 ##########\n",
      "Timestep: 6290665 Average reward against last agent is 2.281\n"
     ]
    },
    {
     "name": "stderr",
     "output_type": "stream",
     "text": [
      "/opt/conda/lib/python3.7/site-packages/matplotlib/pyplot.py:1479: UserWarning: Attempting to set identical bottom==top results\n",
      "in singular transformations; automatically expanding.\n",
      "bottom=0, top=0\n",
      "  ret = ax.set_ylim(*args, **kwargs)\n"
     ]
    },
    {
     "name": "stdout",
     "output_type": "stream",
     "text": [
      "EPISODE 79000 - Eval Random 999 over 1000 - Number of game played 396000 - 12 hours, 1 minute and 37 seconds\n",
      "########## Evaluation Against Random - Episode 79000 ##########\n",
      "Timestep: 6330615 Average reward against random is 1.57\n",
      "EPISODE 79000 - Eval Opponent 999 over 1000 - Number of game played 397000 - 12 hours, 3 minutes and 8 secondss\n",
      "########## Evaluation Against Last Agent - Episode 79000 ##########\n",
      "Timestep: 6330615 Average reward against last agent is -0.988\n",
      "EPISODE 79500 - Eval Random 999 over 1000 - Number of game played 398500 - 12 hours, 6 minutes and 48 seconds\n",
      "########## Evaluation Against Random - Episode 79500 ##########\n",
      "Timestep: 6370638 Average reward against random is 1.692\n",
      "EPISODE 79500 - Eval Opponent 999 over 1000 - Number of game played 399500 - 12 hours, 8 minutes and 13 seconds\n",
      "########## Evaluation Against Last Agent - Episode 79500 ##########\n",
      "Timestep: 6370638 Average reward against last agent is 2.596\n"
     ]
    },
    {
     "name": "stderr",
     "output_type": "stream",
     "text": [
      "/opt/conda/lib/python3.7/site-packages/matplotlib/pyplot.py:1479: UserWarning: Attempting to set identical bottom==top results\n",
      "in singular transformations; automatically expanding.\n",
      "bottom=0, top=0\n",
      "  ret = ax.set_ylim(*args, **kwargs)\n"
     ]
    },
    {
     "name": "stdout",
     "output_type": "stream",
     "text": [
      "EPISODE 80000 - Eval Random 999 over 1000 - Number of game played 401000 - 12 hours, 11 minutes and 47 seconds\n",
      "########## Evaluation Against Random - Episode 80000 ##########\n",
      "Timestep: 6410735 Average reward against random is 1.824\n",
      "EPISODE 80000 - Eval Opponent 999 over 1000 - Number of game played 402000 - 12 hours, 13 minutes and 11 seconds\n",
      "########## Evaluation Against Last Agent - Episode 80000 ##########\n",
      "Timestep: 6410735 Average reward against last agent is 2.656\n"
     ]
    },
    {
     "name": "stderr",
     "output_type": "stream",
     "text": [
      "/opt/conda/lib/python3.7/site-packages/matplotlib/pyplot.py:1479: UserWarning: Attempting to set identical bottom==top results\n",
      "in singular transformations; automatically expanding.\n",
      "bottom=0, top=0\n",
      "  ret = ax.set_ylim(*args, **kwargs)\n"
     ]
    },
    {
     "name": "stdout",
     "output_type": "stream",
     "text": [
      "EPISODE 80500 - Eval Random 999 over 1000 - Number of game played 403500 - 12 hours, 16 minutes and 53 seconds\n",
      "########## Evaluation Against Random - Episode 80500 ##########\n",
      "Timestep: 6450812 Average reward against random is 1.553\n",
      "EPISODE 80500 - Eval Opponent 999 over 1000 - Number of game played 404500 - 12 hours, 18 minutes and 17 seconds\n",
      "########## Evaluation Against Last Agent - Episode 80500 ##########\n",
      "Timestep: 6450812 Average reward against last agent is 2.645\n"
     ]
    },
    {
     "name": "stderr",
     "output_type": "stream",
     "text": [
      "/opt/conda/lib/python3.7/site-packages/matplotlib/pyplot.py:1479: UserWarning: Attempting to set identical bottom==top results\n",
      "in singular transformations; automatically expanding.\n",
      "bottom=0, top=0\n",
      "  ret = ax.set_ylim(*args, **kwargs)\n"
     ]
    },
    {
     "name": "stdout",
     "output_type": "stream",
     "text": [
      "EPISODE 81000 - Eval Random 999 over 1000 - Number of game played 406000 - 12 hours, 21 minutes and 54 seconds\n",
      "########## Evaluation Against Random - Episode 81000 ##########\n",
      "Timestep: 6490802 Average reward against random is 1.767\n",
      "EPISODE 81000 - Eval Opponent 999 over 1000 - Number of game played 407000 - 12 hours, 23 minutes and 18 seconds\n",
      "########## Evaluation Against Last Agent - Episode 81000 ##########\n",
      "Timestep: 6490802 Average reward against last agent is 2.471\n"
     ]
    },
    {
     "name": "stderr",
     "output_type": "stream",
     "text": [
      "/opt/conda/lib/python3.7/site-packages/matplotlib/pyplot.py:1479: UserWarning: Attempting to set identical bottom==top results\n",
      "in singular transformations; automatically expanding.\n",
      "bottom=0, top=0\n",
      "  ret = ax.set_ylim(*args, **kwargs)\n"
     ]
    },
    {
     "name": "stdout",
     "output_type": "stream",
     "text": [
      "EPISODE 81500 - Eval Random 999 over 1000 - Number of game played 408500 - 12 hours, 26 minutes and 55 seconds\n",
      "########## Evaluation Against Random - Episode 81500 ##########\n",
      "Timestep: 6530833 Average reward against random is 1.394\n",
      "EPISODE 81500 - Eval Opponent 999 over 1000 - Number of game played 409500 - 12 hours, 28 minutes and 22 seconds\n",
      "########## Evaluation Against Last Agent - Episode 81500 ##########\n",
      "Timestep: 6530833 Average reward against last agent is 0.055\n",
      "EPISODE 82000 - Eval Random 999 over 1000 - Number of game played 411000 - 12 hours, 32 minutes and 8 secondss\n",
      "########## Evaluation Against Random - Episode 82000 ##########\n",
      "Timestep: 6570985 Average reward against random is 1.783\n",
      "EPISODE 82000 - Eval Opponent 999 over 1000 - Number of game played 412000 - 12 hours, 33 minutes and 32 seconds\n",
      "########## Evaluation Against Last Agent - Episode 82000 ##########\n",
      "Timestep: 6570985 Average reward against last agent is 2.603\n"
     ]
    },
    {
     "name": "stderr",
     "output_type": "stream",
     "text": [
      "/opt/conda/lib/python3.7/site-packages/matplotlib/pyplot.py:1479: UserWarning: Attempting to set identical bottom==top results\n",
      "in singular transformations; automatically expanding.\n",
      "bottom=0, top=0\n",
      "  ret = ax.set_ylim(*args, **kwargs)\n"
     ]
    },
    {
     "name": "stdout",
     "output_type": "stream",
     "text": [
      "EPISODE 82500 - Eval Random 999 over 1000 - Number of game played 413500 - 12 hours, 37 minutes and 12 seconds\n",
      "########## Evaluation Against Random - Episode 82500 ##########\n",
      "Timestep: 6611013 Average reward against random is 1.35\n",
      "EPISODE 82500 - Eval Opponent 999 over 1000 - Number of game played 414500 - 12 hours, 38 minutes and 39 seconds\n",
      "########## Evaluation Against Last Agent - Episode 82500 ##########\n",
      "Timestep: 6611013 Average reward against last agent is 0.818\n",
      "EPISODE 83000 - Eval Random 999 over 1000 - Number of game played 416000 - 12 hours, 42 minutes and 28 seconds\n",
      "########## Evaluation Against Random - Episode 83000 ##########\n",
      "Timestep: 6651182 Average reward against random is 1.752\n",
      "EPISODE 83000 - Eval Opponent 999 over 1000 - Number of game played 417000 - 12 hours, 43 minutes and 59 seconds\n",
      "########## Evaluation Against Last Agent - Episode 83000 ##########\n",
      "Timestep: 6651182 Average reward against last agent is 0.383\n",
      "EPISODE 83500 - Eval Random 999 over 1000 - Number of game played 418500 - 12 hours, 47 minutes and 43 seconds\n",
      "########## Evaluation Against Random - Episode 83500 ##########\n",
      "Timestep: 6691401 Average reward against random is 1.839\n",
      "EPISODE 83500 - Eval Opponent 999 over 1000 - Number of game played 419500 - 12 hours, 49 minutes and 12 seconds\n",
      "########## Evaluation Against Last Agent - Episode 83500 ##########\n",
      "Timestep: 6691401 Average reward against last agent is 0.305\n",
      "EPISODE 84000 - Eval Random 999 over 1000 - Number of game played 421000 - 12 hours, 53 minutes and 4 secondss\n",
      "########## Evaluation Against Random - Episode 84000 ##########\n",
      "Timestep: 6731545 Average reward against random is 1.278\n",
      "EPISODE 84000 - Eval Opponent 999 over 1000 - Number of game played 422000 - 12 hours, 54 minutes and 30 seconds\n",
      "########## Evaluation Against Last Agent - Episode 84000 ##########\n",
      "Timestep: 6731545 Average reward against last agent is -0.578\n",
      "EPISODE 84500 - Eval Random 999 over 1000 - Number of game played 423500 - 12 hours, 58 minutes and 15 seconds\n",
      "########## Evaluation Against Random - Episode 84500 ##########\n",
      "Timestep: 6771592 Average reward against random is 0.667\n",
      "EPISODE 84500 - Eval Opponent 999 over 1000 - Number of game played 424500 - 12 hours, 59 minutes and 41 seconds\n",
      "########## Evaluation Against Last Agent - Episode 84500 ##########\n",
      "Timestep: 6771592 Average reward against last agent is -0.957\n",
      "EPISODE 85000 - Eval Random 999 over 1000 - Number of game played 426000 - 13 hours, 3 minutes and 33 seconds\n",
      "########## Evaluation Against Random - Episode 85000 ##########\n",
      "Timestep: 6811649 Average reward against random is 0.921\n",
      "EPISODE 85000 - Eval Opponent 999 over 1000 - Number of game played 427000 - 13 hours, 5 minutes and 0 secondds\n",
      "########## Evaluation Against Last Agent - Episode 85000 ##########\n",
      "Timestep: 6811649 Average reward against last agent is -1.049\n",
      "EPISODE 85500 - Eval Random 999 over 1000 - Number of game played 428500 - 13 hours, 8 minutes and 46 seconds\n",
      "########## Evaluation Against Random - Episode 85500 ##########\n",
      "Timestep: 6851625 Average reward against random is 0.145\n",
      "EPISODE 85500 - Eval Opponent 999 over 1000 - Number of game played 429500 - 13 hours, 10 minutes and 10 seconds\n",
      "########## Evaluation Against Last Agent - Episode 85500 ##########\n",
      "Timestep: 6851625 Average reward against last agent is 2.764\n"
     ]
    },
    {
     "name": "stderr",
     "output_type": "stream",
     "text": [
      "/opt/conda/lib/python3.7/site-packages/matplotlib/pyplot.py:1479: UserWarning: Attempting to set identical bottom==top results\n",
      "in singular transformations; automatically expanding.\n",
      "bottom=0, top=0\n",
      "  ret = ax.set_ylim(*args, **kwargs)\n"
     ]
    },
    {
     "name": "stdout",
     "output_type": "stream",
     "text": [
      "EPISODE 86000 - Eval Random 999 over 1000 - Number of game played 431000 - 13 hours, 14 minutes and 6 secondss\n",
      "########## Evaluation Against Random - Episode 86000 ##########\n",
      "Timestep: 6891546 Average reward against random is 0.104\n",
      "EPISODE 86000 - Eval Opponent 999 over 1000 - Number of game played 432000 - 13 hours, 15 minutes and 30 seconds\n",
      "########## Evaluation Against Last Agent - Episode 86000 ##########\n",
      "Timestep: 6891546 Average reward against last agent is 2.502\n"
     ]
    },
    {
     "name": "stderr",
     "output_type": "stream",
     "text": [
      "/opt/conda/lib/python3.7/site-packages/matplotlib/pyplot.py:1479: UserWarning: Attempting to set identical bottom==top results\n",
      "in singular transformations; automatically expanding.\n",
      "bottom=0, top=0\n",
      "  ret = ax.set_ylim(*args, **kwargs)\n"
     ]
    },
    {
     "name": "stdout",
     "output_type": "stream",
     "text": [
      "EPISODE 86500 - Eval Random 999 over 1000 - Number of game played 433500 - 13 hours, 19 minutes and 19 seconds\n",
      "########## Evaluation Against Random - Episode 86500 ##########\n",
      "Timestep: 6931476 Average reward against random is -0.468\n",
      "EPISODE 86500 - Eval Opponent 999 over 1000 - Number of game played 434500 - 13 hours, 20 minutes and 44 seconds\n",
      "########## Evaluation Against Last Agent - Episode 86500 ##########\n",
      "Timestep: 6931476 Average reward against last agent is 2.489\n"
     ]
    },
    {
     "name": "stderr",
     "output_type": "stream",
     "text": [
      "/opt/conda/lib/python3.7/site-packages/matplotlib/pyplot.py:1479: UserWarning: Attempting to set identical bottom==top results\n",
      "in singular transformations; automatically expanding.\n",
      "bottom=0, top=0\n",
      "  ret = ax.set_ylim(*args, **kwargs)\n"
     ]
    },
    {
     "name": "stdout",
     "output_type": "stream",
     "text": [
      "EPISODE 87000 - Eval Random 999 over 1000 - Number of game played 436000 - 13 hours, 24 minutes and 24 seconds\n",
      "########## Evaluation Against Random - Episode 87000 ##########\n",
      "Timestep: 6971393 Average reward against random is -0.113\n",
      "EPISODE 87000 - Eval Opponent 999 over 1000 - Number of game played 437000 - 13 hours, 25 minutes and 50 seconds\n",
      "########## Evaluation Against Last Agent - Episode 87000 ##########\n",
      "Timestep: 6971393 Average reward against last agent is -2.773\n",
      "EPISODE 87500 - Eval Random 999 over 1000 - Number of game played 438500 - 13 hours, 29 minutes and 29 seconds\n",
      "########## Evaluation Against Random - Episode 87500 ##########\n",
      "Timestep: 7011403 Average reward against random is -0.324\n",
      "EPISODE 87500 - Eval Opponent 999 over 1000 - Number of game played 439500 - 13 hours, 30 minutes and 54 seconds\n",
      "########## Evaluation Against Last Agent - Episode 87500 ##########\n",
      "Timestep: 7011403 Average reward against last agent is -3.529\n",
      "EPISODE 88000 - Eval Random 999 over 1000 - Number of game played 441000 - 13 hours, 34 minutes and 34 seconds\n",
      "########## Evaluation Against Random - Episode 88000 ##########\n",
      "Timestep: 7051313 Average reward against random is 0.404\n",
      "EPISODE 88000 - Eval Opponent 999 over 1000 - Number of game played 442000 - 13 hours, 35 minutes and 59 seconds\n",
      "########## Evaluation Against Last Agent - Episode 88000 ##########\n",
      "Timestep: 7051313 Average reward against last agent is -1.299\n",
      "EPISODE 88500 - Eval Random 999 over 1000 - Number of game played 443500 - 13 hours, 39 minutes and 38 seconds\n",
      "########## Evaluation Against Random - Episode 88500 ##########\n",
      "Timestep: 7091373 Average reward against random is 0.508\n",
      "EPISODE 88500 - Eval Opponent 999 over 1000 - Number of game played 444500 - 13 hours, 41 minutes and 2 secondss\n",
      "########## Evaluation Against Last Agent - Episode 88500 ##########\n",
      "Timestep: 7091373 Average reward against last agent is 2.351\n"
     ]
    },
    {
     "name": "stderr",
     "output_type": "stream",
     "text": [
      "/opt/conda/lib/python3.7/site-packages/matplotlib/pyplot.py:1479: UserWarning: Attempting to set identical bottom==top results\n",
      "in singular transformations; automatically expanding.\n",
      "bottom=0, top=0\n",
      "  ret = ax.set_ylim(*args, **kwargs)\n"
     ]
    },
    {
     "name": "stdout",
     "output_type": "stream",
     "text": [
      "EPISODE 89000 - Eval Random 999 over 1000 - Number of game played 446000 - 13 hours, 44 minutes and 47 seconds\n",
      "########## Evaluation Against Random - Episode 89000 ##########\n",
      "Timestep: 7131468 Average reward against random is 0.498\n",
      "EPISODE 89000 - Eval Opponent 999 over 1000 - Number of game played 447000 - 13 hours, 46 minutes and 11 seconds\n",
      "########## Evaluation Against Last Agent - Episode 89000 ##########\n",
      "Timestep: 7131468 Average reward against last agent is 2.556\n"
     ]
    },
    {
     "name": "stderr",
     "output_type": "stream",
     "text": [
      "/opt/conda/lib/python3.7/site-packages/matplotlib/pyplot.py:1479: UserWarning: Attempting to set identical bottom==top results\n",
      "in singular transformations; automatically expanding.\n",
      "bottom=0, top=0\n",
      "  ret = ax.set_ylim(*args, **kwargs)\n"
     ]
    },
    {
     "name": "stdout",
     "output_type": "stream",
     "text": [
      "EPISODE 89500 - Eval Random 999 over 1000 - Number of game played 448500 - 13 hours, 49 minutes and 50 seconds\n",
      "########## Evaluation Against Random - Episode 89500 ##########\n",
      "Timestep: 7171408 Average reward against random is 0.856\n",
      "EPISODE 89500 - Eval Opponent 999 over 1000 - Number of game played 449500 - 13 hours, 51 minutes and 16 seconds\n",
      "########## Evaluation Against Last Agent - Episode 89500 ##########\n",
      "Timestep: 7171408 Average reward against last agent is -2.097\n",
      "EPISODE 90000 - Eval Random 999 over 1000 - Number of game played 451000 - 13 hours, 54 minutes and 54 seconds\n",
      "########## Evaluation Against Random - Episode 90000 ##########\n",
      "Timestep: 7211413 Average reward against random is 1.865\n",
      "EPISODE 90000 - Eval Opponent 999 over 1000 - Number of game played 452000 - 13 hours, 56 minutes and 19 seconds\n",
      "########## Evaluation Against Last Agent - Episode 90000 ##########\n",
      "Timestep: 7211413 Average reward against last agent is 2.414\n"
     ]
    },
    {
     "name": "stderr",
     "output_type": "stream",
     "text": [
      "/opt/conda/lib/python3.7/site-packages/matplotlib/pyplot.py:1479: UserWarning: Attempting to set identical bottom==top results\n",
      "in singular transformations; automatically expanding.\n",
      "bottom=0, top=0\n",
      "  ret = ax.set_ylim(*args, **kwargs)\n"
     ]
    },
    {
     "name": "stdout",
     "output_type": "stream",
     "text": [
      "EPISODE 90500 - Eval Random 999 over 1000 - Number of game played 453500 - 13 hours, 59 minutes and 58 seconds\n",
      "########## Evaluation Against Random - Episode 90500 ##########\n",
      "Timestep: 7251444 Average reward against random is 1.701\n",
      "EPISODE 90500 - Eval Opponent 999 over 1000 - Number of game played 454500 - 14 hours, 1 minute and 22 secondss\n",
      "########## Evaluation Against Last Agent - Episode 90500 ##########\n",
      "Timestep: 7251444 Average reward against last agent is 2.515\n"
     ]
    },
    {
     "name": "stderr",
     "output_type": "stream",
     "text": [
      "/opt/conda/lib/python3.7/site-packages/matplotlib/pyplot.py:1479: UserWarning: Attempting to set identical bottom==top results\n",
      "in singular transformations; automatically expanding.\n",
      "bottom=0, top=0\n",
      "  ret = ax.set_ylim(*args, **kwargs)\n"
     ]
    },
    {
     "name": "stdout",
     "output_type": "stream",
     "text": [
      "EPISODE 91000 - Eval Random 999 over 1000 - Number of game played 456000 - 14 hours, 5 minutes and 9 secondss\n",
      "########## Evaluation Against Random - Episode 91000 ##########\n",
      "Timestep: 7291448 Average reward against random is 0.882\n",
      "EPISODE 91000 - Eval Opponent 999 over 1000 - Number of game played 457000 - 14 hours, 6 minutes and 36 seconds\n",
      "########## Evaluation Against Last Agent - Episode 91000 ##########\n",
      "Timestep: 7291448 Average reward against last agent is -0.845\n",
      "EPISODE 91500 - Eval Random 999 over 1000 - Number of game played 458500 - 14 hours, 10 minutes and 17 seconds\n",
      "########## Evaluation Against Random - Episode 91500 ##########\n",
      "Timestep: 7331471 Average reward against random is 1.344\n",
      "EPISODE 91500 - Eval Opponent 999 over 1000 - Number of game played 459500 - 14 hours, 11 minutes and 43 seconds\n",
      "########## Evaluation Against Last Agent - Episode 91500 ##########\n",
      "Timestep: 7331471 Average reward against last agent is -0.901\n",
      "EPISODE 92000 - Eval Random 999 over 1000 - Number of game played 461000 - 14 hours, 15 minutes and 25 seconds\n",
      "########## Evaluation Against Random - Episode 92000 ##########\n",
      "Timestep: 7371483 Average reward against random is 1.239\n",
      "EPISODE 92000 - Eval Opponent 999 over 1000 - Number of game played 462000 - 14 hours, 16 minutes and 52 seconds\n",
      "########## Evaluation Against Last Agent - Episode 92000 ##########\n",
      "Timestep: 7371483 Average reward against last agent is 0.08\n",
      "EPISODE 92500 - Eval Random 999 over 1000 - Number of game played 463500 - 14 hours, 20 minutes and 40 seconds\n",
      "########## Evaluation Against Random - Episode 92500 ##########\n",
      "Timestep: 7411483 Average reward against random is 1.945\n",
      "EPISODE 92500 - Eval Opponent 999 over 1000 - Number of game played 464500 - 14 hours, 22 minutes and 5 secondss\n",
      "########## Evaluation Against Last Agent - Episode 92500 ##########\n",
      "Timestep: 7411483 Average reward against last agent is 2.697\n"
     ]
    },
    {
     "name": "stderr",
     "output_type": "stream",
     "text": [
      "/opt/conda/lib/python3.7/site-packages/matplotlib/pyplot.py:1479: UserWarning: Attempting to set identical bottom==top results\n",
      "in singular transformations; automatically expanding.\n",
      "bottom=0, top=0\n",
      "  ret = ax.set_ylim(*args, **kwargs)\n"
     ]
    },
    {
     "name": "stdout",
     "output_type": "stream",
     "text": [
      "EPISODE 93000 - Eval Random 999 over 1000 - Number of game played 466000 - 14 hours, 25 minutes and 47 seconds\n",
      "########## Evaluation Against Random - Episode 93000 ##########\n",
      "Timestep: 7451526 Average reward against random is 1.834\n",
      "EPISODE 93000 - Eval Opponent 999 over 1000 - Number of game played 467000 - 14 hours, 27 minutes and 15 seconds\n",
      "########## Evaluation Against Last Agent - Episode 93000 ##########\n",
      "Timestep: 7451526 Average reward against last agent is 0.936\n",
      "EPISODE 93500 - Eval Random 999 over 1000 - Number of game played 468500 - 14 hours, 31 minutes and 4 secondss\n",
      "########## Evaluation Against Random - Episode 93500 ##########\n",
      "Timestep: 7491550 Average reward against random is 1.165\n",
      "EPISODE 93500 - Eval Opponent 999 over 1000 - Number of game played 469500 - 14 hours, 32 minutes and 28 seconds\n",
      "########## Evaluation Against Last Agent - Episode 93500 ##########\n",
      "Timestep: 7491550 Average reward against last agent is 2.835\n"
     ]
    },
    {
     "name": "stderr",
     "output_type": "stream",
     "text": [
      "/opt/conda/lib/python3.7/site-packages/matplotlib/pyplot.py:1479: UserWarning: Attempting to set identical bottom==top results\n",
      "in singular transformations; automatically expanding.\n",
      "bottom=0, top=0\n",
      "  ret = ax.set_ylim(*args, **kwargs)\n"
     ]
    },
    {
     "name": "stdout",
     "output_type": "stream",
     "text": [
      "EPISODE 94000 - Eval Random 999 over 1000 - Number of game played 471000 - 14 hours, 36 minutes and 21 seconds\n",
      "########## Evaluation Against Random - Episode 94000 ##########\n",
      "Timestep: 7531510 Average reward against random is 1.377\n",
      "EPISODE 94000 - Eval Opponent 999 over 1000 - Number of game played 472000 - 14 hours, 37 minutes and 48 seconds\n",
      "########## Evaluation Against Last Agent - Episode 94000 ##########\n",
      "Timestep: 7531510 Average reward against last agent is -0.065\n",
      "EPISODE 94500 - Eval Random 999 over 1000 - Number of game played 473500 - 14 hours, 41 minutes and 35 seconds\n",
      "########## Evaluation Against Random - Episode 94500 ##########\n",
      "Timestep: 7571499 Average reward against random is 1.273\n",
      "EPISODE 94500 - Eval Opponent 999 over 1000 - Number of game played 474500 - 14 hours, 43 minutes and 1 secondds\n",
      "########## Evaluation Against Last Agent - Episode 94500 ##########\n",
      "Timestep: 7571499 Average reward against last agent is -0.765\n",
      "EPISODE 95000 - Eval Random 999 over 1000 - Number of game played 476000 - 14 hours, 46 minutes and 51 seconds\n",
      "########## Evaluation Against Random - Episode 95000 ##########\n",
      "Timestep: 7611452 Average reward against random is 0.55\n",
      "EPISODE 95000 - Eval Opponent 999 over 1000 - Number of game played 477000 - 14 hours, 48 minutes and 17 seconds\n",
      "########## Evaluation Against Last Agent - Episode 95000 ##########\n",
      "Timestep: 7611452 Average reward against last agent is -1.965\n",
      "EPISODE 95500 - Eval Random 999 over 1000 - Number of game played 478500 - 14 hours, 52 minutes and 7 secondss\n",
      "########## Evaluation Against Random - Episode 95500 ##########\n",
      "Timestep: 7651431 Average reward against random is 0.241\n",
      "EPISODE 95500 - Eval Opponent 999 over 1000 - Number of game played 479500 - 14 hours, 53 minutes and 32 seconds\n",
      "########## Evaluation Against Last Agent - Episode 95500 ##########\n",
      "Timestep: 7651431 Average reward against last agent is 2.451\n"
     ]
    },
    {
     "name": "stderr",
     "output_type": "stream",
     "text": [
      "/opt/conda/lib/python3.7/site-packages/matplotlib/pyplot.py:1479: UserWarning: Attempting to set identical bottom==top results\n",
      "in singular transformations; automatically expanding.\n",
      "bottom=0, top=0\n",
      "  ret = ax.set_ylim(*args, **kwargs)\n"
     ]
    },
    {
     "name": "stdout",
     "output_type": "stream",
     "text": [
      "EPISODE 96000 - Eval Random 999 over 1000 - Number of game played 481000 - 14 hours, 57 minutes and 32 seconds\n",
      "########## Evaluation Against Random - Episode 96000 ##########\n",
      "Timestep: 7691432 Average reward against random is -0.401\n",
      "EPISODE 96000 - Eval Opponent 999 over 1000 - Number of game played 482000 - 14 hours, 58 minutes and 56 seconds\n",
      "########## Evaluation Against Last Agent - Episode 96000 ##########\n",
      "Timestep: 7691432 Average reward against last agent is 2.839\n"
     ]
    },
    {
     "name": "stderr",
     "output_type": "stream",
     "text": [
      "/opt/conda/lib/python3.7/site-packages/matplotlib/pyplot.py:1479: UserWarning: Attempting to set identical bottom==top results\n",
      "in singular transformations; automatically expanding.\n",
      "bottom=0, top=0\n",
      "  ret = ax.set_ylim(*args, **kwargs)\n"
     ]
    },
    {
     "name": "stdout",
     "output_type": "stream",
     "text": [
      "EPISODE 96500 - Eval Random 999 over 1000 - Number of game played 483500 - 15 hours, 2 minutes and 50 seconds\n",
      "########## Evaluation Against Random - Episode 96500 ##########\n",
      "Timestep: 7731396 Average reward against random is -0.368\n",
      "EPISODE 96500 - Eval Opponent 999 over 1000 - Number of game played 484500 - 15 hours, 4 minutes and 15 seconds\n",
      "########## Evaluation Against Last Agent - Episode 96500 ##########\n",
      "Timestep: 7731396 Average reward against last agent is 2.684\n"
     ]
    },
    {
     "name": "stderr",
     "output_type": "stream",
     "text": [
      "/opt/conda/lib/python3.7/site-packages/matplotlib/pyplot.py:1479: UserWarning: Attempting to set identical bottom==top results\n",
      "in singular transformations; automatically expanding.\n",
      "bottom=0, top=0\n",
      "  ret = ax.set_ylim(*args, **kwargs)\n"
     ]
    },
    {
     "name": "stdout",
     "output_type": "stream",
     "text": [
      "EPISODE 97000 - Eval Random 999 over 1000 - Number of game played 486000 - 15 hours, 8 minutes and 7 secondss\n",
      "########## Evaluation Against Random - Episode 97000 ##########\n",
      "Timestep: 7771322 Average reward against random is 0.475\n",
      "EPISODE 97000 - Eval Opponent 999 over 1000 - Number of game played 487000 - 15 hours, 9 minutes and 34 seconds\n",
      "########## Evaluation Against Last Agent - Episode 97000 ##########\n",
      "Timestep: 7771322 Average reward against last agent is -1.973\n",
      "EPISODE 97500 - Eval Random 999 over 1000 - Number of game played 488500 - 15 hours, 13 minutes and 30 seconds\n",
      "########## Evaluation Against Random - Episode 97500 ##########\n",
      "Timestep: 7811260 Average reward against random is -0.476\n",
      "EPISODE 97500 - Eval Opponent 999 over 1000 - Number of game played 489500 - 15 hours, 14 minutes and 56 seconds\n",
      "########## Evaluation Against Last Agent - Episode 97500 ##########\n",
      "Timestep: 7811260 Average reward against last agent is -3.199\n",
      "EPISODE 98000 - Eval Random 999 over 1000 - Number of game played 491000 - 15 hours, 19 minutes and 1 secondds\n",
      "########## Evaluation Against Random - Episode 98000 ##########\n",
      "Timestep: 7851153 Average reward against random is 0.366\n",
      "EPISODE 98000 - Eval Opponent 999 over 1000 - Number of game played 492000 - 15 hours, 20 minutes and 25 seconds\n",
      "########## Evaluation Against Last Agent - Episode 98000 ##########\n",
      "Timestep: 7851153 Average reward against last agent is 2.797\n"
     ]
    },
    {
     "name": "stderr",
     "output_type": "stream",
     "text": [
      "/opt/conda/lib/python3.7/site-packages/matplotlib/pyplot.py:1479: UserWarning: Attempting to set identical bottom==top results\n",
      "in singular transformations; automatically expanding.\n",
      "bottom=0, top=0\n",
      "  ret = ax.set_ylim(*args, **kwargs)\n"
     ]
    },
    {
     "name": "stdout",
     "output_type": "stream",
     "text": [
      "EPISODE 98500 - Eval Random 999 over 1000 - Number of game played 493500 - 15 hours, 24 minutes and 24 seconds\n",
      "########## Evaluation Against Random - Episode 98500 ##########\n",
      "Timestep: 7891146 Average reward against random is 0.483\n",
      "EPISODE 98500 - Eval Opponent 999 over 1000 - Number of game played 494500 - 15 hours, 25 minutes and 50 seconds\n",
      "########## Evaluation Against Last Agent - Episode 98500 ##########\n",
      "Timestep: 7891146 Average reward against last agent is -1.389\n",
      "EPISODE 99000 - Eval Random 999 over 1000 - Number of game played 496000 - 15 hours, 29 minutes and 49 seconds\n",
      "########## Evaluation Against Random - Episode 99000 ##########\n",
      "Timestep: 7931125 Average reward against random is 0.794\n",
      "EPISODE 99000 - Eval Opponent 999 over 1000 - Number of game played 497000 - 15 hours, 31 minutes and 15 seconds\n",
      "########## Evaluation Against Last Agent - Episode 99000 ##########\n",
      "Timestep: 7931125 Average reward against last agent is -0.703\n",
      "EPISODE 99500 - Eval Random 999 over 1000 - Number of game played 498500 - 15 hours, 35 minutes and 24 seconds\n",
      "########## Evaluation Against Random - Episode 99500 ##########\n",
      "Timestep: 7971165 Average reward against random is 1.543\n",
      "EPISODE 99500 - Eval Opponent 999 over 1000 - Number of game played 499500 - 15 hours, 36 minutes and 51 seconds\n",
      "########## Evaluation Against Last Agent - Episode 99500 ##########\n",
      "Timestep: 7971165 Average reward against last agent is -0.066\n",
      "EPISODE 99999 - Number of game played 499999 - 15 hours, 40 minutes and 15 seconds"
     ]
    }
   ],
   "source": [
    "\"\"\"\n",
    "An example of learning a Deep-Q Agent on French Tarot Game\n",
    "\"\"\"\n",
    "import os\n",
    "import time\n",
    "\n",
    "import tensorflow as tf\n",
    "\n",
    "import rlcard\n",
    "from rlcard.agents.random_agent import RandomAgent\n",
    "from rlcard.agents.dqn_agent import DQNAgent\n",
    "from rlcard.utils.logger import Logger\n",
    "from rlcard.utils.utils import set_global_seed, time_difference_good_format\n",
    "\n",
    "record_number = 11\n",
    "\n",
    "# Make environment\n",
    "env = rlcard.make('tarot')\n",
    "eval_env = rlcard.make('tarot')\n",
    "\n",
    "# Set the iterations numbers and how frequently we evaluate/save plot\n",
    "evaluate_every = 500\n",
    "evolve_model_every = 5000\n",
    "# save_plot_every = 100\n",
    "evaluate_num = 1000\n",
    "\n",
    "episode_num = 100000\n",
    "\n",
    "self_play = 1\n",
    "total_self_play_eval = int(episode_num / evaluate_every)\n",
    "\n",
    "# Set the the number of steps for collecting normalization statistics\n",
    "# and intial memory size\n",
    "memory_init_size = 5000\n",
    "norm_step = 1000\n",
    "\n",
    "# The paths for saving the logs and learning curves\n",
    "root_path = './experiments/tarot_dqn_self_played_v{}/'.format(str(record_number))\n",
    "log_path_random = root_path + 'log_random.txt'\n",
    "csv_path_random = root_path + 'performance_random.csv'\n",
    "log_path_opponent = root_path + 'log_opponent.txt'\n",
    "csv_path_opponent = root_path + 'performance_opponent.csv'\n",
    "figure_path_random = root_path + 'figures_random/'\n",
    "figure_path_opponent = root_path + 'figures_opponent/'\n",
    "\n",
    "# Model save path\n",
    "if not os.path.exists('rlcard/models'):\n",
    "    os.makedirs('rlcard/models')\n",
    "if not os.path.exists('rlcard/models/pretrained'):\n",
    "    os.makedirs('rlcard/models/pretrained')\n",
    "for self_play_init in range(1, total_self_play_eval + 1):\n",
    "    model_folder_path = 'rlcard/models/pretrained/self_played_{}/tarot_v{}'.format(\n",
    "        str(record_number),\n",
    "        str(record_number * 10000 + self_play_init))\n",
    "    if not os.path.exists(model_folder_path):\n",
    "        os.makedirs(model_folder_path)\n",
    "model_path = 'rlcard/models/pretrained/self_played_{}/tarot_v{}/model'.format(\n",
    "    str(record_number),\n",
    "    str(record_number * 10000 + self_play))\n",
    "\n",
    "# Set a global seed\n",
    "set_global_seed(0)\n",
    "\n",
    "random_agent = RandomAgent(action_num=eval_env.action_num)\n",
    "\n",
    "with tf.compat.v1.Session() as sess:\n",
    "    # Set agents\n",
    "    global_step = tf.Variable(0, name='global_step', trainable=False)\n",
    "    agent = DQNAgent(sess,\n",
    "                     scope='dqn',\n",
    "                     action_num=78,  # env.action_num,\n",
    "                     replay_memory_size=20000,\n",
    "                     replay_memory_init_size=memory_init_size,\n",
    "                     norm_step=norm_step,\n",
    "                     state_shape=env.state_shape,\n",
    "                     mlp_layers=[512, 1024, 512])\n",
    "\n",
    "    opponent_agent = agent\n",
    "\n",
    "    sess.run(tf.compat.v1.global_variables_initializer())\n",
    "\n",
    "    saver = tf.compat.v1.train.Saver()\n",
    "\n",
    "    env.set_agents([agent] + [opponent_agent] * (env.player_num - 1))\n",
    "    eval_env.set_agents([agent] + [random_agent] * (env.player_num - 1))\n",
    "\n",
    "    # Count the number of steps\n",
    "    step_counter = 0\n",
    "\n",
    "    # Init a Logger to plot the learning curve against random\n",
    "    logger_random = Logger(xlabel='timestep', ylabel='reward', legend='DQN on TAROT against Random',\n",
    "                           legend_hist='Histogram of last evaluations against Random', log_path=log_path_random,\n",
    "                           csv_path=csv_path_random)\n",
    "    # Init a Logger to plot the learning curve against last opponent\n",
    "    logger_opponent = Logger(xlabel='timestep', ylabel='reward', legend='DQN on TAROT against last agent',\n",
    "                             legend_hist='Histogram of last evaluations against last agent', log_path=log_path_opponent,\n",
    "                             csv_path=csv_path_opponent)\n",
    "\n",
    "    total_game_played = 0\n",
    "    seconds = time.time()\n",
    "\n",
    "    for episode in range(episode_num):\n",
    "        print('\\rEPISODE {} - Number of game played {} - {}'.format(episode, total_game_played,\n",
    "                                                                    time_difference_good_format(seconds, time.time())),\n",
    "              end='')\n",
    "\n",
    "        # Generate data from the environment\n",
    "        trajectories, _ = env.run(is_training=True)\n",
    "        total_game_played += 1\n",
    "\n",
    "        # Feed transitions into agent memory, and train the agent\n",
    "        for ts in trajectories[0]:\n",
    "            agent.feed(ts)\n",
    "            step_counter += 1\n",
    "\n",
    "            # Train the agent\n",
    "            train_count = step_counter - (memory_init_size + norm_step)\n",
    "            if train_count > 0:\n",
    "                loss = agent.train()\n",
    "                # print('\\rINFO - Step {}, loss: {}'.format(step_counter, loss), end='')\n",
    "\n",
    "        # Evaluate the performance.\n",
    "        if episode % evaluate_every == 0:\n",
    "            # Save Model\n",
    "            model_path = 'rlcard/models/pretrained/self_played_{}/tarot_v{}/model'.format(\n",
    "                str(record_number),\n",
    "                str(record_number * 10000 + self_play))\n",
    "\n",
    "            saver.save(sess, model_path)\n",
    "\n",
    "            # Eval against random\n",
    "            reward_random = 0\n",
    "            reward_random_list = []\n",
    "            taking_list = []\n",
    "            eval_env.set_agents([agent] + [random_agent] * (env.player_num - 1))\n",
    "            for eval_episode in range(evaluate_num):\n",
    "                print('\\rEPISODE {} - Eval Random {} over {} - Number of game played {} - {}'.format(episode,\n",
    "                                                                                                     eval_episode,\n",
    "                                                                                                     evaluate_num,\n",
    "                                                                                                     total_game_played,\n",
    "                                                                                                     time_difference_good_format(\n",
    "                                                                                                         seconds,\n",
    "                                                                                                         time.time())),\n",
    "                      end='')\n",
    "                _, payoffs = eval_env.run(is_training=False)\n",
    "                total_game_played += 1\n",
    "                reward_random_list.append(payoffs[0])\n",
    "                reward_random += payoffs[0]\n",
    "                taking_list.append(eval_env.game.players[0].taking)\n",
    "\n",
    "            logger_random.log('\\n########## Evaluation Against Random - Episode {} ##########'.format(episode))\n",
    "            logger_random.log(\n",
    "                'Timestep: {} Average reward against random is {}'.format(env.timestep,\n",
    "                                                                          float(reward_random) / evaluate_num))\n",
    "\n",
    "            # Add point to logger\n",
    "            logger_random.add_point(x=env.timestep, y=float(reward_random) / evaluate_num)\n",
    "            \n",
    "            # Make plot\n",
    "            logger_random.make_plot(save_path=figure_path_random + str(episode) + '.png')\n",
    "            logger_random.make_plot_hist(save_path_1=figure_path_random + str(episode) + '_hist.png',\n",
    "                                         save_path_2=figure_path_random + str(episode) + '_freq.png',\n",
    "                                         reward_list=reward_random_list, taking_list=taking_list)\n",
    "\n",
    "            # Eval against last agent\n",
    "            reward_opponent = 0\n",
    "            reward_opponent_list = []\n",
    "            taking_list = []\n",
    "            eval_env.set_agents([agent] + [opponent_agent] * (env.player_num - 1))\n",
    "            for eval_episode in range(evaluate_num):\n",
    "                print('\\rEPISODE {} - Eval Opponent {} over {} - Number of game played {} - {}'.format(episode,\n",
    "                                                                                                       eval_episode,\n",
    "                                                                                                       evaluate_num,\n",
    "                                                                                                       total_game_played,\n",
    "                                                                                                       time_difference_good_format(\n",
    "                                                                                                           seconds,\n",
    "                                                                                                           time.time())),\n",
    "                      end='')\n",
    "                _, payoffs = eval_env.run(is_training=False)\n",
    "                total_game_played += 1\n",
    "                reward_opponent_list.append(payoffs[0])\n",
    "                reward_opponent += payoffs[0]\n",
    "                taking_list.append(eval_env.game.players[0].taking)\n",
    "\n",
    "            logger_opponent.log('\\n########## Evaluation Against Last Agent - Episode {} ##########'.format(episode))\n",
    "            logger_opponent.log(\n",
    "                'Timestep: {} Average reward against last agent is {}'.format(env.timestep,\n",
    "                                                                              float(reward_opponent) / evaluate_num))\n",
    "\n",
    "            # Add point to logger\n",
    "            logger_opponent.add_point(x=env.timestep, y=float(reward_opponent) / evaluate_num)\n",
    "\n",
    "            # Make plot\n",
    "            logger_opponent.make_plot(save_path=figure_path_opponent + str(episode) + '.png')\n",
    "            logger_opponent.make_plot_hist(save_path_1=figure_path_opponent + str(episode) + '_hist.png',\n",
    "                                           save_path_2=figure_path_opponent + str(episode) + '_freq.png',\n",
    "                                           reward_list=reward_opponent_list, taking_list=taking_list)\n",
    "            \n",
    "        if episode % evolve_model_every == 0:\n",
    "            # GO to next step\n",
    "            self_play += 1\n",
    "\n",
    "            opponent_agent = agent\n",
    "            env.set_agents([agent] + [opponent_agent] * (env.player_num - 1))\n",
    "\n",
    "    # Make the final plot\n",
    "    logger_random.make_plot(save_path=figure_path_random + 'final_' + str(episode) + '.png')\n",
    "    logger_random.make_plot_hist(save_path_1=figure_path_random + str(episode) + '_hist.png',\n",
    "                                 save_path_2=figure_path_random + str(episode) + '_freq.png',\n",
    "                                 reward_list=reward_random_list, taking_list=taking_list)\n",
    "    # Make the final plot\n",
    "    logger_opponent.make_plot(save_path=figure_path_opponent + 'final_' + str(episode) + '.png')\n",
    "    logger_opponent.make_plot_hist(save_path_1=figure_path_opponent + str(episode) + '_hist.png',\n",
    "                                   save_path_2=figure_path_opponent + str(episode) + '_freq.png',\n",
    "                                   reward_list=reward_opponent_list, taking_list=taking_list)\n"
   ]
  }
 ],
 "metadata": {
  "kernelspec": {
   "display_name": "Python 3",
   "language": "python",
   "name": "python3"
  },
  "language_info": {
   "codemirror_mode": {
    "name": "ipython",
    "version": 3
   },
   "file_extension": ".py",
   "mimetype": "text/x-python",
   "name": "python",
   "nbconvert_exporter": "python",
   "pygments_lexer": "ipython3",
   "version": "3.7.3"
  },
  "pycharm": {
   "stem_cell": {
    "cell_type": "raw",
    "metadata": {
     "collapsed": false
    },
    "source": []
   }
  }
 },
 "nbformat": 4,
 "nbformat_minor": 4
}

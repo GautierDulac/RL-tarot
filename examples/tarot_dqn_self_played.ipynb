{
 "cells": [
  {
   "cell_type": "code",
   "execution_count": 1,
   "metadata": {},
   "outputs": [
    {
     "name": "stdout",
     "output_type": "stream",
     "text": [
      "/home/jovyan/personal_project/RL-tarot\n"
     ]
    }
   ],
   "source": [
    "%cd .."
   ]
  },
  {
   "cell_type": "code",
   "execution_count": null,
   "metadata": {},
   "outputs": [
    {
     "name": "stdout",
     "output_type": "stream",
     "text": [
      "WARNING:tensorflow:From /opt/conda/lib/python3.7/site-packages/tensorflow/python/framework/op_def_library.py:263: colocate_with (from tensorflow.python.framework.ops) is deprecated and will be removed in a future version.\n",
      "Instructions for updating:\n",
      "Colocations handled automatically by placer.\n",
      "\n",
      "WARNING: The TensorFlow contrib module will not be included in TensorFlow 2.0.\n",
      "For more information, please see:\n",
      "  * https://github.com/tensorflow/community/blob/master/rfcs/20180907-contrib-sunset.md\n",
      "  * https://github.com/tensorflow/addons\n",
      "If you depend on functionality not listed there, please file an issue.\n",
      "\n",
      "WARNING:tensorflow:From /opt/conda/lib/python3.7/site-packages/tensorflow/contrib/layers/python/layers/layers.py:1624: flatten (from tensorflow.python.layers.core) is deprecated and will be removed in a future version.\n",
      "Instructions for updating:\n",
      "Use keras.layers.flatten instead.\n",
      "WARNING:tensorflow:From /opt/conda/lib/python3.7/site-packages/tensorflow/python/ops/array_grad.py:425: to_int32 (from tensorflow.python.ops.math_ops) is deprecated and will be removed in a future version.\n",
      "Instructions for updating:\n",
      "Use tf.cast instead.\n"
     ]
    },
    {
     "name": "stderr",
     "output_type": "stream",
     "text": [
      "/opt/conda/lib/python3.7/site-packages/tensorflow/python/ops/gradients_impl.py:110: UserWarning: Converting sparse IndexedSlices to a dense Tensor of unknown shape. This may consume a large amount of memory.\n",
      "  \"Converting sparse IndexedSlices to a dense Tensor of unknown shape. \"\n",
      "/opt/conda/lib/python3.7/site-packages/tensorflow/python/ops/gradients_impl.py:110: UserWarning: Converting sparse IndexedSlices to a dense Tensor of unknown shape. This may consume a large amount of memory.\n",
      "  \"Converting sparse IndexedSlices to a dense Tensor of unknown shape. \"\n"
     ]
    },
    {
     "name": "stdout",
     "output_type": "stream",
     "text": [
      "EPISODE 0 - Eval Random 999 over 1000 - Number of game played 1000 - 34 seconds\n",
      "########## Evaluation Against Random - Episode 0 ##########\n",
      "Timestep: 79 Average reward against random is 1.651\n",
      "EPISODE 0 - Eval Opponent 999 over 1000 - Number of game played 2000 - 2 minutes and 1 seconds\n",
      "########## Evaluation Against Last Agent - Episode 0 ##########\n",
      "Timestep: 79 Average reward against last agent is 2.383\n",
      "EPISODE 10000 - Eval Random 999 over 1000 - Number of game played 13000 - 57 minutes and 32 seconds\n",
      "########## Evaluation Against Random - Episode 10000 ##########\n",
      "Timestep: 800118 Average reward against random is 1.201\n",
      "EPISODE 10000 - Eval Opponent 999 over 1000 - Number of game played 14000 - 59 minutes and 0 secondds\n",
      "########## Evaluation Against Last Agent - Episode 10000 ##########\n",
      "Timestep: 800118 Average reward against last agent is 2.491\n"
     ]
    },
    {
     "name": "stderr",
     "output_type": "stream",
     "text": [
      "/opt/conda/lib/python3.7/site-packages/matplotlib/pyplot.py:1479: UserWarning: Attempting to set identical bottom==top results\n",
      "in singular transformations; automatically expanding.\n",
      "bottom=0, top=0\n",
      "  ret = ax.set_ylim(*args, **kwargs)\n"
     ]
    },
    {
     "name": "stdout",
     "output_type": "stream",
     "text": [
      "EPISODE 20000 - Eval Random 999 over 1000 - Number of game played 25000 - 1 hour, 54 minutes and 37 seconds\n",
      "########## Evaluation Against Random - Episode 20000 ##########\n",
      "Timestep: 1601232 Average reward against random is 1.425\n",
      "EPISODE 20000 - Eval Opponent 999 over 1000 - Number of game played 26000 - 1 hour, 56 minutes and 5 secondss\n",
      "########## Evaluation Against Last Agent - Episode 20000 ##########\n",
      "Timestep: 1601232 Average reward against last agent is 2.722\n"
     ]
    },
    {
     "name": "stderr",
     "output_type": "stream",
     "text": [
      "/opt/conda/lib/python3.7/site-packages/matplotlib/pyplot.py:1479: UserWarning: Attempting to set identical bottom==top results\n",
      "in singular transformations; automatically expanding.\n",
      "bottom=0, top=0\n",
      "  ret = ax.set_ylim(*args, **kwargs)\n"
     ]
    },
    {
     "name": "stdout",
     "output_type": "stream",
     "text": [
      "EPISODE 30000 - Eval Random 999 over 1000 - Number of game played 37000 - 2 hours, 52 minutes and 13 seconds\n",
      "########## Evaluation Against Random - Episode 30000 ##########\n",
      "Timestep: 2404022 Average reward against random is 1.376\n",
      "EPISODE 30000 - Eval Opponent 999 over 1000 - Number of game played 38000 - 2 hours, 53 minutes and 42 seconds\n",
      "########## Evaluation Against Last Agent - Episode 30000 ##########\n",
      "Timestep: 2404022 Average reward against last agent is 2.091\n"
     ]
    },
    {
     "name": "stderr",
     "output_type": "stream",
     "text": [
      "/opt/conda/lib/python3.7/site-packages/matplotlib/pyplot.py:1479: UserWarning: Attempting to set identical bottom==top results\n",
      "in singular transformations; automatically expanding.\n",
      "bottom=0, top=0\n",
      "  ret = ax.set_ylim(*args, **kwargs)\n"
     ]
    },
    {
     "name": "stdout",
     "output_type": "stream",
     "text": [
      "EPISODE 40000 - Eval Random 999 over 1000 - Number of game played 49000 - 3 hours, 52 minutes and 12 seconds\n",
      "########## Evaluation Against Random - Episode 40000 ##########\n",
      "Timestep: 3205838 Average reward against random is 1.074\n",
      "EPISODE 40000 - Eval Opponent 999 over 1000 - Number of game played 50000 - 3 hours, 53 minutes and 40 seconds\n",
      "########## Evaluation Against Last Agent - Episode 40000 ##########\n",
      "Timestep: 3205838 Average reward against last agent is 2.216\n"
     ]
    },
    {
     "name": "stderr",
     "output_type": "stream",
     "text": [
      "/opt/conda/lib/python3.7/site-packages/matplotlib/pyplot.py:1479: UserWarning: Attempting to set identical bottom==top results\n",
      "in singular transformations; automatically expanding.\n",
      "bottom=0, top=0\n",
      "  ret = ax.set_ylim(*args, **kwargs)\n"
     ]
    },
    {
     "name": "stdout",
     "output_type": "stream",
     "text": [
      "EPISODE 50000 - Number of game played 60000 - 4 hours, 57 minutes and 41 secondsWARNING:tensorflow:From /opt/conda/lib/python3.7/site-packages/tensorflow/python/training/saver.py:966: remove_checkpoint (from tensorflow.python.training.checkpoint_management) is deprecated and will be removed in a future version.\n",
      "Instructions for updating:\n",
      "Use standard file APIs to delete files with this prefix.\n",
      "EPISODE 50000 - Eval Random 999 over 1000 - Number of game played 61000 - 4 hours, 58 minutes and 17 seconds\n",
      "########## Evaluation Against Random - Episode 50000 ##########\n",
      "Timestep: 4003788 Average reward against random is 1.287\n",
      "EPISODE 50000 - Eval Opponent 999 over 1000 - Number of game played 62000 - 4 hours, 59 minutes and 42 seconds\n",
      "########## Evaluation Against Last Agent - Episode 50000 ##########\n",
      "Timestep: 4003788 Average reward against last agent is 2.348\n"
     ]
    },
    {
     "name": "stderr",
     "output_type": "stream",
     "text": [
      "/opt/conda/lib/python3.7/site-packages/matplotlib/pyplot.py:1479: UserWarning: Attempting to set identical bottom==top results\n",
      "in singular transformations; automatically expanding.\n",
      "bottom=0, top=0\n",
      "  ret = ax.set_ylim(*args, **kwargs)\n"
     ]
    },
    {
     "name": "stdout",
     "output_type": "stream",
     "text": [
      "EPISODE 60000 - Eval Random 999 over 1000 - Number of game played 73000 - 6 hours, 4 minutes and 8 secondss\n",
      "########## Evaluation Against Random - Episode 60000 ##########\n",
      "Timestep: 4798245 Average reward against random is 1.203\n",
      "EPISODE 60000 - Eval Opponent 999 over 1000 - Number of game played 74000 - 6 hours, 5 minutes and 32 seconds\n",
      "########## Evaluation Against Last Agent - Episode 60000 ##########\n",
      "Timestep: 4798245 Average reward against last agent is 2.572\n"
     ]
    },
    {
     "name": "stderr",
     "output_type": "stream",
     "text": [
      "/opt/conda/lib/python3.7/site-packages/matplotlib/pyplot.py:1479: UserWarning: Attempting to set identical bottom==top results\n",
      "in singular transformations; automatically expanding.\n",
      "bottom=0, top=0\n",
      "  ret = ax.set_ylim(*args, **kwargs)\n"
     ]
    },
    {
     "name": "stdout",
     "output_type": "stream",
     "text": [
      "EPISODE 70000 - Eval Random 999 over 1000 - Number of game played 85000 - 7 hours, 17 minutes and 33 seconds\n",
      "########## Evaluation Against Random - Episode 70000 ##########\n",
      "Timestep: 5592391 Average reward against random is 1.201\n",
      "EPISODE 70000 - Eval Opponent 999 over 1000 - Number of game played 86000 - 7 hours, 18 minutes and 57 seconds\n",
      "########## Evaluation Against Last Agent - Episode 70000 ##########\n",
      "Timestep: 5592391 Average reward against last agent is 2.39\n"
     ]
    },
    {
     "name": "stderr",
     "output_type": "stream",
     "text": [
      "/opt/conda/lib/python3.7/site-packages/matplotlib/pyplot.py:1479: UserWarning: Attempting to set identical bottom==top results\n",
      "in singular transformations; automatically expanding.\n",
      "bottom=0, top=0\n",
      "  ret = ax.set_ylim(*args, **kwargs)\n"
     ]
    },
    {
     "name": "stdout",
     "output_type": "stream",
     "text": [
      "EPISODE 76569 - Number of game played 92569 - 8 hours, 6 minutes and 17 secondss"
     ]
    }
   ],
   "source": [
    "\"\"\"\n",
    "An example of learning a Deep-Q Agent on French Tarot Game\n",
    "\"\"\"\n",
    "import os\n",
    "import time\n",
    "\n",
    "import tensorflow as tf\n",
    "\n",
    "import rlcard\n",
    "from rlcard.agents.random_agent import RandomAgent\n",
    "from rlcard.agents.dqn_agent import DQNAgent\n",
    "from rlcard.utils.logger import Logger\n",
    "from rlcard.utils.utils import set_global_seed, time_difference_good_format\n",
    "\n",
    "record_number = 11\n",
    "\n",
    "# Make environment\n",
    "env = rlcard.make('tarot')\n",
    "eval_env = rlcard.make('tarot')\n",
    "\n",
    "# Set the iterations numbers and how frequently we evaluate/save plot\n",
    "evaluate_every = 5000\n",
    "# save_plot_every = 100\n",
    "evaluate_num = 1000\n",
    "\n",
    "episode_num = 100000\n",
    "\n",
    "self_play = 1\n",
    "total_self_play_eval = int(episode_num / evaluate_every)\n",
    "\n",
    "# Set the the number of steps for collecting normalization statistics\n",
    "# and intial memory size\n",
    "memory_init_size = 5000\n",
    "norm_step = 1000\n",
    "\n",
    "# The paths for saving the logs and learning curves\n",
    "root_path = './experiments/tarot_dqn_self_played_v{}/'.format(str(record_number))\n",
    "log_path_random = root_path + 'log_random.txt'\n",
    "csv_path_random = root_path + 'performance_random.csv'\n",
    "log_path_opponent = root_path + 'log_opponent.txt'\n",
    "csv_path_opponent = root_path + 'performance_opponent.csv'\n",
    "figure_path_random = root_path + 'figures_random/'\n",
    "figure_path_opponent = root_path + 'figures_opponent/'\n",
    "\n",
    "# Model save path\n",
    "if not os.path.exists('rlcard/models'):\n",
    "    os.makedirs('rlcard/models')\n",
    "if not os.path.exists('rlcard/models/pretrained'):\n",
    "    os.makedirs('rlcard/models/pretrained')\n",
    "for self_play_init in range(1, total_self_play_eval + 1):\n",
    "    model_folder_path = 'rlcard/models/pretrained/self_played_{}/tarot_v{}'.format(\n",
    "        str(record_number),\n",
    "        str(record_number * 10000 + self_play_init))\n",
    "    if not os.path.exists(model_folder_path):\n",
    "        os.makedirs(model_folder_path)\n",
    "model_path = 'rlcard/models/pretrained/self_played_{}/tarot_v{}/model'.format(\n",
    "    str(record_number),\n",
    "    str(record_number * 10000 + self_play))\n",
    "\n",
    "# Set a global seed\n",
    "set_global_seed(0)\n",
    "\n",
    "random_agent = RandomAgent(action_num=eval_env.action_num)\n",
    "\n",
    "with tf.compat.v1.Session() as sess:\n",
    "    # Set agents\n",
    "    global_step = tf.Variable(0, name='global_step', trainable=False)\n",
    "    agent = DQNAgent(sess,\n",
    "                     scope='dqn',\n",
    "                     action_num=78,  # env.action_num,\n",
    "                     replay_memory_size=20000,\n",
    "                     replay_memory_init_size=memory_init_size,\n",
    "                     norm_step=norm_step,\n",
    "                     state_shape=env.state_shape,\n",
    "                     mlp_layers=[512, 1024, 512])\n",
    "\n",
    "    opponent_agent = agent\n",
    "\n",
    "    sess.run(tf.compat.v1.global_variables_initializer())\n",
    "\n",
    "    saver = tf.compat.v1.train.Saver()\n",
    "\n",
    "    env.set_agents([agent] + [opponent_agent] * (env.player_num - 1))\n",
    "    eval_env.set_agents([agent] + [random_agent] * (env.player_num - 1))\n",
    "\n",
    "    # Count the number of steps\n",
    "    step_counter = 0\n",
    "\n",
    "    # Init a Logger to plot the learning curve against random\n",
    "    logger_random = Logger(xlabel='timestep', ylabel='reward', legend='DQN on TAROT against Random',\n",
    "                           legend_hist='Histogram of last evaluations against Random', log_path=log_path_random,\n",
    "                           csv_path=csv_path_random)\n",
    "    # Init a Logger to plot the learning curve against last opponent\n",
    "    logger_opponent = Logger(xlabel='timestep', ylabel='reward', legend='DQN on TAROT against last agent',\n",
    "                             legend_hist='Histogram of last evaluations against last agent', log_path=log_path_opponent,\n",
    "                             csv_path=csv_path_opponent)\n",
    "\n",
    "    total_game_played = 0\n",
    "    seconds = time.time()\n",
    "\n",
    "    for episode in range(episode_num):\n",
    "        print('\\rEPISODE {} - Number of game played {} - {}'.format(episode, total_game_played,\n",
    "                                                                    time_difference_good_format(seconds, time.time())),\n",
    "              end='')\n",
    "\n",
    "        # Generate data from the environment\n",
    "        trajectories, _ = env.run(is_training=True)\n",
    "        total_game_played += 1\n",
    "\n",
    "        # Feed transitions into agent memory, and train the agent\n",
    "        for ts in trajectories[0]:\n",
    "            agent.feed(ts)\n",
    "            step_counter += 1\n",
    "\n",
    "            # Train the agent\n",
    "            train_count = step_counter - (memory_init_size + norm_step)\n",
    "            if train_count > 0:\n",
    "                loss = agent.train()\n",
    "                # print('\\rINFO - Step {}, loss: {}'.format(step_counter, loss), end='')\n",
    "\n",
    "        # Evaluate the performance.\n",
    "        if episode % evaluate_every == 0:\n",
    "            # Save Model\n",
    "            model_path = 'rlcard/models/pretrained/self_played_{}/tarot_v{}/model'.format(\n",
    "                str(record_number),\n",
    "                str(record_number * 10000 + self_play))\n",
    "\n",
    "            saver.save(sess, model_path)\n",
    "\n",
    "            # Eval against random\n",
    "            reward_random = 0\n",
    "            reward_random_list = []\n",
    "            taking_list = []\n",
    "            eval_env.set_agents([agent] + [random_agent] * (env.player_num - 1))\n",
    "            for eval_episode in range(evaluate_num):\n",
    "                print('\\rEPISODE {} - Eval Random {} over {} - Number of game played {} - {}'.format(episode,\n",
    "                                                                                                     eval_episode,\n",
    "                                                                                                     evaluate_num,\n",
    "                                                                                                     total_game_played,\n",
    "                                                                                                     time_difference_good_format(\n",
    "                                                                                                         seconds,\n",
    "                                                                                                         time.time())),\n",
    "                      end='')\n",
    "                _, payoffs = eval_env.run(is_training=False)\n",
    "                total_game_played += 1\n",
    "                reward_random_list.append(payoffs[0])\n",
    "                reward_random += payoffs[0]\n",
    "                taking_list.append(eval_env.game.players[0].taking)\n",
    "\n",
    "            logger_random.log('\\n########## Evaluation Against Random - Episode {} ##########'.format(episode))\n",
    "            logger_random.log(\n",
    "                'Timestep: {} Average reward against random is {}'.format(env.timestep,\n",
    "                                                                          float(reward_random) / evaluate_num))\n",
    "\n",
    "            # Add point to logger\n",
    "            logger_random.add_point(x=env.timestep, y=float(reward_random) / evaluate_num)\n",
    "            \n",
    "            # Make plot\n",
    "            logger_random.make_plot(save_path=figure_path_random + str(episode) + '.png')\n",
    "            logger_random.make_plot_hist(save_path_1=figure_path_random + str(episode) + '_hist.png',\n",
    "                                         save_path_2=figure_path_random + str(episode) + '_freq.png',\n",
    "                                         reward_list=reward_random_list, taking_list=taking_list)\n",
    "\n",
    "            # Eval against last agent\n",
    "            reward_opponent = 0\n",
    "            reward_opponent_list = []\n",
    "            taking_list = []\n",
    "            eval_env.set_agents([agent] + [opponent_agent] * (env.player_num - 1))\n",
    "            for eval_episode in range(evaluate_num):\n",
    "                print('\\rEPISODE {} - Eval Opponent {} over {} - Number of game played {} - {}'.format(episode,\n",
    "                                                                                                       eval_episode,\n",
    "                                                                                                       evaluate_num,\n",
    "                                                                                                       total_game_played,\n",
    "                                                                                                       time_difference_good_format(\n",
    "                                                                                                           seconds,\n",
    "                                                                                                           time.time())),\n",
    "                      end='')\n",
    "                _, payoffs = eval_env.run(is_training=False)\n",
    "                total_game_played += 1\n",
    "                reward_opponent_list.append(payoffs[0])\n",
    "                reward_opponent += payoffs[0]\n",
    "                taking_list.append(eval_env.game.players[0].taking)\n",
    "\n",
    "            logger_opponent.log('\\n########## Evaluation Against Last Agent - Episode {} ##########'.format(episode))\n",
    "            logger_opponent.log(\n",
    "                'Timestep: {} Average reward against last agent is {}'.format(env.timestep,\n",
    "                                                                              float(reward_opponent) / evaluate_num))\n",
    "\n",
    "            # Add point to logger\n",
    "            logger_opponent.add_point(x=env.timestep, y=float(reward_opponent) / evaluate_num)\n",
    "\n",
    "            # Make plot\n",
    "            logger_opponent.make_plot(save_path=figure_path_opponent + str(episode) + '.png')\n",
    "            logger_opponent.make_plot_hist(save_path_1=figure_path_opponent + str(episode) + '_hist.png',\n",
    "                                           save_path_2=figure_path_opponent + str(episode) + '_freq.png',\n",
    "                                           reward_list=reward_opponent_list, taking_list=taking_list)\n",
    "            \n",
    "            if episode % evolve_model_every == 0\n",
    "                # GO to next step\n",
    "                self_play += 1\n",
    "\n",
    "                opponent_agent = agent\n",
    "                env.set_agents([agent] + [opponent_agent] * (env.player_num - 1))\n",
    "\n",
    "    # Make the final plot\n",
    "    logger_random.make_plot(save_path=figure_path_random + 'final_' + str(episode) + '.png')\n",
    "    logger_random.make_plot_hist(save_path_1=figure_path_random + str(episode) + '_hist.png',\n",
    "                                 save_path_2=figure_path_random + str(episode) + '_freq.png',\n",
    "                                 reward_list=reward_random_list, taking_list=taking_list)\n",
    "    # Make the final plot\n",
    "    logger_opponent.make_plot(save_path=figure_path_opponent + 'final_' + str(episode) + '.png')\n",
    "    logger_opponent.make_plot_hist(save_path_1=figure_path_opponent + str(episode) + '_hist.png',\n",
    "                                   save_path_2=figure_path_opponent + str(episode) + '_freq.png',\n",
    "                                   reward_list=reward_opponent_list, taking_list=taking_list)\n"
   ]
  }
 ],
 "metadata": {
  "kernelspec": {
   "display_name": "Python 3",
   "language": "python",
   "name": "python3"
  },
  "language_info": {
   "codemirror_mode": {
    "name": "ipython",
    "version": 3
   },
   "file_extension": ".py",
   "mimetype": "text/x-python",
   "name": "python",
   "nbconvert_exporter": "python",
   "pygments_lexer": "ipython3",
   "version": "3.7.3"
  },
  "pycharm": {
   "stem_cell": {
    "cell_type": "raw",
    "metadata": {
     "collapsed": false
    },
    "source": []
   }
  }
 },
 "nbformat": 4,
 "nbformat_minor": 4
}

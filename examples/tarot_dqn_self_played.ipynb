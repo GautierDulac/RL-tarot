{
 "cells": [
  {
   "cell_type": "code",
   "execution_count": 1,
   "metadata": {},
   "outputs": [
    {
     "name": "stdout",
     "output_type": "stream",
     "text": [
      "/home/jovyan/personal_project/RL-tarot\n"
     ]
    }
   ],
   "source": [
    "%cd .."
   ]
  },
  {
   "cell_type": "code",
   "execution_count": null,
   "metadata": {},
   "outputs": [
    {
     "name": "stdout",
     "output_type": "stream",
     "text": [
      "WARNING:tensorflow:From /opt/conda/lib/python3.7/site-packages/tensorflow/python/framework/op_def_library.py:263: colocate_with (from tensorflow.python.framework.ops) is deprecated and will be removed in a future version.\n",
      "Instructions for updating:\n",
      "Colocations handled automatically by placer.\n",
      "\n",
      "WARNING: The TensorFlow contrib module will not be included in TensorFlow 2.0.\n",
      "For more information, please see:\n",
      "  * https://github.com/tensorflow/community/blob/master/rfcs/20180907-contrib-sunset.md\n",
      "  * https://github.com/tensorflow/addons\n",
      "If you depend on functionality not listed there, please file an issue.\n",
      "\n",
      "WARNING:tensorflow:From /opt/conda/lib/python3.7/site-packages/tensorflow/contrib/layers/python/layers/layers.py:1624: flatten (from tensorflow.python.layers.core) is deprecated and will be removed in a future version.\n",
      "Instructions for updating:\n",
      "Use keras.layers.flatten instead.\n",
      "WARNING:tensorflow:From /opt/conda/lib/python3.7/site-packages/tensorflow/python/ops/array_grad.py:425: to_int32 (from tensorflow.python.ops.math_ops) is deprecated and will be removed in a future version.\n",
      "Instructions for updating:\n",
      "Use tf.cast instead.\n"
     ]
    },
    {
     "name": "stderr",
     "output_type": "stream",
     "text": [
      "/opt/conda/lib/python3.7/site-packages/tensorflow/python/ops/gradients_impl.py:110: UserWarning: Converting sparse IndexedSlices to a dense Tensor of unknown shape. This may consume a large amount of memory.\n",
      "  \"Converting sparse IndexedSlices to a dense Tensor of unknown shape. \"\n",
      "/opt/conda/lib/python3.7/site-packages/tensorflow/python/ops/gradients_impl.py:110: UserWarning: Converting sparse IndexedSlices to a dense Tensor of unknown shape. This may consume a large amount of memory.\n",
      "  \"Converting sparse IndexedSlices to a dense Tensor of unknown shape. \"\n"
     ]
    },
    {
     "name": "stdout",
     "output_type": "stream",
     "text": [
      "EPISODE 0 - Eval Random 999 over 1000 - Number of game played 1000 - 35 seconds\n",
      "########## Evaluation Against Random - Episode 0 ##########\n",
      "Timestep: 79 Average reward against random is 1.719\n",
      "EPISODE 0 - Eval Opponent 999 over 1000 - Number of game played 2000 - 2 minutes and 2 seconds\n",
      "########## Evaluation Against Last Agent - Episode 0 ##########\n",
      "Timestep: 79 Average reward against last agent is 2.386\n",
      "EPISODE 500 - Eval Random 999 over 1000 - Number of game played 3500 - 4 minutes and 15 seconds\n",
      "########## Evaluation Against Random - Episode 500 ##########\n",
      "Timestep: 40107 Average reward against random is 1.186\n",
      "EPISODE 500 - Eval Opponent 999 over 1000 - Number of game played 4500 - 5 minutes and 40 seconds\n",
      "########## Evaluation Against Last Agent - Episode 500 ##########\n",
      "Timestep: 40107 Average reward against last agent is 2.491\n"
     ]
    },
    {
     "name": "stderr",
     "output_type": "stream",
     "text": [
      "/opt/conda/lib/python3.7/site-packages/matplotlib/pyplot.py:1479: UserWarning: Attempting to set identical bottom==top results\n",
      "in singular transformations; automatically expanding.\n",
      "bottom=0, top=0\n",
      "  ret = ax.set_ylim(*args, **kwargs)\n"
     ]
    },
    {
     "name": "stdout",
     "output_type": "stream",
     "text": [
      "EPISODE 1000 - Eval Random 999 over 1000 - Number of game played 6000 - 8 minutes and 58 seconds\n",
      "########## Evaluation Against Random - Episode 1000 ##########\n",
      "Timestep: 80109 Average reward against random is 1.428\n",
      "EPISODE 1000 - Eval Opponent 999 over 1000 - Number of game played 7000 - 10 minutes and 23 seconds\n",
      "########## Evaluation Against Last Agent - Episode 1000 ##########\n",
      "Timestep: 80109 Average reward against last agent is 2.415\n"
     ]
    },
    {
     "name": "stderr",
     "output_type": "stream",
     "text": [
      "/opt/conda/lib/python3.7/site-packages/matplotlib/pyplot.py:1479: UserWarning: Attempting to set identical bottom==top results\n",
      "in singular transformations; automatically expanding.\n",
      "bottom=0, top=0\n",
      "  ret = ax.set_ylim(*args, **kwargs)\n"
     ]
    },
    {
     "name": "stdout",
     "output_type": "stream",
     "text": [
      "EPISODE 1500 - Eval Random 999 over 1000 - Number of game played 8500 - 13 minutes and 41 seconds\n",
      "########## Evaluation Against Random - Episode 1500 ##########\n",
      "Timestep: 120140 Average reward against random is 1.61\n",
      "EPISODE 1500 - Eval Opponent 999 over 1000 - Number of game played 9500 - 15 minutes and 6 secondss\n",
      "########## Evaluation Against Last Agent - Episode 1500 ##########\n",
      "Timestep: 120140 Average reward against last agent is 2.496\n"
     ]
    },
    {
     "name": "stderr",
     "output_type": "stream",
     "text": [
      "/opt/conda/lib/python3.7/site-packages/matplotlib/pyplot.py:1479: UserWarning: Attempting to set identical bottom==top results\n",
      "in singular transformations; automatically expanding.\n",
      "bottom=0, top=0\n",
      "  ret = ax.set_ylim(*args, **kwargs)\n"
     ]
    },
    {
     "name": "stdout",
     "output_type": "stream",
     "text": [
      "EPISODE 2000 - Eval Random 999 over 1000 - Number of game played 11000 - 18 minutes and 20 seconds\n",
      "########## Evaluation Against Random - Episode 2000 ##########\n",
      "Timestep: 160172 Average reward against random is 1.259\n",
      "EPISODE 2000 - Eval Opponent 999 over 1000 - Number of game played 12000 - 19 minutes and 45 seconds\n",
      "########## Evaluation Against Last Agent - Episode 2000 ##########\n",
      "Timestep: 160172 Average reward against last agent is 2.482\n"
     ]
    },
    {
     "name": "stderr",
     "output_type": "stream",
     "text": [
      "/opt/conda/lib/python3.7/site-packages/matplotlib/pyplot.py:1479: UserWarning: Attempting to set identical bottom==top results\n",
      "in singular transformations; automatically expanding.\n",
      "bottom=0, top=0\n",
      "  ret = ax.set_ylim(*args, **kwargs)\n"
     ]
    },
    {
     "name": "stdout",
     "output_type": "stream",
     "text": [
      "EPISODE 2500 - Eval Random 999 over 1000 - Number of game played 13500 - 22 minutes and 59 seconds\n",
      "########## Evaluation Against Random - Episode 2500 ##########\n",
      "Timestep: 200186 Average reward against random is 1.454\n",
      "EPISODE 2500 - Eval Opponent 999 over 1000 - Number of game played 14500 - 24 minutes and 25 seconds\n",
      "########## Evaluation Against Last Agent - Episode 2500 ##########\n",
      "Timestep: 200186 Average reward against last agent is 2.713\n"
     ]
    },
    {
     "name": "stderr",
     "output_type": "stream",
     "text": [
      "/opt/conda/lib/python3.7/site-packages/matplotlib/pyplot.py:1479: UserWarning: Attempting to set identical bottom==top results\n",
      "in singular transformations; automatically expanding.\n",
      "bottom=0, top=0\n",
      "  ret = ax.set_ylim(*args, **kwargs)\n"
     ]
    },
    {
     "name": "stdout",
     "output_type": "stream",
     "text": [
      "EPISODE 3000 - Eval Random 999 over 1000 - Number of game played 16000 - 27 minutes and 39 seconds\n",
      "########## Evaluation Against Random - Episode 3000 ##########\n",
      "Timestep: 240143 Average reward against random is 1.31\n",
      "EPISODE 3000 - Eval Opponent 999 over 1000 - Number of game played 17000 - 29 minutes and 5 secondss\n",
      "########## Evaluation Against Last Agent - Episode 3000 ##########\n",
      "Timestep: 240143 Average reward against last agent is 2.378\n"
     ]
    },
    {
     "name": "stderr",
     "output_type": "stream",
     "text": [
      "/opt/conda/lib/python3.7/site-packages/matplotlib/pyplot.py:1479: UserWarning: Attempting to set identical bottom==top results\n",
      "in singular transformations; automatically expanding.\n",
      "bottom=0, top=0\n",
      "  ret = ax.set_ylim(*args, **kwargs)\n"
     ]
    },
    {
     "name": "stdout",
     "output_type": "stream",
     "text": [
      "EPISODE 3500 - Eval Random 999 over 1000 - Number of game played 18500 - 32 minutes and 17 seconds\n",
      "########## Evaluation Against Random - Episode 3500 ##########\n",
      "Timestep: 280113 Average reward against random is 1.318\n",
      "EPISODE 3500 - Eval Opponent 999 over 1000 - Number of game played 19500 - 33 minutes and 43 seconds\n",
      "########## Evaluation Against Last Agent - Episode 3500 ##########\n",
      "Timestep: 280113 Average reward against last agent is 2.398\n"
     ]
    },
    {
     "name": "stderr",
     "output_type": "stream",
     "text": [
      "/opt/conda/lib/python3.7/site-packages/matplotlib/pyplot.py:1479: UserWarning: Attempting to set identical bottom==top results\n",
      "in singular transformations; automatically expanding.\n",
      "bottom=0, top=0\n",
      "  ret = ax.set_ylim(*args, **kwargs)\n"
     ]
    },
    {
     "name": "stdout",
     "output_type": "stream",
     "text": [
      "EPISODE 4000 - Eval Random 999 over 1000 - Number of game played 21000 - 36 minutes and 54 seconds\n",
      "########## Evaluation Against Random - Episode 4000 ##########\n",
      "Timestep: 320118 Average reward against random is 1.188\n",
      "EPISODE 4000 - Eval Opponent 999 over 1000 - Number of game played 22000 - 38 minutes and 19 seconds\n",
      "########## Evaluation Against Last Agent - Episode 4000 ##########\n",
      "Timestep: 320118 Average reward against last agent is 2.558\n"
     ]
    },
    {
     "name": "stderr",
     "output_type": "stream",
     "text": [
      "/opt/conda/lib/python3.7/site-packages/matplotlib/pyplot.py:1479: UserWarning: Attempting to set identical bottom==top results\n",
      "in singular transformations; automatically expanding.\n",
      "bottom=0, top=0\n",
      "  ret = ax.set_ylim(*args, **kwargs)\n"
     ]
    },
    {
     "name": "stdout",
     "output_type": "stream",
     "text": [
      "EPISODE 4500 - Eval Random 999 over 1000 - Number of game played 23500 - 41 minutes and 33 seconds\n",
      "########## Evaluation Against Random - Episode 4500 ##########\n",
      "Timestep: 360103 Average reward against random is 1.189\n",
      "EPISODE 4500 - Eval Opponent 999 over 1000 - Number of game played 24500 - 42 minutes and 58 seconds\n",
      "########## Evaluation Against Last Agent - Episode 4500 ##########\n",
      "Timestep: 360103 Average reward against last agent is 2.437\n"
     ]
    },
    {
     "name": "stderr",
     "output_type": "stream",
     "text": [
      "/opt/conda/lib/python3.7/site-packages/matplotlib/pyplot.py:1479: UserWarning: Attempting to set identical bottom==top results\n",
      "in singular transformations; automatically expanding.\n",
      "bottom=0, top=0\n",
      "  ret = ax.set_ylim(*args, **kwargs)\n"
     ]
    },
    {
     "name": "stdout",
     "output_type": "stream",
     "text": [
      "EPISODE 5000 - Eval Random 999 over 1000 - Number of game played 26000 - 46 minutes and 11 seconds\n",
      "########## Evaluation Against Random - Episode 5000 ##########\n",
      "Timestep: 400119 Average reward against random is 1.25\n",
      "EPISODE 5000 - Eval Opponent 999 over 1000 - Number of game played 27000 - 47 minutes and 38 seconds\n",
      "########## Evaluation Against Last Agent - Episode 5000 ##########\n",
      "Timestep: 400119 Average reward against last agent is 2.494\n"
     ]
    },
    {
     "name": "stderr",
     "output_type": "stream",
     "text": [
      "/opt/conda/lib/python3.7/site-packages/matplotlib/pyplot.py:1479: UserWarning: Attempting to set identical bottom==top results\n",
      "in singular transformations; automatically expanding.\n",
      "bottom=0, top=0\n",
      "  ret = ax.set_ylim(*args, **kwargs)\n"
     ]
    },
    {
     "name": "stdout",
     "output_type": "stream",
     "text": [
      "\n",
      "########## Changing model - Using Model 2 as opponent ##########\n",
      "\n",
      "########## Changing model - Using Model 2 as opponent ##########\n",
      "EPISODE 5500 - Eval Random 999 over 1000 - Number of game played 28500 - 50 minutes and 51 seconds\n",
      "########## Evaluation Against Random - Episode 5500 ##########\n",
      "Timestep: 440131 Average reward against random is 1.332\n",
      "EPISODE 5500 - Eval Opponent 999 over 1000 - Number of game played 29500 - 52 minutes and 18 seconds\n",
      "########## Evaluation Against Last Agent - Episode 5500 ##########\n",
      "Timestep: 440131 Average reward against last agent is 2.329\n"
     ]
    },
    {
     "name": "stderr",
     "output_type": "stream",
     "text": [
      "/opt/conda/lib/python3.7/site-packages/matplotlib/pyplot.py:1479: UserWarning: Attempting to set identical bottom==top results\n",
      "in singular transformations; automatically expanding.\n",
      "bottom=0, top=0\n",
      "  ret = ax.set_ylim(*args, **kwargs)\n"
     ]
    },
    {
     "name": "stdout",
     "output_type": "stream",
     "text": [
      "EPISODE 6000 - Eval Random 999 over 1000 - Number of game played 31000 - 55 minutes and 29 seconds\n",
      "########## Evaluation Against Random - Episode 6000 ##########\n",
      "Timestep: 480194 Average reward against random is 1.36\n",
      "EPISODE 6000 - Eval Opponent 999 over 1000 - Number of game played 32000 - 56 minutes and 55 seconds\n",
      "########## Evaluation Against Last Agent - Episode 6000 ##########\n",
      "Timestep: 480194 Average reward against last agent is 2.531\n"
     ]
    },
    {
     "name": "stderr",
     "output_type": "stream",
     "text": [
      "/opt/conda/lib/python3.7/site-packages/matplotlib/pyplot.py:1479: UserWarning: Attempting to set identical bottom==top results\n",
      "in singular transformations; automatically expanding.\n",
      "bottom=0, top=0\n",
      "  ret = ax.set_ylim(*args, **kwargs)\n"
     ]
    },
    {
     "name": "stdout",
     "output_type": "stream",
     "text": [
      "EPISODE 6500 - Eval Random 999 over 1000 - Number of game played 33500 - 1 hour, 0 minute and 7 seconds\n",
      "########## Evaluation Against Random - Episode 6500 ##########\n",
      "Timestep: 520183 Average reward against random is 1.074\n",
      "EPISODE 6500 - Eval Opponent 999 over 1000 - Number of game played 34500 - 1 hour, 1 minute and 33 seconds\n",
      "########## Evaluation Against Last Agent - Episode 6500 ##########\n",
      "Timestep: 520183 Average reward against last agent is 2.653\n"
     ]
    },
    {
     "name": "stderr",
     "output_type": "stream",
     "text": [
      "/opt/conda/lib/python3.7/site-packages/matplotlib/pyplot.py:1479: UserWarning: Attempting to set identical bottom==top results\n",
      "in singular transformations; automatically expanding.\n",
      "bottom=0, top=0\n",
      "  ret = ax.set_ylim(*args, **kwargs)\n"
     ]
    },
    {
     "name": "stdout",
     "output_type": "stream",
     "text": [
      "EPISODE 7000 - Eval Random 999 over 1000 - Number of game played 36000 - 1 hour, 4 minutes and 45 seconds\n",
      "########## Evaluation Against Random - Episode 7000 ##########\n",
      "Timestep: 560173 Average reward against random is 2.455\n"
     ]
    },
    {
     "name": "stderr",
     "output_type": "stream",
     "text": [
      "/opt/conda/lib/python3.7/site-packages/matplotlib/pyplot.py:1479: UserWarning: Attempting to set identical bottom==top results\n",
      "in singular transformations; automatically expanding.\n",
      "bottom=0, top=0\n",
      "  ret = ax.set_ylim(*args, **kwargs)\n"
     ]
    },
    {
     "name": "stdout",
     "output_type": "stream",
     "text": [
      "EPISODE 7000 - Eval Opponent 999 over 1000 - Number of game played 37000 - 1 hour, 6 minutes and 11 seconds\n",
      "########## Evaluation Against Last Agent - Episode 7000 ##########\n",
      "Timestep: 560173 Average reward against last agent is 2.525\n"
     ]
    },
    {
     "name": "stderr",
     "output_type": "stream",
     "text": [
      "/opt/conda/lib/python3.7/site-packages/matplotlib/pyplot.py:1479: UserWarning: Attempting to set identical bottom==top results\n",
      "in singular transformations; automatically expanding.\n",
      "bottom=0, top=0\n",
      "  ret = ax.set_ylim(*args, **kwargs)\n"
     ]
    },
    {
     "name": "stdout",
     "output_type": "stream",
     "text": [
      "EPISODE 7500 - Eval Random 999 over 1000 - Number of game played 38500 - 1 hour, 9 minutes and 21 seconds\n",
      "########## Evaluation Against Random - Episode 7500 ##########\n",
      "Timestep: 600151 Average reward against random is 2.465\n"
     ]
    },
    {
     "name": "stderr",
     "output_type": "stream",
     "text": [
      "/opt/conda/lib/python3.7/site-packages/matplotlib/pyplot.py:1479: UserWarning: Attempting to set identical bottom==top results\n",
      "in singular transformations; automatically expanding.\n",
      "bottom=0, top=0\n",
      "  ret = ax.set_ylim(*args, **kwargs)\n"
     ]
    },
    {
     "name": "stdout",
     "output_type": "stream",
     "text": [
      "EPISODE 7500 - Eval Opponent 999 over 1000 - Number of game played 39500 - 1 hour, 10 minutes and 46 seconds\n",
      "########## Evaluation Against Last Agent - Episode 7500 ##########\n",
      "Timestep: 600151 Average reward against last agent is 2.44\n"
     ]
    },
    {
     "name": "stderr",
     "output_type": "stream",
     "text": [
      "/opt/conda/lib/python3.7/site-packages/matplotlib/pyplot.py:1479: UserWarning: Attempting to set identical bottom==top results\n",
      "in singular transformations; automatically expanding.\n",
      "bottom=0, top=0\n",
      "  ret = ax.set_ylim(*args, **kwargs)\n"
     ]
    },
    {
     "name": "stdout",
     "output_type": "stream",
     "text": [
      "EPISODE 8000 - Eval Random 999 over 1000 - Number of game played 41000 - 1 hour, 13 minutes and 59 seconds\n",
      "########## Evaluation Against Random - Episode 8000 ##########\n",
      "Timestep: 640122 Average reward against random is 2.616\n"
     ]
    },
    {
     "name": "stderr",
     "output_type": "stream",
     "text": [
      "/opt/conda/lib/python3.7/site-packages/matplotlib/pyplot.py:1479: UserWarning: Attempting to set identical bottom==top results\n",
      "in singular transformations; automatically expanding.\n",
      "bottom=0, top=0\n",
      "  ret = ax.set_ylim(*args, **kwargs)\n"
     ]
    },
    {
     "name": "stdout",
     "output_type": "stream",
     "text": [
      "EPISODE 8000 - Eval Opponent 999 over 1000 - Number of game played 42000 - 1 hour, 15 minutes and 24 seconds\n",
      "########## Evaluation Against Last Agent - Episode 8000 ##########\n",
      "Timestep: 640122 Average reward against last agent is 2.407\n"
     ]
    },
    {
     "name": "stderr",
     "output_type": "stream",
     "text": [
      "/opt/conda/lib/python3.7/site-packages/matplotlib/pyplot.py:1479: UserWarning: Attempting to set identical bottom==top results\n",
      "in singular transformations; automatically expanding.\n",
      "bottom=0, top=0\n",
      "  ret = ax.set_ylim(*args, **kwargs)\n"
     ]
    },
    {
     "name": "stdout",
     "output_type": "stream",
     "text": [
      "EPISODE 8500 - Eval Random 999 over 1000 - Number of game played 43500 - 1 hour, 18 minutes and 37 seconds\n",
      "########## Evaluation Against Random - Episode 8500 ##########\n",
      "Timestep: 680146 Average reward against random is 2.597\n"
     ]
    },
    {
     "name": "stderr",
     "output_type": "stream",
     "text": [
      "/opt/conda/lib/python3.7/site-packages/matplotlib/pyplot.py:1479: UserWarning: Attempting to set identical bottom==top results\n",
      "in singular transformations; automatically expanding.\n",
      "bottom=0, top=0\n",
      "  ret = ax.set_ylim(*args, **kwargs)\n"
     ]
    },
    {
     "name": "stdout",
     "output_type": "stream",
     "text": [
      "EPISODE 8500 - Eval Opponent 999 over 1000 - Number of game played 44500 - 1 hour, 20 minutes and 2 secondss\n",
      "########## Evaluation Against Last Agent - Episode 8500 ##########\n",
      "Timestep: 680146 Average reward against last agent is 2.41\n"
     ]
    },
    {
     "name": "stderr",
     "output_type": "stream",
     "text": [
      "/opt/conda/lib/python3.7/site-packages/matplotlib/pyplot.py:1479: UserWarning: Attempting to set identical bottom==top results\n",
      "in singular transformations; automatically expanding.\n",
      "bottom=0, top=0\n",
      "  ret = ax.set_ylim(*args, **kwargs)\n"
     ]
    },
    {
     "name": "stdout",
     "output_type": "stream",
     "text": [
      "EPISODE 9000 - Eval Random 999 over 1000 - Number of game played 46000 - 1 hour, 23 minutes and 16 seconds\n",
      "########## Evaluation Against Random - Episode 9000 ##########\n",
      "Timestep: 720152 Average reward against random is 1.37\n",
      "EPISODE 9000 - Eval Opponent 999 over 1000 - Number of game played 47000 - 1 hour, 24 minutes and 41 seconds\n",
      "########## Evaluation Against Last Agent - Episode 9000 ##########\n",
      "Timestep: 720152 Average reward against last agent is 2.339\n"
     ]
    },
    {
     "name": "stderr",
     "output_type": "stream",
     "text": [
      "/opt/conda/lib/python3.7/site-packages/matplotlib/pyplot.py:1479: UserWarning: Attempting to set identical bottom==top results\n",
      "in singular transformations; automatically expanding.\n",
      "bottom=0, top=0\n",
      "  ret = ax.set_ylim(*args, **kwargs)\n"
     ]
    },
    {
     "name": "stdout",
     "output_type": "stream",
     "text": [
      "EPISODE 9500 - Eval Random 999 over 1000 - Number of game played 48500 - 1 hour, 27 minutes and 55 seconds\n",
      "########## Evaluation Against Random - Episode 9500 ##########\n",
      "Timestep: 760135 Average reward against random is 1.219\n",
      "EPISODE 9500 - Eval Opponent 999 over 1000 - Number of game played 49500 - 1 hour, 29 minutes and 21 seconds\n",
      "########## Evaluation Against Last Agent - Episode 9500 ##########\n",
      "Timestep: 760135 Average reward against last agent is 2.777\n"
     ]
    },
    {
     "name": "stderr",
     "output_type": "stream",
     "text": [
      "/opt/conda/lib/python3.7/site-packages/matplotlib/pyplot.py:1479: UserWarning: Attempting to set identical bottom==top results\n",
      "in singular transformations; automatically expanding.\n",
      "bottom=0, top=0\n",
      "  ret = ax.set_ylim(*args, **kwargs)\n"
     ]
    },
    {
     "name": "stdout",
     "output_type": "stream",
     "text": [
      "EPISODE 10000 - Eval Random 999 over 1000 - Number of game played 51000 - 1 hour, 32 minutes and 33 seconds\n",
      "########## Evaluation Against Random - Episode 10000 ##########\n",
      "Timestep: 800126 Average reward against random is 1.568\n",
      "EPISODE 10000 - Eval Opponent 999 over 1000 - Number of game played 52000 - 1 hour, 34 minutes and 0 secondds\n",
      "########## Evaluation Against Last Agent - Episode 10000 ##########\n",
      "Timestep: 800126 Average reward against last agent is 2.15\n"
     ]
    },
    {
     "name": "stderr",
     "output_type": "stream",
     "text": [
      "/opt/conda/lib/python3.7/site-packages/matplotlib/pyplot.py:1479: UserWarning: Attempting to set identical bottom==top results\n",
      "in singular transformations; automatically expanding.\n",
      "bottom=0, top=0\n",
      "  ret = ax.set_ylim(*args, **kwargs)\n"
     ]
    },
    {
     "name": "stdout",
     "output_type": "stream",
     "text": [
      "\n",
      "########## Changing model - Using Model 3 as opponent ##########\n",
      "\n",
      "########## Changing model - Using Model 3 as opponent ##########\n",
      "EPISODE 10500 - Eval Random 999 over 1000 - Number of game played 53500 - 1 hour, 37 minutes and 12 seconds\n",
      "########## Evaluation Against Random - Episode 10500 ##########\n",
      "Timestep: 840170 Average reward against random is 1.223\n",
      "EPISODE 10500 - Eval Opponent 999 over 1000 - Number of game played 54500 - 1 hour, 38 minutes and 38 seconds\n",
      "########## Evaluation Against Last Agent - Episode 10500 ##########\n",
      "Timestep: 840170 Average reward against last agent is 2.307\n"
     ]
    },
    {
     "name": "stderr",
     "output_type": "stream",
     "text": [
      "/opt/conda/lib/python3.7/site-packages/matplotlib/pyplot.py:1479: UserWarning: Attempting to set identical bottom==top results\n",
      "in singular transformations; automatically expanding.\n",
      "bottom=0, top=0\n",
      "  ret = ax.set_ylim(*args, **kwargs)\n"
     ]
    },
    {
     "name": "stdout",
     "output_type": "stream",
     "text": [
      "EPISODE 11000 - Eval Random 999 over 1000 - Number of game played 56000 - 1 hour, 41 minutes and 52 seconds\n",
      "########## Evaluation Against Random - Episode 11000 ##########\n",
      "Timestep: 880139 Average reward against random is 1.296\n",
      "EPISODE 11000 - Eval Opponent 999 over 1000 - Number of game played 57000 - 1 hour, 43 minutes and 19 seconds\n",
      "########## Evaluation Against Last Agent - Episode 11000 ##########\n",
      "Timestep: 880139 Average reward against last agent is 2.445\n"
     ]
    },
    {
     "name": "stderr",
     "output_type": "stream",
     "text": [
      "/opt/conda/lib/python3.7/site-packages/matplotlib/pyplot.py:1479: UserWarning: Attempting to set identical bottom==top results\n",
      "in singular transformations; automatically expanding.\n",
      "bottom=0, top=0\n",
      "  ret = ax.set_ylim(*args, **kwargs)\n"
     ]
    },
    {
     "name": "stdout",
     "output_type": "stream",
     "text": [
      "EPISODE 11500 - Eval Random 999 over 1000 - Number of game played 58500 - 1 hour, 46 minutes and 32 seconds\n",
      "########## Evaluation Against Random - Episode 11500 ##########\n",
      "Timestep: 920194 Average reward against random is 1.224\n",
      "EPISODE 11500 - Eval Opponent 999 over 1000 - Number of game played 59500 - 1 hour, 47 minutes and 59 seconds\n",
      "########## Evaluation Against Last Agent - Episode 11500 ##########\n",
      "Timestep: 920194 Average reward against last agent is 2.471\n"
     ]
    },
    {
     "name": "stderr",
     "output_type": "stream",
     "text": [
      "/opt/conda/lib/python3.7/site-packages/matplotlib/pyplot.py:1479: UserWarning: Attempting to set identical bottom==top results\n",
      "in singular transformations; automatically expanding.\n",
      "bottom=0, top=0\n",
      "  ret = ax.set_ylim(*args, **kwargs)\n"
     ]
    },
    {
     "name": "stdout",
     "output_type": "stream",
     "text": [
      "EPISODE 12000 - Eval Random 999 over 1000 - Number of game played 61000 - 1 hour, 51 minutes and 12 seconds\n",
      "########## Evaluation Against Random - Episode 12000 ##########\n",
      "Timestep: 960201 Average reward against random is 1.542\n",
      "EPISODE 12000 - Eval Opponent 999 over 1000 - Number of game played 62000 - 1 hour, 52 minutes and 40 seconds\n",
      "########## Evaluation Against Last Agent - Episode 12000 ##########\n",
      "Timestep: 960201 Average reward against last agent is 2.328\n"
     ]
    },
    {
     "name": "stderr",
     "output_type": "stream",
     "text": [
      "/opt/conda/lib/python3.7/site-packages/matplotlib/pyplot.py:1479: UserWarning: Attempting to set identical bottom==top results\n",
      "in singular transformations; automatically expanding.\n",
      "bottom=0, top=0\n",
      "  ret = ax.set_ylim(*args, **kwargs)\n"
     ]
    },
    {
     "name": "stdout",
     "output_type": "stream",
     "text": [
      "EPISODE 12500 - Eval Random 999 over 1000 - Number of game played 63500 - 1 hour, 55 minutes and 53 seconds\n",
      "########## Evaluation Against Random - Episode 12500 ##########\n",
      "Timestep: 1000251 Average reward against random is 1.087\n",
      "EPISODE 12500 - Eval Opponent 999 over 1000 - Number of game played 64500 - 1 hour, 57 minutes and 20 seconds\n",
      "########## Evaluation Against Last Agent - Episode 12500 ##########\n",
      "Timestep: 1000251 Average reward against last agent is 2.604\n"
     ]
    },
    {
     "name": "stderr",
     "output_type": "stream",
     "text": [
      "/opt/conda/lib/python3.7/site-packages/matplotlib/pyplot.py:1479: UserWarning: Attempting to set identical bottom==top results\n",
      "in singular transformations; automatically expanding.\n",
      "bottom=0, top=0\n",
      "  ret = ax.set_ylim(*args, **kwargs)\n"
     ]
    },
    {
     "name": "stdout",
     "output_type": "stream",
     "text": [
      "EPISODE 13000 - Eval Random 999 over 1000 - Number of game played 66000 - 2 hours, 0 minute and 34 seconds\n",
      "########## Evaluation Against Random - Episode 13000 ##########\n",
      "Timestep: 1040249 Average reward against random is 1.363\n",
      "EPISODE 13000 - Eval Opponent 999 over 1000 - Number of game played 67000 - 2 hours, 2 minutes and 3 seconds\n",
      "########## Evaluation Against Last Agent - Episode 13000 ##########\n",
      "Timestep: 1040249 Average reward against last agent is 2.638\n"
     ]
    },
    {
     "name": "stderr",
     "output_type": "stream",
     "text": [
      "/opt/conda/lib/python3.7/site-packages/matplotlib/pyplot.py:1479: UserWarning: Attempting to set identical bottom==top results\n",
      "in singular transformations; automatically expanding.\n",
      "bottom=0, top=0\n",
      "  ret = ax.set_ylim(*args, **kwargs)\n"
     ]
    },
    {
     "name": "stdout",
     "output_type": "stream",
     "text": [
      "EPISODE 13500 - Eval Random 999 over 1000 - Number of game played 68500 - 2 hours, 5 minutes and 18 seconds\n",
      "########## Evaluation Against Random - Episode 13500 ##########\n",
      "Timestep: 1080249 Average reward against random is 1.392\n",
      "EPISODE 13500 - Eval Opponent 999 over 1000 - Number of game played 69500 - 2 hours, 6 minutes and 44 seconds\n",
      "########## Evaluation Against Last Agent - Episode 13500 ##########\n",
      "Timestep: 1080249 Average reward against last agent is 2.359\n"
     ]
    },
    {
     "name": "stderr",
     "output_type": "stream",
     "text": [
      "/opt/conda/lib/python3.7/site-packages/matplotlib/pyplot.py:1479: UserWarning: Attempting to set identical bottom==top results\n",
      "in singular transformations; automatically expanding.\n",
      "bottom=0, top=0\n",
      "  ret = ax.set_ylim(*args, **kwargs)\n"
     ]
    },
    {
     "name": "stdout",
     "output_type": "stream",
     "text": [
      "EPISODE 14000 - Eval Random 999 over 1000 - Number of game played 71000 - 2 hours, 10 minutes and 0 seconds\n",
      "########## Evaluation Against Random - Episode 14000 ##########\n",
      "Timestep: 1120249 Average reward against random is 1.092\n",
      "EPISODE 14000 - Eval Opponent 999 over 1000 - Number of game played 72000 - 2 hours, 11 minutes and 27 seconds\n",
      "########## Evaluation Against Last Agent - Episode 14000 ##########\n",
      "Timestep: 1120249 Average reward against last agent is 2.672\n"
     ]
    },
    {
     "name": "stderr",
     "output_type": "stream",
     "text": [
      "/opt/conda/lib/python3.7/site-packages/matplotlib/pyplot.py:1479: UserWarning: Attempting to set identical bottom==top results\n",
      "in singular transformations; automatically expanding.\n",
      "bottom=0, top=0\n",
      "  ret = ax.set_ylim(*args, **kwargs)\n"
     ]
    },
    {
     "name": "stdout",
     "output_type": "stream",
     "text": [
      "EPISODE 14500 - Eval Random 999 over 1000 - Number of game played 73500 - 2 hours, 14 minutes and 41 seconds\n",
      "########## Evaluation Against Random - Episode 14500 ##########\n",
      "Timestep: 1160242 Average reward against random is 1.456\n",
      "EPISODE 14500 - Eval Opponent 999 over 1000 - Number of game played 74500 - 2 hours, 16 minutes and 8 secondss\n",
      "########## Evaluation Against Last Agent - Episode 14500 ##########\n",
      "Timestep: 1160242 Average reward against last agent is 2.805\n"
     ]
    },
    {
     "name": "stderr",
     "output_type": "stream",
     "text": [
      "/opt/conda/lib/python3.7/site-packages/matplotlib/pyplot.py:1479: UserWarning: Attempting to set identical bottom==top results\n",
      "in singular transformations; automatically expanding.\n",
      "bottom=0, top=0\n",
      "  ret = ax.set_ylim(*args, **kwargs)\n"
     ]
    },
    {
     "name": "stdout",
     "output_type": "stream",
     "text": [
      "EPISODE 15000 - Eval Random 999 over 1000 - Number of game played 76000 - 2 hours, 19 minutes and 24 seconds\n",
      "########## Evaluation Against Random - Episode 15000 ##########\n",
      "Timestep: 1200271 Average reward against random is 2.453\n"
     ]
    },
    {
     "name": "stderr",
     "output_type": "stream",
     "text": [
      "/opt/conda/lib/python3.7/site-packages/matplotlib/pyplot.py:1479: UserWarning: Attempting to set identical bottom==top results\n",
      "in singular transformations; automatically expanding.\n",
      "bottom=0, top=0\n",
      "  ret = ax.set_ylim(*args, **kwargs)\n"
     ]
    },
    {
     "name": "stdout",
     "output_type": "stream",
     "text": [
      "EPISODE 15000 - Eval Opponent 999 over 1000 - Number of game played 77000 - 2 hours, 36 minutes and 59 seconds\n",
      "########## Evaluation Against Last Agent - Episode 15000 ##########\n",
      "Timestep: 1200271 Average reward against last agent is 0.179\n",
      "\n",
      "########## Changing model - Using Model 4 as opponent ##########\n",
      "\n",
      "########## Changing model - Using Model 4 as opponent ##########\n",
      "EPISODE 15500 - Eval Random 999 over 1000 - Number of game played 78500 - 2 hours, 40 minutes and 14 seconds\n",
      "########## Evaluation Against Random - Episode 15500 ##########\n",
      "Timestep: 1240260 Average reward against random is 1.395\n",
      "EPISODE 15500 - Eval Opponent 999 over 1000 - Number of game played 79500 - 2 hours, 41 minutes and 40 seconds\n",
      "########## Evaluation Against Last Agent - Episode 15500 ##########\n",
      "Timestep: 1240260 Average reward against last agent is 2.343\n"
     ]
    },
    {
     "name": "stderr",
     "output_type": "stream",
     "text": [
      "/opt/conda/lib/python3.7/site-packages/matplotlib/pyplot.py:1479: UserWarning: Attempting to set identical bottom==top results\n",
      "in singular transformations; automatically expanding.\n",
      "bottom=0, top=0\n",
      "  ret = ax.set_ylim(*args, **kwargs)\n"
     ]
    },
    {
     "name": "stdout",
     "output_type": "stream",
     "text": [
      "EPISODE 16000 - Eval Random 999 over 1000 - Number of game played 81000 - 2 hours, 44 minutes and 53 seconds\n",
      "########## Evaluation Against Random - Episode 16000 ##########\n",
      "Timestep: 1280226 Average reward against random is 1.065\n",
      "EPISODE 16000 - Eval Opponent 999 over 1000 - Number of game played 82000 - 2 hours, 46 minutes and 19 seconds\n",
      "########## Evaluation Against Last Agent - Episode 16000 ##########\n",
      "Timestep: 1280226 Average reward against last agent is 2.625\n"
     ]
    },
    {
     "name": "stderr",
     "output_type": "stream",
     "text": [
      "/opt/conda/lib/python3.7/site-packages/matplotlib/pyplot.py:1479: UserWarning: Attempting to set identical bottom==top results\n",
      "in singular transformations; automatically expanding.\n",
      "bottom=0, top=0\n",
      "  ret = ax.set_ylim(*args, **kwargs)\n"
     ]
    },
    {
     "name": "stdout",
     "output_type": "stream",
     "text": [
      "EPISODE 16500 - Eval Random 999 over 1000 - Number of game played 83500 - 2 hours, 49 minutes and 32 seconds\n",
      "########## Evaluation Against Random - Episode 16500 ##########\n",
      "Timestep: 1320237 Average reward against random is 1.261\n",
      "EPISODE 16500 - Eval Opponent 999 over 1000 - Number of game played 84500 - 2 hours, 50 minutes and 58 seconds\n",
      "########## Evaluation Against Last Agent - Episode 16500 ##########\n",
      "Timestep: 1320237 Average reward against last agent is 2.378\n"
     ]
    },
    {
     "name": "stderr",
     "output_type": "stream",
     "text": [
      "/opt/conda/lib/python3.7/site-packages/matplotlib/pyplot.py:1479: UserWarning: Attempting to set identical bottom==top results\n",
      "in singular transformations; automatically expanding.\n",
      "bottom=0, top=0\n",
      "  ret = ax.set_ylim(*args, **kwargs)\n"
     ]
    },
    {
     "name": "stdout",
     "output_type": "stream",
     "text": [
      "EPISODE 17000 - Eval Random 999 over 1000 - Number of game played 86000 - 2 hours, 54 minutes and 11 seconds\n",
      "########## Evaluation Against Random - Episode 17000 ##########\n",
      "Timestep: 1360248 Average reward against random is 1.151\n",
      "EPISODE 17000 - Eval Opponent 999 over 1000 - Number of game played 87000 - 2 hours, 55 minutes and 38 seconds\n",
      "########## Evaluation Against Last Agent - Episode 17000 ##########\n",
      "Timestep: 1360248 Average reward against last agent is 2.486\n"
     ]
    },
    {
     "name": "stderr",
     "output_type": "stream",
     "text": [
      "/opt/conda/lib/python3.7/site-packages/matplotlib/pyplot.py:1479: UserWarning: Attempting to set identical bottom==top results\n",
      "in singular transformations; automatically expanding.\n",
      "bottom=0, top=0\n",
      "  ret = ax.set_ylim(*args, **kwargs)\n"
     ]
    },
    {
     "name": "stdout",
     "output_type": "stream",
     "text": [
      "EPISODE 17500 - Eval Random 999 over 1000 - Number of game played 88500 - 2 hours, 58 minutes and 50 seconds\n",
      "########## Evaluation Against Random - Episode 17500 ##########\n",
      "Timestep: 1400282 Average reward against random is 2.404\n"
     ]
    },
    {
     "name": "stderr",
     "output_type": "stream",
     "text": [
      "/opt/conda/lib/python3.7/site-packages/matplotlib/pyplot.py:1479: UserWarning: Attempting to set identical bottom==top results\n",
      "in singular transformations; automatically expanding.\n",
      "bottom=0, top=0\n",
      "  ret = ax.set_ylim(*args, **kwargs)\n"
     ]
    },
    {
     "name": "stdout",
     "output_type": "stream",
     "text": [
      "EPISODE 17500 - Eval Opponent 999 over 1000 - Number of game played 89500 - 3 hours, 15 minutes and 31 seconds\n",
      "########## Evaluation Against Last Agent - Episode 17500 ##########\n",
      "Timestep: 1400282 Average reward against last agent is -0.07\n",
      "EPISODE 18000 - Eval Random 999 over 1000 - Number of game played 91000 - 3 hours, 18 minutes and 44 seconds\n",
      "########## Evaluation Against Random - Episode 18000 ##########\n",
      "Timestep: 1440336 Average reward against random is 2.512\n"
     ]
    },
    {
     "name": "stderr",
     "output_type": "stream",
     "text": [
      "/opt/conda/lib/python3.7/site-packages/matplotlib/pyplot.py:1479: UserWarning: Attempting to set identical bottom==top results\n",
      "in singular transformations; automatically expanding.\n",
      "bottom=0, top=0\n",
      "  ret = ax.set_ylim(*args, **kwargs)\n"
     ]
    },
    {
     "name": "stdout",
     "output_type": "stream",
     "text": [
      "EPISODE 18000 - Eval Opponent 999 over 1000 - Number of game played 92000 - 3 hours, 35 minutes and 48 seconds\n",
      "########## Evaluation Against Last Agent - Episode 18000 ##########\n",
      "Timestep: 1440336 Average reward against last agent is -0.061\n",
      "EPISODE 18500 - Eval Random 999 over 1000 - Number of game played 93500 - 3 hours, 39 minutes and 1 secondds\n",
      "########## Evaluation Against Random - Episode 18500 ##########\n",
      "Timestep: 1480336 Average reward against random is 2.514\n"
     ]
    },
    {
     "name": "stderr",
     "output_type": "stream",
     "text": [
      "/opt/conda/lib/python3.7/site-packages/matplotlib/pyplot.py:1479: UserWarning: Attempting to set identical bottom==top results\n",
      "in singular transformations; automatically expanding.\n",
      "bottom=0, top=0\n",
      "  ret = ax.set_ylim(*args, **kwargs)\n"
     ]
    },
    {
     "name": "stdout",
     "output_type": "stream",
     "text": [
      "EPISODE 18500 - Eval Opponent 999 over 1000 - Number of game played 94500 - 3 hours, 56 minutes and 49 seconds\n",
      "########## Evaluation Against Last Agent - Episode 18500 ##########\n",
      "Timestep: 1480336 Average reward against last agent is -0.09\n",
      "EPISODE 19000 - Eval Random 999 over 1000 - Number of game played 96000 - 4 hours, 0 minute and 4 secondsnds\n",
      "########## Evaluation Against Random - Episode 19000 ##########\n",
      "Timestep: 1520306 Average reward against random is 2.567\n"
     ]
    },
    {
     "name": "stderr",
     "output_type": "stream",
     "text": [
      "/opt/conda/lib/python3.7/site-packages/matplotlib/pyplot.py:1479: UserWarning: Attempting to set identical bottom==top results\n",
      "in singular transformations; automatically expanding.\n",
      "bottom=0, top=0\n",
      "  ret = ax.set_ylim(*args, **kwargs)\n"
     ]
    },
    {
     "name": "stdout",
     "output_type": "stream",
     "text": [
      "EPISODE 19000 - Eval Opponent 999 over 1000 - Number of game played 97000 - 4 hours, 1 minute and 30 seconds\n",
      "########## Evaluation Against Last Agent - Episode 19000 ##########\n",
      "Timestep: 1520306 Average reward against last agent is 2.386\n"
     ]
    },
    {
     "name": "stderr",
     "output_type": "stream",
     "text": [
      "/opt/conda/lib/python3.7/site-packages/matplotlib/pyplot.py:1479: UserWarning: Attempting to set identical bottom==top results\n",
      "in singular transformations; automatically expanding.\n",
      "bottom=0, top=0\n",
      "  ret = ax.set_ylim(*args, **kwargs)\n"
     ]
    },
    {
     "name": "stdout",
     "output_type": "stream",
     "text": [
      "EPISODE 19500 - Eval Random 999 over 1000 - Number of game played 98500 - 4 hours, 4 minutes and 42 seconds\n",
      "########## Evaluation Against Random - Episode 19500 ##########\n",
      "Timestep: 1560366 Average reward against random is 2.606\n"
     ]
    },
    {
     "name": "stderr",
     "output_type": "stream",
     "text": [
      "/opt/conda/lib/python3.7/site-packages/matplotlib/pyplot.py:1479: UserWarning: Attempting to set identical bottom==top results\n",
      "in singular transformations; automatically expanding.\n",
      "bottom=0, top=0\n",
      "  ret = ax.set_ylim(*args, **kwargs)\n"
     ]
    },
    {
     "name": "stdout",
     "output_type": "stream",
     "text": [
      "EPISODE 19500 - Eval Opponent 999 over 1000 - Number of game played 99500 - 4 hours, 21 minutes and 19 seconds\n",
      "########## Evaluation Against Last Agent - Episode 19500 ##########\n",
      "Timestep: 1560366 Average reward against last agent is -0.022\n",
      "EPISODE 20000 - Eval Random 999 over 1000 - Number of game played 101000 - 4 hours, 24 minutes and 31 seconds\n",
      "########## Evaluation Against Random - Episode 20000 ##########\n",
      "Timestep: 1600464 Average reward against random is 2.529\n"
     ]
    },
    {
     "name": "stderr",
     "output_type": "stream",
     "text": [
      "/opt/conda/lib/python3.7/site-packages/matplotlib/pyplot.py:1479: UserWarning: Attempting to set identical bottom==top results\n",
      "in singular transformations; automatically expanding.\n",
      "bottom=0, top=0\n",
      "  ret = ax.set_ylim(*args, **kwargs)\n"
     ]
    },
    {
     "name": "stdout",
     "output_type": "stream",
     "text": [
      "EPISODE 20000 - Eval Opponent 999 over 1000 - Number of game played 102000 - 4 hours, 41 minutes and 42 seconds\n",
      "########## Evaluation Against Last Agent - Episode 20000 ##########\n",
      "Timestep: 1600464 Average reward against last agent is -0.032\n",
      "\n",
      "########## Changing model - Using Model 5 as opponent ##########\n",
      "\n",
      "########## Changing model - Using Model 5 as opponent ##########\n",
      "EPISODE 20500 - Eval Random 999 over 1000 - Number of game played 103500 - 4 hours, 44 minutes and 56 seconds\n",
      "########## Evaluation Against Random - Episode 20500 ##########\n",
      "Timestep: 1640513 Average reward against random is 2.456\n"
     ]
    },
    {
     "name": "stderr",
     "output_type": "stream",
     "text": [
      "/opt/conda/lib/python3.7/site-packages/matplotlib/pyplot.py:1479: UserWarning: Attempting to set identical bottom==top results\n",
      "in singular transformations; automatically expanding.\n",
      "bottom=0, top=0\n",
      "  ret = ax.set_ylim(*args, **kwargs)\n"
     ]
    },
    {
     "name": "stdout",
     "output_type": "stream",
     "text": [
      "EPISODE 20500 - Eval Opponent 999 over 1000 - Number of game played 104500 - 5 hours, 2 minutes and 15 secondss\n",
      "########## Evaluation Against Last Agent - Episode 20500 ##########\n",
      "Timestep: 1640513 Average reward against last agent is 0.111\n",
      "EPISODE 21000 - Eval Random 999 over 1000 - Number of game played 106000 - 5 hours, 5 minutes and 31 seconds\n",
      "########## Evaluation Against Random - Episode 21000 ##########\n",
      "Timestep: 1680554 Average reward against random is 2.428\n"
     ]
    },
    {
     "name": "stderr",
     "output_type": "stream",
     "text": [
      "/opt/conda/lib/python3.7/site-packages/matplotlib/pyplot.py:1479: UserWarning: Attempting to set identical bottom==top results\n",
      "in singular transformations; automatically expanding.\n",
      "bottom=0, top=0\n",
      "  ret = ax.set_ylim(*args, **kwargs)\n"
     ]
    },
    {
     "name": "stdout",
     "output_type": "stream",
     "text": [
      "EPISODE 21000 - Eval Opponent 999 over 1000 - Number of game played 107000 - 5 hours, 22 minutes and 21 seconds\n",
      "########## Evaluation Against Last Agent - Episode 21000 ##########\n",
      "Timestep: 1680554 Average reward against last agent is -0.139\n",
      "EPISODE 21500 - Eval Random 999 over 1000 - Number of game played 108500 - 5 hours, 25 minutes and 37 seconds\n",
      "########## Evaluation Against Random - Episode 21500 ##########\n",
      "Timestep: 1720579 Average reward against random is 2.425\n"
     ]
    },
    {
     "name": "stderr",
     "output_type": "stream",
     "text": [
      "/opt/conda/lib/python3.7/site-packages/matplotlib/pyplot.py:1479: UserWarning: Attempting to set identical bottom==top results\n",
      "in singular transformations; automatically expanding.\n",
      "bottom=0, top=0\n",
      "  ret = ax.set_ylim(*args, **kwargs)\n"
     ]
    },
    {
     "name": "stdout",
     "output_type": "stream",
     "text": [
      "EPISODE 21500 - Eval Opponent 999 over 1000 - Number of game played 109500 - 5 hours, 42 minutes and 4 secondss\n",
      "########## Evaluation Against Last Agent - Episode 21500 ##########\n",
      "Timestep: 1720579 Average reward against last agent is -0.016\n",
      "EPISODE 22000 - Eval Random 999 over 1000 - Number of game played 111000 - 5 hours, 45 minutes and 14 seconds\n",
      "########## Evaluation Against Random - Episode 22000 ##########\n",
      "Timestep: 1760656 Average reward against random is 2.531\n"
     ]
    },
    {
     "name": "stderr",
     "output_type": "stream",
     "text": [
      "/opt/conda/lib/python3.7/site-packages/matplotlib/pyplot.py:1479: UserWarning: Attempting to set identical bottom==top results\n",
      "in singular transformations; automatically expanding.\n",
      "bottom=0, top=0\n",
      "  ret = ax.set_ylim(*args, **kwargs)\n"
     ]
    },
    {
     "name": "stdout",
     "output_type": "stream",
     "text": [
      "EPISODE 22000 - Eval Opponent 999 over 1000 - Number of game played 112000 - 6 hours, 3 minutes and 1 seconddss\n",
      "########## Evaluation Against Last Agent - Episode 22000 ##########\n",
      "Timestep: 1760656 Average reward against last agent is 0.107\n",
      "EPISODE 22500 - Eval Random 999 over 1000 - Number of game played 113500 - 6 hours, 6 minutes and 13 seconds\n",
      "########## Evaluation Against Random - Episode 22500 ##########\n",
      "Timestep: 1800705 Average reward against random is 2.369\n"
     ]
    },
    {
     "name": "stderr",
     "output_type": "stream",
     "text": [
      "/opt/conda/lib/python3.7/site-packages/matplotlib/pyplot.py:1479: UserWarning: Attempting to set identical bottom==top results\n",
      "in singular transformations; automatically expanding.\n",
      "bottom=0, top=0\n",
      "  ret = ax.set_ylim(*args, **kwargs)\n"
     ]
    },
    {
     "name": "stdout",
     "output_type": "stream",
     "text": [
      "EPISODE 22500 - Eval Opponent 999 over 1000 - Number of game played 114500 - 6 hours, 7 minutes and 37 seconds\n",
      "########## Evaluation Against Last Agent - Episode 22500 ##########\n",
      "Timestep: 1800705 Average reward against last agent is 2.35\n"
     ]
    },
    {
     "name": "stderr",
     "output_type": "stream",
     "text": [
      "/opt/conda/lib/python3.7/site-packages/matplotlib/pyplot.py:1479: UserWarning: Attempting to set identical bottom==top results\n",
      "in singular transformations; automatically expanding.\n",
      "bottom=0, top=0\n",
      "  ret = ax.set_ylim(*args, **kwargs)\n"
     ]
    },
    {
     "name": "stdout",
     "output_type": "stream",
     "text": [
      "EPISODE 23000 - Eval Random 999 over 1000 - Number of game played 116000 - 6 hours, 10 minutes and 46 seconds\n",
      "########## Evaluation Against Random - Episode 23000 ##########\n",
      "Timestep: 1840812 Average reward against random is 2.348\n"
     ]
    },
    {
     "name": "stderr",
     "output_type": "stream",
     "text": [
      "/opt/conda/lib/python3.7/site-packages/matplotlib/pyplot.py:1479: UserWarning: Attempting to set identical bottom==top results\n",
      "in singular transformations; automatically expanding.\n",
      "bottom=0, top=0\n",
      "  ret = ax.set_ylim(*args, **kwargs)\n"
     ]
    },
    {
     "name": "stdout",
     "output_type": "stream",
     "text": [
      "EPISODE 23000 - Eval Opponent 999 over 1000 - Number of game played 117000 - 6 hours, 23 minutes and 0 secondds\n",
      "########## Evaluation Against Last Agent - Episode 23000 ##########\n",
      "Timestep: 1840812 Average reward against last agent is 0.879\n",
      "EPISODE 23500 - Eval Random 999 over 1000 - Number of game played 118500 - 6 hours, 26 minutes and 10 seconds\n",
      "########## Evaluation Against Random - Episode 23500 ##########\n",
      "Timestep: 1880892 Average reward against random is 2.372\n"
     ]
    },
    {
     "name": "stderr",
     "output_type": "stream",
     "text": [
      "/opt/conda/lib/python3.7/site-packages/matplotlib/pyplot.py:1479: UserWarning: Attempting to set identical bottom==top results\n",
      "in singular transformations; automatically expanding.\n",
      "bottom=0, top=0\n",
      "  ret = ax.set_ylim(*args, **kwargs)\n"
     ]
    },
    {
     "name": "stdout",
     "output_type": "stream",
     "text": [
      "EPISODE 23500 - Eval Opponent 999 over 1000 - Number of game played 119500 - 6 hours, 43 minutes and 12 seconds\n",
      "########## Evaluation Against Last Agent - Episode 23500 ##########\n",
      "Timestep: 1880892 Average reward against last agent is 0.032\n",
      "EPISODE 24000 - Eval Random 999 over 1000 - Number of game played 121000 - 6 hours, 46 minutes and 16 seconds\n",
      "########## Evaluation Against Random - Episode 24000 ##########\n",
      "Timestep: 1920886 Average reward against random is 2.511\n"
     ]
    },
    {
     "name": "stderr",
     "output_type": "stream",
     "text": [
      "/opt/conda/lib/python3.7/site-packages/matplotlib/pyplot.py:1479: UserWarning: Attempting to set identical bottom==top results\n",
      "in singular transformations; automatically expanding.\n",
      "bottom=0, top=0\n",
      "  ret = ax.set_ylim(*args, **kwargs)\n"
     ]
    },
    {
     "name": "stdout",
     "output_type": "stream",
     "text": [
      "EPISODE 24000 - Eval Opponent 999 over 1000 - Number of game played 122000 - 7 hours, 3 minutes and 0 seconddss\n",
      "########## Evaluation Against Last Agent - Episode 24000 ##########\n",
      "Timestep: 1920886 Average reward against last agent is 0.022\n",
      "EPISODE 24500 - Eval Random 999 over 1000 - Number of game played 123500 - 7 hours, 6 minutes and 1 secondds\n",
      "########## Evaluation Against Random - Episode 24500 ##########\n",
      "Timestep: 1961000 Average reward against random is 2.595\n"
     ]
    },
    {
     "name": "stderr",
     "output_type": "stream",
     "text": [
      "/opt/conda/lib/python3.7/site-packages/matplotlib/pyplot.py:1479: UserWarning: Attempting to set identical bottom==top results\n",
      "in singular transformations; automatically expanding.\n",
      "bottom=0, top=0\n",
      "  ret = ax.set_ylim(*args, **kwargs)\n"
     ]
    },
    {
     "name": "stdout",
     "output_type": "stream",
     "text": [
      "EPISODE 24500 - Eval Opponent 999 over 1000 - Number of game played 124500 - 7 hours, 22 minutes and 26 seconds\n",
      "########## Evaluation Against Last Agent - Episode 24500 ##########\n",
      "Timestep: 1961000 Average reward against last agent is 0.103\n",
      "EPISODE 25000 - Eval Random 999 over 1000 - Number of game played 126000 - 7 hours, 25 minutes and 28 seconds\n",
      "########## Evaluation Against Random - Episode 25000 ##########\n",
      "Timestep: 2001128 Average reward against random is 2.552\n"
     ]
    },
    {
     "name": "stderr",
     "output_type": "stream",
     "text": [
      "/opt/conda/lib/python3.7/site-packages/matplotlib/pyplot.py:1479: UserWarning: Attempting to set identical bottom==top results\n",
      "in singular transformations; automatically expanding.\n",
      "bottom=0, top=0\n",
      "  ret = ax.set_ylim(*args, **kwargs)\n"
     ]
    },
    {
     "name": "stdout",
     "output_type": "stream",
     "text": [
      "EPISODE 25000 - Eval Opponent 999 over 1000 - Number of game played 127000 - 7 hours, 40 minutes and 34 seconds\n",
      "########## Evaluation Against Last Agent - Episode 25000 ##########\n",
      "Timestep: 2001128 Average reward against last agent is -0.031\n",
      "\n",
      "########## Changing model - Using Model 6 as opponent ##########\n",
      "\n",
      "########## Changing model - Using Model 6 as opponent ##########\n",
      "EPISODE 25500 - Number of game played 127500 - 7 hours, 43 minutes and 5 secondssWARNING:tensorflow:From /opt/conda/lib/python3.7/site-packages/tensorflow/python/training/saver.py:966: remove_checkpoint (from tensorflow.python.training.checkpoint_management) is deprecated and will be removed in a future version.\n",
      "Instructions for updating:\n",
      "Use standard file APIs to delete files with this prefix.\n",
      "EPISODE 25500 - Eval Random 999 over 1000 - Number of game played 128500 - 7 hours, 43 minutes and 38 seconds\n",
      "########## Evaluation Against Random - Episode 25500 ##########\n",
      "Timestep: 2041361 Average reward against random is 2.514\n"
     ]
    },
    {
     "name": "stderr",
     "output_type": "stream",
     "text": [
      "/opt/conda/lib/python3.7/site-packages/matplotlib/pyplot.py:1479: UserWarning: Attempting to set identical bottom==top results\n",
      "in singular transformations; automatically expanding.\n",
      "bottom=0, top=0\n",
      "  ret = ax.set_ylim(*args, **kwargs)\n"
     ]
    },
    {
     "name": "stdout",
     "output_type": "stream",
     "text": [
      "EPISODE 25500 - Eval Opponent 999 over 1000 - Number of game played 129500 - 7 hours, 56 minutes and 30 seconds\n",
      "########## Evaluation Against Last Agent - Episode 25500 ##########\n",
      "Timestep: 2041361 Average reward against last agent is 0.415\n",
      "EPISODE 26000 - Eval Random 999 over 1000 - Number of game played 131000 - 7 hours, 59 minutes and 36 seconds\n",
      "########## Evaluation Against Random - Episode 26000 ##########\n",
      "Timestep: 2081403 Average reward against random is 2.586\n"
     ]
    },
    {
     "name": "stderr",
     "output_type": "stream",
     "text": [
      "/opt/conda/lib/python3.7/site-packages/matplotlib/pyplot.py:1479: UserWarning: Attempting to set identical bottom==top results\n",
      "in singular transformations; automatically expanding.\n",
      "bottom=0, top=0\n",
      "  ret = ax.set_ylim(*args, **kwargs)\n"
     ]
    },
    {
     "name": "stdout",
     "output_type": "stream",
     "text": [
      "EPISODE 26000 - Eval Opponent 999 over 1000 - Number of game played 132000 - 8 hours, 15 minutes and 54 seconds\n",
      "########## Evaluation Against Last Agent - Episode 26000 ##########\n",
      "Timestep: 2081403 Average reward against last agent is -0.037\n",
      "EPISODE 26500 - Eval Random 999 over 1000 - Number of game played 133500 - 8 hours, 18 minutes and 58 seconds\n",
      "########## Evaluation Against Random - Episode 26500 ##########\n",
      "Timestep: 2121506 Average reward against random is 2.554\n"
     ]
    },
    {
     "name": "stderr",
     "output_type": "stream",
     "text": [
      "/opt/conda/lib/python3.7/site-packages/matplotlib/pyplot.py:1479: UserWarning: Attempting to set identical bottom==top results\n",
      "in singular transformations; automatically expanding.\n",
      "bottom=0, top=0\n",
      "  ret = ax.set_ylim(*args, **kwargs)\n"
     ]
    },
    {
     "name": "stdout",
     "output_type": "stream",
     "text": [
      "EPISODE 26500 - Eval Opponent 999 over 1000 - Number of game played 134500 - 8 hours, 34 minutes and 36 seconds\n",
      "########## Evaluation Against Last Agent - Episode 26500 ##########\n",
      "Timestep: 2121506 Average reward against last agent is 0.009\n",
      "EPISODE 27000 - Eval Random 999 over 1000 - Number of game played 136000 - 8 hours, 37 minutes and 39 seconds\n",
      "########## Evaluation Against Random - Episode 27000 ##########\n",
      "Timestep: 2161748 Average reward against random is 2.608\n"
     ]
    },
    {
     "name": "stderr",
     "output_type": "stream",
     "text": [
      "/opt/conda/lib/python3.7/site-packages/matplotlib/pyplot.py:1479: UserWarning: Attempting to set identical bottom==top results\n",
      "in singular transformations; automatically expanding.\n",
      "bottom=0, top=0\n",
      "  ret = ax.set_ylim(*args, **kwargs)\n"
     ]
    },
    {
     "name": "stdout",
     "output_type": "stream",
     "text": [
      "EPISODE 27000 - Eval Opponent 999 over 1000 - Number of game played 137000 - 8 hours, 41 minutes and 22 seconds\n",
      "########## Evaluation Against Last Agent - Episode 27000 ##########\n",
      "Timestep: 2161748 Average reward against last agent is 1.891\n",
      "EPISODE 27500 - Eval Random 999 over 1000 - Number of game played 138500 - 8 hours, 44 minutes and 24 seconds\n",
      "########## Evaluation Against Random - Episode 27500 ##########\n",
      "Timestep: 2201977 Average reward against random is 2.475\n"
     ]
    },
    {
     "name": "stderr",
     "output_type": "stream",
     "text": [
      "/opt/conda/lib/python3.7/site-packages/matplotlib/pyplot.py:1479: UserWarning: Attempting to set identical bottom==top results\n",
      "in singular transformations; automatically expanding.\n",
      "bottom=0, top=0\n",
      "  ret = ax.set_ylim(*args, **kwargs)\n"
     ]
    },
    {
     "name": "stdout",
     "output_type": "stream",
     "text": [
      "EPISODE 27500 - Eval Opponent 999 over 1000 - Number of game played 139500 - 8 hours, 48 minutes and 24 seconds\n",
      "########## Evaluation Against Last Agent - Episode 27500 ##########\n",
      "Timestep: 2201977 Average reward against last agent is 1.981\n",
      "EPISODE 28000 - Eval Random 999 over 1000 - Number of game played 141000 - 8 hours, 51 minutes and 27 seconds\n",
      "########## Evaluation Against Random - Episode 28000 ##########\n",
      "Timestep: 2242202 Average reward against random is 2.568\n"
     ]
    },
    {
     "name": "stderr",
     "output_type": "stream",
     "text": [
      "/opt/conda/lib/python3.7/site-packages/matplotlib/pyplot.py:1479: UserWarning: Attempting to set identical bottom==top results\n",
      "in singular transformations; automatically expanding.\n",
      "bottom=0, top=0\n",
      "  ret = ax.set_ylim(*args, **kwargs)\n"
     ]
    },
    {
     "name": "stdout",
     "output_type": "stream",
     "text": [
      "EPISODE 28000 - Eval Opponent 999 over 1000 - Number of game played 142000 - 8 hours, 53 minutes and 32 seconds\n",
      "########## Evaluation Against Last Agent - Episode 28000 ##########\n",
      "Timestep: 2242202 Average reward against last agent is 2.605\n",
      "EPISODE 28500 - Eval Random 999 over 1000 - Number of game played 143500 - 8 hours, 56 minutes and 37 seconds\n",
      "########## Evaluation Against Random - Episode 28500 ##########\n",
      "Timestep: 2282486 Average reward against random is 2.407\n"
     ]
    },
    {
     "name": "stderr",
     "output_type": "stream",
     "text": [
      "/opt/conda/lib/python3.7/site-packages/matplotlib/pyplot.py:1479: UserWarning: Attempting to set identical bottom==top results\n",
      "in singular transformations; automatically expanding.\n",
      "bottom=0, top=0\n",
      "  ret = ax.set_ylim(*args, **kwargs)\n"
     ]
    },
    {
     "name": "stdout",
     "output_type": "stream",
     "text": [
      "EPISODE 28500 - Eval Opponent 999 over 1000 - Number of game played 144500 - 9 hours, 12 minutes and 49 seconds\n",
      "########## Evaluation Against Last Agent - Episode 28500 ##########\n",
      "Timestep: 2282486 Average reward against last agent is -0.099\n",
      "EPISODE 29000 - Eval Random 999 over 1000 - Number of game played 146000 - 9 hours, 15 minutes and 54 seconds\n",
      "########## Evaluation Against Random - Episode 29000 ##########\n",
      "Timestep: 2322704 Average reward against random is 2.345\n"
     ]
    },
    {
     "name": "stderr",
     "output_type": "stream",
     "text": [
      "/opt/conda/lib/python3.7/site-packages/matplotlib/pyplot.py:1479: UserWarning: Attempting to set identical bottom==top results\n",
      "in singular transformations; automatically expanding.\n",
      "bottom=0, top=0\n",
      "  ret = ax.set_ylim(*args, **kwargs)\n"
     ]
    },
    {
     "name": "stdout",
     "output_type": "stream",
     "text": [
      "EPISODE 29000 - Eval Opponent 999 over 1000 - Number of game played 147000 - 9 hours, 33 minutes and 28 seconds\n",
      "########## Evaluation Against Last Agent - Episode 29000 ##########\n",
      "Timestep: 2322704 Average reward against last agent is -0.098\n",
      "EPISODE 29500 - Eval Random 999 over 1000 - Number of game played 148500 - 9 hours, 36 minutes and 31 seconds\n",
      "########## Evaluation Against Random - Episode 29500 ##########\n",
      "Timestep: 2362968 Average reward against random is 2.538\n"
     ]
    },
    {
     "name": "stderr",
     "output_type": "stream",
     "text": [
      "/opt/conda/lib/python3.7/site-packages/matplotlib/pyplot.py:1479: UserWarning: Attempting to set identical bottom==top results\n",
      "in singular transformations; automatically expanding.\n",
      "bottom=0, top=0\n",
      "  ret = ax.set_ylim(*args, **kwargs)\n"
     ]
    },
    {
     "name": "stdout",
     "output_type": "stream",
     "text": [
      "EPISODE 29500 - Eval Opponent 999 over 1000 - Number of game played 149500 - 9 hours, 52 minutes and 13 seconds\n",
      "########## Evaluation Against Last Agent - Episode 29500 ##########\n",
      "Timestep: 2362968 Average reward against last agent is 0.107\n",
      "EPISODE 30000 - Eval Random 999 over 1000 - Number of game played 151000 - 9 hours, 55 minutes and 21 seconds\n",
      "########## Evaluation Against Random - Episode 30000 ##########\n",
      "Timestep: 2403110 Average reward against random is 2.466\n"
     ]
    },
    {
     "name": "stderr",
     "output_type": "stream",
     "text": [
      "/opt/conda/lib/python3.7/site-packages/matplotlib/pyplot.py:1479: UserWarning: Attempting to set identical bottom==top results\n",
      "in singular transformations; automatically expanding.\n",
      "bottom=0, top=0\n",
      "  ret = ax.set_ylim(*args, **kwargs)\n"
     ]
    },
    {
     "name": "stdout",
     "output_type": "stream",
     "text": [
      "EPISODE 30000 - Eval Opponent 999 over 1000 - Number of game played 152000 - 10 hours, 12 minutes and 2 secondss\n",
      "########## Evaluation Against Last Agent - Episode 30000 ##########\n",
      "Timestep: 2403110 Average reward against last agent is 0.026\n",
      "\n",
      "########## Changing model - Using Model 7 as opponent ##########\n",
      "\n",
      "########## Changing model - Using Model 7 as opponent ##########\n",
      "EPISODE 30500 - Eval Random 999 over 1000 - Number of game played 153500 - 10 hours, 15 minutes and 8 secondss\n",
      "########## Evaluation Against Random - Episode 30500 ##########\n",
      "Timestep: 2443294 Average reward against random is 2.46\n"
     ]
    },
    {
     "name": "stderr",
     "output_type": "stream",
     "text": [
      "/opt/conda/lib/python3.7/site-packages/matplotlib/pyplot.py:1479: UserWarning: Attempting to set identical bottom==top results\n",
      "in singular transformations; automatically expanding.\n",
      "bottom=0, top=0\n",
      "  ret = ax.set_ylim(*args, **kwargs)\n"
     ]
    },
    {
     "name": "stdout",
     "output_type": "stream",
     "text": [
      "EPISODE 30500 - Eval Opponent 999 over 1000 - Number of game played 154500 - 10 hours, 31 minutes and 0 secondds\n",
      "########## Evaluation Against Last Agent - Episode 30500 ##########\n",
      "Timestep: 2443294 Average reward against last agent is -0.08\n",
      "EPISODE 31000 - Eval Random 999 over 1000 - Number of game played 156000 - 10 hours, 34 minutes and 9 secondss\n",
      "########## Evaluation Against Random - Episode 31000 ##########\n",
      "Timestep: 2483450 Average reward against random is 2.444\n"
     ]
    },
    {
     "name": "stderr",
     "output_type": "stream",
     "text": [
      "/opt/conda/lib/python3.7/site-packages/matplotlib/pyplot.py:1479: UserWarning: Attempting to set identical bottom==top results\n",
      "in singular transformations; automatically expanding.\n",
      "bottom=0, top=0\n",
      "  ret = ax.set_ylim(*args, **kwargs)\n"
     ]
    },
    {
     "name": "stdout",
     "output_type": "stream",
     "text": [
      "EPISODE 31000 - Eval Opponent 999 over 1000 - Number of game played 157000 - 10 hours, 51 minutes and 5 secondss\n",
      "########## Evaluation Against Last Agent - Episode 31000 ##########\n",
      "Timestep: 2483450 Average reward against last agent is -0.047\n",
      "EPISODE 31500 - Eval Random 999 over 1000 - Number of game played 158500 - 10 hours, 54 minutes and 12 seconds\n",
      "########## Evaluation Against Random - Episode 31500 ##########\n",
      "Timestep: 2523581 Average reward against random is 2.49\n"
     ]
    },
    {
     "name": "stderr",
     "output_type": "stream",
     "text": [
      "/opt/conda/lib/python3.7/site-packages/matplotlib/pyplot.py:1479: UserWarning: Attempting to set identical bottom==top results\n",
      "in singular transformations; automatically expanding.\n",
      "bottom=0, top=0\n",
      "  ret = ax.set_ylim(*args, **kwargs)\n"
     ]
    },
    {
     "name": "stdout",
     "output_type": "stream",
     "text": [
      "EPISODE 31500 - Eval Opponent 999 over 1000 - Number of game played 159500 - 11 hours, 9 minutes and 51 secondss\n",
      "########## Evaluation Against Last Agent - Episode 31500 ##########\n",
      "Timestep: 2523581 Average reward against last agent is 0.117\n",
      "EPISODE 32000 - Eval Random 999 over 1000 - Number of game played 161000 - 11 hours, 12 minutes and 55 seconds\n",
      "########## Evaluation Against Random - Episode 32000 ##########\n",
      "Timestep: 2563829 Average reward against random is 2.482\n"
     ]
    },
    {
     "name": "stderr",
     "output_type": "stream",
     "text": [
      "/opt/conda/lib/python3.7/site-packages/matplotlib/pyplot.py:1479: UserWarning: Attempting to set identical bottom==top results\n",
      "in singular transformations; automatically expanding.\n",
      "bottom=0, top=0\n",
      "  ret = ax.set_ylim(*args, **kwargs)\n"
     ]
    },
    {
     "name": "stdout",
     "output_type": "stream",
     "text": [
      "EPISODE 32000 - Eval Opponent 999 over 1000 - Number of game played 162000 - 11 hours, 15 minutes and 7 secondss\n",
      "########## Evaluation Against Last Agent - Episode 32000 ##########\n",
      "Timestep: 2563829 Average reward against last agent is 2.541\n",
      "EPISODE 32500 - Eval Random 999 over 1000 - Number of game played 163500 - 11 hours, 18 minutes and 14 seconds\n",
      "########## Evaluation Against Random - Episode 32500 ##########\n",
      "Timestep: 2603921 Average reward against random is 2.373\n"
     ]
    },
    {
     "name": "stderr",
     "output_type": "stream",
     "text": [
      "/opt/conda/lib/python3.7/site-packages/matplotlib/pyplot.py:1479: UserWarning: Attempting to set identical bottom==top results\n",
      "in singular transformations; automatically expanding.\n",
      "bottom=0, top=0\n",
      "  ret = ax.set_ylim(*args, **kwargs)\n"
     ]
    },
    {
     "name": "stdout",
     "output_type": "stream",
     "text": [
      "EPISODE 32500 - Eval Opponent 999 over 1000 - Number of game played 164500 - 11 hours, 33 minutes and 13 seconds\n",
      "########## Evaluation Against Last Agent - Episode 32500 ##########\n",
      "Timestep: 2603921 Average reward against last agent is 0.196\n",
      "EPISODE 33000 - Eval Random 999 over 1000 - Number of game played 166000 - 11 hours, 36 minutes and 22 seconds\n",
      "########## Evaluation Against Random - Episode 33000 ##########\n",
      "Timestep: 2643940 Average reward against random is 2.373\n"
     ]
    },
    {
     "name": "stderr",
     "output_type": "stream",
     "text": [
      "/opt/conda/lib/python3.7/site-packages/matplotlib/pyplot.py:1479: UserWarning: Attempting to set identical bottom==top results\n",
      "in singular transformations; automatically expanding.\n",
      "bottom=0, top=0\n",
      "  ret = ax.set_ylim(*args, **kwargs)\n"
     ]
    },
    {
     "name": "stdout",
     "output_type": "stream",
     "text": [
      "EPISODE 33000 - Eval Opponent 999 over 1000 - Number of game played 167000 - 11 hours, 50 minutes and 18 seconds\n",
      "########## Evaluation Against Last Agent - Episode 33000 ##########\n",
      "Timestep: 2643940 Average reward against last agent is 0.234\n",
      "EPISODE 33500 - Eval Random 999 over 1000 - Number of game played 168500 - 11 hours, 53 minutes and 25 seconds\n",
      "########## Evaluation Against Random - Episode 33500 ##########\n",
      "Timestep: 2684015 Average reward against random is 2.463\n"
     ]
    },
    {
     "name": "stderr",
     "output_type": "stream",
     "text": [
      "/opt/conda/lib/python3.7/site-packages/matplotlib/pyplot.py:1479: UserWarning: Attempting to set identical bottom==top results\n",
      "in singular transformations; automatically expanding.\n",
      "bottom=0, top=0\n",
      "  ret = ax.set_ylim(*args, **kwargs)\n"
     ]
    },
    {
     "name": "stdout",
     "output_type": "stream",
     "text": [
      "EPISODE 33500 - Eval Opponent 999 over 1000 - Number of game played 169500 - 11 hours, 54 minutes and 45 seconds\n",
      "########## Evaluation Against Last Agent - Episode 33500 ##########\n",
      "Timestep: 2684015 Average reward against last agent is 2.466\n"
     ]
    },
    {
     "name": "stderr",
     "output_type": "stream",
     "text": [
      "/opt/conda/lib/python3.7/site-packages/matplotlib/pyplot.py:1479: UserWarning: Attempting to set identical bottom==top results\n",
      "in singular transformations; automatically expanding.\n",
      "bottom=0, top=0\n",
      "  ret = ax.set_ylim(*args, **kwargs)\n"
     ]
    },
    {
     "name": "stdout",
     "output_type": "stream",
     "text": [
      "EPISODE 34000 - Eval Random 999 over 1000 - Number of game played 171000 - 11 hours, 57 minutes and 56 seconds\n",
      "########## Evaluation Against Random - Episode 34000 ##########\n",
      "Timestep: 2723992 Average reward against random is 2.604\n"
     ]
    },
    {
     "name": "stderr",
     "output_type": "stream",
     "text": [
      "/opt/conda/lib/python3.7/site-packages/matplotlib/pyplot.py:1479: UserWarning: Attempting to set identical bottom==top results\n",
      "in singular transformations; automatically expanding.\n",
      "bottom=0, top=0\n",
      "  ret = ax.set_ylim(*args, **kwargs)\n"
     ]
    },
    {
     "name": "stdout",
     "output_type": "stream",
     "text": [
      "EPISODE 34000 - Eval Opponent 999 over 1000 - Number of game played 172000 - 12 hours, 0 minute and 47 secondsds\n",
      "########## Evaluation Against Last Agent - Episode 34000 ##########\n",
      "Timestep: 2723992 Average reward against last agent is 2.008\n",
      "EPISODE 34500 - Eval Random 999 over 1000 - Number of game played 173500 - 12 hours, 3 minutes and 57 seconds\n",
      "########## Evaluation Against Random - Episode 34500 ##########\n",
      "Timestep: 2763963 Average reward against random is 2.409\n"
     ]
    },
    {
     "name": "stderr",
     "output_type": "stream",
     "text": [
      "/opt/conda/lib/python3.7/site-packages/matplotlib/pyplot.py:1479: UserWarning: Attempting to set identical bottom==top results\n",
      "in singular transformations; automatically expanding.\n",
      "bottom=0, top=0\n",
      "  ret = ax.set_ylim(*args, **kwargs)\n"
     ]
    },
    {
     "name": "stdout",
     "output_type": "stream",
     "text": [
      "EPISODE 34500 - Eval Opponent 999 over 1000 - Number of game played 174500 - 12 hours, 5 minutes and 25 seconds\n",
      "########## Evaluation Against Last Agent - Episode 34500 ##########\n",
      "Timestep: 2763963 Average reward against last agent is 2.248\n"
     ]
    },
    {
     "name": "stderr",
     "output_type": "stream",
     "text": [
      "/opt/conda/lib/python3.7/site-packages/matplotlib/pyplot.py:1479: UserWarning: Attempting to set identical bottom==top results\n",
      "in singular transformations; automatically expanding.\n",
      "bottom=0, top=0\n",
      "  ret = ax.set_ylim(*args, **kwargs)\n"
     ]
    },
    {
     "name": "stdout",
     "output_type": "stream",
     "text": [
      "EPISODE 35000 - Eval Random 999 over 1000 - Number of game played 176000 - 12 hours, 8 minutes and 35 seconds\n",
      "########## Evaluation Against Random - Episode 35000 ##########\n",
      "Timestep: 2803986 Average reward against random is 2.499\n"
     ]
    },
    {
     "name": "stderr",
     "output_type": "stream",
     "text": [
      "/opt/conda/lib/python3.7/site-packages/matplotlib/pyplot.py:1479: UserWarning: Attempting to set identical bottom==top results\n",
      "in singular transformations; automatically expanding.\n",
      "bottom=0, top=0\n",
      "  ret = ax.set_ylim(*args, **kwargs)\n"
     ]
    },
    {
     "name": "stdout",
     "output_type": "stream",
     "text": [
      "EPISODE 35000 - Eval Opponent 999 over 1000 - Number of game played 177000 - 12 hours, 10 minutes and 1 seconds\n",
      "########## Evaluation Against Last Agent - Episode 35000 ##########\n",
      "Timestep: 2803986 Average reward against last agent is 2.358\n",
      "\n",
      "########## Changing model - Using Model 8 as opponent ##########\n",
      "\n",
      "########## Changing model - Using Model 8 as opponent ##########\n",
      "EPISODE 35500 - Eval Random 999 over 1000 - Number of game played 178500 - 12 hours, 13 minutes and 13 seconds\n",
      "########## Evaluation Against Random - Episode 35500 ##########\n",
      "Timestep: 2843971 Average reward against random is 2.545\n"
     ]
    },
    {
     "name": "stderr",
     "output_type": "stream",
     "text": [
      "/opt/conda/lib/python3.7/site-packages/matplotlib/pyplot.py:1479: UserWarning: Attempting to set identical bottom==top results\n",
      "in singular transformations; automatically expanding.\n",
      "bottom=0, top=0\n",
      "  ret = ax.set_ylim(*args, **kwargs)\n"
     ]
    },
    {
     "name": "stdout",
     "output_type": "stream",
     "text": [
      "EPISODE 35500 - Eval Opponent 999 over 1000 - Number of game played 179500 - 12 hours, 14 minutes and 39 seconds\n",
      "########## Evaluation Against Last Agent - Episode 35500 ##########\n",
      "Timestep: 2843971 Average reward against last agent is 2.29\n"
     ]
    },
    {
     "name": "stderr",
     "output_type": "stream",
     "text": [
      "/opt/conda/lib/python3.7/site-packages/matplotlib/pyplot.py:1479: UserWarning: Attempting to set identical bottom==top results\n",
      "in singular transformations; automatically expanding.\n",
      "bottom=0, top=0\n",
      "  ret = ax.set_ylim(*args, **kwargs)\n"
     ]
    },
    {
     "name": "stdout",
     "output_type": "stream",
     "text": [
      "EPISODE 36000 - Eval Random 999 over 1000 - Number of game played 181000 - 12 hours, 17 minutes and 51 seconds\n",
      "########## Evaluation Against Random - Episode 36000 ##########\n",
      "Timestep: 2883972 Average reward against random is 2.506\n"
     ]
    },
    {
     "name": "stderr",
     "output_type": "stream",
     "text": [
      "/opt/conda/lib/python3.7/site-packages/matplotlib/pyplot.py:1479: UserWarning: Attempting to set identical bottom==top results\n",
      "in singular transformations; automatically expanding.\n",
      "bottom=0, top=0\n",
      "  ret = ax.set_ylim(*args, **kwargs)\n"
     ]
    },
    {
     "name": "stdout",
     "output_type": "stream",
     "text": [
      "EPISODE 36000 - Eval Opponent 999 over 1000 - Number of game played 182000 - 12 hours, 19 minutes and 16 seconds\n",
      "########## Evaluation Against Last Agent - Episode 36000 ##########\n",
      "Timestep: 2883972 Average reward against last agent is 2.372\n"
     ]
    },
    {
     "name": "stderr",
     "output_type": "stream",
     "text": [
      "/opt/conda/lib/python3.7/site-packages/matplotlib/pyplot.py:1479: UserWarning: Attempting to set identical bottom==top results\n",
      "in singular transformations; automatically expanding.\n",
      "bottom=0, top=0\n",
      "  ret = ax.set_ylim(*args, **kwargs)\n"
     ]
    },
    {
     "name": "stdout",
     "output_type": "stream",
     "text": [
      "EPISODE 36500 - Eval Random 999 over 1000 - Number of game played 183500 - 12 hours, 22 minutes and 28 seconds\n",
      "########## Evaluation Against Random - Episode 36500 ##########\n",
      "Timestep: 2923916 Average reward against random is 2.351\n"
     ]
    },
    {
     "name": "stderr",
     "output_type": "stream",
     "text": [
      "/opt/conda/lib/python3.7/site-packages/matplotlib/pyplot.py:1479: UserWarning: Attempting to set identical bottom==top results\n",
      "in singular transformations; automatically expanding.\n",
      "bottom=0, top=0\n",
      "  ret = ax.set_ylim(*args, **kwargs)\n"
     ]
    },
    {
     "name": "stdout",
     "output_type": "stream",
     "text": [
      "EPISODE 36500 - Eval Opponent 999 over 1000 - Number of game played 184500 - 12 hours, 23 minutes and 53 seconds\n",
      "########## Evaluation Against Last Agent - Episode 36500 ##########\n",
      "Timestep: 2923916 Average reward against last agent is 2.243\n"
     ]
    },
    {
     "name": "stderr",
     "output_type": "stream",
     "text": [
      "/opt/conda/lib/python3.7/site-packages/matplotlib/pyplot.py:1479: UserWarning: Attempting to set identical bottom==top results\n",
      "in singular transformations; automatically expanding.\n",
      "bottom=0, top=0\n",
      "  ret = ax.set_ylim(*args, **kwargs)\n"
     ]
    },
    {
     "name": "stdout",
     "output_type": "stream",
     "text": [
      "EPISODE 37000 - Eval Random 999 over 1000 - Number of game played 186000 - 12 hours, 27 minutes and 7 secondss\n",
      "########## Evaluation Against Random - Episode 37000 ##########\n",
      "Timestep: 2963932 Average reward against random is 2.449\n"
     ]
    },
    {
     "name": "stderr",
     "output_type": "stream",
     "text": [
      "/opt/conda/lib/python3.7/site-packages/matplotlib/pyplot.py:1479: UserWarning: Attempting to set identical bottom==top results\n",
      "in singular transformations; automatically expanding.\n",
      "bottom=0, top=0\n",
      "  ret = ax.set_ylim(*args, **kwargs)\n"
     ]
    },
    {
     "name": "stdout",
     "output_type": "stream",
     "text": [
      "EPISODE 37000 - Eval Opponent 999 over 1000 - Number of game played 187000 - 12 hours, 28 minutes and 27 seconds\n",
      "########## Evaluation Against Last Agent - Episode 37000 ##########\n",
      "Timestep: 2963932 Average reward against last agent is 2.492\n"
     ]
    },
    {
     "name": "stderr",
     "output_type": "stream",
     "text": [
      "/opt/conda/lib/python3.7/site-packages/matplotlib/pyplot.py:1479: UserWarning: Attempting to set identical bottom==top results\n",
      "in singular transformations; automatically expanding.\n",
      "bottom=0, top=0\n",
      "  ret = ax.set_ylim(*args, **kwargs)\n"
     ]
    },
    {
     "name": "stdout",
     "output_type": "stream",
     "text": [
      "EPISODE 37500 - Eval Random 999 over 1000 - Number of game played 188500 - 12 hours, 31 minutes and 42 seconds\n",
      "########## Evaluation Against Random - Episode 37500 ##########\n",
      "Timestep: 3003904 Average reward against random is 2.327\n"
     ]
    },
    {
     "name": "stderr",
     "output_type": "stream",
     "text": [
      "/opt/conda/lib/python3.7/site-packages/matplotlib/pyplot.py:1479: UserWarning: Attempting to set identical bottom==top results\n",
      "in singular transformations; automatically expanding.\n",
      "bottom=0, top=0\n",
      "  ret = ax.set_ylim(*args, **kwargs)\n"
     ]
    },
    {
     "name": "stdout",
     "output_type": "stream",
     "text": [
      "EPISODE 37500 - Eval Opponent 999 over 1000 - Number of game played 189500 - 12 hours, 33 minutes and 8 secondss\n",
      "########## Evaluation Against Last Agent - Episode 37500 ##########\n",
      "Timestep: 3003904 Average reward against last agent is 2.176\n"
     ]
    },
    {
     "name": "stderr",
     "output_type": "stream",
     "text": [
      "/opt/conda/lib/python3.7/site-packages/matplotlib/pyplot.py:1479: UserWarning: Attempting to set identical bottom==top results\n",
      "in singular transformations; automatically expanding.\n",
      "bottom=0, top=0\n",
      "  ret = ax.set_ylim(*args, **kwargs)\n"
     ]
    },
    {
     "name": "stdout",
     "output_type": "stream",
     "text": [
      "EPISODE 38000 - Eval Random 999 over 1000 - Number of game played 191000 - 12 hours, 36 minutes and 28 seconds\n",
      "########## Evaluation Against Random - Episode 38000 ##########\n",
      "Timestep: 3043691 Average reward against random is 2.482\n"
     ]
    },
    {
     "name": "stderr",
     "output_type": "stream",
     "text": [
      "/opt/conda/lib/python3.7/site-packages/matplotlib/pyplot.py:1479: UserWarning: Attempting to set identical bottom==top results\n",
      "in singular transformations; automatically expanding.\n",
      "bottom=0, top=0\n",
      "  ret = ax.set_ylim(*args, **kwargs)\n"
     ]
    },
    {
     "name": "stdout",
     "output_type": "stream",
     "text": [
      "EPISODE 38000 - Eval Opponent 999 over 1000 - Number of game played 192000 - 12 hours, 37 minutes and 49 seconds\n",
      "########## Evaluation Against Last Agent - Episode 38000 ##########\n",
      "Timestep: 3043691 Average reward against last agent is 2.484\n"
     ]
    },
    {
     "name": "stderr",
     "output_type": "stream",
     "text": [
      "/opt/conda/lib/python3.7/site-packages/matplotlib/pyplot.py:1479: UserWarning: Attempting to set identical bottom==top results\n",
      "in singular transformations; automatically expanding.\n",
      "bottom=0, top=0\n",
      "  ret = ax.set_ylim(*args, **kwargs)\n"
     ]
    },
    {
     "name": "stdout",
     "output_type": "stream",
     "text": [
      "EPISODE 38500 - Eval Random 999 over 1000 - Number of game played 193500 - 12 hours, 41 minutes and 12 seconds\n",
      "########## Evaluation Against Random - Episode 38500 ##########\n",
      "Timestep: 3083389 Average reward against random is 2.601\n"
     ]
    },
    {
     "name": "stderr",
     "output_type": "stream",
     "text": [
      "/opt/conda/lib/python3.7/site-packages/matplotlib/pyplot.py:1479: UserWarning: Attempting to set identical bottom==top results\n",
      "in singular transformations; automatically expanding.\n",
      "bottom=0, top=0\n",
      "  ret = ax.set_ylim(*args, **kwargs)\n"
     ]
    },
    {
     "name": "stdout",
     "output_type": "stream",
     "text": [
      "EPISODE 38500 - Eval Opponent 999 over 1000 - Number of game played 194500 - 12 hours, 42 minutes and 33 seconds\n",
      "########## Evaluation Against Last Agent - Episode 38500 ##########\n",
      "Timestep: 3083389 Average reward against last agent is 2.173\n"
     ]
    },
    {
     "name": "stderr",
     "output_type": "stream",
     "text": [
      "/opt/conda/lib/python3.7/site-packages/matplotlib/pyplot.py:1479: UserWarning: Attempting to set identical bottom==top results\n",
      "in singular transformations; automatically expanding.\n",
      "bottom=0, top=0\n",
      "  ret = ax.set_ylim(*args, **kwargs)\n"
     ]
    },
    {
     "name": "stdout",
     "output_type": "stream",
     "text": [
      "EPISODE 39000 - Eval Random 999 over 1000 - Number of game played 196000 - 12 hours, 45 minutes and 53 seconds\n",
      "########## Evaluation Against Random - Episode 39000 ##########\n",
      "Timestep: 3123146 Average reward against random is 2.554\n"
     ]
    },
    {
     "name": "stderr",
     "output_type": "stream",
     "text": [
      "/opt/conda/lib/python3.7/site-packages/matplotlib/pyplot.py:1479: UserWarning: Attempting to set identical bottom==top results\n",
      "in singular transformations; automatically expanding.\n",
      "bottom=0, top=0\n",
      "  ret = ax.set_ylim(*args, **kwargs)\n"
     ]
    },
    {
     "name": "stdout",
     "output_type": "stream",
     "text": [
      "EPISODE 39000 - Eval Opponent 999 over 1000 - Number of game played 197000 - 12 hours, 47 minutes and 16 seconds\n",
      "########## Evaluation Against Last Agent - Episode 39000 ##########\n",
      "Timestep: 3123146 Average reward against last agent is 2.373\n"
     ]
    },
    {
     "name": "stderr",
     "output_type": "stream",
     "text": [
      "/opt/conda/lib/python3.7/site-packages/matplotlib/pyplot.py:1479: UserWarning: Attempting to set identical bottom==top results\n",
      "in singular transformations; automatically expanding.\n",
      "bottom=0, top=0\n",
      "  ret = ax.set_ylim(*args, **kwargs)\n"
     ]
    },
    {
     "name": "stdout",
     "output_type": "stream",
     "text": [
      "EPISODE 39500 - Eval Random 999 over 1000 - Number of game played 198500 - 12 hours, 50 minutes and 37 seconds\n",
      "########## Evaluation Against Random - Episode 39500 ##########\n",
      "Timestep: 3162941 Average reward against random is 2.458\n"
     ]
    },
    {
     "name": "stderr",
     "output_type": "stream",
     "text": [
      "/opt/conda/lib/python3.7/site-packages/matplotlib/pyplot.py:1479: UserWarning: Attempting to set identical bottom==top results\n",
      "in singular transformations; automatically expanding.\n",
      "bottom=0, top=0\n",
      "  ret = ax.set_ylim(*args, **kwargs)\n"
     ]
    },
    {
     "name": "stdout",
     "output_type": "stream",
     "text": [
      "EPISODE 39500 - Eval Opponent 999 over 1000 - Number of game played 199500 - 12 hours, 51 minutes and 59 seconds\n",
      "########## Evaluation Against Last Agent - Episode 39500 ##########\n",
      "Timestep: 3162941 Average reward against last agent is 2.414\n"
     ]
    },
    {
     "name": "stderr",
     "output_type": "stream",
     "text": [
      "/opt/conda/lib/python3.7/site-packages/matplotlib/pyplot.py:1479: UserWarning: Attempting to set identical bottom==top results\n",
      "in singular transformations; automatically expanding.\n",
      "bottom=0, top=0\n",
      "  ret = ax.set_ylim(*args, **kwargs)\n"
     ]
    },
    {
     "name": "stdout",
     "output_type": "stream",
     "text": [
      "EPISODE 40000 - Eval Random 999 over 1000 - Number of game played 201000 - 12 hours, 55 minutes and 23 seconds\n",
      "########## Evaluation Against Random - Episode 40000 ##########\n",
      "Timestep: 3202716 Average reward against random is 2.461\n"
     ]
    },
    {
     "name": "stderr",
     "output_type": "stream",
     "text": [
      "/opt/conda/lib/python3.7/site-packages/matplotlib/pyplot.py:1479: UserWarning: Attempting to set identical bottom==top results\n",
      "in singular transformations; automatically expanding.\n",
      "bottom=0, top=0\n",
      "  ret = ax.set_ylim(*args, **kwargs)\n"
     ]
    },
    {
     "name": "stdout",
     "output_type": "stream",
     "text": [
      "EPISODE 40000 - Eval Opponent 999 over 1000 - Number of game played 202000 - 12 hours, 56 minutes and 44 seconds\n",
      "########## Evaluation Against Last Agent - Episode 40000 ##########\n",
      "Timestep: 3202716 Average reward against last agent is 2.368\n"
     ]
    },
    {
     "name": "stderr",
     "output_type": "stream",
     "text": [
      "/opt/conda/lib/python3.7/site-packages/matplotlib/pyplot.py:1479: UserWarning: Attempting to set identical bottom==top results\n",
      "in singular transformations; automatically expanding.\n",
      "bottom=0, top=0\n",
      "  ret = ax.set_ylim(*args, **kwargs)\n"
     ]
    },
    {
     "name": "stdout",
     "output_type": "stream",
     "text": [
      "\n",
      "########## Changing model - Using Model 9 as opponent ##########\n",
      "\n",
      "########## Changing model - Using Model 9 as opponent ##########\n",
      "EPISODE 40500 - Eval Random 999 over 1000 - Number of game played 203500 - 13 hours, 0 minute and 7 secondsnds\n",
      "########## Evaluation Against Random - Episode 40500 ##########\n",
      "Timestep: 3242461 Average reward against random is 2.491\n"
     ]
    },
    {
     "name": "stderr",
     "output_type": "stream",
     "text": [
      "/opt/conda/lib/python3.7/site-packages/matplotlib/pyplot.py:1479: UserWarning: Attempting to set identical bottom==top results\n",
      "in singular transformations; automatically expanding.\n",
      "bottom=0, top=0\n",
      "  ret = ax.set_ylim(*args, **kwargs)\n"
     ]
    },
    {
     "name": "stdout",
     "output_type": "stream",
     "text": [
      "EPISODE 40500 - Eval Opponent 999 over 1000 - Number of game played 204500 - 13 hours, 1 minute and 28 seconds\n",
      "########## Evaluation Against Last Agent - Episode 40500 ##########\n",
      "Timestep: 3242461 Average reward against last agent is 2.394\n"
     ]
    },
    {
     "name": "stderr",
     "output_type": "stream",
     "text": [
      "/opt/conda/lib/python3.7/site-packages/matplotlib/pyplot.py:1479: UserWarning: Attempting to set identical bottom==top results\n",
      "in singular transformations; automatically expanding.\n",
      "bottom=0, top=0\n",
      "  ret = ax.set_ylim(*args, **kwargs)\n"
     ]
    },
    {
     "name": "stdout",
     "output_type": "stream",
     "text": [
      "EPISODE 41000 - Eval Random 999 over 1000 - Number of game played 206000 - 13 hours, 4 minutes and 51 seconds\n",
      "########## Evaluation Against Random - Episode 41000 ##########\n",
      "Timestep: 3282216 Average reward against random is 2.329\n"
     ]
    },
    {
     "name": "stderr",
     "output_type": "stream",
     "text": [
      "/opt/conda/lib/python3.7/site-packages/matplotlib/pyplot.py:1479: UserWarning: Attempting to set identical bottom==top results\n",
      "in singular transformations; automatically expanding.\n",
      "bottom=0, top=0\n",
      "  ret = ax.set_ylim(*args, **kwargs)\n"
     ]
    },
    {
     "name": "stdout",
     "output_type": "stream",
     "text": [
      "EPISODE 41000 - Eval Opponent 999 over 1000 - Number of game played 207000 - 13 hours, 6 minutes and 14 seconds\n",
      "########## Evaluation Against Last Agent - Episode 41000 ##########\n",
      "Timestep: 3282216 Average reward against last agent is 2.389\n"
     ]
    },
    {
     "name": "stderr",
     "output_type": "stream",
     "text": [
      "/opt/conda/lib/python3.7/site-packages/matplotlib/pyplot.py:1479: UserWarning: Attempting to set identical bottom==top results\n",
      "in singular transformations; automatically expanding.\n",
      "bottom=0, top=0\n",
      "  ret = ax.set_ylim(*args, **kwargs)\n"
     ]
    },
    {
     "name": "stdout",
     "output_type": "stream",
     "text": [
      "EPISODE 41500 - Eval Random 999 over 1000 - Number of game played 208500 - 13 hours, 9 minutes and 40 seconds\n",
      "########## Evaluation Against Random - Episode 41500 ##########\n",
      "Timestep: 3321982 Average reward against random is 2.415\n"
     ]
    },
    {
     "name": "stderr",
     "output_type": "stream",
     "text": [
      "/opt/conda/lib/python3.7/site-packages/matplotlib/pyplot.py:1479: UserWarning: Attempting to set identical bottom==top results\n",
      "in singular transformations; automatically expanding.\n",
      "bottom=0, top=0\n",
      "  ret = ax.set_ylim(*args, **kwargs)\n"
     ]
    },
    {
     "name": "stdout",
     "output_type": "stream",
     "text": [
      "EPISODE 41500 - Eval Opponent 999 over 1000 - Number of game played 209500 - 13 hours, 11 minutes and 3 secondss\n",
      "########## Evaluation Against Last Agent - Episode 41500 ##########\n",
      "Timestep: 3321982 Average reward against last agent is 2.451\n"
     ]
    },
    {
     "name": "stderr",
     "output_type": "stream",
     "text": [
      "/opt/conda/lib/python3.7/site-packages/matplotlib/pyplot.py:1479: UserWarning: Attempting to set identical bottom==top results\n",
      "in singular transformations; automatically expanding.\n",
      "bottom=0, top=0\n",
      "  ret = ax.set_ylim(*args, **kwargs)\n"
     ]
    },
    {
     "name": "stdout",
     "output_type": "stream",
     "text": [
      "EPISODE 42000 - Eval Random 999 over 1000 - Number of game played 211000 - 13 hours, 14 minutes and 30 seconds\n",
      "########## Evaluation Against Random - Episode 42000 ##########\n",
      "Timestep: 3361750 Average reward against random is 2.413\n"
     ]
    },
    {
     "name": "stderr",
     "output_type": "stream",
     "text": [
      "/opt/conda/lib/python3.7/site-packages/matplotlib/pyplot.py:1479: UserWarning: Attempting to set identical bottom==top results\n",
      "in singular transformations; automatically expanding.\n",
      "bottom=0, top=0\n",
      "  ret = ax.set_ylim(*args, **kwargs)\n"
     ]
    },
    {
     "name": "stdout",
     "output_type": "stream",
     "text": [
      "EPISODE 42000 - Eval Opponent 999 over 1000 - Number of game played 212000 - 13 hours, 15 minutes and 54 seconds\n",
      "########## Evaluation Against Last Agent - Episode 42000 ##########\n",
      "Timestep: 3361750 Average reward against last agent is 2.388\n"
     ]
    },
    {
     "name": "stderr",
     "output_type": "stream",
     "text": [
      "/opt/conda/lib/python3.7/site-packages/matplotlib/pyplot.py:1479: UserWarning: Attempting to set identical bottom==top results\n",
      "in singular transformations; automatically expanding.\n",
      "bottom=0, top=0\n",
      "  ret = ax.set_ylim(*args, **kwargs)\n"
     ]
    },
    {
     "name": "stdout",
     "output_type": "stream",
     "text": [
      "EPISODE 42500 - Eval Random 999 over 1000 - Number of game played 213500 - 13 hours, 19 minutes and 20 seconds\n",
      "########## Evaluation Against Random - Episode 42500 ##########\n",
      "Timestep: 3401511 Average reward against random is 2.314\n"
     ]
    },
    {
     "name": "stderr",
     "output_type": "stream",
     "text": [
      "/opt/conda/lib/python3.7/site-packages/matplotlib/pyplot.py:1479: UserWarning: Attempting to set identical bottom==top results\n",
      "in singular transformations; automatically expanding.\n",
      "bottom=0, top=0\n",
      "  ret = ax.set_ylim(*args, **kwargs)\n"
     ]
    },
    {
     "name": "stdout",
     "output_type": "stream",
     "text": [
      "EPISODE 42500 - Eval Opponent 999 over 1000 - Number of game played 214500 - 13 hours, 20 minutes and 43 seconds\n",
      "########## Evaluation Against Last Agent - Episode 42500 ##########\n",
      "Timestep: 3401511 Average reward against last agent is 2.369\n"
     ]
    },
    {
     "name": "stderr",
     "output_type": "stream",
     "text": [
      "/opt/conda/lib/python3.7/site-packages/matplotlib/pyplot.py:1479: UserWarning: Attempting to set identical bottom==top results\n",
      "in singular transformations; automatically expanding.\n",
      "bottom=0, top=0\n",
      "  ret = ax.set_ylim(*args, **kwargs)\n"
     ]
    },
    {
     "name": "stdout",
     "output_type": "stream",
     "text": [
      "EPISODE 43000 - Eval Random 999 over 1000 - Number of game played 216000 - 13 hours, 24 minutes and 11 seconds\n",
      "########## Evaluation Against Random - Episode 43000 ##########\n",
      "Timestep: 3441211 Average reward against random is 2.412\n"
     ]
    },
    {
     "name": "stderr",
     "output_type": "stream",
     "text": [
      "/opt/conda/lib/python3.7/site-packages/matplotlib/pyplot.py:1479: UserWarning: Attempting to set identical bottom==top results\n",
      "in singular transformations; automatically expanding.\n",
      "bottom=0, top=0\n",
      "  ret = ax.set_ylim(*args, **kwargs)\n"
     ]
    },
    {
     "name": "stdout",
     "output_type": "stream",
     "text": [
      "EPISODE 43000 - Eval Opponent 999 over 1000 - Number of game played 217000 - 13 hours, 25 minutes and 34 seconds\n",
      "########## Evaluation Against Last Agent - Episode 43000 ##########\n",
      "Timestep: 3441211 Average reward against last agent is 2.208\n"
     ]
    },
    {
     "name": "stderr",
     "output_type": "stream",
     "text": [
      "/opt/conda/lib/python3.7/site-packages/matplotlib/pyplot.py:1479: UserWarning: Attempting to set identical bottom==top results\n",
      "in singular transformations; automatically expanding.\n",
      "bottom=0, top=0\n",
      "  ret = ax.set_ylim(*args, **kwargs)\n"
     ]
    },
    {
     "name": "stdout",
     "output_type": "stream",
     "text": [
      "EPISODE 43500 - Eval Random 999 over 1000 - Number of game played 218500 - 13 hours, 28 minutes and 59 seconds\n",
      "########## Evaluation Against Random - Episode 43500 ##########\n",
      "Timestep: 3481011 Average reward against random is 2.472\n"
     ]
    },
    {
     "name": "stderr",
     "output_type": "stream",
     "text": [
      "/opt/conda/lib/python3.7/site-packages/matplotlib/pyplot.py:1479: UserWarning: Attempting to set identical bottom==top results\n",
      "in singular transformations; automatically expanding.\n",
      "bottom=0, top=0\n",
      "  ret = ax.set_ylim(*args, **kwargs)\n"
     ]
    },
    {
     "name": "stdout",
     "output_type": "stream",
     "text": [
      "EPISODE 43500 - Eval Opponent 999 over 1000 - Number of game played 219500 - 13 hours, 30 minutes and 26 seconds\n",
      "########## Evaluation Against Last Agent - Episode 43500 ##########\n",
      "Timestep: 3481011 Average reward against last agent is 2.284\n"
     ]
    },
    {
     "name": "stderr",
     "output_type": "stream",
     "text": [
      "/opt/conda/lib/python3.7/site-packages/matplotlib/pyplot.py:1479: UserWarning: Attempting to set identical bottom==top results\n",
      "in singular transformations; automatically expanding.\n",
      "bottom=0, top=0\n",
      "  ret = ax.set_ylim(*args, **kwargs)\n"
     ]
    },
    {
     "name": "stdout",
     "output_type": "stream",
     "text": [
      "EPISODE 44000 - Eval Random 999 over 1000 - Number of game played 221000 - 13 hours, 33 minutes and 53 seconds\n",
      "########## Evaluation Against Random - Episode 44000 ##########\n",
      "Timestep: 3520827 Average reward against random is 2.466\n"
     ]
    },
    {
     "name": "stderr",
     "output_type": "stream",
     "text": [
      "/opt/conda/lib/python3.7/site-packages/matplotlib/pyplot.py:1479: UserWarning: Attempting to set identical bottom==top results\n",
      "in singular transformations; automatically expanding.\n",
      "bottom=0, top=0\n",
      "  ret = ax.set_ylim(*args, **kwargs)\n"
     ]
    },
    {
     "name": "stdout",
     "output_type": "stream",
     "text": [
      "EPISODE 44000 - Eval Opponent 999 over 1000 - Number of game played 222000 - 13 hours, 35 minutes and 14 seconds\n",
      "########## Evaluation Against Last Agent - Episode 44000 ##########\n",
      "Timestep: 3520827 Average reward against last agent is 2.567\n"
     ]
    },
    {
     "name": "stderr",
     "output_type": "stream",
     "text": [
      "/opt/conda/lib/python3.7/site-packages/matplotlib/pyplot.py:1479: UserWarning: Attempting to set identical bottom==top results\n",
      "in singular transformations; automatically expanding.\n",
      "bottom=0, top=0\n",
      "  ret = ax.set_ylim(*args, **kwargs)\n"
     ]
    },
    {
     "name": "stdout",
     "output_type": "stream",
     "text": [
      "EPISODE 44500 - Eval Random 999 over 1000 - Number of game played 223500 - 13 hours, 38 minutes and 42 seconds\n",
      "########## Evaluation Against Random - Episode 44500 ##########\n",
      "Timestep: 3560663 Average reward against random is 2.352\n"
     ]
    },
    {
     "name": "stderr",
     "output_type": "stream",
     "text": [
      "/opt/conda/lib/python3.7/site-packages/matplotlib/pyplot.py:1479: UserWarning: Attempting to set identical bottom==top results\n",
      "in singular transformations; automatically expanding.\n",
      "bottom=0, top=0\n",
      "  ret = ax.set_ylim(*args, **kwargs)\n"
     ]
    },
    {
     "name": "stdout",
     "output_type": "stream",
     "text": [
      "EPISODE 44500 - Eval Opponent 999 over 1000 - Number of game played 224500 - 13 hours, 40 minutes and 3 secondss\n",
      "########## Evaluation Against Last Agent - Episode 44500 ##########\n",
      "Timestep: 3560663 Average reward against last agent is 2.224\n"
     ]
    },
    {
     "name": "stderr",
     "output_type": "stream",
     "text": [
      "/opt/conda/lib/python3.7/site-packages/matplotlib/pyplot.py:1479: UserWarning: Attempting to set identical bottom==top results\n",
      "in singular transformations; automatically expanding.\n",
      "bottom=0, top=0\n",
      "  ret = ax.set_ylim(*args, **kwargs)\n"
     ]
    },
    {
     "name": "stdout",
     "output_type": "stream",
     "text": [
      "EPISODE 45000 - Eval Random 999 over 1000 - Number of game played 226000 - 13 hours, 43 minutes and 28 seconds\n",
      "########## Evaluation Against Random - Episode 45000 ##########\n",
      "Timestep: 3600498 Average reward against random is 2.399\n"
     ]
    },
    {
     "name": "stderr",
     "output_type": "stream",
     "text": [
      "/opt/conda/lib/python3.7/site-packages/matplotlib/pyplot.py:1479: UserWarning: Attempting to set identical bottom==top results\n",
      "in singular transformations; automatically expanding.\n",
      "bottom=0, top=0\n",
      "  ret = ax.set_ylim(*args, **kwargs)\n"
     ]
    },
    {
     "name": "stdout",
     "output_type": "stream",
     "text": [
      "EPISODE 45000 - Eval Opponent 999 over 1000 - Number of game played 227000 - 13 hours, 44 minutes and 50 seconds\n",
      "########## Evaluation Against Last Agent - Episode 45000 ##########\n",
      "Timestep: 3600498 Average reward against last agent is 2.499\n"
     ]
    },
    {
     "name": "stderr",
     "output_type": "stream",
     "text": [
      "/opt/conda/lib/python3.7/site-packages/matplotlib/pyplot.py:1479: UserWarning: Attempting to set identical bottom==top results\n",
      "in singular transformations; automatically expanding.\n",
      "bottom=0, top=0\n",
      "  ret = ax.set_ylim(*args, **kwargs)\n"
     ]
    },
    {
     "name": "stdout",
     "output_type": "stream",
     "text": [
      "\n",
      "########## Changing model - Using Model 10 as opponent ##########\n",
      "\n",
      "########## Changing model - Using Model 10 as opponent ##########\n",
      "EPISODE 45500 - Eval Random 999 over 1000 - Number of game played 228500 - 13 hours, 48 minutes and 19 seconds\n",
      "########## Evaluation Against Random - Episode 45500 ##########\n",
      "Timestep: 3640345 Average reward against random is 2.589\n"
     ]
    },
    {
     "name": "stderr",
     "output_type": "stream",
     "text": [
      "/opt/conda/lib/python3.7/site-packages/matplotlib/pyplot.py:1479: UserWarning: Attempting to set identical bottom==top results\n",
      "in singular transformations; automatically expanding.\n",
      "bottom=0, top=0\n",
      "  ret = ax.set_ylim(*args, **kwargs)\n"
     ]
    },
    {
     "name": "stdout",
     "output_type": "stream",
     "text": [
      "EPISODE 45500 - Eval Opponent 999 over 1000 - Number of game played 229500 - 13 hours, 49 minutes and 41 seconds\n",
      "########## Evaluation Against Last Agent - Episode 45500 ##########\n",
      "Timestep: 3640345 Average reward against last agent is 2.268\n"
     ]
    },
    {
     "name": "stderr",
     "output_type": "stream",
     "text": [
      "/opt/conda/lib/python3.7/site-packages/matplotlib/pyplot.py:1479: UserWarning: Attempting to set identical bottom==top results\n",
      "in singular transformations; automatically expanding.\n",
      "bottom=0, top=0\n",
      "  ret = ax.set_ylim(*args, **kwargs)\n"
     ]
    },
    {
     "name": "stdout",
     "output_type": "stream",
     "text": [
      "EPISODE 46000 - Eval Random 999 over 1000 - Number of game played 231000 - 13 hours, 53 minutes and 8 secondss\n",
      "########## Evaluation Against Random - Episode 46000 ##########\n",
      "Timestep: 3680250 Average reward against random is 2.485\n"
     ]
    },
    {
     "name": "stderr",
     "output_type": "stream",
     "text": [
      "/opt/conda/lib/python3.7/site-packages/matplotlib/pyplot.py:1479: UserWarning: Attempting to set identical bottom==top results\n",
      "in singular transformations; automatically expanding.\n",
      "bottom=0, top=0\n",
      "  ret = ax.set_ylim(*args, **kwargs)\n"
     ]
    },
    {
     "name": "stdout",
     "output_type": "stream",
     "text": [
      "EPISODE 46000 - Eval Opponent 999 over 1000 - Number of game played 232000 - 13 hours, 54 minutes and 29 seconds\n",
      "########## Evaluation Against Last Agent - Episode 46000 ##########\n",
      "Timestep: 3680250 Average reward against last agent is 2.476\n"
     ]
    },
    {
     "name": "stderr",
     "output_type": "stream",
     "text": [
      "/opt/conda/lib/python3.7/site-packages/matplotlib/pyplot.py:1479: UserWarning: Attempting to set identical bottom==top results\n",
      "in singular transformations; automatically expanding.\n",
      "bottom=0, top=0\n",
      "  ret = ax.set_ylim(*args, **kwargs)\n"
     ]
    },
    {
     "name": "stdout",
     "output_type": "stream",
     "text": [
      "EPISODE 46500 - Eval Random 999 over 1000 - Number of game played 233500 - 13 hours, 58 minutes and 1 secondds\n",
      "########## Evaluation Against Random - Episode 46500 ##########\n",
      "Timestep: 3720054 Average reward against random is 2.38\n"
     ]
    },
    {
     "name": "stderr",
     "output_type": "stream",
     "text": [
      "/opt/conda/lib/python3.7/site-packages/matplotlib/pyplot.py:1479: UserWarning: Attempting to set identical bottom==top results\n",
      "in singular transformations; automatically expanding.\n",
      "bottom=0, top=0\n",
      "  ret = ax.set_ylim(*args, **kwargs)\n"
     ]
    },
    {
     "name": "stdout",
     "output_type": "stream",
     "text": [
      "EPISODE 46500 - Eval Opponent 999 over 1000 - Number of game played 234500 - 13 hours, 59 minutes and 25 seconds\n",
      "########## Evaluation Against Last Agent - Episode 46500 ##########\n",
      "Timestep: 3720054 Average reward against last agent is 2.342\n"
     ]
    },
    {
     "name": "stderr",
     "output_type": "stream",
     "text": [
      "/opt/conda/lib/python3.7/site-packages/matplotlib/pyplot.py:1479: UserWarning: Attempting to set identical bottom==top results\n",
      "in singular transformations; automatically expanding.\n",
      "bottom=0, top=0\n",
      "  ret = ax.set_ylim(*args, **kwargs)\n"
     ]
    },
    {
     "name": "stdout",
     "output_type": "stream",
     "text": [
      "EPISODE 47000 - Eval Random 999 over 1000 - Number of game played 236000 - 14 hours, 2 minutes and 53 seconds\n",
      "########## Evaluation Against Random - Episode 47000 ##########\n",
      "Timestep: 3759923 Average reward against random is 2.354\n"
     ]
    },
    {
     "name": "stderr",
     "output_type": "stream",
     "text": [
      "/opt/conda/lib/python3.7/site-packages/matplotlib/pyplot.py:1479: UserWarning: Attempting to set identical bottom==top results\n",
      "in singular transformations; automatically expanding.\n",
      "bottom=0, top=0\n",
      "  ret = ax.set_ylim(*args, **kwargs)\n"
     ]
    },
    {
     "name": "stdout",
     "output_type": "stream",
     "text": [
      "EPISODE 47000 - Eval Opponent 999 over 1000 - Number of game played 237000 - 14 hours, 4 minutes and 14 seconds\n",
      "########## Evaluation Against Last Agent - Episode 47000 ##########\n",
      "Timestep: 3759923 Average reward against last agent is 2.343\n"
     ]
    },
    {
     "name": "stderr",
     "output_type": "stream",
     "text": [
      "/opt/conda/lib/python3.7/site-packages/matplotlib/pyplot.py:1479: UserWarning: Attempting to set identical bottom==top results\n",
      "in singular transformations; automatically expanding.\n",
      "bottom=0, top=0\n",
      "  ret = ax.set_ylim(*args, **kwargs)\n"
     ]
    },
    {
     "name": "stdout",
     "output_type": "stream",
     "text": [
      "EPISODE 47500 - Eval Random 999 over 1000 - Number of game played 238500 - 14 hours, 7 minutes and 47 seconds\n",
      "########## Evaluation Against Random - Episode 47500 ##########\n",
      "Timestep: 3799694 Average reward against random is 2.408\n"
     ]
    },
    {
     "name": "stderr",
     "output_type": "stream",
     "text": [
      "/opt/conda/lib/python3.7/site-packages/matplotlib/pyplot.py:1479: UserWarning: Attempting to set identical bottom==top results\n",
      "in singular transformations; automatically expanding.\n",
      "bottom=0, top=0\n",
      "  ret = ax.set_ylim(*args, **kwargs)\n"
     ]
    },
    {
     "name": "stdout",
     "output_type": "stream",
     "text": [
      "EPISODE 47500 - Eval Opponent 999 over 1000 - Number of game played 239500 - 14 hours, 9 minutes and 10 seconds\n",
      "########## Evaluation Against Last Agent - Episode 47500 ##########\n",
      "Timestep: 3799694 Average reward against last agent is 2.385\n"
     ]
    },
    {
     "name": "stderr",
     "output_type": "stream",
     "text": [
      "/opt/conda/lib/python3.7/site-packages/matplotlib/pyplot.py:1479: UserWarning: Attempting to set identical bottom==top results\n",
      "in singular transformations; automatically expanding.\n",
      "bottom=0, top=0\n",
      "  ret = ax.set_ylim(*args, **kwargs)\n"
     ]
    },
    {
     "name": "stdout",
     "output_type": "stream",
     "text": [
      "EPISODE 48000 - Eval Random 999 over 1000 - Number of game played 241000 - 14 hours, 12 minutes and 44 seconds\n",
      "########## Evaluation Against Random - Episode 48000 ##########\n",
      "Timestep: 3839491 Average reward against random is 2.355\n"
     ]
    },
    {
     "name": "stderr",
     "output_type": "stream",
     "text": [
      "/opt/conda/lib/python3.7/site-packages/matplotlib/pyplot.py:1479: UserWarning: Attempting to set identical bottom==top results\n",
      "in singular transformations; automatically expanding.\n",
      "bottom=0, top=0\n",
      "  ret = ax.set_ylim(*args, **kwargs)\n"
     ]
    },
    {
     "name": "stdout",
     "output_type": "stream",
     "text": [
      "EPISODE 48000 - Eval Opponent 999 over 1000 - Number of game played 242000 - 14 hours, 14 minutes and 6 secondss\n",
      "########## Evaluation Against Last Agent - Episode 48000 ##########\n",
      "Timestep: 3839491 Average reward against last agent is 2.322\n"
     ]
    },
    {
     "name": "stderr",
     "output_type": "stream",
     "text": [
      "/opt/conda/lib/python3.7/site-packages/matplotlib/pyplot.py:1479: UserWarning: Attempting to set identical bottom==top results\n",
      "in singular transformations; automatically expanding.\n",
      "bottom=0, top=0\n",
      "  ret = ax.set_ylim(*args, **kwargs)\n"
     ]
    },
    {
     "name": "stdout",
     "output_type": "stream",
     "text": [
      "EPISODE 48500 - Eval Random 999 over 1000 - Number of game played 243500 - 14 hours, 17 minutes and 43 seconds\n",
      "########## Evaluation Against Random - Episode 48500 ##########\n",
      "Timestep: 3879190 Average reward against random is 2.453\n"
     ]
    },
    {
     "name": "stderr",
     "output_type": "stream",
     "text": [
      "/opt/conda/lib/python3.7/site-packages/matplotlib/pyplot.py:1479: UserWarning: Attempting to set identical bottom==top results\n",
      "in singular transformations; automatically expanding.\n",
      "bottom=0, top=0\n",
      "  ret = ax.set_ylim(*args, **kwargs)\n"
     ]
    },
    {
     "name": "stdout",
     "output_type": "stream",
     "text": [
      "EPISODE 48500 - Eval Opponent 999 over 1000 - Number of game played 244500 - 14 hours, 19 minutes and 4 secondss\n",
      "########## Evaluation Against Last Agent - Episode 48500 ##########\n",
      "Timestep: 3879190 Average reward against last agent is 2.263\n"
     ]
    },
    {
     "name": "stderr",
     "output_type": "stream",
     "text": [
      "/opt/conda/lib/python3.7/site-packages/matplotlib/pyplot.py:1479: UserWarning: Attempting to set identical bottom==top results\n",
      "in singular transformations; automatically expanding.\n",
      "bottom=0, top=0\n",
      "  ret = ax.set_ylim(*args, **kwargs)\n"
     ]
    },
    {
     "name": "stdout",
     "output_type": "stream",
     "text": [
      "EPISODE 49000 - Eval Random 999 over 1000 - Number of game played 246000 - 14 hours, 22 minutes and 44 seconds\n",
      "########## Evaluation Against Random - Episode 49000 ##########\n",
      "Timestep: 3918842 Average reward against random is 2.435\n"
     ]
    },
    {
     "name": "stderr",
     "output_type": "stream",
     "text": [
      "/opt/conda/lib/python3.7/site-packages/matplotlib/pyplot.py:1479: UserWarning: Attempting to set identical bottom==top results\n",
      "in singular transformations; automatically expanding.\n",
      "bottom=0, top=0\n",
      "  ret = ax.set_ylim(*args, **kwargs)\n"
     ]
    },
    {
     "name": "stdout",
     "output_type": "stream",
     "text": [
      "EPISODE 49000 - Eval Opponent 999 over 1000 - Number of game played 247000 - 14 hours, 24 minutes and 5 secondss\n",
      "########## Evaluation Against Last Agent - Episode 49000 ##########\n",
      "Timestep: 3918842 Average reward against last agent is 2.503\n"
     ]
    },
    {
     "name": "stderr",
     "output_type": "stream",
     "text": [
      "/opt/conda/lib/python3.7/site-packages/matplotlib/pyplot.py:1479: UserWarning: Attempting to set identical bottom==top results\n",
      "in singular transformations; automatically expanding.\n",
      "bottom=0, top=0\n",
      "  ret = ax.set_ylim(*args, **kwargs)\n"
     ]
    },
    {
     "name": "stdout",
     "output_type": "stream",
     "text": [
      "EPISODE 49500 - Eval Random 999 over 1000 - Number of game played 248500 - 14 hours, 27 minutes and 43 seconds\n",
      "########## Evaluation Against Random - Episode 49500 ##########\n",
      "Timestep: 3958571 Average reward against random is 2.524\n"
     ]
    },
    {
     "name": "stderr",
     "output_type": "stream",
     "text": [
      "/opt/conda/lib/python3.7/site-packages/matplotlib/pyplot.py:1479: UserWarning: Attempting to set identical bottom==top results\n",
      "in singular transformations; automatically expanding.\n",
      "bottom=0, top=0\n",
      "  ret = ax.set_ylim(*args, **kwargs)\n"
     ]
    },
    {
     "name": "stdout",
     "output_type": "stream",
     "text": [
      "EPISODE 49500 - Eval Opponent 999 over 1000 - Number of game played 249500 - 14 hours, 29 minutes and 7 secondss\n",
      "########## Evaluation Against Last Agent - Episode 49500 ##########\n",
      "Timestep: 3958571 Average reward against last agent is 2.492\n"
     ]
    },
    {
     "name": "stderr",
     "output_type": "stream",
     "text": [
      "/opt/conda/lib/python3.7/site-packages/matplotlib/pyplot.py:1479: UserWarning: Attempting to set identical bottom==top results\n",
      "in singular transformations; automatically expanding.\n",
      "bottom=0, top=0\n",
      "  ret = ax.set_ylim(*args, **kwargs)\n"
     ]
    },
    {
     "name": "stdout",
     "output_type": "stream",
     "text": [
      "EPISODE 50000 - Eval Random 999 over 1000 - Number of game played 251000 - 14 hours, 32 minutes and 33 seconds\n",
      "########## Evaluation Against Random - Episode 50000 ##########\n",
      "Timestep: 3998365 Average reward against random is 2.436\n"
     ]
    },
    {
     "name": "stderr",
     "output_type": "stream",
     "text": [
      "/opt/conda/lib/python3.7/site-packages/matplotlib/pyplot.py:1479: UserWarning: Attempting to set identical bottom==top results\n",
      "in singular transformations; automatically expanding.\n",
      "bottom=0, top=0\n",
      "  ret = ax.set_ylim(*args, **kwargs)\n"
     ]
    },
    {
     "name": "stdout",
     "output_type": "stream",
     "text": [
      "EPISODE 50000 - Eval Opponent 999 over 1000 - Number of game played 252000 - 14 hours, 33 minutes and 53 seconds\n",
      "########## Evaluation Against Last Agent - Episode 50000 ##########\n",
      "Timestep: 3998365 Average reward against last agent is 2.519\n"
     ]
    },
    {
     "name": "stderr",
     "output_type": "stream",
     "text": [
      "/opt/conda/lib/python3.7/site-packages/matplotlib/pyplot.py:1479: UserWarning: Attempting to set identical bottom==top results\n",
      "in singular transformations; automatically expanding.\n",
      "bottom=0, top=0\n",
      "  ret = ax.set_ylim(*args, **kwargs)\n"
     ]
    },
    {
     "name": "stdout",
     "output_type": "stream",
     "text": [
      "\n",
      "########## Changing model - Using Model 11 as opponent ##########\n",
      "\n",
      "########## Changing model - Using Model 11 as opponent ##########\n",
      "EPISODE 50500 - Eval Random 999 over 1000 - Number of game played 253500 - 14 hours, 37 minutes and 24 seconds\n",
      "########## Evaluation Against Random - Episode 50500 ##########\n",
      "Timestep: 4038109 Average reward against random is 2.45\n"
     ]
    },
    {
     "name": "stderr",
     "output_type": "stream",
     "text": [
      "/opt/conda/lib/python3.7/site-packages/matplotlib/pyplot.py:1479: UserWarning: Attempting to set identical bottom==top results\n",
      "in singular transformations; automatically expanding.\n",
      "bottom=0, top=0\n",
      "  ret = ax.set_ylim(*args, **kwargs)\n"
     ]
    },
    {
     "name": "stdout",
     "output_type": "stream",
     "text": [
      "EPISODE 50500 - Eval Opponent 999 over 1000 - Number of game played 254500 - 14 hours, 38 minutes and 48 seconds\n",
      "########## Evaluation Against Last Agent - Episode 50500 ##########\n",
      "Timestep: 4038109 Average reward against last agent is 2.22\n"
     ]
    },
    {
     "name": "stderr",
     "output_type": "stream",
     "text": [
      "/opt/conda/lib/python3.7/site-packages/matplotlib/pyplot.py:1479: UserWarning: Attempting to set identical bottom==top results\n",
      "in singular transformations; automatically expanding.\n",
      "bottom=0, top=0\n",
      "  ret = ax.set_ylim(*args, **kwargs)\n"
     ]
    },
    {
     "name": "stdout",
     "output_type": "stream",
     "text": [
      "EPISODE 51000 - Eval Random 999 over 1000 - Number of game played 256000 - 14 hours, 42 minutes and 21 seconds\n",
      "########## Evaluation Against Random - Episode 51000 ##########\n",
      "Timestep: 4077803 Average reward against random is 2.453\n"
     ]
    },
    {
     "name": "stderr",
     "output_type": "stream",
     "text": [
      "/opt/conda/lib/python3.7/site-packages/matplotlib/pyplot.py:1479: UserWarning: Attempting to set identical bottom==top results\n",
      "in singular transformations; automatically expanding.\n",
      "bottom=0, top=0\n",
      "  ret = ax.set_ylim(*args, **kwargs)\n"
     ]
    },
    {
     "name": "stdout",
     "output_type": "stream",
     "text": [
      "EPISODE 51000 - Eval Opponent 999 over 1000 - Number of game played 257000 - 14 hours, 43 minutes and 41 seconds\n",
      "########## Evaluation Against Last Agent - Episode 51000 ##########\n",
      "Timestep: 4077803 Average reward against last agent is 2.386\n"
     ]
    },
    {
     "name": "stderr",
     "output_type": "stream",
     "text": [
      "/opt/conda/lib/python3.7/site-packages/matplotlib/pyplot.py:1479: UserWarning: Attempting to set identical bottom==top results\n",
      "in singular transformations; automatically expanding.\n",
      "bottom=0, top=0\n",
      "  ret = ax.set_ylim(*args, **kwargs)\n"
     ]
    },
    {
     "name": "stdout",
     "output_type": "stream",
     "text": [
      "EPISODE 51500 - Eval Random 999 over 1000 - Number of game played 258500 - 14 hours, 47 minutes and 16 seconds\n",
      "########## Evaluation Against Random - Episode 51500 ##########\n",
      "Timestep: 4117476 Average reward against random is 2.474\n"
     ]
    },
    {
     "name": "stderr",
     "output_type": "stream",
     "text": [
      "/opt/conda/lib/python3.7/site-packages/matplotlib/pyplot.py:1479: UserWarning: Attempting to set identical bottom==top results\n",
      "in singular transformations; automatically expanding.\n",
      "bottom=0, top=0\n",
      "  ret = ax.set_ylim(*args, **kwargs)\n"
     ]
    },
    {
     "name": "stdout",
     "output_type": "stream",
     "text": [
      "EPISODE 51500 - Eval Opponent 999 over 1000 - Number of game played 259500 - 14 hours, 48 minutes and 36 seconds\n",
      "########## Evaluation Against Last Agent - Episode 51500 ##########\n",
      "Timestep: 4117476 Average reward against last agent is 2.383\n"
     ]
    },
    {
     "name": "stderr",
     "output_type": "stream",
     "text": [
      "/opt/conda/lib/python3.7/site-packages/matplotlib/pyplot.py:1479: UserWarning: Attempting to set identical bottom==top results\n",
      "in singular transformations; automatically expanding.\n",
      "bottom=0, top=0\n",
      "  ret = ax.set_ylim(*args, **kwargs)\n"
     ]
    },
    {
     "name": "stdout",
     "output_type": "stream",
     "text": [
      "EPISODE 52000 - Eval Random 999 over 1000 - Number of game played 261000 - 14 hours, 52 minutes and 10 seconds\n",
      "########## Evaluation Against Random - Episode 52000 ##########\n",
      "Timestep: 4157252 Average reward against random is 2.413\n"
     ]
    },
    {
     "name": "stderr",
     "output_type": "stream",
     "text": [
      "/opt/conda/lib/python3.7/site-packages/matplotlib/pyplot.py:1479: UserWarning: Attempting to set identical bottom==top results\n",
      "in singular transformations; automatically expanding.\n",
      "bottom=0, top=0\n",
      "  ret = ax.set_ylim(*args, **kwargs)\n"
     ]
    },
    {
     "name": "stdout",
     "output_type": "stream",
     "text": [
      "EPISODE 52000 - Eval Opponent 999 over 1000 - Number of game played 262000 - 14 hours, 53 minutes and 32 seconds\n",
      "########## Evaluation Against Last Agent - Episode 52000 ##########\n",
      "Timestep: 4157252 Average reward against last agent is 2.504\n"
     ]
    },
    {
     "name": "stderr",
     "output_type": "stream",
     "text": [
      "/opt/conda/lib/python3.7/site-packages/matplotlib/pyplot.py:1479: UserWarning: Attempting to set identical bottom==top results\n",
      "in singular transformations; automatically expanding.\n",
      "bottom=0, top=0\n",
      "  ret = ax.set_ylim(*args, **kwargs)\n"
     ]
    },
    {
     "name": "stdout",
     "output_type": "stream",
     "text": [
      "EPISODE 52500 - Eval Random 999 over 1000 - Number of game played 263500 - 14 hours, 57 minutes and 8 secondss\n",
      "########## Evaluation Against Random - Episode 52500 ##########\n",
      "Timestep: 4196988 Average reward against random is 2.457\n"
     ]
    },
    {
     "name": "stderr",
     "output_type": "stream",
     "text": [
      "/opt/conda/lib/python3.7/site-packages/matplotlib/pyplot.py:1479: UserWarning: Attempting to set identical bottom==top results\n",
      "in singular transformations; automatically expanding.\n",
      "bottom=0, top=0\n",
      "  ret = ax.set_ylim(*args, **kwargs)\n"
     ]
    },
    {
     "name": "stdout",
     "output_type": "stream",
     "text": [
      "EPISODE 52500 - Eval Opponent 999 over 1000 - Number of game played 264500 - 14 hours, 58 minutes and 29 seconds\n",
      "########## Evaluation Against Last Agent - Episode 52500 ##########\n",
      "Timestep: 4196988 Average reward against last agent is 2.23\n"
     ]
    },
    {
     "name": "stderr",
     "output_type": "stream",
     "text": [
      "/opt/conda/lib/python3.7/site-packages/matplotlib/pyplot.py:1479: UserWarning: Attempting to set identical bottom==top results\n",
      "in singular transformations; automatically expanding.\n",
      "bottom=0, top=0\n",
      "  ret = ax.set_ylim(*args, **kwargs)\n"
     ]
    },
    {
     "name": "stdout",
     "output_type": "stream",
     "text": [
      "EPISODE 53000 - Eval Random 999 over 1000 - Number of game played 266000 - 15 hours, 2 minutes and 3 seconds\n",
      "########## Evaluation Against Random - Episode 53000 ##########\n",
      "Timestep: 4236701 Average reward against random is 2.55\n"
     ]
    },
    {
     "name": "stderr",
     "output_type": "stream",
     "text": [
      "/opt/conda/lib/python3.7/site-packages/matplotlib/pyplot.py:1479: UserWarning: Attempting to set identical bottom==top results\n",
      "in singular transformations; automatically expanding.\n",
      "bottom=0, top=0\n",
      "  ret = ax.set_ylim(*args, **kwargs)\n"
     ]
    },
    {
     "name": "stdout",
     "output_type": "stream",
     "text": [
      "EPISODE 53000 - Eval Opponent 999 over 1000 - Number of game played 267000 - 15 hours, 3 minutes and 25 seconds\n",
      "########## Evaluation Against Last Agent - Episode 53000 ##########\n",
      "Timestep: 4236701 Average reward against last agent is 2.412\n",
      "EPISODE 53500 - Eval Random 999 over 1000 - Number of game played 268500 - 15 hours, 7 minutes and 2 secondss\n",
      "########## Evaluation Against Random - Episode 53500 ##########\n",
      "Timestep: 4276460 Average reward against random is 2.446\n"
     ]
    },
    {
     "name": "stderr",
     "output_type": "stream",
     "text": [
      "/opt/conda/lib/python3.7/site-packages/matplotlib/pyplot.py:1479: UserWarning: Attempting to set identical bottom==top results\n",
      "in singular transformations; automatically expanding.\n",
      "bottom=0, top=0\n",
      "  ret = ax.set_ylim(*args, **kwargs)\n"
     ]
    },
    {
     "name": "stdout",
     "output_type": "stream",
     "text": [
      "EPISODE 53500 - Eval Opponent 999 over 1000 - Number of game played 269500 - 15 hours, 8 minutes and 25 seconds\n",
      "########## Evaluation Against Last Agent - Episode 53500 ##########\n",
      "Timestep: 4276460 Average reward against last agent is 2.381\n"
     ]
    },
    {
     "name": "stderr",
     "output_type": "stream",
     "text": [
      "/opt/conda/lib/python3.7/site-packages/matplotlib/pyplot.py:1479: UserWarning: Attempting to set identical bottom==top results\n",
      "in singular transformations; automatically expanding.\n",
      "bottom=0, top=0\n",
      "  ret = ax.set_ylim(*args, **kwargs)\n"
     ]
    },
    {
     "name": "stdout",
     "output_type": "stream",
     "text": [
      "EPISODE 54000 - Eval Random 999 over 1000 - Number of game played 271000 - 15 hours, 12 minutes and 2 secondss\n",
      "########## Evaluation Against Random - Episode 54000 ##########\n",
      "Timestep: 4316200 Average reward against random is 2.461\n"
     ]
    },
    {
     "name": "stderr",
     "output_type": "stream",
     "text": [
      "/opt/conda/lib/python3.7/site-packages/matplotlib/pyplot.py:1479: UserWarning: Attempting to set identical bottom==top results\n",
      "in singular transformations; automatically expanding.\n",
      "bottom=0, top=0\n",
      "  ret = ax.set_ylim(*args, **kwargs)\n"
     ]
    },
    {
     "name": "stdout",
     "output_type": "stream",
     "text": [
      "EPISODE 54000 - Eval Opponent 999 over 1000 - Number of game played 272000 - 15 hours, 13 minutes and 25 seconds\n",
      "########## Evaluation Against Last Agent - Episode 54000 ##########\n",
      "Timestep: 4316200 Average reward against last agent is 2.583\n"
     ]
    },
    {
     "name": "stderr",
     "output_type": "stream",
     "text": [
      "/opt/conda/lib/python3.7/site-packages/matplotlib/pyplot.py:1479: UserWarning: Attempting to set identical bottom==top results\n",
      "in singular transformations; automatically expanding.\n",
      "bottom=0, top=0\n",
      "  ret = ax.set_ylim(*args, **kwargs)\n"
     ]
    },
    {
     "name": "stdout",
     "output_type": "stream",
     "text": [
      "EPISODE 54500 - Eval Random 999 over 1000 - Number of game played 273500 - 15 hours, 17 minutes and 4 secondss\n",
      "########## Evaluation Against Random - Episode 54500 ##########\n",
      "Timestep: 4355929 Average reward against random is 2.564\n"
     ]
    },
    {
     "name": "stderr",
     "output_type": "stream",
     "text": [
      "/opt/conda/lib/python3.7/site-packages/matplotlib/pyplot.py:1479: UserWarning: Attempting to set identical bottom==top results\n",
      "in singular transformations; automatically expanding.\n",
      "bottom=0, top=0\n",
      "  ret = ax.set_ylim(*args, **kwargs)\n"
     ]
    },
    {
     "name": "stdout",
     "output_type": "stream",
     "text": [
      "EPISODE 54500 - Eval Opponent 999 over 1000 - Number of game played 274500 - 15 hours, 18 minutes and 25 seconds\n",
      "########## Evaluation Against Last Agent - Episode 54500 ##########\n",
      "Timestep: 4355929 Average reward against last agent is 2.461\n"
     ]
    },
    {
     "name": "stderr",
     "output_type": "stream",
     "text": [
      "/opt/conda/lib/python3.7/site-packages/matplotlib/pyplot.py:1479: UserWarning: Attempting to set identical bottom==top results\n",
      "in singular transformations; automatically expanding.\n",
      "bottom=0, top=0\n",
      "  ret = ax.set_ylim(*args, **kwargs)\n"
     ]
    },
    {
     "name": "stdout",
     "output_type": "stream",
     "text": [
      "EPISODE 55000 - Eval Random 999 over 1000 - Number of game played 276000 - 15 hours, 22 minutes and 5 secondss\n",
      "########## Evaluation Against Random - Episode 55000 ##########\n",
      "Timestep: 4395599 Average reward against random is 2.36\n"
     ]
    },
    {
     "name": "stderr",
     "output_type": "stream",
     "text": [
      "/opt/conda/lib/python3.7/site-packages/matplotlib/pyplot.py:1479: UserWarning: Attempting to set identical bottom==top results\n",
      "in singular transformations; automatically expanding.\n",
      "bottom=0, top=0\n",
      "  ret = ax.set_ylim(*args, **kwargs)\n"
     ]
    },
    {
     "name": "stdout",
     "output_type": "stream",
     "text": [
      "EPISODE 55000 - Eval Opponent 999 over 1000 - Number of game played 277000 - 15 hours, 23 minutes and 25 seconds\n",
      "########## Evaluation Against Last Agent - Episode 55000 ##########\n",
      "Timestep: 4395599 Average reward against last agent is 2.448\n"
     ]
    },
    {
     "name": "stderr",
     "output_type": "stream",
     "text": [
      "/opt/conda/lib/python3.7/site-packages/matplotlib/pyplot.py:1479: UserWarning: Attempting to set identical bottom==top results\n",
      "in singular transformations; automatically expanding.\n",
      "bottom=0, top=0\n",
      "  ret = ax.set_ylim(*args, **kwargs)\n"
     ]
    },
    {
     "name": "stdout",
     "output_type": "stream",
     "text": [
      "\n",
      "########## Changing model - Using Model 12 as opponent ##########\n",
      "\n",
      "########## Changing model - Using Model 12 as opponent ##########\n",
      "EPISODE 55500 - Eval Random 999 over 1000 - Number of game played 278500 - 15 hours, 27 minutes and 9 secondss\n",
      "########## Evaluation Against Random - Episode 55500 ##########\n",
      "Timestep: 4435193 Average reward against random is 2.583\n"
     ]
    },
    {
     "name": "stderr",
     "output_type": "stream",
     "text": [
      "/opt/conda/lib/python3.7/site-packages/matplotlib/pyplot.py:1479: UserWarning: Attempting to set identical bottom==top results\n",
      "in singular transformations; automatically expanding.\n",
      "bottom=0, top=0\n",
      "  ret = ax.set_ylim(*args, **kwargs)\n"
     ]
    },
    {
     "name": "stdout",
     "output_type": "stream",
     "text": [
      "EPISODE 55500 - Eval Opponent 999 over 1000 - Number of game played 279500 - 15 hours, 28 minutes and 30 seconds\n",
      "########## Evaluation Against Last Agent - Episode 55500 ##########\n",
      "Timestep: 4435193 Average reward against last agent is 2.213\n"
     ]
    },
    {
     "name": "stderr",
     "output_type": "stream",
     "text": [
      "/opt/conda/lib/python3.7/site-packages/matplotlib/pyplot.py:1479: UserWarning: Attempting to set identical bottom==top results\n",
      "in singular transformations; automatically expanding.\n",
      "bottom=0, top=0\n",
      "  ret = ax.set_ylim(*args, **kwargs)\n"
     ]
    },
    {
     "name": "stdout",
     "output_type": "stream",
     "text": [
      "EPISODE 56000 - Eval Random 999 over 1000 - Number of game played 281000 - 15 hours, 32 minutes and 18 seconds\n",
      "########## Evaluation Against Random - Episode 56000 ##########\n",
      "Timestep: 4474772 Average reward against random is 2.573\n"
     ]
    },
    {
     "name": "stderr",
     "output_type": "stream",
     "text": [
      "/opt/conda/lib/python3.7/site-packages/matplotlib/pyplot.py:1479: UserWarning: Attempting to set identical bottom==top results\n",
      "in singular transformations; automatically expanding.\n",
      "bottom=0, top=0\n",
      "  ret = ax.set_ylim(*args, **kwargs)\n"
     ]
    },
    {
     "name": "stdout",
     "output_type": "stream",
     "text": [
      "EPISODE 56000 - Eval Opponent 999 over 1000 - Number of game played 282000 - 15 hours, 33 minutes and 39 seconds\n",
      "########## Evaluation Against Last Agent - Episode 56000 ##########\n",
      "Timestep: 4474772 Average reward against last agent is 2.193\n"
     ]
    },
    {
     "name": "stderr",
     "output_type": "stream",
     "text": [
      "/opt/conda/lib/python3.7/site-packages/matplotlib/pyplot.py:1479: UserWarning: Attempting to set identical bottom==top results\n",
      "in singular transformations; automatically expanding.\n",
      "bottom=0, top=0\n",
      "  ret = ax.set_ylim(*args, **kwargs)\n"
     ]
    },
    {
     "name": "stdout",
     "output_type": "stream",
     "text": [
      "EPISODE 56500 - Eval Random 999 over 1000 - Number of game played 283500 - 15 hours, 37 minutes and 25 seconds\n",
      "########## Evaluation Against Random - Episode 56500 ##########\n",
      "Timestep: 4514363 Average reward against random is 2.523\n"
     ]
    },
    {
     "name": "stderr",
     "output_type": "stream",
     "text": [
      "/opt/conda/lib/python3.7/site-packages/matplotlib/pyplot.py:1479: UserWarning: Attempting to set identical bottom==top results\n",
      "in singular transformations; automatically expanding.\n",
      "bottom=0, top=0\n",
      "  ret = ax.set_ylim(*args, **kwargs)\n"
     ]
    },
    {
     "name": "stdout",
     "output_type": "stream",
     "text": [
      "EPISODE 56500 - Eval Opponent 999 over 1000 - Number of game played 284500 - 15 hours, 38 minutes and 46 seconds\n",
      "########## Evaluation Against Last Agent - Episode 56500 ##########\n",
      "Timestep: 4514363 Average reward against last agent is 2.499\n"
     ]
    },
    {
     "name": "stderr",
     "output_type": "stream",
     "text": [
      "/opt/conda/lib/python3.7/site-packages/matplotlib/pyplot.py:1479: UserWarning: Attempting to set identical bottom==top results\n",
      "in singular transformations; automatically expanding.\n",
      "bottom=0, top=0\n",
      "  ret = ax.set_ylim(*args, **kwargs)\n"
     ]
    },
    {
     "name": "stdout",
     "output_type": "stream",
     "text": [
      "EPISODE 57000 - Eval Random 999 over 1000 - Number of game played 286000 - 15 hours, 42 minutes and 32 seconds\n",
      "########## Evaluation Against Random - Episode 57000 ##########\n",
      "Timestep: 4553952 Average reward against random is 2.32\n"
     ]
    },
    {
     "name": "stderr",
     "output_type": "stream",
     "text": [
      "/opt/conda/lib/python3.7/site-packages/matplotlib/pyplot.py:1479: UserWarning: Attempting to set identical bottom==top results\n",
      "in singular transformations; automatically expanding.\n",
      "bottom=0, top=0\n",
      "  ret = ax.set_ylim(*args, **kwargs)\n"
     ]
    },
    {
     "name": "stdout",
     "output_type": "stream",
     "text": [
      "EPISODE 57000 - Eval Opponent 999 over 1000 - Number of game played 287000 - 15 hours, 43 minutes and 52 seconds\n",
      "########## Evaluation Against Last Agent - Episode 57000 ##########\n",
      "Timestep: 4553952 Average reward against last agent is 2.262\n"
     ]
    },
    {
     "name": "stderr",
     "output_type": "stream",
     "text": [
      "/opt/conda/lib/python3.7/site-packages/matplotlib/pyplot.py:1479: UserWarning: Attempting to set identical bottom==top results\n",
      "in singular transformations; automatically expanding.\n",
      "bottom=0, top=0\n",
      "  ret = ax.set_ylim(*args, **kwargs)\n"
     ]
    },
    {
     "name": "stdout",
     "output_type": "stream",
     "text": [
      "EPISODE 57500 - Eval Random 999 over 1000 - Number of game played 288500 - 15 hours, 47 minutes and 40 seconds\n",
      "########## Evaluation Against Random - Episode 57500 ##########\n",
      "Timestep: 4593595 Average reward against random is 2.387\n"
     ]
    },
    {
     "name": "stderr",
     "output_type": "stream",
     "text": [
      "/opt/conda/lib/python3.7/site-packages/matplotlib/pyplot.py:1479: UserWarning: Attempting to set identical bottom==top results\n",
      "in singular transformations; automatically expanding.\n",
      "bottom=0, top=0\n",
      "  ret = ax.set_ylim(*args, **kwargs)\n"
     ]
    },
    {
     "name": "stdout",
     "output_type": "stream",
     "text": [
      "EPISODE 57500 - Eval Opponent 999 over 1000 - Number of game played 289500 - 15 hours, 49 minutes and 1 secondds\n",
      "########## Evaluation Against Last Agent - Episode 57500 ##########\n",
      "Timestep: 4593595 Average reward against last agent is 2.21\n"
     ]
    },
    {
     "name": "stderr",
     "output_type": "stream",
     "text": [
      "/opt/conda/lib/python3.7/site-packages/matplotlib/pyplot.py:1479: UserWarning: Attempting to set identical bottom==top results\n",
      "in singular transformations; automatically expanding.\n",
      "bottom=0, top=0\n",
      "  ret = ax.set_ylim(*args, **kwargs)\n"
     ]
    },
    {
     "name": "stdout",
     "output_type": "stream",
     "text": [
      "EPISODE 58000 - Eval Random 999 over 1000 - Number of game played 291000 - 15 hours, 52 minutes and 48 seconds\n",
      "########## Evaluation Against Random - Episode 58000 ##########\n",
      "Timestep: 4633322 Average reward against random is 2.461\n"
     ]
    },
    {
     "name": "stderr",
     "output_type": "stream",
     "text": [
      "/opt/conda/lib/python3.7/site-packages/matplotlib/pyplot.py:1479: UserWarning: Attempting to set identical bottom==top results\n",
      "in singular transformations; automatically expanding.\n",
      "bottom=0, top=0\n",
      "  ret = ax.set_ylim(*args, **kwargs)\n"
     ]
    },
    {
     "name": "stdout",
     "output_type": "stream",
     "text": [
      "EPISODE 58000 - Eval Opponent 999 over 1000 - Number of game played 292000 - 15 hours, 54 minutes and 9 secondss\n",
      "########## Evaluation Against Last Agent - Episode 58000 ##########\n",
      "Timestep: 4633322 Average reward against last agent is 2.528\n"
     ]
    },
    {
     "name": "stderr",
     "output_type": "stream",
     "text": [
      "/opt/conda/lib/python3.7/site-packages/matplotlib/pyplot.py:1479: UserWarning: Attempting to set identical bottom==top results\n",
      "in singular transformations; automatically expanding.\n",
      "bottom=0, top=0\n",
      "  ret = ax.set_ylim(*args, **kwargs)\n"
     ]
    },
    {
     "name": "stdout",
     "output_type": "stream",
     "text": [
      "EPISODE 58500 - Eval Random 999 over 1000 - Number of game played 293500 - 15 hours, 57 minutes and 57 seconds\n",
      "########## Evaluation Against Random - Episode 58500 ##########\n",
      "Timestep: 4672982 Average reward against random is 2.383\n"
     ]
    },
    {
     "name": "stderr",
     "output_type": "stream",
     "text": [
      "/opt/conda/lib/python3.7/site-packages/matplotlib/pyplot.py:1479: UserWarning: Attempting to set identical bottom==top results\n",
      "in singular transformations; automatically expanding.\n",
      "bottom=0, top=0\n",
      "  ret = ax.set_ylim(*args, **kwargs)\n"
     ]
    },
    {
     "name": "stdout",
     "output_type": "stream",
     "text": [
      "EPISODE 58500 - Eval Opponent 999 over 1000 - Number of game played 294500 - 15 hours, 59 minutes and 18 seconds\n",
      "########## Evaluation Against Last Agent - Episode 58500 ##########\n",
      "Timestep: 4672982 Average reward against last agent is 2.358\n"
     ]
    },
    {
     "name": "stderr",
     "output_type": "stream",
     "text": [
      "/opt/conda/lib/python3.7/site-packages/matplotlib/pyplot.py:1479: UserWarning: Attempting to set identical bottom==top results\n",
      "in singular transformations; automatically expanding.\n",
      "bottom=0, top=0\n",
      "  ret = ax.set_ylim(*args, **kwargs)\n"
     ]
    },
    {
     "name": "stdout",
     "output_type": "stream",
     "text": [
      "EPISODE 59000 - Eval Random 999 over 1000 - Number of game played 296000 - 16 hours, 3 minutes and 6 secondss\n",
      "########## Evaluation Against Random - Episode 59000 ##########\n",
      "Timestep: 4712728 Average reward against random is 2.54\n"
     ]
    },
    {
     "name": "stderr",
     "output_type": "stream",
     "text": [
      "/opt/conda/lib/python3.7/site-packages/matplotlib/pyplot.py:1479: UserWarning: Attempting to set identical bottom==top results\n",
      "in singular transformations; automatically expanding.\n",
      "bottom=0, top=0\n",
      "  ret = ax.set_ylim(*args, **kwargs)\n"
     ]
    },
    {
     "name": "stdout",
     "output_type": "stream",
     "text": [
      "EPISODE 59000 - Eval Opponent 999 over 1000 - Number of game played 297000 - 16 hours, 4 minutes and 27 seconds\n",
      "########## Evaluation Against Last Agent - Episode 59000 ##########\n",
      "Timestep: 4712728 Average reward against last agent is 2.472\n"
     ]
    },
    {
     "name": "stderr",
     "output_type": "stream",
     "text": [
      "/opt/conda/lib/python3.7/site-packages/matplotlib/pyplot.py:1479: UserWarning: Attempting to set identical bottom==top results\n",
      "in singular transformations; automatically expanding.\n",
      "bottom=0, top=0\n",
      "  ret = ax.set_ylim(*args, **kwargs)\n"
     ]
    },
    {
     "name": "stdout",
     "output_type": "stream",
     "text": [
      "EPISODE 59500 - Eval Random 999 over 1000 - Number of game played 298500 - 16 hours, 8 minutes and 16 seconds\n",
      "########## Evaluation Against Random - Episode 59500 ##########\n",
      "Timestep: 4752460 Average reward against random is 2.547\n"
     ]
    },
    {
     "name": "stderr",
     "output_type": "stream",
     "text": [
      "/opt/conda/lib/python3.7/site-packages/matplotlib/pyplot.py:1479: UserWarning: Attempting to set identical bottom==top results\n",
      "in singular transformations; automatically expanding.\n",
      "bottom=0, top=0\n",
      "  ret = ax.set_ylim(*args, **kwargs)\n"
     ]
    },
    {
     "name": "stdout",
     "output_type": "stream",
     "text": [
      "EPISODE 59500 - Eval Opponent 999 over 1000 - Number of game played 299500 - 16 hours, 9 minutes and 37 seconds\n",
      "########## Evaluation Against Last Agent - Episode 59500 ##########\n",
      "Timestep: 4752460 Average reward against last agent is 2.265\n"
     ]
    },
    {
     "name": "stderr",
     "output_type": "stream",
     "text": [
      "/opt/conda/lib/python3.7/site-packages/matplotlib/pyplot.py:1479: UserWarning: Attempting to set identical bottom==top results\n",
      "in singular transformations; automatically expanding.\n",
      "bottom=0, top=0\n",
      "  ret = ax.set_ylim(*args, **kwargs)\n"
     ]
    },
    {
     "name": "stdout",
     "output_type": "stream",
     "text": [
      "EPISODE 60000 - Eval Random 999 over 1000 - Number of game played 301000 - 16 hours, 13 minutes and 29 seconds\n",
      "########## Evaluation Against Random - Episode 60000 ##########\n",
      "Timestep: 4792129 Average reward against random is 2.332\n"
     ]
    },
    {
     "name": "stderr",
     "output_type": "stream",
     "text": [
      "/opt/conda/lib/python3.7/site-packages/matplotlib/pyplot.py:1479: UserWarning: Attempting to set identical bottom==top results\n",
      "in singular transformations; automatically expanding.\n",
      "bottom=0, top=0\n",
      "  ret = ax.set_ylim(*args, **kwargs)\n"
     ]
    },
    {
     "name": "stdout",
     "output_type": "stream",
     "text": [
      "EPISODE 60000 - Eval Opponent 999 over 1000 - Number of game played 302000 - 16 hours, 14 minutes and 50 seconds\n",
      "########## Evaluation Against Last Agent - Episode 60000 ##########\n",
      "Timestep: 4792129 Average reward against last agent is 2.293\n"
     ]
    },
    {
     "name": "stderr",
     "output_type": "stream",
     "text": [
      "/opt/conda/lib/python3.7/site-packages/matplotlib/pyplot.py:1479: UserWarning: Attempting to set identical bottom==top results\n",
      "in singular transformations; automatically expanding.\n",
      "bottom=0, top=0\n",
      "  ret = ax.set_ylim(*args, **kwargs)\n"
     ]
    },
    {
     "name": "stdout",
     "output_type": "stream",
     "text": [
      "\n",
      "########## Changing model - Using Model 13 as opponent ##########\n",
      "\n",
      "########## Changing model - Using Model 13 as opponent ##########\n",
      "EPISODE 60500 - Eval Random 999 over 1000 - Number of game played 303500 - 16 hours, 18 minutes and 45 seconds\n",
      "########## Evaluation Against Random - Episode 60500 ##########\n",
      "Timestep: 4831751 Average reward against random is 1.108\n",
      "EPISODE 60500 - Eval Opponent 999 over 1000 - Number of game played 304500 - 16 hours, 20 minutes and 5 secondss\n",
      "########## Evaluation Against Last Agent - Episode 60500 ##########\n",
      "Timestep: 4831751 Average reward against last agent is 2.176\n"
     ]
    },
    {
     "name": "stderr",
     "output_type": "stream",
     "text": [
      "/opt/conda/lib/python3.7/site-packages/matplotlib/pyplot.py:1479: UserWarning: Attempting to set identical bottom==top results\n",
      "in singular transformations; automatically expanding.\n",
      "bottom=0, top=0\n",
      "  ret = ax.set_ylim(*args, **kwargs)\n"
     ]
    },
    {
     "name": "stdout",
     "output_type": "stream",
     "text": [
      "EPISODE 61000 - Eval Random 999 over 1000 - Number of game played 306000 - 16 hours, 24 minutes and 2 secondss\n",
      "########## Evaluation Against Random - Episode 61000 ##########\n",
      "Timestep: 4871364 Average reward against random is 1.226\n",
      "EPISODE 61000 - Eval Opponent 999 over 1000 - Number of game played 307000 - 16 hours, 25 minutes and 23 seconds\n",
      "########## Evaluation Against Last Agent - Episode 61000 ##########\n",
      "Timestep: 4871364 Average reward against last agent is 2.413\n"
     ]
    },
    {
     "name": "stderr",
     "output_type": "stream",
     "text": [
      "/opt/conda/lib/python3.7/site-packages/matplotlib/pyplot.py:1479: UserWarning: Attempting to set identical bottom==top results\n",
      "in singular transformations; automatically expanding.\n",
      "bottom=0, top=0\n",
      "  ret = ax.set_ylim(*args, **kwargs)\n"
     ]
    },
    {
     "name": "stdout",
     "output_type": "stream",
     "text": [
      "EPISODE 61500 - Eval Random 999 over 1000 - Number of game played 308500 - 16 hours, 29 minutes and 19 seconds\n",
      "########## Evaluation Against Random - Episode 61500 ##########\n",
      "Timestep: 4911080 Average reward against random is 1.385\n",
      "EPISODE 61500 - Eval Opponent 999 over 1000 - Number of game played 309500 - 16 hours, 30 minutes and 40 seconds\n",
      "########## Evaluation Against Last Agent - Episode 61500 ##########\n",
      "Timestep: 4911080 Average reward against last agent is 2.271\n"
     ]
    },
    {
     "name": "stderr",
     "output_type": "stream",
     "text": [
      "/opt/conda/lib/python3.7/site-packages/matplotlib/pyplot.py:1479: UserWarning: Attempting to set identical bottom==top results\n",
      "in singular transformations; automatically expanding.\n",
      "bottom=0, top=0\n",
      "  ret = ax.set_ylim(*args, **kwargs)\n"
     ]
    },
    {
     "name": "stdout",
     "output_type": "stream",
     "text": [
      "EPISODE 62000 - Eval Random 999 over 1000 - Number of game played 311000 - 16 hours, 34 minutes and 36 seconds\n",
      "########## Evaluation Against Random - Episode 62000 ##########\n",
      "Timestep: 4950844 Average reward against random is 1.184\n",
      "EPISODE 62000 - Eval Opponent 999 over 1000 - Number of game played 312000 - 16 hours, 35 minutes and 56 seconds\n",
      "########## Evaluation Against Last Agent - Episode 62000 ##########\n",
      "Timestep: 4950844 Average reward against last agent is 2.434\n"
     ]
    },
    {
     "name": "stderr",
     "output_type": "stream",
     "text": [
      "/opt/conda/lib/python3.7/site-packages/matplotlib/pyplot.py:1479: UserWarning: Attempting to set identical bottom==top results\n",
      "in singular transformations; automatically expanding.\n",
      "bottom=0, top=0\n",
      "  ret = ax.set_ylim(*args, **kwargs)\n"
     ]
    },
    {
     "name": "stdout",
     "output_type": "stream",
     "text": [
      "EPISODE 62500 - Eval Random 999 over 1000 - Number of game played 313500 - 16 hours, 39 minutes and 47 seconds\n",
      "########## Evaluation Against Random - Episode 62500 ##########\n",
      "Timestep: 4990662 Average reward against random is 1.031\n",
      "EPISODE 62500 - Eval Opponent 999 over 1000 - Number of game played 314500 - 16 hours, 41 minutes and 8 secondss\n",
      "########## Evaluation Against Last Agent - Episode 62500 ##########\n",
      "Timestep: 4990662 Average reward against last agent is 2.613\n"
     ]
    },
    {
     "name": "stderr",
     "output_type": "stream",
     "text": [
      "/opt/conda/lib/python3.7/site-packages/matplotlib/pyplot.py:1479: UserWarning: Attempting to set identical bottom==top results\n",
      "in singular transformations; automatically expanding.\n",
      "bottom=0, top=0\n",
      "  ret = ax.set_ylim(*args, **kwargs)\n"
     ]
    },
    {
     "name": "stdout",
     "output_type": "stream",
     "text": [
      "EPISODE 63000 - Eval Random 999 over 1000 - Number of game played 316000 - 16 hours, 45 minutes and 8 secondss\n",
      "########## Evaluation Against Random - Episode 63000 ##########\n",
      "Timestep: 5030403 Average reward against random is 0.96\n",
      "EPISODE 63000 - Eval Opponent 999 over 1000 - Number of game played 317000 - 16 hours, 46 minutes and 29 seconds\n",
      "########## Evaluation Against Last Agent - Episode 63000 ##########\n",
      "Timestep: 5030403 Average reward against last agent is 2.427\n"
     ]
    },
    {
     "name": "stderr",
     "output_type": "stream",
     "text": [
      "/opt/conda/lib/python3.7/site-packages/matplotlib/pyplot.py:1479: UserWarning: Attempting to set identical bottom==top results\n",
      "in singular transformations; automatically expanding.\n",
      "bottom=0, top=0\n",
      "  ret = ax.set_ylim(*args, **kwargs)\n"
     ]
    },
    {
     "name": "stdout",
     "output_type": "stream",
     "text": [
      "EPISODE 63500 - Eval Random 999 over 1000 - Number of game played 318500 - 16 hours, 50 minutes and 28 seconds\n",
      "########## Evaluation Against Random - Episode 63500 ##########\n",
      "Timestep: 5070208 Average reward against random is 1.199\n",
      "EPISODE 63500 - Eval Opponent 999 over 1000 - Number of game played 319500 - 16 hours, 51 minutes and 49 seconds\n",
      "########## Evaluation Against Last Agent - Episode 63500 ##########\n",
      "Timestep: 5070208 Average reward against last agent is 2.58\n"
     ]
    },
    {
     "name": "stderr",
     "output_type": "stream",
     "text": [
      "/opt/conda/lib/python3.7/site-packages/matplotlib/pyplot.py:1479: UserWarning: Attempting to set identical bottom==top results\n",
      "in singular transformations; automatically expanding.\n",
      "bottom=0, top=0\n",
      "  ret = ax.set_ylim(*args, **kwargs)\n"
     ]
    },
    {
     "name": "stdout",
     "output_type": "stream",
     "text": [
      "EPISODE 64000 - Eval Random 999 over 1000 - Number of game played 321000 - 16 hours, 55 minutes and 49 seconds\n",
      "########## Evaluation Against Random - Episode 64000 ##########\n",
      "Timestep: 5109991 Average reward against random is 1.513\n",
      "EPISODE 64000 - Eval Opponent 999 over 1000 - Number of game played 322000 - 16 hours, 57 minutes and 10 seconds\n",
      "########## Evaluation Against Last Agent - Episode 64000 ##########\n",
      "Timestep: 5109991 Average reward against last agent is 2.257\n"
     ]
    },
    {
     "name": "stderr",
     "output_type": "stream",
     "text": [
      "/opt/conda/lib/python3.7/site-packages/matplotlib/pyplot.py:1479: UserWarning: Attempting to set identical bottom==top results\n",
      "in singular transformations; automatically expanding.\n",
      "bottom=0, top=0\n",
      "  ret = ax.set_ylim(*args, **kwargs)\n"
     ]
    },
    {
     "name": "stdout",
     "output_type": "stream",
     "text": [
      "EPISODE 64500 - Eval Random 999 over 1000 - Number of game played 323500 - 17 hours, 1 minute and 7 secondss\n",
      "########## Evaluation Against Random - Episode 64500 ##########\n",
      "Timestep: 5149798 Average reward against random is 1.201\n",
      "EPISODE 64500 - Eval Opponent 999 over 1000 - Number of game played 324500 - 17 hours, 2 minutes and 27 seconds\n",
      "########## Evaluation Against Last Agent - Episode 64500 ##########\n",
      "Timestep: 5149798 Average reward against last agent is 2.568\n"
     ]
    },
    {
     "name": "stderr",
     "output_type": "stream",
     "text": [
      "/opt/conda/lib/python3.7/site-packages/matplotlib/pyplot.py:1479: UserWarning: Attempting to set identical bottom==top results\n",
      "in singular transformations; automatically expanding.\n",
      "bottom=0, top=0\n",
      "  ret = ax.set_ylim(*args, **kwargs)\n"
     ]
    },
    {
     "name": "stdout",
     "output_type": "stream",
     "text": [
      "EPISODE 65000 - Eval Random 999 over 1000 - Number of game played 326000 - 17 hours, 6 minutes and 33 seconds\n",
      "########## Evaluation Against Random - Episode 65000 ##########\n",
      "Timestep: 5189472 Average reward against random is 1.332\n",
      "EPISODE 65000 - Eval Opponent 999 over 1000 - Number of game played 327000 - 17 hours, 7 minutes and 53 seconds\n",
      "########## Evaluation Against Last Agent - Episode 65000 ##########\n",
      "Timestep: 5189472 Average reward against last agent is 2.5\n"
     ]
    },
    {
     "name": "stderr",
     "output_type": "stream",
     "text": [
      "/opt/conda/lib/python3.7/site-packages/matplotlib/pyplot.py:1479: UserWarning: Attempting to set identical bottom==top results\n",
      "in singular transformations; automatically expanding.\n",
      "bottom=0, top=0\n",
      "  ret = ax.set_ylim(*args, **kwargs)\n"
     ]
    },
    {
     "name": "stdout",
     "output_type": "stream",
     "text": [
      "\n",
      "########## Changing model - Using Model 14 as opponent ##########\n",
      "\n",
      "########## Changing model - Using Model 14 as opponent ##########\n",
      "EPISODE 65500 - Eval Random 999 over 1000 - Number of game played 328500 - 17 hours, 11 minutes and 59 seconds\n",
      "########## Evaluation Against Random - Episode 65500 ##########\n",
      "Timestep: 5229202 Average reward against random is 1.268\n",
      "EPISODE 65500 - Eval Opponent 999 over 1000 - Number of game played 329500 - 17 hours, 13 minutes and 20 seconds\n",
      "########## Evaluation Against Last Agent - Episode 65500 ##########\n",
      "Timestep: 5229202 Average reward against last agent is 2.476\n"
     ]
    },
    {
     "name": "stderr",
     "output_type": "stream",
     "text": [
      "/opt/conda/lib/python3.7/site-packages/matplotlib/pyplot.py:1479: UserWarning: Attempting to set identical bottom==top results\n",
      "in singular transformations; automatically expanding.\n",
      "bottom=0, top=0\n",
      "  ret = ax.set_ylim(*args, **kwargs)\n"
     ]
    },
    {
     "name": "stdout",
     "output_type": "stream",
     "text": [
      "EPISODE 66000 - Eval Random 999 over 1000 - Number of game played 331000 - 17 hours, 17 minutes and 26 seconds\n",
      "########## Evaluation Against Random - Episode 66000 ##########\n",
      "Timestep: 5268981 Average reward against random is 1.345\n",
      "EPISODE 66000 - Eval Opponent 999 over 1000 - Number of game played 332000 - 17 hours, 18 minutes and 47 seconds\n",
      "########## Evaluation Against Last Agent - Episode 66000 ##########\n",
      "Timestep: 5268981 Average reward against last agent is 2.636\n"
     ]
    },
    {
     "name": "stderr",
     "output_type": "stream",
     "text": [
      "/opt/conda/lib/python3.7/site-packages/matplotlib/pyplot.py:1479: UserWarning: Attempting to set identical bottom==top results\n",
      "in singular transformations; automatically expanding.\n",
      "bottom=0, top=0\n",
      "  ret = ax.set_ylim(*args, **kwargs)\n"
     ]
    },
    {
     "name": "stdout",
     "output_type": "stream",
     "text": [
      "EPISODE 66500 - Eval Random 999 over 1000 - Number of game played 333500 - 17 hours, 22 minutes and 48 seconds\n",
      "########## Evaluation Against Random - Episode 66500 ##########\n",
      "Timestep: 5308798 Average reward against random is 0.951\n",
      "EPISODE 66500 - Eval Opponent 999 over 1000 - Number of game played 334500 - 17 hours, 24 minutes and 9 secondss\n",
      "########## Evaluation Against Last Agent - Episode 66500 ##########\n",
      "Timestep: 5308798 Average reward against last agent is 2.39\n"
     ]
    },
    {
     "name": "stderr",
     "output_type": "stream",
     "text": [
      "/opt/conda/lib/python3.7/site-packages/matplotlib/pyplot.py:1479: UserWarning: Attempting to set identical bottom==top results\n",
      "in singular transformations; automatically expanding.\n",
      "bottom=0, top=0\n",
      "  ret = ax.set_ylim(*args, **kwargs)\n"
     ]
    },
    {
     "name": "stdout",
     "output_type": "stream",
     "text": [
      "EPISODE 67000 - Eval Random 999 over 1000 - Number of game played 336000 - 17 hours, 28 minutes and 17 seconds\n",
      "########## Evaluation Against Random - Episode 67000 ##########\n",
      "Timestep: 5348575 Average reward against random is 1.178\n",
      "EPISODE 67000 - Eval Opponent 999 over 1000 - Number of game played 337000 - 17 hours, 29 minutes and 38 seconds\n",
      "########## Evaluation Against Last Agent - Episode 67000 ##########\n",
      "Timestep: 5348575 Average reward against last agent is 2.385\n"
     ]
    },
    {
     "name": "stderr",
     "output_type": "stream",
     "text": [
      "/opt/conda/lib/python3.7/site-packages/matplotlib/pyplot.py:1479: UserWarning: Attempting to set identical bottom==top results\n",
      "in singular transformations; automatically expanding.\n",
      "bottom=0, top=0\n",
      "  ret = ax.set_ylim(*args, **kwargs)\n"
     ]
    },
    {
     "name": "stdout",
     "output_type": "stream",
     "text": [
      "EPISODE 67500 - Eval Random 999 over 1000 - Number of game played 338500 - 17 hours, 33 minutes and 48 seconds\n",
      "########## Evaluation Against Random - Episode 67500 ##########\n",
      "Timestep: 5388378 Average reward against random is 1.386\n",
      "EPISODE 67500 - Eval Opponent 999 over 1000 - Number of game played 339500 - 17 hours, 35 minutes and 9 secondss\n",
      "########## Evaluation Against Last Agent - Episode 67500 ##########\n",
      "Timestep: 5388378 Average reward against last agent is 2.465\n"
     ]
    },
    {
     "name": "stderr",
     "output_type": "stream",
     "text": [
      "/opt/conda/lib/python3.7/site-packages/matplotlib/pyplot.py:1479: UserWarning: Attempting to set identical bottom==top results\n",
      "in singular transformations; automatically expanding.\n",
      "bottom=0, top=0\n",
      "  ret = ax.set_ylim(*args, **kwargs)\n"
     ]
    },
    {
     "name": "stdout",
     "output_type": "stream",
     "text": [
      "EPISODE 68000 - Eval Random 999 over 1000 - Number of game played 341000 - 17 hours, 39 minutes and 19 seconds\n",
      "########## Evaluation Against Random - Episode 68000 ##########\n",
      "Timestep: 5428129 Average reward against random is 2.522\n"
     ]
    },
    {
     "name": "stderr",
     "output_type": "stream",
     "text": [
      "/opt/conda/lib/python3.7/site-packages/matplotlib/pyplot.py:1479: UserWarning: Attempting to set identical bottom==top results\n",
      "in singular transformations; automatically expanding.\n",
      "bottom=0, top=0\n",
      "  ret = ax.set_ylim(*args, **kwargs)\n"
     ]
    },
    {
     "name": "stdout",
     "output_type": "stream",
     "text": [
      "EPISODE 68000 - Eval Opponent 999 over 1000 - Number of game played 342000 - 17 hours, 40 minutes and 42 seconds\n",
      "########## Evaluation Against Last Agent - Episode 68000 ##########\n",
      "Timestep: 5428129 Average reward against last agent is 2.38\n"
     ]
    },
    {
     "name": "stderr",
     "output_type": "stream",
     "text": [
      "/opt/conda/lib/python3.7/site-packages/matplotlib/pyplot.py:1479: UserWarning: Attempting to set identical bottom==top results\n",
      "in singular transformations; automatically expanding.\n",
      "bottom=0, top=0\n",
      "  ret = ax.set_ylim(*args, **kwargs)\n"
     ]
    },
    {
     "name": "stdout",
     "output_type": "stream",
     "text": [
      "EPISODE 68500 - Eval Random 999 over 1000 - Number of game played 343500 - 17 hours, 44 minutes and 38 seconds\n",
      "########## Evaluation Against Random - Episode 68500 ##########\n",
      "Timestep: 5467879 Average reward against random is 2.485\n"
     ]
    },
    {
     "name": "stderr",
     "output_type": "stream",
     "text": [
      "/opt/conda/lib/python3.7/site-packages/matplotlib/pyplot.py:1479: UserWarning: Attempting to set identical bottom==top results\n",
      "in singular transformations; automatically expanding.\n",
      "bottom=0, top=0\n",
      "  ret = ax.set_ylim(*args, **kwargs)\n"
     ]
    },
    {
     "name": "stdout",
     "output_type": "stream",
     "text": [
      "EPISODE 68500 - Eval Opponent 999 over 1000 - Number of game played 344500 - 17 hours, 45 minutes and 59 seconds\n",
      "########## Evaluation Against Last Agent - Episode 68500 ##########\n",
      "Timestep: 5467879 Average reward against last agent is 2.417\n"
     ]
    },
    {
     "name": "stderr",
     "output_type": "stream",
     "text": [
      "/opt/conda/lib/python3.7/site-packages/matplotlib/pyplot.py:1479: UserWarning: Attempting to set identical bottom==top results\n",
      "in singular transformations; automatically expanding.\n",
      "bottom=0, top=0\n",
      "  ret = ax.set_ylim(*args, **kwargs)\n"
     ]
    },
    {
     "name": "stdout",
     "output_type": "stream",
     "text": [
      "EPISODE 69000 - Eval Random 999 over 1000 - Number of game played 346000 - 17 hours, 50 minutes and 2 secondss\n",
      "########## Evaluation Against Random - Episode 69000 ##########\n",
      "Timestep: 5507628 Average reward against random is 2.383\n"
     ]
    },
    {
     "name": "stderr",
     "output_type": "stream",
     "text": [
      "/opt/conda/lib/python3.7/site-packages/matplotlib/pyplot.py:1479: UserWarning: Attempting to set identical bottom==top results\n",
      "in singular transformations; automatically expanding.\n",
      "bottom=0, top=0\n",
      "  ret = ax.set_ylim(*args, **kwargs)\n"
     ]
    },
    {
     "name": "stdout",
     "output_type": "stream",
     "text": [
      "EPISODE 69000 - Eval Opponent 999 over 1000 - Number of game played 347000 - 17 hours, 51 minutes and 25 seconds\n",
      "########## Evaluation Against Last Agent - Episode 69000 ##########\n",
      "Timestep: 5507628 Average reward against last agent is 2.192\n"
     ]
    },
    {
     "name": "stderr",
     "output_type": "stream",
     "text": [
      "/opt/conda/lib/python3.7/site-packages/matplotlib/pyplot.py:1479: UserWarning: Attempting to set identical bottom==top results\n",
      "in singular transformations; automatically expanding.\n",
      "bottom=0, top=0\n",
      "  ret = ax.set_ylim(*args, **kwargs)\n"
     ]
    },
    {
     "name": "stdout",
     "output_type": "stream",
     "text": [
      "EPISODE 69500 - Eval Random 999 over 1000 - Number of game played 348500 - 17 hours, 55 minutes and 29 seconds\n",
      "########## Evaluation Against Random - Episode 69500 ##########\n",
      "Timestep: 5547458 Average reward against random is 1.215\n",
      "EPISODE 69500 - Eval Opponent 999 over 1000 - Number of game played 349500 - 17 hours, 56 minutes and 50 seconds\n",
      "########## Evaluation Against Last Agent - Episode 69500 ##########\n",
      "Timestep: 5547458 Average reward against last agent is 2.59\n"
     ]
    },
    {
     "name": "stderr",
     "output_type": "stream",
     "text": [
      "/opt/conda/lib/python3.7/site-packages/matplotlib/pyplot.py:1479: UserWarning: Attempting to set identical bottom==top results\n",
      "in singular transformations; automatically expanding.\n",
      "bottom=0, top=0\n",
      "  ret = ax.set_ylim(*args, **kwargs)\n"
     ]
    },
    {
     "name": "stdout",
     "output_type": "stream",
     "text": [
      "EPISODE 70000 - Eval Random 999 over 1000 - Number of game played 351000 - 18 hours, 0 minute and 55 seconds\n",
      "########## Evaluation Against Random - Episode 70000 ##########\n",
      "Timestep: 5587242 Average reward against random is 1.161\n",
      "EPISODE 70000 - Eval Opponent 999 over 1000 - Number of game played 352000 - 18 hours, 2 minutes and 16 seconds\n",
      "########## Evaluation Against Last Agent - Episode 70000 ##########\n",
      "Timestep: 5587242 Average reward against last agent is 2.279\n"
     ]
    },
    {
     "name": "stderr",
     "output_type": "stream",
     "text": [
      "/opt/conda/lib/python3.7/site-packages/matplotlib/pyplot.py:1479: UserWarning: Attempting to set identical bottom==top results\n",
      "in singular transformations; automatically expanding.\n",
      "bottom=0, top=0\n",
      "  ret = ax.set_ylim(*args, **kwargs)\n"
     ]
    },
    {
     "name": "stdout",
     "output_type": "stream",
     "text": [
      "\n",
      "########## Changing model - Using Model 15 as opponent ##########\n",
      "\n",
      "########## Changing model - Using Model 15 as opponent ##########\n",
      "EPISODE 70500 - Eval Random 999 over 1000 - Number of game played 353500 - 18 hours, 6 minutes and 20 seconds\n",
      "########## Evaluation Against Random - Episode 70500 ##########\n",
      "Timestep: 5626949 Average reward against random is 1.166\n",
      "EPISODE 70500 - Eval Opponent 999 over 1000 - Number of game played 354500 - 18 hours, 7 minutes and 41 seconds\n",
      "########## Evaluation Against Last Agent - Episode 70500 ##########\n",
      "Timestep: 5626949 Average reward against last agent is 2.282\n"
     ]
    },
    {
     "name": "stderr",
     "output_type": "stream",
     "text": [
      "/opt/conda/lib/python3.7/site-packages/matplotlib/pyplot.py:1479: UserWarning: Attempting to set identical bottom==top results\n",
      "in singular transformations; automatically expanding.\n",
      "bottom=0, top=0\n",
      "  ret = ax.set_ylim(*args, **kwargs)\n"
     ]
    },
    {
     "name": "stdout",
     "output_type": "stream",
     "text": [
      "EPISODE 71000 - Eval Random 999 over 1000 - Number of game played 356000 - 18 hours, 11 minutes and 58 seconds\n",
      "########## Evaluation Against Random - Episode 71000 ##########\n",
      "Timestep: 5666600 Average reward against random is 1.246\n",
      "EPISODE 71000 - Eval Opponent 999 over 1000 - Number of game played 357000 - 18 hours, 13 minutes and 18 seconds\n",
      "########## Evaluation Against Last Agent - Episode 71000 ##########\n",
      "Timestep: 5666600 Average reward against last agent is 2.28\n"
     ]
    },
    {
     "name": "stderr",
     "output_type": "stream",
     "text": [
      "/opt/conda/lib/python3.7/site-packages/matplotlib/pyplot.py:1479: UserWarning: Attempting to set identical bottom==top results\n",
      "in singular transformations; automatically expanding.\n",
      "bottom=0, top=0\n",
      "  ret = ax.set_ylim(*args, **kwargs)\n"
     ]
    },
    {
     "name": "stdout",
     "output_type": "stream",
     "text": [
      "EPISODE 71500 - Eval Random 999 over 1000 - Number of game played 358500 - 18 hours, 17 minutes and 31 seconds\n",
      "########## Evaluation Against Random - Episode 71500 ##########\n",
      "Timestep: 5706249 Average reward against random is 1.17\n",
      "EPISODE 71500 - Eval Opponent 999 over 1000 - Number of game played 359500 - 18 hours, 18 minutes and 52 seconds\n",
      "########## Evaluation Against Last Agent - Episode 71500 ##########\n",
      "Timestep: 5706249 Average reward against last agent is 2.326\n"
     ]
    },
    {
     "name": "stderr",
     "output_type": "stream",
     "text": [
      "/opt/conda/lib/python3.7/site-packages/matplotlib/pyplot.py:1479: UserWarning: Attempting to set identical bottom==top results\n",
      "in singular transformations; automatically expanding.\n",
      "bottom=0, top=0\n",
      "  ret = ax.set_ylim(*args, **kwargs)\n"
     ]
    },
    {
     "name": "stdout",
     "output_type": "stream",
     "text": [
      "EPISODE 72000 - Eval Random 999 over 1000 - Number of game played 361000 - 18 hours, 23 minutes and 6 secondss\n",
      "########## Evaluation Against Random - Episode 72000 ##########\n",
      "Timestep: 5745919 Average reward against random is 1.406\n",
      "EPISODE 72000 - Eval Opponent 999 over 1000 - Number of game played 362000 - 18 hours, 24 minutes and 27 seconds\n",
      "########## Evaluation Against Last Agent - Episode 72000 ##########\n",
      "Timestep: 5745919 Average reward against last agent is 2.308\n"
     ]
    },
    {
     "name": "stderr",
     "output_type": "stream",
     "text": [
      "/opt/conda/lib/python3.7/site-packages/matplotlib/pyplot.py:1479: UserWarning: Attempting to set identical bottom==top results\n",
      "in singular transformations; automatically expanding.\n",
      "bottom=0, top=0\n",
      "  ret = ax.set_ylim(*args, **kwargs)\n"
     ]
    },
    {
     "name": "stdout",
     "output_type": "stream",
     "text": [
      "EPISODE 72500 - Eval Random 999 over 1000 - Number of game played 363500 - 18 hours, 28 minutes and 43 seconds\n",
      "########## Evaluation Against Random - Episode 72500 ##########\n",
      "Timestep: 5785624 Average reward against random is 1.27\n",
      "EPISODE 72500 - Eval Opponent 999 over 1000 - Number of game played 364500 - 18 hours, 30 minutes and 4 secondss\n",
      "########## Evaluation Against Last Agent - Episode 72500 ##########\n",
      "Timestep: 5785624 Average reward against last agent is 2.277\n"
     ]
    },
    {
     "name": "stderr",
     "output_type": "stream",
     "text": [
      "/opt/conda/lib/python3.7/site-packages/matplotlib/pyplot.py:1479: UserWarning: Attempting to set identical bottom==top results\n",
      "in singular transformations; automatically expanding.\n",
      "bottom=0, top=0\n",
      "  ret = ax.set_ylim(*args, **kwargs)\n"
     ]
    },
    {
     "name": "stdout",
     "output_type": "stream",
     "text": [
      "EPISODE 73000 - Eval Random 999 over 1000 - Number of game played 366000 - 18 hours, 34 minutes and 23 seconds\n",
      "########## Evaluation Against Random - Episode 73000 ##########\n",
      "Timestep: 5825307 Average reward against random is 1.138\n",
      "EPISODE 73000 - Eval Opponent 999 over 1000 - Number of game played 367000 - 18 hours, 35 minutes and 43 seconds\n",
      "########## Evaluation Against Last Agent - Episode 73000 ##########\n",
      "Timestep: 5825307 Average reward against last agent is 2.282\n"
     ]
    },
    {
     "name": "stderr",
     "output_type": "stream",
     "text": [
      "/opt/conda/lib/python3.7/site-packages/matplotlib/pyplot.py:1479: UserWarning: Attempting to set identical bottom==top results\n",
      "in singular transformations; automatically expanding.\n",
      "bottom=0, top=0\n",
      "  ret = ax.set_ylim(*args, **kwargs)\n"
     ]
    },
    {
     "name": "stdout",
     "output_type": "stream",
     "text": [
      "EPISODE 73500 - Eval Random 999 over 1000 - Number of game played 368500 - 18 hours, 40 minutes and 5 secondss\n",
      "########## Evaluation Against Random - Episode 73500 ##########\n",
      "Timestep: 5864926 Average reward against random is 1.171\n",
      "EPISODE 73500 - Eval Opponent 999 over 1000 - Number of game played 369500 - 18 hours, 41 minutes and 26 seconds\n",
      "########## Evaluation Against Last Agent - Episode 73500 ##########\n",
      "Timestep: 5864926 Average reward against last agent is 2.369\n"
     ]
    },
    {
     "name": "stderr",
     "output_type": "stream",
     "text": [
      "/opt/conda/lib/python3.7/site-packages/matplotlib/pyplot.py:1479: UserWarning: Attempting to set identical bottom==top results\n",
      "in singular transformations; automatically expanding.\n",
      "bottom=0, top=0\n",
      "  ret = ax.set_ylim(*args, **kwargs)\n"
     ]
    },
    {
     "name": "stdout",
     "output_type": "stream",
     "text": [
      "EPISODE 74000 - Eval Random 999 over 1000 - Number of game played 371000 - 18 hours, 45 minutes and 49 seconds\n",
      "########## Evaluation Against Random - Episode 74000 ##########\n",
      "Timestep: 5904499 Average reward against random is 1.234\n",
      "EPISODE 74000 - Eval Opponent 999 over 1000 - Number of game played 372000 - 18 hours, 47 minutes and 10 seconds\n",
      "########## Evaluation Against Last Agent - Episode 74000 ##########\n",
      "Timestep: 5904499 Average reward against last agent is 2.281\n"
     ]
    },
    {
     "name": "stderr",
     "output_type": "stream",
     "text": [
      "/opt/conda/lib/python3.7/site-packages/matplotlib/pyplot.py:1479: UserWarning: Attempting to set identical bottom==top results\n",
      "in singular transformations; automatically expanding.\n",
      "bottom=0, top=0\n",
      "  ret = ax.set_ylim(*args, **kwargs)\n"
     ]
    },
    {
     "name": "stdout",
     "output_type": "stream",
     "text": [
      "EPISODE 74500 - Eval Random 999 over 1000 - Number of game played 373500 - 18 hours, 51 minutes and 33 seconds\n",
      "########## Evaluation Against Random - Episode 74500 ##########\n",
      "Timestep: 5944174 Average reward against random is 1.268\n",
      "EPISODE 74500 - Eval Opponent 999 over 1000 - Number of game played 374500 - 18 hours, 52 minutes and 54 seconds\n",
      "########## Evaluation Against Last Agent - Episode 74500 ##########\n",
      "Timestep: 5944174 Average reward against last agent is 2.283\n"
     ]
    },
    {
     "name": "stderr",
     "output_type": "stream",
     "text": [
      "/opt/conda/lib/python3.7/site-packages/matplotlib/pyplot.py:1479: UserWarning: Attempting to set identical bottom==top results\n",
      "in singular transformations; automatically expanding.\n",
      "bottom=0, top=0\n",
      "  ret = ax.set_ylim(*args, **kwargs)\n"
     ]
    },
    {
     "name": "stdout",
     "output_type": "stream",
     "text": [
      "EPISODE 75000 - Eval Random 999 over 1000 - Number of game played 376000 - 18 hours, 57 minutes and 15 seconds\n",
      "########## Evaluation Against Random - Episode 75000 ##########\n",
      "Timestep: 5984016 Average reward against random is 1.324\n",
      "EPISODE 75000 - Eval Opponent 999 over 1000 - Number of game played 377000 - 18 hours, 58 minutes and 37 seconds\n",
      "########## Evaluation Against Last Agent - Episode 75000 ##########\n",
      "Timestep: 5984016 Average reward against last agent is 2.399\n"
     ]
    },
    {
     "name": "stderr",
     "output_type": "stream",
     "text": [
      "/opt/conda/lib/python3.7/site-packages/matplotlib/pyplot.py:1479: UserWarning: Attempting to set identical bottom==top results\n",
      "in singular transformations; automatically expanding.\n",
      "bottom=0, top=0\n",
      "  ret = ax.set_ylim(*args, **kwargs)\n"
     ]
    },
    {
     "name": "stdout",
     "output_type": "stream",
     "text": [
      "\n",
      "########## Changing model - Using Model 16 as opponent ##########\n",
      "\n",
      "########## Changing model - Using Model 16 as opponent ##########\n",
      "EPISODE 75500 - Eval Random 3 over 1000 - Number of game played 377504 - 19 hours, 2 minutes and 20 seconds"
     ]
    },
    {
     "name": "stderr",
     "output_type": "stream",
     "text": [
      "/home/jovyan/personal_project/RL-tarot/rlcard/agents/dqn_agent.py:154: RuntimeWarning: overflow encountered in exp\n",
      "  probs = remove_illegal(np.exp(q_values), state['legal_actions'])\n"
     ]
    },
    {
     "name": "stdout",
     "output_type": "stream",
     "text": [
      "EPISODE 75500 - Eval Random 31 over 1000 - Number of game played 377532 - 19 hours, 2 minutes and 21 seconds"
     ]
    },
    {
     "name": "stderr",
     "output_type": "stream",
     "text": [
      "/home/jovyan/personal_project/RL-tarot/rlcard/utils/utils.py:67: RuntimeWarning: invalid value encountered in true_divide\n",
      "  probs /= sum(probs)\n"
     ]
    },
    {
     "name": "stdout",
     "output_type": "stream",
     "text": [
      "EPISODE 75500 - Eval Random 999 over 1000 - Number of game played 378500 - 19 hours, 2 minutes and 52 seconds\n",
      "########## Evaluation Against Random - Episode 75500 ##########\n",
      "Timestep: 6023999 Average reward against random is 1.036\n",
      "EPISODE 75500 - Eval Opponent 999 over 1000 - Number of game played 379500 - 19 hours, 4 minutes and 14 seconds\n",
      "########## Evaluation Against Last Agent - Episode 75500 ##########\n",
      "Timestep: 6023999 Average reward against last agent is 2.3\n"
     ]
    },
    {
     "name": "stderr",
     "output_type": "stream",
     "text": [
      "/opt/conda/lib/python3.7/site-packages/matplotlib/pyplot.py:1479: UserWarning: Attempting to set identical bottom==top results\n",
      "in singular transformations; automatically expanding.\n",
      "bottom=0, top=0\n",
      "  ret = ax.set_ylim(*args, **kwargs)\n"
     ]
    },
    {
     "name": "stdout",
     "output_type": "stream",
     "text": [
      "EPISODE 76000 - Eval Random 999 over 1000 - Number of game played 381000 - 19 hours, 8 minutes and 34 seconds\n",
      "########## Evaluation Against Random - Episode 76000 ##########\n",
      "Timestep: 6064028 Average reward against random is 1.281\n",
      "EPISODE 76000 - Eval Opponent 999 over 1000 - Number of game played 382000 - 19 hours, 9 minutes and 57 seconds\n",
      "########## Evaluation Against Last Agent - Episode 76000 ##########\n",
      "Timestep: 6064028 Average reward against last agent is 2.508\n"
     ]
    },
    {
     "name": "stderr",
     "output_type": "stream",
     "text": [
      "/opt/conda/lib/python3.7/site-packages/matplotlib/pyplot.py:1479: UserWarning: Attempting to set identical bottom==top results\n",
      "in singular transformations; automatically expanding.\n",
      "bottom=0, top=0\n",
      "  ret = ax.set_ylim(*args, **kwargs)\n"
     ]
    },
    {
     "name": "stdout",
     "output_type": "stream",
     "text": [
      "EPISODE 76500 - Eval Random 999 over 1000 - Number of game played 383500 - 19 hours, 14 minutes and 13 seconds\n",
      "########## Evaluation Against Random - Episode 76500 ##########\n",
      "Timestep: 6103982 Average reward against random is 1.169\n",
      "EPISODE 76500 - Eval Opponent 999 over 1000 - Number of game played 384500 - 19 hours, 15 minutes and 35 seconds\n",
      "########## Evaluation Against Last Agent - Episode 76500 ##########\n",
      "Timestep: 6103982 Average reward against last agent is 2.493\n"
     ]
    },
    {
     "name": "stderr",
     "output_type": "stream",
     "text": [
      "/opt/conda/lib/python3.7/site-packages/matplotlib/pyplot.py:1479: UserWarning: Attempting to set identical bottom==top results\n",
      "in singular transformations; automatically expanding.\n",
      "bottom=0, top=0\n",
      "  ret = ax.set_ylim(*args, **kwargs)\n"
     ]
    },
    {
     "name": "stdout",
     "output_type": "stream",
     "text": [
      "EPISODE 77000 - Eval Random 999 over 1000 - Number of game played 386000 - 19 hours, 20 minutes and 0 secondds\n",
      "########## Evaluation Against Random - Episode 77000 ##########\n",
      "Timestep: 6143836 Average reward against random is 1.15\n",
      "EPISODE 77000 - Eval Opponent 999 over 1000 - Number of game played 387000 - 19 hours, 21 minutes and 23 seconds\n",
      "########## Evaluation Against Last Agent - Episode 77000 ##########\n",
      "Timestep: 6143836 Average reward against last agent is 2.487\n"
     ]
    },
    {
     "name": "stderr",
     "output_type": "stream",
     "text": [
      "/opt/conda/lib/python3.7/site-packages/matplotlib/pyplot.py:1479: UserWarning: Attempting to set identical bottom==top results\n",
      "in singular transformations; automatically expanding.\n",
      "bottom=0, top=0\n",
      "  ret = ax.set_ylim(*args, **kwargs)\n"
     ]
    },
    {
     "name": "stdout",
     "output_type": "stream",
     "text": [
      "EPISODE 77500 - Eval Random 999 over 1000 - Number of game played 388500 - 19 hours, 25 minutes and 44 seconds\n",
      "########## Evaluation Against Random - Episode 77500 ##########\n",
      "Timestep: 6183706 Average reward against random is 1.102\n",
      "EPISODE 77500 - Eval Opponent 999 over 1000 - Number of game played 389500 - 19 hours, 27 minutes and 6 secondss\n",
      "########## Evaluation Against Last Agent - Episode 77500 ##########\n",
      "Timestep: 6183706 Average reward against last agent is 2.53\n"
     ]
    },
    {
     "name": "stderr",
     "output_type": "stream",
     "text": [
      "/opt/conda/lib/python3.7/site-packages/matplotlib/pyplot.py:1479: UserWarning: Attempting to set identical bottom==top results\n",
      "in singular transformations; automatically expanding.\n",
      "bottom=0, top=0\n",
      "  ret = ax.set_ylim(*args, **kwargs)\n"
     ]
    },
    {
     "name": "stdout",
     "output_type": "stream",
     "text": [
      "EPISODE 78000 - Eval Random 999 over 1000 - Number of game played 391000 - 19 hours, 31 minutes and 34 seconds\n",
      "########## Evaluation Against Random - Episode 78000 ##########\n",
      "Timestep: 6223625 Average reward against random is 1.192\n",
      "EPISODE 78000 - Eval Opponent 999 over 1000 - Number of game played 392000 - 19 hours, 32 minutes and 56 seconds\n",
      "########## Evaluation Against Last Agent - Episode 78000 ##########\n",
      "Timestep: 6223625 Average reward against last agent is 2.333\n"
     ]
    },
    {
     "name": "stderr",
     "output_type": "stream",
     "text": [
      "/opt/conda/lib/python3.7/site-packages/matplotlib/pyplot.py:1479: UserWarning: Attempting to set identical bottom==top results\n",
      "in singular transformations; automatically expanding.\n",
      "bottom=0, top=0\n",
      "  ret = ax.set_ylim(*args, **kwargs)\n"
     ]
    },
    {
     "name": "stdout",
     "output_type": "stream",
     "text": [
      "EPISODE 78500 - Eval Random 999 over 1000 - Number of game played 393500 - 19 hours, 37 minutes and 19 seconds\n",
      "########## Evaluation Against Random - Episode 78500 ##########\n",
      "Timestep: 6263486 Average reward against random is 0.904\n",
      "EPISODE 78500 - Eval Opponent 999 over 1000 - Number of game played 394500 - 19 hours, 38 minutes and 41 seconds\n",
      "########## Evaluation Against Last Agent - Episode 78500 ##########\n",
      "Timestep: 6263486 Average reward against last agent is 2.391\n"
     ]
    },
    {
     "name": "stderr",
     "output_type": "stream",
     "text": [
      "/opt/conda/lib/python3.7/site-packages/matplotlib/pyplot.py:1479: UserWarning: Attempting to set identical bottom==top results\n",
      "in singular transformations; automatically expanding.\n",
      "bottom=0, top=0\n",
      "  ret = ax.set_ylim(*args, **kwargs)\n"
     ]
    },
    {
     "name": "stdout",
     "output_type": "stream",
     "text": [
      "EPISODE 79000 - Eval Random 999 over 1000 - Number of game played 396000 - 19 hours, 43 minutes and 14 seconds\n",
      "########## Evaluation Against Random - Episode 79000 ##########\n",
      "Timestep: 6303275 Average reward against random is 0.923\n",
      "EPISODE 79000 - Eval Opponent 999 over 1000 - Number of game played 397000 - 19 hours, 44 minutes and 36 seconds\n",
      "########## Evaluation Against Last Agent - Episode 79000 ##########\n",
      "Timestep: 6303275 Average reward against last agent is 2.415\n"
     ]
    },
    {
     "name": "stderr",
     "output_type": "stream",
     "text": [
      "/opt/conda/lib/python3.7/site-packages/matplotlib/pyplot.py:1479: UserWarning: Attempting to set identical bottom==top results\n",
      "in singular transformations; automatically expanding.\n",
      "bottom=0, top=0\n",
      "  ret = ax.set_ylim(*args, **kwargs)\n"
     ]
    },
    {
     "name": "stdout",
     "output_type": "stream",
     "text": [
      "EPISODE 79500 - Eval Random 999 over 1000 - Number of game played 398500 - 19 hours, 49 minutes and 11 seconds\n",
      "########## Evaluation Against Random - Episode 79500 ##########\n",
      "Timestep: 6343033 Average reward against random is 1.472\n",
      "EPISODE 79500 - Eval Opponent 999 over 1000 - Number of game played 399500 - 19 hours, 50 minutes and 33 seconds\n",
      "########## Evaluation Against Last Agent - Episode 79500 ##########\n",
      "Timestep: 6343033 Average reward against last agent is 2.424\n"
     ]
    },
    {
     "name": "stderr",
     "output_type": "stream",
     "text": [
      "/opt/conda/lib/python3.7/site-packages/matplotlib/pyplot.py:1479: UserWarning: Attempting to set identical bottom==top results\n",
      "in singular transformations; automatically expanding.\n",
      "bottom=0, top=0\n",
      "  ret = ax.set_ylim(*args, **kwargs)\n"
     ]
    },
    {
     "name": "stdout",
     "output_type": "stream",
     "text": [
      "EPISODE 80000 - Eval Random 999 over 1000 - Number of game played 401000 - 19 hours, 55 minutes and 2 secondss\n",
      "########## Evaluation Against Random - Episode 80000 ##########\n",
      "Timestep: 6382895 Average reward against random is 1.128\n",
      "EPISODE 80000 - Eval Opponent 999 over 1000 - Number of game played 402000 - 19 hours, 56 minutes and 24 seconds\n",
      "########## Evaluation Against Last Agent - Episode 80000 ##########\n",
      "Timestep: 6382895 Average reward against last agent is 2.292\n"
     ]
    },
    {
     "name": "stderr",
     "output_type": "stream",
     "text": [
      "/opt/conda/lib/python3.7/site-packages/matplotlib/pyplot.py:1479: UserWarning: Attempting to set identical bottom==top results\n",
      "in singular transformations; automatically expanding.\n",
      "bottom=0, top=0\n",
      "  ret = ax.set_ylim(*args, **kwargs)\n"
     ]
    },
    {
     "name": "stdout",
     "output_type": "stream",
     "text": [
      "\n",
      "########## Changing model - Using Model 17 as opponent ##########\n",
      "\n",
      "########## Changing model - Using Model 17 as opponent ##########\n",
      "EPISODE 80500 - Eval Random 999 over 1000 - Number of game played 403500 - 20 hours, 0 minute and 51 seconds\n",
      "########## Evaluation Against Random - Episode 80500 ##########\n",
      "Timestep: 6422823 Average reward against random is 1.203\n",
      "EPISODE 80500 - Eval Opponent 999 over 1000 - Number of game played 404500 - 20 hours, 2 minutes and 13 seconds\n",
      "########## Evaluation Against Last Agent - Episode 80500 ##########\n",
      "Timestep: 6422823 Average reward against last agent is 2.447\n"
     ]
    },
    {
     "name": "stderr",
     "output_type": "stream",
     "text": [
      "/opt/conda/lib/python3.7/site-packages/matplotlib/pyplot.py:1479: UserWarning: Attempting to set identical bottom==top results\n",
      "in singular transformations; automatically expanding.\n",
      "bottom=0, top=0\n",
      "  ret = ax.set_ylim(*args, **kwargs)\n"
     ]
    },
    {
     "name": "stdout",
     "output_type": "stream",
     "text": [
      "EPISODE 81000 - Eval Random 999 over 1000 - Number of game played 406000 - 20 hours, 6 minutes and 48 seconds\n",
      "########## Evaluation Against Random - Episode 81000 ##########\n",
      "Timestep: 6462763 Average reward against random is 1.181\n",
      "EPISODE 81000 - Eval Opponent 999 over 1000 - Number of game played 407000 - 20 hours, 8 minutes and 10 seconds\n",
      "########## Evaluation Against Last Agent - Episode 81000 ##########\n",
      "Timestep: 6462763 Average reward against last agent is 2.408\n"
     ]
    },
    {
     "name": "stderr",
     "output_type": "stream",
     "text": [
      "/opt/conda/lib/python3.7/site-packages/matplotlib/pyplot.py:1479: UserWarning: Attempting to set identical bottom==top results\n",
      "in singular transformations; automatically expanding.\n",
      "bottom=0, top=0\n",
      "  ret = ax.set_ylim(*args, **kwargs)\n"
     ]
    },
    {
     "name": "stdout",
     "output_type": "stream",
     "text": [
      "EPISODE 81500 - Eval Random 999 over 1000 - Number of game played 408500 - 20 hours, 12 minutes and 42 seconds\n",
      "########## Evaluation Against Random - Episode 81500 ##########\n",
      "Timestep: 6502715 Average reward against random is 1.151\n",
      "EPISODE 81500 - Eval Opponent 999 over 1000 - Number of game played 409500 - 20 hours, 14 minutes and 4 secondss\n",
      "########## Evaluation Against Last Agent - Episode 81500 ##########\n",
      "Timestep: 6502715 Average reward against last agent is 2.511\n"
     ]
    },
    {
     "name": "stderr",
     "output_type": "stream",
     "text": [
      "/opt/conda/lib/python3.7/site-packages/matplotlib/pyplot.py:1479: UserWarning: Attempting to set identical bottom==top results\n",
      "in singular transformations; automatically expanding.\n",
      "bottom=0, top=0\n",
      "  ret = ax.set_ylim(*args, **kwargs)\n"
     ]
    },
    {
     "name": "stdout",
     "output_type": "stream",
     "text": [
      "EPISODE 82000 - Eval Random 999 over 1000 - Number of game played 411000 - 20 hours, 18 minutes and 38 seconds\n",
      "########## Evaluation Against Random - Episode 82000 ##########\n",
      "Timestep: 6542600 Average reward against random is 1.078\n",
      "EPISODE 82000 - Eval Opponent 999 over 1000 - Number of game played 412000 - 20 hours, 20 minutes and 1 secondds\n",
      "########## Evaluation Against Last Agent - Episode 82000 ##########\n",
      "Timestep: 6542600 Average reward against last agent is 2.326\n"
     ]
    },
    {
     "name": "stderr",
     "output_type": "stream",
     "text": [
      "/opt/conda/lib/python3.7/site-packages/matplotlib/pyplot.py:1479: UserWarning: Attempting to set identical bottom==top results\n",
      "in singular transformations; automatically expanding.\n",
      "bottom=0, top=0\n",
      "  ret = ax.set_ylim(*args, **kwargs)\n"
     ]
    },
    {
     "name": "stdout",
     "output_type": "stream",
     "text": [
      "EPISODE 82500 - Eval Random 999 over 1000 - Number of game played 413500 - 20 hours, 24 minutes and 45 seconds\n",
      "########## Evaluation Against Random - Episode 82500 ##########\n",
      "Timestep: 6582450 Average reward against random is 1.277\n",
      "EPISODE 82500 - Eval Opponent 999 over 1000 - Number of game played 414500 - 20 hours, 26 minutes and 7 secondss\n",
      "########## Evaluation Against Last Agent - Episode 82500 ##########\n",
      "Timestep: 6582450 Average reward against last agent is 2.181\n"
     ]
    },
    {
     "name": "stderr",
     "output_type": "stream",
     "text": [
      "/opt/conda/lib/python3.7/site-packages/matplotlib/pyplot.py:1479: UserWarning: Attempting to set identical bottom==top results\n",
      "in singular transformations; automatically expanding.\n",
      "bottom=0, top=0\n",
      "  ret = ax.set_ylim(*args, **kwargs)\n"
     ]
    },
    {
     "name": "stdout",
     "output_type": "stream",
     "text": [
      "EPISODE 83000 - Eval Random 999 over 1000 - Number of game played 416000 - 20 hours, 30 minutes and 42 seconds\n",
      "########## Evaluation Against Random - Episode 83000 ##########\n",
      "Timestep: 6622393 Average reward against random is 0.931\n",
      "EPISODE 83000 - Eval Opponent 999 over 1000 - Number of game played 417000 - 20 hours, 32 minutes and 3 secondss\n",
      "########## Evaluation Against Last Agent - Episode 83000 ##########\n",
      "Timestep: 6622393 Average reward against last agent is 2.21\n"
     ]
    },
    {
     "name": "stderr",
     "output_type": "stream",
     "text": [
      "/opt/conda/lib/python3.7/site-packages/matplotlib/pyplot.py:1479: UserWarning: Attempting to set identical bottom==top results\n",
      "in singular transformations; automatically expanding.\n",
      "bottom=0, top=0\n",
      "  ret = ax.set_ylim(*args, **kwargs)\n"
     ]
    },
    {
     "name": "stdout",
     "output_type": "stream",
     "text": [
      "EPISODE 83500 - Eval Random 999 over 1000 - Number of game played 418500 - 20 hours, 36 minutes and 51 seconds\n",
      "########## Evaluation Against Random - Episode 83500 ##########\n",
      "Timestep: 6662244 Average reward against random is 1.387\n",
      "EPISODE 83500 - Eval Opponent 999 over 1000 - Number of game played 419500 - 20 hours, 38 minutes and 13 seconds\n",
      "########## Evaluation Against Last Agent - Episode 83500 ##########\n",
      "Timestep: 6662244 Average reward against last agent is 1.958\n"
     ]
    },
    {
     "name": "stderr",
     "output_type": "stream",
     "text": [
      "/opt/conda/lib/python3.7/site-packages/matplotlib/pyplot.py:1479: UserWarning: Attempting to set identical bottom==top results\n",
      "in singular transformations; automatically expanding.\n",
      "bottom=0, top=0\n",
      "  ret = ax.set_ylim(*args, **kwargs)\n"
     ]
    },
    {
     "name": "stdout",
     "output_type": "stream",
     "text": [
      "EPISODE 84000 - Eval Random 999 over 1000 - Number of game played 421000 - 20 hours, 42 minutes and 40 seconds\n",
      "########## Evaluation Against Random - Episode 84000 ##########\n",
      "Timestep: 6702174 Average reward against random is 2.365\n"
     ]
    },
    {
     "name": "stderr",
     "output_type": "stream",
     "text": [
      "/opt/conda/lib/python3.7/site-packages/matplotlib/pyplot.py:1479: UserWarning: Attempting to set identical bottom==top results\n",
      "in singular transformations; automatically expanding.\n",
      "bottom=0, top=0\n",
      "  ret = ax.set_ylim(*args, **kwargs)\n"
     ]
    },
    {
     "name": "stdout",
     "output_type": "stream",
     "text": [
      "EPISODE 84000 - Eval Opponent 999 over 1000 - Number of game played 422000 - 20 hours, 44 minutes and 5 secondss\n",
      "########## Evaluation Against Last Agent - Episode 84000 ##########\n",
      "Timestep: 6702174 Average reward against last agent is 1.716\n"
     ]
    },
    {
     "name": "stderr",
     "output_type": "stream",
     "text": [
      "/opt/conda/lib/python3.7/site-packages/matplotlib/pyplot.py:1479: UserWarning: Attempting to set identical bottom==top results\n",
      "in singular transformations; automatically expanding.\n",
      "bottom=0, top=0\n",
      "  ret = ax.set_ylim(*args, **kwargs)\n"
     ]
    },
    {
     "name": "stdout",
     "output_type": "stream",
     "text": [
      "EPISODE 84500 - Eval Random 999 over 1000 - Number of game played 423500 - 20 hours, 48 minutes and 17 seconds\n",
      "########## Evaluation Against Random - Episode 84500 ##########\n",
      "Timestep: 6742118 Average reward against random is 1.079\n",
      "EPISODE 84500 - Eval Opponent 999 over 1000 - Number of game played 424500 - 20 hours, 49 minutes and 38 seconds\n",
      "########## Evaluation Against Last Agent - Episode 84500 ##########\n",
      "Timestep: 6742118 Average reward against last agent is 2.164\n"
     ]
    },
    {
     "name": "stderr",
     "output_type": "stream",
     "text": [
      "/opt/conda/lib/python3.7/site-packages/matplotlib/pyplot.py:1479: UserWarning: Attempting to set identical bottom==top results\n",
      "in singular transformations; automatically expanding.\n",
      "bottom=0, top=0\n",
      "  ret = ax.set_ylim(*args, **kwargs)\n"
     ]
    },
    {
     "name": "stdout",
     "output_type": "stream",
     "text": [
      "EPISODE 85000 - Eval Random 999 over 1000 - Number of game played 426000 - 20 hours, 53 minutes and 57 seconds\n",
      "########## Evaluation Against Random - Episode 85000 ##########\n",
      "Timestep: 6782049 Average reward against random is 1.368\n",
      "EPISODE 85000 - Eval Opponent 999 over 1000 - Number of game played 427000 - 20 hours, 55 minutes and 17 seconds\n",
      "########## Evaluation Against Last Agent - Episode 85000 ##########\n",
      "Timestep: 6782049 Average reward against last agent is 2.04\n"
     ]
    },
    {
     "name": "stderr",
     "output_type": "stream",
     "text": [
      "/opt/conda/lib/python3.7/site-packages/matplotlib/pyplot.py:1479: UserWarning: Attempting to set identical bottom==top results\n",
      "in singular transformations; automatically expanding.\n",
      "bottom=0, top=0\n",
      "  ret = ax.set_ylim(*args, **kwargs)\n"
     ]
    },
    {
     "name": "stdout",
     "output_type": "stream",
     "text": [
      "\n",
      "########## Changing model - Using Model 18 as opponent ##########\n",
      "\n",
      "########## Changing model - Using Model 18 as opponent ##########\n",
      "EPISODE 85500 - Eval Random 999 over 1000 - Number of game played 428500 - 20 hours, 59 minutes and 30 seconds\n",
      "########## Evaluation Against Random - Episode 85500 ##########\n",
      "Timestep: 6821950 Average reward against random is 1.123\n",
      "EPISODE 85500 - Eval Opponent 999 over 1000 - Number of game played 429500 - 21 hours, 0 minute and 50 secondsds\n",
      "########## Evaluation Against Last Agent - Episode 85500 ##########\n",
      "Timestep: 6821950 Average reward against last agent is 2.059\n"
     ]
    },
    {
     "name": "stderr",
     "output_type": "stream",
     "text": [
      "/opt/conda/lib/python3.7/site-packages/matplotlib/pyplot.py:1479: UserWarning: Attempting to set identical bottom==top results\n",
      "in singular transformations; automatically expanding.\n",
      "bottom=0, top=0\n",
      "  ret = ax.set_ylim(*args, **kwargs)\n"
     ]
    },
    {
     "name": "stdout",
     "output_type": "stream",
     "text": [
      "EPISODE 85565 - Number of game played 429565 - 21 hours, 1 minute and 16 seconds"
     ]
    }
   ],
   "source": [
    "\"\"\"\n",
    "An example of learning a Deep-Q Agent on French Tarot Game\n",
    "\"\"\"\n",
    "import os\n",
    "import time\n",
    "\n",
    "import tensorflow as tf\n",
    "\n",
    "import rlcard\n",
    "from rlcard.agents.random_agent import RandomAgent\n",
    "from rlcard.agents.dqn_agent import DQNAgent\n",
    "from rlcard.utils.logger import Logger\n",
    "from rlcard.utils.utils import set_global_seed, time_difference_good_format\n",
    "\n",
    "record_number = 12\n",
    "\n",
    "# Make environment\n",
    "env = rlcard.make('tarot')\n",
    "eval_env = rlcard.make('tarot')\n",
    "\n",
    "# Set the iterations numbers and how frequently we evaluate/save plot\n",
    "evaluate_every = 500\n",
    "evolve_model_every = 5000\n",
    "evaluate_num = 1000\n",
    "\n",
    "episode_num = 100000\n",
    "\n",
    "self_play = 1\n",
    "total_self_play_eval = int(episode_num / evaluate_every)\n",
    "\n",
    "# Set the the number of steps for collecting normalization statistics\n",
    "# and intial memory size\n",
    "memory_init_size = 5000\n",
    "norm_step = 1000\n",
    "\n",
    "# The paths for saving the logs and learning curves\n",
    "root_path = './experiments/tarot_dqn_self_played_v{}/'.format(str(record_number))\n",
    "log_path_random = root_path + 'log_random.txt'\n",
    "csv_path_random = root_path + 'performance_random.csv'\n",
    "log_path_opponent = root_path + 'log_opponent.txt'\n",
    "csv_path_opponent = root_path + 'performance_opponent.csv'\n",
    "figure_path_random = root_path + 'figures_random/'\n",
    "figure_path_opponent = root_path + 'figures_opponent/'\n",
    "\n",
    "# Model save path\n",
    "if not os.path.exists('rlcard/models'):\n",
    "    os.makedirs('rlcard/models')\n",
    "if not os.path.exists('rlcard/models/pretrained'):\n",
    "    os.makedirs('rlcard/models/pretrained')\n",
    "for self_play_init in range(1, total_self_play_eval + 1):\n",
    "    model_folder_path = 'rlcard/models/pretrained/self_played_{}/tarot_v{}'.format(\n",
    "        str(record_number),\n",
    "        str(record_number * 10000 + self_play_init))\n",
    "    if not os.path.exists(model_folder_path):\n",
    "        os.makedirs(model_folder_path)\n",
    "model_path = 'rlcard/models/pretrained/self_played_{}/tarot_v{}/model'.format(\n",
    "    str(record_number),\n",
    "    str(record_number * 10000 + self_play))\n",
    "\n",
    "# Set a global seed\n",
    "set_global_seed(0)\n",
    "\n",
    "random_agent = RandomAgent(action_num=eval_env.action_num)\n",
    "\n",
    "with tf.compat.v1.Session() as sess:\n",
    "    # Set agents\n",
    "    global_step = tf.Variable(0, name='global_step', trainable=False)\n",
    "    agent = DQNAgent(sess,\n",
    "                     scope='dqn',\n",
    "                     action_num=78,  # env.action_num,\n",
    "                     replay_memory_size=20000,\n",
    "                     replay_memory_init_size=memory_init_size,\n",
    "                     norm_step=norm_step,\n",
    "                     state_shape=env.state_shape,\n",
    "                     mlp_layers=[512, 1024, 512])\n",
    "\n",
    "    opponent_agent = agent\n",
    "\n",
    "    sess.run(tf.compat.v1.global_variables_initializer())\n",
    "\n",
    "    saver = tf.compat.v1.train.Saver()\n",
    "\n",
    "    env.set_agents([agent] + [opponent_agent] * (env.player_num - 1))\n",
    "    eval_env.set_agents([agent] + [random_agent] * (env.player_num - 1))\n",
    "\n",
    "    # Count the number of steps\n",
    "    step_counter = 0\n",
    "\n",
    "    # Init a Logger to plot the learning curve against random\n",
    "    logger_random = Logger(xlabel='timestep', ylabel='reward', legend='DQN on TAROT against Random',\n",
    "                           legend_hist='Histogram of last evaluations against Random', log_path=log_path_random,\n",
    "                           csv_path=csv_path_random)\n",
    "    # Init a Logger to plot the learning curve against last opponent\n",
    "    logger_opponent = Logger(xlabel='timestep', ylabel='reward', legend='DQN on TAROT against last agent',\n",
    "                             legend_hist='Histogram of last evaluations against last agent', log_path=log_path_opponent,\n",
    "                             csv_path=csv_path_opponent)\n",
    "\n",
    "    total_game_played = 0\n",
    "    seconds = time.time()\n",
    "\n",
    "    for episode in range(episode_num):\n",
    "        print('\\rEPISODE {} - Number of game played {} - {}'.format(episode, total_game_played,\n",
    "                                                                    time_difference_good_format(seconds, time.time())),\n",
    "              end='')\n",
    "\n",
    "        # Generate data from the environment\n",
    "        trajectories, _ = env.run(is_training=True)\n",
    "        total_game_played += 1\n",
    "\n",
    "        # Feed transitions into agent memory, and train the agent\n",
    "        for ts in trajectories[0]:\n",
    "            agent.feed(ts)\n",
    "            step_counter += 1\n",
    "\n",
    "            # Train the agent\n",
    "            train_count = step_counter - (memory_init_size + norm_step)\n",
    "            if train_count > 0:\n",
    "                loss = agent.train()\n",
    "                # print('\\rINFO - Step {}, loss: {}'.format(step_counter, loss), end='')\n",
    "\n",
    "        # Evaluate the performance.\n",
    "        if episode % evaluate_every == 0:\n",
    "            # Save Model\n",
    "            model_path = 'rlcard/models/pretrained/self_played_{}/tarot_v{}/model'.format(\n",
    "                str(record_number),\n",
    "                str(record_number * 10000 + self_play))\n",
    "                        \n",
    "            saver.save(sess, model_path)\n",
    "\n",
    "            # Eval against random\n",
    "            reward_random = 0\n",
    "            reward_random_list = []\n",
    "            taking_list = []\n",
    "            eval_env.set_agents([agent] + [random_agent] * (env.player_num - 1))\n",
    "            for eval_episode in range(evaluate_num):\n",
    "                print('\\rEPISODE {} - Eval Random {} over {} - Number of game played {} - {}'.format(episode,\n",
    "                                                                                                     eval_episode,\n",
    "                                                                                                     evaluate_num,\n",
    "                                                                                                     total_game_played,\n",
    "                                                                                                     time_difference_good_format(\n",
    "                                                                                                         seconds,\n",
    "                                                                                                         time.time())),\n",
    "                      end='')\n",
    "                _, payoffs = eval_env.run(is_training=False)\n",
    "                total_game_played += 1\n",
    "                reward_random_list.append(payoffs[0])\n",
    "                reward_random += payoffs[0]\n",
    "                taking_list.append(eval_env.game.players[0].taking)\n",
    "\n",
    "            logger_random.log('\\n########## Evaluation Against Random - Episode {} ##########'.format(episode))\n",
    "            logger_random.log(\n",
    "                'Timestep: {} Average reward against random is {}'.format(env.timestep,\n",
    "                                                                          float(reward_random) / evaluate_num))\n",
    "\n",
    "            # Add point to logger\n",
    "            logger_random.add_point(x=env.timestep, y=float(reward_random) / evaluate_num)\n",
    "            \n",
    "            # Make plot\n",
    "            logger_random.make_plot(save_path=figure_path_random + str(episode) + '.png')\n",
    "            logger_random.make_plot_hist(save_path_1=figure_path_random + str(episode) + '_hist.png',\n",
    "                                         save_path_2=figure_path_random + str(episode) + '_freq.png',\n",
    "                                         reward_list=reward_random_list, taking_list=taking_list)\n",
    "\n",
    "            # Eval against last agent\n",
    "            reward_opponent = 0\n",
    "            reward_opponent_list = []\n",
    "            taking_list = []\n",
    "            eval_env.set_agents([agent] + [opponent_agent] * (env.player_num - 1))\n",
    "            for eval_episode in range(evaluate_num):\n",
    "                print('\\rEPISODE {} - Eval Opponent {} over {} - Number of game played {} - {}'.format(episode,\n",
    "                                                                                                       eval_episode,\n",
    "                                                                                                       evaluate_num,\n",
    "                                                                                                       total_game_played,\n",
    "                                                                                                       time_difference_good_format(\n",
    "                                                                                                           seconds,\n",
    "                                                                                                           time.time())),\n",
    "                      end='')\n",
    "                _, payoffs = eval_env.run(is_training=False)\n",
    "                total_game_played += 1\n",
    "                reward_opponent_list.append(payoffs[0])\n",
    "                reward_opponent += payoffs[0]\n",
    "                taking_list.append(eval_env.game.players[0].taking)\n",
    "\n",
    "            logger_opponent.log('\\n########## Evaluation Against Last Agent - Episode {} ##########'.format(episode))\n",
    "            logger_opponent.log(\n",
    "                'Timestep: {} Average reward against last agent is {}'.format(env.timestep,\n",
    "                                                                              float(reward_opponent) / evaluate_num))\n",
    "\n",
    "            # Add point to logger\n",
    "            logger_opponent.add_point(x=env.timestep, y=float(reward_opponent) / evaluate_num)\n",
    "\n",
    "            # Make plot\n",
    "            logger_opponent.make_plot(save_path=figure_path_opponent + str(episode) + '.png')\n",
    "            logger_opponent.make_plot_hist(save_path_1=figure_path_opponent + str(episode) + '_hist.png',\n",
    "                                           save_path_2=figure_path_opponent + str(episode) + '_freq.png',\n",
    "                                           reward_list=reward_opponent_list, taking_list=taking_list)\n",
    "            \n",
    "        if episode % evolve_model_every == 0 and episode > 0:\n",
    "            # GO to next step\n",
    "            self_play += 1\n",
    "\n",
    "            opponent_agent = agent\n",
    "            env.set_agents([agent] + [opponent_agent] * (env.player_num - 1))\n",
    "            logger_random.log('\\n########## Changing model - Using Model {} as opponent ##########'.format(self_play))\n",
    "            logger_opponent.log('\\n########## Changing model - Using Model {} as opponent ##########'.format(self_play))\n",
    "\n",
    "\n",
    "    # Make the final plot\n",
    "    logger_random.make_plot(save_path=figure_path_random + 'final_' + str(episode) + '.png')\n",
    "    logger_random.make_plot_hist(save_path_1=figure_path_random + str(episode) + '_hist.png',\n",
    "                                 save_path_2=figure_path_random + str(episode) + '_freq.png',\n",
    "                                 reward_list=reward_random_list, taking_list=taking_list)\n",
    "    # Make the final plot\n",
    "    logger_opponent.make_plot(save_path=figure_path_opponent + 'final_' + str(episode) + '.png')\n",
    "    logger_opponent.make_plot_hist(save_path_1=figure_path_opponent + str(episode) + '_hist.png',\n",
    "                                   save_path_2=figure_path_opponent + str(episode) + '_freq.png',\n",
    "                                   reward_list=reward_opponent_list, taking_list=taking_list)\n"
   ]
  }
 ],
 "metadata": {
  "kernelspec": {
   "display_name": "Python 3",
   "language": "python",
   "name": "python3"
  },
  "language_info": {
   "codemirror_mode": {
    "name": "ipython",
    "version": 3
   },
   "file_extension": ".py",
   "mimetype": "text/x-python",
   "name": "python",
   "nbconvert_exporter": "python",
   "pygments_lexer": "ipython3",
   "version": "3.7.3"
  },
  "pycharm": {
   "stem_cell": {
    "cell_type": "raw",
    "metadata": {
     "collapsed": false
    },
    "source": []
   }
  }
 },
 "nbformat": 4,
 "nbformat_minor": 4
}

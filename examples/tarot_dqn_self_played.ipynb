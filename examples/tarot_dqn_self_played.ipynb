{
 "cells": [
  {
   "cell_type": "code",
   "execution_count": 1,
   "metadata": {},
   "outputs": [
    {
     "name": "stdout",
     "output_type": "stream",
     "text": [
      "/home/jovyan/personal_project/RL-tarot\n"
     ]
    }
   ],
   "source": [
    "%cd .."
   ]
  },
  {
   "cell_type": "code",
   "execution_count": 2,
   "metadata": {},
   "outputs": [
    {
     "name": "stdout",
     "output_type": "stream",
     "text": [
      "WARNING:tensorflow:From /opt/conda/lib/python3.7/site-packages/tensorflow/python/framework/op_def_library.py:263: colocate_with (from tensorflow.python.framework.ops) is deprecated and will be removed in a future version.\n",
      "Instructions for updating:\n",
      "Colocations handled automatically by placer.\n",
      "\n",
      "WARNING: The TensorFlow contrib module will not be included in TensorFlow 2.0.\n",
      "For more information, please see:\n",
      "  * https://github.com/tensorflow/community/blob/master/rfcs/20180907-contrib-sunset.md\n",
      "  * https://github.com/tensorflow/addons\n",
      "If you depend on functionality not listed there, please file an issue.\n",
      "\n",
      "WARNING:tensorflow:From /opt/conda/lib/python3.7/site-packages/tensorflow/contrib/layers/python/layers/layers.py:1624: flatten (from tensorflow.python.layers.core) is deprecated and will be removed in a future version.\n",
      "Instructions for updating:\n",
      "Use keras.layers.flatten instead.\n",
      "WARNING:tensorflow:From /opt/conda/lib/python3.7/site-packages/tensorflow/python/ops/array_grad.py:425: to_int32 (from tensorflow.python.ops.math_ops) is deprecated and will be removed in a future version.\n",
      "Instructions for updating:\n",
      "Use tf.cast instead.\n"
     ]
    },
    {
     "name": "stderr",
     "output_type": "stream",
     "text": [
      "/opt/conda/lib/python3.7/site-packages/tensorflow/python/ops/gradients_impl.py:110: UserWarning: Converting sparse IndexedSlices to a dense Tensor of unknown shape. This may consume a large amount of memory.\n",
      "  \"Converting sparse IndexedSlices to a dense Tensor of unknown shape. \"\n",
      "/opt/conda/lib/python3.7/site-packages/tensorflow/python/ops/gradients_impl.py:110: UserWarning: Converting sparse IndexedSlices to a dense Tensor of unknown shape. This may consume a large amount of memory.\n",
      "  \"Converting sparse IndexedSlices to a dense Tensor of unknown shape. \"\n"
     ]
    },
    {
     "name": "stdout",
     "output_type": "stream",
     "text": [
      "EPISODE 0 - Eval Random 999 over 1000 - Number of game played 1000 - 32 seconds\n",
      "########## Evaluation Against Random - Episode 0 ##########\n",
      "Timestep: 79 Average reward against random is 1.607\n",
      "EPISODE 0 - Eval Opponent 999 over 1000 - Number of game played 2000 - 1 minute and 57 seconds\n",
      "########## Evaluation Against Last Agent - Episode 0 ##########\n",
      "Timestep: 79 Average reward against last agent is 2.334\n",
      "EPISODE 5000 - Eval Random 999 over 1000 - Number of game played 8000 - 16 minutes and 49 seconds\n",
      "########## Evaluation Against Random - Episode 5000 ##########\n",
      "Timestep: 399486 Average reward against random is 1.197\n",
      "EPISODE 5000 - Eval Opponent 999 over 1000 - Number of game played 9000 - 18 minutes and 17 seconds\n",
      "########## Evaluation Against Last Agent - Episode 5000 ##########\n",
      "Timestep: 399486 Average reward against last agent is -0.465\n",
      "EPISODE 10000 - Eval Random 999 over 1000 - Number of game played 15000 - 41 minutes and 48 seconds\n",
      "########## Evaluation Against Random - Episode 10000 ##########\n",
      "Timestep: 799103 Average reward against random is 1.301\n",
      "EPISODE 10000 - Eval Opponent 999 over 1000 - Number of game played 16000 - 43 minutes and 11 seconds\n",
      "########## Evaluation Against Last Agent - Episode 10000 ##########\n",
      "Timestep: 799103 Average reward against last agent is 1.418\n",
      "EPISODE 15000 - Eval Random 999 over 1000 - Number of game played 22000 - 1 hour, 6 minutes and 2 secondss\n",
      "########## Evaluation Against Random - Episode 15000 ##########\n",
      "Timestep: 1198331 Average reward against random is 1.468\n",
      "EPISODE 15000 - Eval Opponent 999 over 1000 - Number of game played 23000 - 1 hour, 7 minutes and 25 seconds\n",
      "########## Evaluation Against Last Agent - Episode 15000 ##########\n",
      "Timestep: 1198331 Average reward against last agent is -0.659\n",
      "EPISODE 20000 - Eval Random 999 over 1000 - Number of game played 29000 - 1 hour, 30 minutes and 22 seconds\n",
      "########## Evaluation Against Random - Episode 20000 ##########\n",
      "Timestep: 1598106 Average reward against random is 1.374\n",
      "EPISODE 20000 - Eval Opponent 999 over 1000 - Number of game played 30000 - 1 hour, 31 minutes and 45 seconds\n",
      "########## Evaluation Against Last Agent - Episode 20000 ##########\n",
      "Timestep: 1598106 Average reward against last agent is 0.499\n",
      "\n",
      "########## Changing model - Using Model 2 as opponent ##########\n",
      "\n",
      "########## Changing model - Using Model 2 as opponent ##########\n",
      "EPISODE 25000 - Eval Random 999 over 1000 - Number of game played 36000 - 1 hour, 54 minutes and 52 seconds\n",
      "########## Evaluation Against Random - Episode 25000 ##########\n",
      "Timestep: 1998211 Average reward against random is 1.832\n",
      "EPISODE 25000 - Eval Opponent 999 over 1000 - Number of game played 37000 - 1 hour, 56 minutes and 13 seconds\n",
      "########## Evaluation Against Last Agent - Episode 25000 ##########\n",
      "Timestep: 1998211 Average reward against last agent is 2.268\n"
     ]
    },
    {
     "name": "stderr",
     "output_type": "stream",
     "text": [
      "/opt/conda/lib/python3.7/site-packages/matplotlib/pyplot.py:1479: UserWarning: Attempting to set identical bottom==top results\n",
      "in singular transformations; automatically expanding.\n",
      "bottom=0, top=0\n",
      "  ret = ax.set_ylim(*args, **kwargs)\n"
     ]
    },
    {
     "name": "stdout",
     "output_type": "stream",
     "text": [
      "EPISODE 30000 - Eval Random 999 over 1000 - Number of game played 43000 - 2 hours, 19 minutes and 50 seconds\n",
      "########## Evaluation Against Random - Episode 30000 ##########\n",
      "Timestep: 2398793 Average reward against random is 1.898\n",
      "EPISODE 30000 - Eval Opponent 999 over 1000 - Number of game played 44000 - 2 hours, 21 minutes and 13 seconds\n",
      "########## Evaluation Against Last Agent - Episode 30000 ##########\n",
      "Timestep: 2398793 Average reward against last agent is 1.26\n",
      "EPISODE 35000 - Eval Random 999 over 1000 - Number of game played 50000 - 2 hours, 45 minutes and 5 secondss\n",
      "########## Evaluation Against Random - Episode 35000 ##########\n",
      "Timestep: 2799428 Average reward against random is 1.899\n",
      "EPISODE 35000 - Eval Opponent 999 over 1000 - Number of game played 51000 - 2 hours, 46 minutes and 26 seconds\n",
      "########## Evaluation Against Last Agent - Episode 35000 ##########\n",
      "Timestep: 2799428 Average reward against last agent is 2.598\n"
     ]
    },
    {
     "name": "stderr",
     "output_type": "stream",
     "text": [
      "/opt/conda/lib/python3.7/site-packages/matplotlib/pyplot.py:1479: UserWarning: Attempting to set identical bottom==top results\n",
      "in singular transformations; automatically expanding.\n",
      "bottom=0, top=0\n",
      "  ret = ax.set_ylim(*args, **kwargs)\n"
     ]
    },
    {
     "name": "stdout",
     "output_type": "stream",
     "text": [
      "EPISODE 40000 - Eval Random 999 over 1000 - Number of game played 57000 - 3 hours, 10 minutes and 56 seconds\n",
      "########## Evaluation Against Random - Episode 40000 ##########\n",
      "Timestep: 3199401 Average reward against random is 1.865\n",
      "EPISODE 40000 - Eval Opponent 999 over 1000 - Number of game played 58000 - 3 hours, 12 minutes and 20 seconds\n",
      "########## Evaluation Against Last Agent - Episode 40000 ##########\n",
      "Timestep: 3199401 Average reward against last agent is 0.738\n",
      "\n",
      "########## Changing model - Using Model 3 as opponent ##########\n",
      "\n",
      "########## Changing model - Using Model 3 as opponent ##########\n",
      "EPISODE 45000 - Eval Random 999 over 1000 - Number of game played 64000 - 3 hours, 36 minutes and 52 seconds\n",
      "########## Evaluation Against Random - Episode 45000 ##########\n",
      "Timestep: 3599565 Average reward against random is 1.793\n",
      "EPISODE 45000 - Eval Opponent 999 over 1000 - Number of game played 65000 - 3 hours, 38 minutes and 17 seconds\n",
      "########## Evaluation Against Last Agent - Episode 45000 ##########\n",
      "Timestep: 3599565 Average reward against last agent is -2.422\n",
      "EPISODE 50000 - Eval Random 999 over 1000 - Number of game played 71000 - 4 hours, 3 minutes and 32 seconds\n",
      "########## Evaluation Against Random - Episode 50000 ##########\n",
      "Timestep: 4000259 Average reward against random is 2.098\n",
      "EPISODE 50000 - Eval Opponent 999 over 1000 - Number of game played 72000 - 4 hours, 4 minutes and 52 seconds\n",
      "########## Evaluation Against Last Agent - Episode 50000 ##########\n",
      "Timestep: 4000259 Average reward against last agent is 2.632\n"
     ]
    },
    {
     "name": "stderr",
     "output_type": "stream",
     "text": [
      "/opt/conda/lib/python3.7/site-packages/matplotlib/pyplot.py:1479: UserWarning: Attempting to set identical bottom==top results\n",
      "in singular transformations; automatically expanding.\n",
      "bottom=0, top=0\n",
      "  ret = ax.set_ylim(*args, **kwargs)\n"
     ]
    },
    {
     "name": "stdout",
     "output_type": "stream",
     "text": [
      "EPISODE 55000 - Eval Random 999 over 1000 - Number of game played 78000 - 4 hours, 30 minutes and 54 seconds\n",
      "########## Evaluation Against Random - Episode 55000 ##########\n",
      "Timestep: 4401569 Average reward against random is 2.117\n",
      "EPISODE 55000 - Eval Opponent 999 over 1000 - Number of game played 79000 - 4 hours, 32 minutes and 17 seconds\n",
      "########## Evaluation Against Last Agent - Episode 55000 ##########\n",
      "Timestep: 4401569 Average reward against last agent is 0.926\n",
      "EPISODE 60000 - Eval Random 999 over 1000 - Number of game played 85000 - 4 hours, 59 minutes and 6 secondss\n",
      "########## Evaluation Against Random - Episode 60000 ##########\n",
      "Timestep: 4802519 Average reward against random is 1.983\n",
      "EPISODE 60000 - Eval Opponent 999 over 1000 - Number of game played 86000 - 5 hours, 0 minute and 31 secondsds\n",
      "########## Evaluation Against Last Agent - Episode 60000 ##########\n",
      "Timestep: 4802519 Average reward against last agent is -1.074\n",
      "\n",
      "########## Changing model - Using Model 4 as opponent ##########\n",
      "\n",
      "########## Changing model - Using Model 4 as opponent ##########\n",
      "EPISODE 65000 - Eval Random 999 over 1000 - Number of game played 92000 - 5 hours, 28 minutes and 24 seconds\n",
      "########## Evaluation Against Random - Episode 65000 ##########\n",
      "Timestep: 5203277 Average reward against random is 2.088\n",
      "EPISODE 65000 - Eval Opponent 999 over 1000 - Number of game played 93000 - 5 hours, 29 minutes and 53 seconds\n",
      "########## Evaluation Against Last Agent - Episode 65000 ##########\n",
      "Timestep: 5203277 Average reward against last agent is -5.362\n",
      "EPISODE 70000 - Eval Random 999 over 1000 - Number of game played 99000 - 5 hours, 58 minutes and 38 seconds\n",
      "########## Evaluation Against Random - Episode 70000 ##########\n",
      "Timestep: 5604429 Average reward against random is 2.374\n"
     ]
    },
    {
     "name": "stderr",
     "output_type": "stream",
     "text": [
      "/opt/conda/lib/python3.7/site-packages/matplotlib/pyplot.py:1479: UserWarning: Attempting to set identical bottom==top results\n",
      "in singular transformations; automatically expanding.\n",
      "bottom=0, top=0\n",
      "  ret = ax.set_ylim(*args, **kwargs)\n"
     ]
    },
    {
     "name": "stdout",
     "output_type": "stream",
     "text": [
      "EPISODE 70000 - Eval Opponent 999 over 1000 - Number of game played 100000 - 5 hours, 59 minutes and 59 seconds\n",
      "########## Evaluation Against Last Agent - Episode 70000 ##########\n",
      "Timestep: 5604429 Average reward against last agent is 2.41\n"
     ]
    },
    {
     "name": "stderr",
     "output_type": "stream",
     "text": [
      "/opt/conda/lib/python3.7/site-packages/matplotlib/pyplot.py:1479: UserWarning: Attempting to set identical bottom==top results\n",
      "in singular transformations; automatically expanding.\n",
      "bottom=0, top=0\n",
      "  ret = ax.set_ylim(*args, **kwargs)\n"
     ]
    },
    {
     "name": "stdout",
     "output_type": "stream",
     "text": [
      "EPISODE 75000 - Eval Random 999 over 1000 - Number of game played 106000 - 6 hours, 28 minutes and 24 seconds\n",
      "########## Evaluation Against Random - Episode 75000 ##########\n",
      "Timestep: 6006571 Average reward against random is 2.067\n",
      "EPISODE 75000 - Eval Opponent 999 over 1000 - Number of game played 107000 - 6 hours, 29 minutes and 44 seconds\n",
      "########## Evaluation Against Last Agent - Episode 75000 ##########\n",
      "Timestep: 6006571 Average reward against last agent is 2.182\n"
     ]
    },
    {
     "name": "stderr",
     "output_type": "stream",
     "text": [
      "/opt/conda/lib/python3.7/site-packages/matplotlib/pyplot.py:1479: UserWarning: Attempting to set identical bottom==top results\n",
      "in singular transformations; automatically expanding.\n",
      "bottom=0, top=0\n",
      "  ret = ax.set_ylim(*args, **kwargs)\n"
     ]
    },
    {
     "name": "stdout",
     "output_type": "stream",
     "text": [
      "EPISODE 80000 - Eval Random 999 over 1000 - Number of game played 113000 - 6 hours, 59 minutes and 3 secondss\n",
      "########## Evaluation Against Random - Episode 80000 ##########\n",
      "Timestep: 6408260 Average reward against random is 2.032\n",
      "EPISODE 80000 - Eval Opponent 999 over 1000 - Number of game played 114000 - 7 hours, 0 minute and 30 secondsds\n",
      "########## Evaluation Against Last Agent - Episode 80000 ##########\n",
      "Timestep: 6408260 Average reward against last agent is -2.161\n",
      "\n",
      "########## Changing model - Using Model 5 as opponent ##########\n",
      "\n",
      "########## Changing model - Using Model 5 as opponent ##########\n",
      "EPISODE 85000 - Eval Random 999 over 1000 - Number of game played 120000 - 7 hours, 31 minutes and 20 seconds\n",
      "########## Evaluation Against Random - Episode 85000 ##########\n",
      "Timestep: 6810161 Average reward against random is 1.911\n",
      "EPISODE 85000 - Eval Opponent 999 over 1000 - Number of game played 121000 - 7 hours, 32 minutes and 46 seconds\n",
      "########## Evaluation Against Last Agent - Episode 85000 ##########\n",
      "Timestep: 6810161 Average reward against last agent is -4.289\n",
      "EPISODE 90000 - Eval Random 999 over 1000 - Number of game played 127000 - 8 hours, 5 minutes and 37 seconds\n",
      "########## Evaluation Against Random - Episode 90000 ##########\n",
      "Timestep: 7213004 Average reward against random is 2.291\n"
     ]
    },
    {
     "name": "stderr",
     "output_type": "stream",
     "text": [
      "/opt/conda/lib/python3.7/site-packages/matplotlib/pyplot.py:1479: UserWarning: Attempting to set identical bottom==top results\n",
      "in singular transformations; automatically expanding.\n",
      "bottom=0, top=0\n",
      "  ret = ax.set_ylim(*args, **kwargs)\n"
     ]
    },
    {
     "name": "stdout",
     "output_type": "stream",
     "text": [
      "EPISODE 90000 - Eval Opponent 999 over 1000 - Number of game played 128000 - 8 hours, 7 minutes and 19 seconds\n",
      "########## Evaluation Against Last Agent - Episode 90000 ##########\n",
      "Timestep: 7213004 Average reward against last agent is -3.331\n",
      "EPISODE 95000 - Eval Random 999 over 1000 - Number of game played 134000 - 8 hours, 41 minutes and 47 seconds\n",
      "########## Evaluation Against Random - Episode 95000 ##########\n",
      "Timestep: 7613060 Average reward against random is 2.261\n"
     ]
    },
    {
     "name": "stderr",
     "output_type": "stream",
     "text": [
      "/opt/conda/lib/python3.7/site-packages/matplotlib/pyplot.py:1479: UserWarning: Attempting to set identical bottom==top results\n",
      "in singular transformations; automatically expanding.\n",
      "bottom=0, top=0\n",
      "  ret = ax.set_ylim(*args, **kwargs)\n"
     ]
    },
    {
     "name": "stdout",
     "output_type": "stream",
     "text": [
      "EPISODE 95000 - Eval Opponent 999 over 1000 - Number of game played 135000 - 8 hours, 43 minutes and 8 secondss\n",
      "########## Evaluation Against Last Agent - Episode 95000 ##########\n",
      "Timestep: 7613060 Average reward against last agent is 2.153\n"
     ]
    },
    {
     "name": "stderr",
     "output_type": "stream",
     "text": [
      "/opt/conda/lib/python3.7/site-packages/matplotlib/pyplot.py:1479: UserWarning: Attempting to set identical bottom==top results\n",
      "in singular transformations; automatically expanding.\n",
      "bottom=0, top=0\n",
      "  ret = ax.set_ylim(*args, **kwargs)\n"
     ]
    },
    {
     "name": "stdout",
     "output_type": "stream",
     "text": [
      "EPISODE 100000 - Eval Random 999 over 1000 - Number of game played 141000 - 9 hours, 16 minutes and 40 seconds\n",
      "########## Evaluation Against Random - Episode 100000 ##########\n",
      "Timestep: 8011342 Average reward against random is 2.359\n"
     ]
    },
    {
     "name": "stderr",
     "output_type": "stream",
     "text": [
      "/opt/conda/lib/python3.7/site-packages/matplotlib/pyplot.py:1479: UserWarning: Attempting to set identical bottom==top results\n",
      "in singular transformations; automatically expanding.\n",
      "bottom=0, top=0\n",
      "  ret = ax.set_ylim(*args, **kwargs)\n"
     ]
    },
    {
     "name": "stdout",
     "output_type": "stream",
     "text": [
      "EPISODE 100000 - Eval Opponent 999 over 1000 - Number of game played 142000 - 9 hours, 18 minutes and 1 secondds\n",
      "########## Evaluation Against Last Agent - Episode 100000 ##########\n",
      "Timestep: 8011342 Average reward against last agent is 1.884\n"
     ]
    },
    {
     "name": "stderr",
     "output_type": "stream",
     "text": [
      "/opt/conda/lib/python3.7/site-packages/matplotlib/pyplot.py:1479: UserWarning: Attempting to set identical bottom==top results\n",
      "in singular transformations; automatically expanding.\n",
      "bottom=0, top=0\n",
      "  ret = ax.set_ylim(*args, **kwargs)\n"
     ]
    },
    {
     "name": "stdout",
     "output_type": "stream",
     "text": [
      "\n",
      "########## Changing model - Using Model 6 as opponent ##########\n",
      "\n",
      "########## Changing model - Using Model 6 as opponent ##########\n",
      "EPISODE 105000 - Number of game played 147000 - 9 hours, 52 minutes and 10 secondsWARNING:tensorflow:From /opt/conda/lib/python3.7/site-packages/tensorflow/python/training/saver.py:966: remove_checkpoint (from tensorflow.python.training.checkpoint_management) is deprecated and will be removed in a future version.\n",
      "Instructions for updating:\n",
      "Use standard file APIs to delete files with this prefix.\n",
      "EPISODE 105000 - Eval Random 999 over 1000 - Number of game played 148000 - 9 hours, 52 minutes and 44 seconds\n",
      "########## Evaluation Against Random - Episode 105000 ##########\n",
      "Timestep: 8409742 Average reward against random is 2.367\n"
     ]
    },
    {
     "name": "stderr",
     "output_type": "stream",
     "text": [
      "/opt/conda/lib/python3.7/site-packages/matplotlib/pyplot.py:1479: UserWarning: Attempting to set identical bottom==top results\n",
      "in singular transformations; automatically expanding.\n",
      "bottom=0, top=0\n",
      "  ret = ax.set_ylim(*args, **kwargs)\n"
     ]
    },
    {
     "name": "stdout",
     "output_type": "stream",
     "text": [
      "EPISODE 105000 - Eval Opponent 999 over 1000 - Number of game played 149000 - 9 hours, 54 minutes and 5 secondss\n",
      "########## Evaluation Against Last Agent - Episode 105000 ##########\n",
      "Timestep: 8409742 Average reward against last agent is 2.329\n"
     ]
    },
    {
     "name": "stderr",
     "output_type": "stream",
     "text": [
      "/opt/conda/lib/python3.7/site-packages/matplotlib/pyplot.py:1479: UserWarning: Attempting to set identical bottom==top results\n",
      "in singular transformations; automatically expanding.\n",
      "bottom=0, top=0\n",
      "  ret = ax.set_ylim(*args, **kwargs)\n"
     ]
    },
    {
     "name": "stdout",
     "output_type": "stream",
     "text": [
      "EPISODE 110000 - Eval Random 999 over 1000 - Number of game played 155000 - 10 hours, 30 minutes and 16 seconds\n",
      "########## Evaluation Against Random - Episode 110000 ##########\n",
      "Timestep: 8808806 Average reward against random is 2.268\n",
      "EPISODE 110000 - Eval Opponent 999 over 1000 - Number of game played 156000 - 10 hours, 31 minutes and 38 seconds\n",
      "########## Evaluation Against Last Agent - Episode 110000 ##########\n",
      "Timestep: 8808806 Average reward against last agent is 2.281\n",
      "EPISODE 115000 - Eval Random 999 over 1000 - Number of game played 162000 - 11 hours, 10 minutes and 22 seconds\n",
      "########## Evaluation Against Random - Episode 115000 ##########\n",
      "Timestep: 9207617 Average reward against random is 2.163\n",
      "EPISODE 115000 - Eval Opponent 999 over 1000 - Number of game played 163000 - 11 hours, 11 minutes and 43 seconds\n",
      "########## Evaluation Against Last Agent - Episode 115000 ##########\n",
      "Timestep: 9207617 Average reward against last agent is 2.138\n",
      "EPISODE 116105 - Number of game played 164105 - 11 hours, 20 minutes and 32 seconds"
     ]
    },
    {
     "ename": "KeyboardInterrupt",
     "evalue": "",
     "output_type": "error",
     "traceback": [
      "\u001b[0;31m---------------------------------------------------------------------------\u001b[0m",
      "\u001b[0;31mKeyboardInterrupt\u001b[0m                         Traceback (most recent call last)",
      "\u001b[0;32m<ipython-input-2-6fdc8c221b0a>\u001b[0m in \u001b[0;36m<module>\u001b[0;34m\u001b[0m\n\u001b[1;32m    116\u001b[0m             \u001b[0mtrain_count\u001b[0m \u001b[0;34m=\u001b[0m \u001b[0mstep_counter\u001b[0m \u001b[0;34m-\u001b[0m \u001b[0;34m(\u001b[0m\u001b[0mmemory_init_size\u001b[0m \u001b[0;34m+\u001b[0m \u001b[0mnorm_step\u001b[0m\u001b[0;34m)\u001b[0m\u001b[0;34m\u001b[0m\u001b[0;34m\u001b[0m\u001b[0m\n\u001b[1;32m    117\u001b[0m             \u001b[0;32mif\u001b[0m \u001b[0mtrain_count\u001b[0m \u001b[0;34m>\u001b[0m \u001b[0;36m0\u001b[0m\u001b[0;34m:\u001b[0m\u001b[0;34m\u001b[0m\u001b[0;34m\u001b[0m\u001b[0m\n\u001b[0;32m--> 118\u001b[0;31m                 \u001b[0mloss\u001b[0m \u001b[0;34m=\u001b[0m \u001b[0magent\u001b[0m\u001b[0;34m.\u001b[0m\u001b[0mtrain\u001b[0m\u001b[0;34m(\u001b[0m\u001b[0;34m)\u001b[0m\u001b[0;34m\u001b[0m\u001b[0;34m\u001b[0m\u001b[0m\n\u001b[0m\u001b[1;32m    119\u001b[0m                 \u001b[0;31m# print('\\rINFO - Step {}, loss: {}'.format(step_counter, loss), end='')\u001b[0m\u001b[0;34m\u001b[0m\u001b[0;34m\u001b[0m\u001b[0;34m\u001b[0m\u001b[0m\n\u001b[1;32m    120\u001b[0m \u001b[0;34m\u001b[0m\u001b[0m\n",
      "\u001b[0;32m~/personal_project/RL-tarot/rlcard/agents/dqn_agent.py\u001b[0m in \u001b[0;36mtrain\u001b[0;34m(self)\u001b[0m\n\u001b[1;32m    193\u001b[0m         \u001b[0;31m# Update the target estimator\u001b[0m\u001b[0;34m\u001b[0m\u001b[0;34m\u001b[0m\u001b[0;34m\u001b[0m\u001b[0m\n\u001b[1;32m    194\u001b[0m         \u001b[0;32mif\u001b[0m \u001b[0mself\u001b[0m\u001b[0;34m.\u001b[0m\u001b[0mtrain_t\u001b[0m \u001b[0;34m%\u001b[0m \u001b[0mself\u001b[0m\u001b[0;34m.\u001b[0m\u001b[0mupdate_target_estimator_every\u001b[0m \u001b[0;34m==\u001b[0m \u001b[0;36m0\u001b[0m\u001b[0;34m:\u001b[0m\u001b[0;34m\u001b[0m\u001b[0;34m\u001b[0m\u001b[0m\n\u001b[0;32m--> 195\u001b[0;31m             \u001b[0mcopy_model_parameters\u001b[0m\u001b[0;34m(\u001b[0m\u001b[0mself\u001b[0m\u001b[0;34m.\u001b[0m\u001b[0msess\u001b[0m\u001b[0;34m,\u001b[0m \u001b[0mself\u001b[0m\u001b[0;34m.\u001b[0m\u001b[0mq_estimator\u001b[0m\u001b[0;34m,\u001b[0m \u001b[0mself\u001b[0m\u001b[0;34m.\u001b[0m\u001b[0mtarget_estimator\u001b[0m\u001b[0;34m)\u001b[0m\u001b[0;34m\u001b[0m\u001b[0;34m\u001b[0m\u001b[0m\n\u001b[0m\u001b[1;32m    196\u001b[0m             \u001b[0;31m# print(\"\\nINFO - Copied model parameters to target network.\")\u001b[0m\u001b[0;34m\u001b[0m\u001b[0;34m\u001b[0m\u001b[0;34m\u001b[0m\u001b[0m\n\u001b[1;32m    197\u001b[0m \u001b[0;34m\u001b[0m\u001b[0m\n",
      "\u001b[0;32m~/personal_project/RL-tarot/rlcard/agents/dqn_agent.py\u001b[0m in \u001b[0;36mcopy_model_parameters\u001b[0;34m(sess, estimator1, estimator2)\u001b[0m\n\u001b[1;32m    421\u001b[0m         \u001b[0mupdate_ops\u001b[0m\u001b[0;34m.\u001b[0m\u001b[0mappend\u001b[0m\u001b[0;34m(\u001b[0m\u001b[0mop\u001b[0m\u001b[0;34m)\u001b[0m\u001b[0;34m\u001b[0m\u001b[0;34m\u001b[0m\u001b[0m\n\u001b[1;32m    422\u001b[0m \u001b[0;34m\u001b[0m\u001b[0m\n\u001b[0;32m--> 423\u001b[0;31m     \u001b[0msess\u001b[0m\u001b[0;34m.\u001b[0m\u001b[0mrun\u001b[0m\u001b[0;34m(\u001b[0m\u001b[0mupdate_ops\u001b[0m\u001b[0;34m)\u001b[0m\u001b[0;34m\u001b[0m\u001b[0;34m\u001b[0m\u001b[0m\n\u001b[0m\u001b[1;32m    424\u001b[0m \u001b[0;34m\u001b[0m\u001b[0m\n\u001b[1;32m    425\u001b[0m \u001b[0;31m# if __name__ == \"__main__\":\u001b[0m\u001b[0;34m\u001b[0m\u001b[0;34m\u001b[0m\u001b[0;34m\u001b[0m\u001b[0m\n",
      "\u001b[0;32m/opt/conda/lib/python3.7/site-packages/tensorflow/python/client/session.py\u001b[0m in \u001b[0;36mrun\u001b[0;34m(self, fetches, feed_dict, options, run_metadata)\u001b[0m\n\u001b[1;32m    927\u001b[0m     \u001b[0;32mtry\u001b[0m\u001b[0;34m:\u001b[0m\u001b[0;34m\u001b[0m\u001b[0;34m\u001b[0m\u001b[0m\n\u001b[1;32m    928\u001b[0m       result = self._run(None, fetches, feed_dict, options_ptr,\n\u001b[0;32m--> 929\u001b[0;31m                          run_metadata_ptr)\n\u001b[0m\u001b[1;32m    930\u001b[0m       \u001b[0;32mif\u001b[0m \u001b[0mrun_metadata\u001b[0m\u001b[0;34m:\u001b[0m\u001b[0;34m\u001b[0m\u001b[0;34m\u001b[0m\u001b[0m\n\u001b[1;32m    931\u001b[0m         \u001b[0mproto_data\u001b[0m \u001b[0;34m=\u001b[0m \u001b[0mtf_session\u001b[0m\u001b[0;34m.\u001b[0m\u001b[0mTF_GetBuffer\u001b[0m\u001b[0;34m(\u001b[0m\u001b[0mrun_metadata_ptr\u001b[0m\u001b[0;34m)\u001b[0m\u001b[0;34m\u001b[0m\u001b[0;34m\u001b[0m\u001b[0m\n",
      "\u001b[0;32m/opt/conda/lib/python3.7/site-packages/tensorflow/python/client/session.py\u001b[0m in \u001b[0;36m_run\u001b[0;34m(self, handle, fetches, feed_dict, options, run_metadata)\u001b[0m\n\u001b[1;32m   1150\u001b[0m     \u001b[0;32mif\u001b[0m \u001b[0mfinal_fetches\u001b[0m \u001b[0;32mor\u001b[0m \u001b[0mfinal_targets\u001b[0m \u001b[0;32mor\u001b[0m \u001b[0;34m(\u001b[0m\u001b[0mhandle\u001b[0m \u001b[0;32mand\u001b[0m \u001b[0mfeed_dict_tensor\u001b[0m\u001b[0;34m)\u001b[0m\u001b[0;34m:\u001b[0m\u001b[0;34m\u001b[0m\u001b[0;34m\u001b[0m\u001b[0m\n\u001b[1;32m   1151\u001b[0m       results = self._do_run(handle, final_targets, final_fetches,\n\u001b[0;32m-> 1152\u001b[0;31m                              feed_dict_tensor, options, run_metadata)\n\u001b[0m\u001b[1;32m   1153\u001b[0m     \u001b[0;32melse\u001b[0m\u001b[0;34m:\u001b[0m\u001b[0;34m\u001b[0m\u001b[0;34m\u001b[0m\u001b[0m\n\u001b[1;32m   1154\u001b[0m       \u001b[0mresults\u001b[0m \u001b[0;34m=\u001b[0m \u001b[0;34m[\u001b[0m\u001b[0;34m]\u001b[0m\u001b[0;34m\u001b[0m\u001b[0;34m\u001b[0m\u001b[0m\n",
      "\u001b[0;32m/opt/conda/lib/python3.7/site-packages/tensorflow/python/client/session.py\u001b[0m in \u001b[0;36m_do_run\u001b[0;34m(self, handle, target_list, fetch_list, feed_dict, options, run_metadata)\u001b[0m\n\u001b[1;32m   1326\u001b[0m     \u001b[0;32mif\u001b[0m \u001b[0mhandle\u001b[0m \u001b[0;32mis\u001b[0m \u001b[0;32mNone\u001b[0m\u001b[0;34m:\u001b[0m\u001b[0;34m\u001b[0m\u001b[0;34m\u001b[0m\u001b[0m\n\u001b[1;32m   1327\u001b[0m       return self._do_call(_run_fn, feeds, fetches, targets, options,\n\u001b[0;32m-> 1328\u001b[0;31m                            run_metadata)\n\u001b[0m\u001b[1;32m   1329\u001b[0m     \u001b[0;32melse\u001b[0m\u001b[0;34m:\u001b[0m\u001b[0;34m\u001b[0m\u001b[0;34m\u001b[0m\u001b[0m\n\u001b[1;32m   1330\u001b[0m       \u001b[0;32mreturn\u001b[0m \u001b[0mself\u001b[0m\u001b[0;34m.\u001b[0m\u001b[0m_do_call\u001b[0m\u001b[0;34m(\u001b[0m\u001b[0m_prun_fn\u001b[0m\u001b[0;34m,\u001b[0m \u001b[0mhandle\u001b[0m\u001b[0;34m,\u001b[0m \u001b[0mfeeds\u001b[0m\u001b[0;34m,\u001b[0m \u001b[0mfetches\u001b[0m\u001b[0;34m)\u001b[0m\u001b[0;34m\u001b[0m\u001b[0;34m\u001b[0m\u001b[0m\n",
      "\u001b[0;32m/opt/conda/lib/python3.7/site-packages/tensorflow/python/client/session.py\u001b[0m in \u001b[0;36m_do_call\u001b[0;34m(self, fn, *args)\u001b[0m\n\u001b[1;32m   1332\u001b[0m   \u001b[0;32mdef\u001b[0m \u001b[0m_do_call\u001b[0m\u001b[0;34m(\u001b[0m\u001b[0mself\u001b[0m\u001b[0;34m,\u001b[0m \u001b[0mfn\u001b[0m\u001b[0;34m,\u001b[0m \u001b[0;34m*\u001b[0m\u001b[0margs\u001b[0m\u001b[0;34m)\u001b[0m\u001b[0;34m:\u001b[0m\u001b[0;34m\u001b[0m\u001b[0;34m\u001b[0m\u001b[0m\n\u001b[1;32m   1333\u001b[0m     \u001b[0;32mtry\u001b[0m\u001b[0;34m:\u001b[0m\u001b[0;34m\u001b[0m\u001b[0;34m\u001b[0m\u001b[0m\n\u001b[0;32m-> 1334\u001b[0;31m       \u001b[0;32mreturn\u001b[0m \u001b[0mfn\u001b[0m\u001b[0;34m(\u001b[0m\u001b[0;34m*\u001b[0m\u001b[0margs\u001b[0m\u001b[0;34m)\u001b[0m\u001b[0;34m\u001b[0m\u001b[0;34m\u001b[0m\u001b[0m\n\u001b[0m\u001b[1;32m   1335\u001b[0m     \u001b[0;32mexcept\u001b[0m \u001b[0merrors\u001b[0m\u001b[0;34m.\u001b[0m\u001b[0mOpError\u001b[0m \u001b[0;32mas\u001b[0m \u001b[0me\u001b[0m\u001b[0;34m:\u001b[0m\u001b[0;34m\u001b[0m\u001b[0;34m\u001b[0m\u001b[0m\n\u001b[1;32m   1336\u001b[0m       \u001b[0mmessage\u001b[0m \u001b[0;34m=\u001b[0m \u001b[0mcompat\u001b[0m\u001b[0;34m.\u001b[0m\u001b[0mas_text\u001b[0m\u001b[0;34m(\u001b[0m\u001b[0me\u001b[0m\u001b[0;34m.\u001b[0m\u001b[0mmessage\u001b[0m\u001b[0;34m)\u001b[0m\u001b[0;34m\u001b[0m\u001b[0;34m\u001b[0m\u001b[0m\n",
      "\u001b[0;32m/opt/conda/lib/python3.7/site-packages/tensorflow/python/client/session.py\u001b[0m in \u001b[0;36m_run_fn\u001b[0;34m(feed_dict, fetch_list, target_list, options, run_metadata)\u001b[0m\n\u001b[1;32m   1315\u001b[0m     \u001b[0;32mdef\u001b[0m \u001b[0m_run_fn\u001b[0m\u001b[0;34m(\u001b[0m\u001b[0mfeed_dict\u001b[0m\u001b[0;34m,\u001b[0m \u001b[0mfetch_list\u001b[0m\u001b[0;34m,\u001b[0m \u001b[0mtarget_list\u001b[0m\u001b[0;34m,\u001b[0m \u001b[0moptions\u001b[0m\u001b[0;34m,\u001b[0m \u001b[0mrun_metadata\u001b[0m\u001b[0;34m)\u001b[0m\u001b[0;34m:\u001b[0m\u001b[0;34m\u001b[0m\u001b[0;34m\u001b[0m\u001b[0m\n\u001b[1;32m   1316\u001b[0m       \u001b[0;31m# Ensure any changes to the graph are reflected in the runtime.\u001b[0m\u001b[0;34m\u001b[0m\u001b[0;34m\u001b[0m\u001b[0;34m\u001b[0m\u001b[0m\n\u001b[0;32m-> 1317\u001b[0;31m       \u001b[0mself\u001b[0m\u001b[0;34m.\u001b[0m\u001b[0m_extend_graph\u001b[0m\u001b[0;34m(\u001b[0m\u001b[0;34m)\u001b[0m\u001b[0;34m\u001b[0m\u001b[0;34m\u001b[0m\u001b[0m\n\u001b[0m\u001b[1;32m   1318\u001b[0m       return self._call_tf_sessionrun(\n\u001b[1;32m   1319\u001b[0m           options, feed_dict, fetch_list, target_list, run_metadata)\n",
      "\u001b[0;32m/opt/conda/lib/python3.7/site-packages/tensorflow/python/client/session.py\u001b[0m in \u001b[0;36m_extend_graph\u001b[0;34m(self)\u001b[0m\n\u001b[1;32m   1350\u001b[0m   \u001b[0;32mdef\u001b[0m \u001b[0m_extend_graph\u001b[0m\u001b[0;34m(\u001b[0m\u001b[0mself\u001b[0m\u001b[0;34m)\u001b[0m\u001b[0;34m:\u001b[0m\u001b[0;34m\u001b[0m\u001b[0;34m\u001b[0m\u001b[0m\n\u001b[1;32m   1351\u001b[0m     \u001b[0;32mwith\u001b[0m \u001b[0mself\u001b[0m\u001b[0;34m.\u001b[0m\u001b[0m_graph\u001b[0m\u001b[0;34m.\u001b[0m\u001b[0m_session_run_lock\u001b[0m\u001b[0;34m(\u001b[0m\u001b[0;34m)\u001b[0m\u001b[0;34m:\u001b[0m  \u001b[0;31m# pylint: disable=protected-access\u001b[0m\u001b[0;34m\u001b[0m\u001b[0;34m\u001b[0m\u001b[0m\n\u001b[0;32m-> 1352\u001b[0;31m       \u001b[0mtf_session\u001b[0m\u001b[0;34m.\u001b[0m\u001b[0mExtendSession\u001b[0m\u001b[0;34m(\u001b[0m\u001b[0mself\u001b[0m\u001b[0;34m.\u001b[0m\u001b[0m_session\u001b[0m\u001b[0;34m)\u001b[0m\u001b[0;34m\u001b[0m\u001b[0;34m\u001b[0m\u001b[0m\n\u001b[0m\u001b[1;32m   1353\u001b[0m \u001b[0;34m\u001b[0m\u001b[0m\n\u001b[1;32m   1354\u001b[0m   \u001b[0;31m# The threshold to run garbage collection to delete dead tensors.\u001b[0m\u001b[0;34m\u001b[0m\u001b[0;34m\u001b[0m\u001b[0;34m\u001b[0m\u001b[0m\n",
      "\u001b[0;31mKeyboardInterrupt\u001b[0m: "
     ]
    }
   ],
   "source": [
    "\"\"\"\n",
    "An example of learning a Deep-Q Agent on French Tarot Game\n",
    "\"\"\"\n",
    "import os\n",
    "import time\n",
    "\n",
    "import tensorflow as tf\n",
    "\n",
    "import rlcard\n",
    "from rlcard.agents.random_agent import RandomAgent\n",
    "from rlcard.agents.dqn_agent import DQNAgent\n",
    "from rlcard.utils.logger import Logger\n",
    "from rlcard.utils.utils import set_global_seed, time_difference_good_format\n",
    "\n",
    "record_number = 14\n",
    "\n",
    "# Make environment\n",
    "env = rlcard.make('tarot')\n",
    "eval_env = rlcard.make('tarot')\n",
    "\n",
    "# Set the iterations numbers and how frequently we evaluate/save plot\n",
    "evaluate_every = 5000\n",
    "evolve_model_every = 20000\n",
    "evaluate_num = 1000\n",
    "\n",
    "episode_num = 200000\n",
    "\n",
    "self_play = 1\n",
    "total_self_play_eval = int(episode_num / evaluate_every)\n",
    "\n",
    "# Set the the number of steps for collecting normalization statistics\n",
    "# and intial memory size\n",
    "memory_init_size = 50000\n",
    "norm_step = 10000\n",
    "\n",
    "# The paths for saving the logs and learning curves\n",
    "root_path = './experiments/tarot_dqn_self_played_v{}/'.format(str(record_number))\n",
    "log_path_random = root_path + 'log_random.txt'\n",
    "csv_path_random = root_path + 'performance_random.csv'\n",
    "log_path_opponent = root_path + 'log_opponent.txt'\n",
    "csv_path_opponent = root_path + 'performance_opponent.csv'\n",
    "figure_path_random = root_path + 'figures_random/'\n",
    "figure_path_opponent = root_path + 'figures_opponent/'\n",
    "\n",
    "# Model save path\n",
    "if not os.path.exists('rlcard/models'):\n",
    "    os.makedirs('rlcard/models')\n",
    "if not os.path.exists('rlcard/models/pretrained'):\n",
    "    os.makedirs('rlcard/models/pretrained')\n",
    "for self_play_init in range(1, total_self_play_eval + 1):\n",
    "    model_folder_path = 'rlcard/models/pretrained/self_played_{}/tarot_v{}'.format(\n",
    "        str(record_number),\n",
    "        str(record_number * 10000 + self_play_init))\n",
    "    if not os.path.exists(model_folder_path):\n",
    "        os.makedirs(model_folder_path)\n",
    "model_path = 'rlcard/models/pretrained/self_played_{}/tarot_v{}/model'.format(\n",
    "    str(record_number),\n",
    "    str(record_number * 10000 + self_play))\n",
    "\n",
    "# Set a global seed\n",
    "set_global_seed(0)\n",
    "\n",
    "random_agent = RandomAgent(action_num=eval_env.action_num)\n",
    "\n",
    "with tf.compat.v1.Session() as sess:\n",
    "    # Set agents\n",
    "    global_step = tf.Variable(0, name='global_step', trainable=False)\n",
    "    agent = DQNAgent(sess,\n",
    "                     scope='dqn',\n",
    "                     action_num=78,  # env.action_num,\n",
    "                     replay_memory_size=20000,\n",
    "                     replay_memory_init_size=memory_init_size,\n",
    "                     norm_step=norm_step,\n",
    "                     state_shape=env.state_shape,\n",
    "                     mlp_layers=[512, 1024, 512])\n",
    "\n",
    "    opponent_agent = agent\n",
    "\n",
    "    sess.run(tf.compat.v1.global_variables_initializer())\n",
    "\n",
    "    saver = tf.compat.v1.train.Saver()\n",
    "\n",
    "    env.set_agents([agent] + [opponent_agent] * (env.player_num - 1))\n",
    "    eval_env.set_agents([agent] + [random_agent] * (env.player_num - 1))\n",
    "\n",
    "    # Count the number of steps\n",
    "    step_counter = 0\n",
    "\n",
    "    # Init a Logger to plot the learning curve against random\n",
    "    logger_random = Logger(xlabel='episode', ylabel='reward', legend='DQN on TAROT against Random',\n",
    "                           legend_hist='Histogram of last evaluations against Random', log_path=log_path_random,\n",
    "                           csv_path=csv_path_random)\n",
    "    # Init a Logger to plot the learning curve against last opponent\n",
    "    logger_opponent = Logger(xlabel='episode', ylabel='reward', legend='DQN on TAROT against last agent',\n",
    "                             legend_hist='Histogram of last evaluations against last agent', log_path=log_path_opponent,\n",
    "                             csv_path=csv_path_opponent)\n",
    "\n",
    "    total_game_played = 0\n",
    "    seconds = time.time()\n",
    "\n",
    "    for episode in range(episode_num):\n",
    "        print('\\rEPISODE {} - Number of game played {} - {}'.format(episode, total_game_played,\n",
    "                                                                    time_difference_good_format(seconds, time.time())),\n",
    "              end='')\n",
    "\n",
    "        # Generate data from the environment\n",
    "        trajectories, _ = env.run(is_training=True)\n",
    "        total_game_played += 1\n",
    "\n",
    "        # Feed transitions into agent memory, and train the agent\n",
    "        for ts in trajectories[0]:\n",
    "            agent.feed(ts)\n",
    "            step_counter += 1\n",
    "\n",
    "            # Train the agent\n",
    "            train_count = step_counter - (memory_init_size + norm_step)\n",
    "            if train_count > 0:\n",
    "                loss = agent.train()\n",
    "                # print('\\rINFO - Step {}, loss: {}'.format(step_counter, loss), end='')\n",
    "\n",
    "        # Evaluate the performance.\n",
    "        if episode % evaluate_every == 0:\n",
    "            # Save Model\n",
    "            model_path = 'rlcard/models/pretrained/self_played_{}/tarot_v{}/model'.format(\n",
    "                str(record_number),\n",
    "                str(record_number * 10000 + self_play))\n",
    "                        \n",
    "            saver.save(sess, model_path)\n",
    "\n",
    "            # Eval against random\n",
    "            reward_random = 0\n",
    "            reward_random_list = []\n",
    "            taking_list = []\n",
    "            eval_env.set_agents([agent] + [random_agent] * (env.player_num - 1))\n",
    "            for eval_episode in range(evaluate_num):\n",
    "                print('\\rEPISODE {} - Eval Random {} over {} - Number of game played {} - {}'.format(episode,\n",
    "                                                                                                     eval_episode,\n",
    "                                                                                                     evaluate_num,\n",
    "                                                                                                     total_game_played,\n",
    "                                                                                                     time_difference_good_format(\n",
    "                                                                                                         seconds,\n",
    "                                                                                                         time.time())),\n",
    "                      end='')\n",
    "                _, payoffs = eval_env.run(is_training=False)\n",
    "                total_game_played += 1\n",
    "                reward_random_list.append(payoffs[0])\n",
    "                reward_random += payoffs[0]\n",
    "                taking_list.append(eval_env.game.players[0].taking)\n",
    "\n",
    "            logger_random.log('\\n########## Evaluation Against Random - Episode {} ##########'.format(episode))\n",
    "            logger_random.log(\n",
    "                'Timestep: {} Average reward against random is {}'.format(env.timestep,\n",
    "                                                                          float(reward_random) / evaluate_num))\n",
    "\n",
    "            # Add point to logger\n",
    "            logger_random.add_point(x=episode, y=float(reward_random) / evaluate_num)\n",
    "            \n",
    "            # Make plot\n",
    "            logger_random.make_plot(save_path=figure_path_random + str(episode) + '.png')\n",
    "            logger_random.make_plot_hist(save_path_1=figure_path_random + str(episode) + '_hist.png',\n",
    "                                         save_path_2=figure_path_random + str(episode) + '_freq.png',\n",
    "                                         reward_list=reward_random_list, taking_list=taking_list)\n",
    "\n",
    "            # Eval against last agent\n",
    "            reward_opponent = 0\n",
    "            reward_opponent_list = []\n",
    "            taking_list = []\n",
    "            eval_env.set_agents([agent] + [opponent_agent] * (env.player_num - 1))\n",
    "            for eval_episode in range(evaluate_num):\n",
    "                print('\\rEPISODE {} - Eval Opponent {} over {} - Number of game played {} - {}'.format(episode,\n",
    "                                                                                                       eval_episode,\n",
    "                                                                                                       evaluate_num,\n",
    "                                                                                                       total_game_played,\n",
    "                                                                                                       time_difference_good_format(\n",
    "                                                                                                           seconds,\n",
    "                                                                                                           time.time())),\n",
    "                      end='')\n",
    "                _, payoffs = eval_env.run(is_training=False)\n",
    "                total_game_played += 1\n",
    "                reward_opponent_list.append(payoffs[0])\n",
    "                reward_opponent += payoffs[0]\n",
    "                taking_list.append(eval_env.game.players[0].taking)\n",
    "\n",
    "            logger_opponent.log('\\n########## Evaluation Against Last Agent - Episode {} ##########'.format(episode))\n",
    "            logger_opponent.log(\n",
    "                'Timestep: {} Average reward against last agent is {}'.format(env.timestep,\n",
    "                                                                              float(reward_opponent) / evaluate_num))\n",
    "\n",
    "            # Add point to logger\n",
    "            logger_opponent.add_point(x=episode, y=float(reward_opponent) / evaluate_num)\n",
    "\n",
    "            # Make plot\n",
    "            logger_opponent.make_plot(save_path=figure_path_opponent + str(episode) + '.png')\n",
    "            logger_opponent.make_plot_hist(save_path_1=figure_path_opponent + str(episode) + '_hist.png',\n",
    "                                           save_path_2=figure_path_opponent + str(episode) + '_freq.png',\n",
    "                                           reward_list=reward_opponent_list, taking_list=taking_list)\n",
    "            \n",
    "        if episode % evolve_model_every == 0 and episode > 0:\n",
    "            # GO to next step\n",
    "            self_play += 1\n",
    "\n",
    "            opponent_agent = agent\n",
    "            env.set_agents([agent] + [opponent_agent] * (env.player_num - 1))\n",
    "            logger_random.log('\\n########## Changing model - Using Model {} as opponent ##########'.format(self_play))\n",
    "            logger_opponent.log('\\n########## Changing model - Using Model {} as opponent ##########'.format(self_play))\n",
    "\n",
    "\n",
    "    # Make the final plot\n",
    "    logger_random.make_plot(save_path=figure_path_random + 'final_' + str(episode) + '.png')\n",
    "    logger_random.make_plot_hist(save_path_1=figure_path_random + str(episode) + '_hist.png',\n",
    "                                 save_path_2=figure_path_random + str(episode) + '_freq.png',\n",
    "                                 reward_list=reward_random_list, taking_list=taking_list)\n",
    "    # Make the final plot\n",
    "    logger_opponent.make_plot(save_path=figure_path_opponent + 'final_' + str(episode) + '.png')\n",
    "    logger_opponent.make_plot_hist(save_path_1=figure_path_opponent + str(episode) + '_hist.png',\n",
    "                                   save_path_2=figure_path_opponent + str(episode) + '_freq.png',\n",
    "                                   reward_list=reward_opponent_list, taking_list=taking_list)\n"
   ]
  }
 ],
 "metadata": {
  "kernelspec": {
   "display_name": "Python 3",
   "language": "python",
   "name": "python3"
  },
  "language_info": {
   "codemirror_mode": {
    "name": "ipython",
    "version": 3
   },
   "file_extension": ".py",
   "mimetype": "text/x-python",
   "name": "python",
   "nbconvert_exporter": "python",
   "pygments_lexer": "ipython3",
   "version": "3.7.3"
  },
  "pycharm": {
   "stem_cell": {
    "cell_type": "raw",
    "metadata": {
     "collapsed": false
    },
    "source": []
   }
  }
 },
 "nbformat": 4,
 "nbformat_minor": 4
}
